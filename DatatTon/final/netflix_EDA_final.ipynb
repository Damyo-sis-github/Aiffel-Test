{
  "nbformat": 4,
  "nbformat_minor": 0,
  "metadata": {
    "colab": {
      "name": "넷플릭스 EDA.ipynb",
      "provenance": [],
      "collapsed_sections": []
    },
    "kernelspec": {
      "name": "python3",
      "display_name": "Python 3"
    },
    "language_info": {
      "name": "python"
    }
  },
  "cells": [
    {
      "cell_type": "code",
      "source": [
        "from google.colab import drive\n",
        "drive.mount('/content/drive')"
      ],
      "metadata": {
        "colab": {
          "base_uri": "https://localhost:8080/"
        },
        "id": "26G3E476eGC7",
        "outputId": "f4ff69b8-4567-4fbf-82b5-16ba88ceb4b0"
      },
      "execution_count": 598,
      "outputs": [
        {
          "output_type": "stream",
          "name": "stdout",
          "text": [
            "Drive already mounted at /content/drive; to attempt to forcibly remount, call drive.mount(\"/content/drive\", force_remount=True).\n"
          ]
        }
      ]
    },
    {
      "cell_type": "code",
      "execution_count": 599,
      "metadata": {
        "id": "Zw5meTYnd_zk"
      },
      "outputs": [],
      "source": [
        "import re #정규 표현식 모듈\n",
        "import numpy as np\n",
        "import pandas as pd\n",
        "import seaborn as sns\n",
        "import calendar\n",
        "import matplotlib.cm as cm\n",
        "import plotly.express as px\n",
        "\n",
        "import warnings\n",
        "warnings.filterwarnings('ignore')\n",
        "\n",
        "from datetime import datetime      # datatime 라이브러리\n",
        "from matplotlib import pyplot as plt\n",
        "from matplotlib.colors import Normalize\n",
        "\n",
        "%matplotlib inline\n",
        "\n",
        "data = pd.read_csv('/content/drive/MyDrive/Dataton/netflix_titles.csv')"
      ]
    },
    {
      "cell_type": "markdown",
      "source": [
        "# Data Review"
      ],
      "metadata": {
        "id": "DNSaxQgFe2RG"
      }
    },
    {
      "cell_type": "code",
      "source": [
        "df = pd.DataFrame(data)\n",
        "df.drop(['show_id','director','cast'],axis=1,inplace=True)"
      ],
      "metadata": {
        "id": "hpo6w_RHeGjS"
      },
      "execution_count": 600,
      "outputs": []
    },
    {
      "cell_type": "code",
      "source": [
        "df.isnull().sum()"
      ],
      "metadata": {
        "colab": {
          "base_uri": "https://localhost:8080/"
        },
        "id": "5TvrXt85gSrg",
        "outputId": "8fc9f984-a058-48ba-f19f-880ad67005a6"
      },
      "execution_count": 601,
      "outputs": [
        {
          "output_type": "execute_result",
          "data": {
            "text/plain": [
              "type              0\n",
              "title             0\n",
              "country         831\n",
              "date_added       10\n",
              "release_year      0\n",
              "rating            4\n",
              "duration          3\n",
              "listed_in         0\n",
              "description       0\n",
              "dtype: int64"
            ]
          },
          "metadata": {},
          "execution_count": 601
        }
      ]
    },
    {
      "cell_type": "markdown",
      "source": [
        "# **Data EDA**"
      ],
      "metadata": {
        "id": "2RIr4oy_1ev8"
      }
    },
    {
      "cell_type": "markdown",
      "source": [
        "## date_added 시간열 분리"
      ],
      "metadata": {
        "id": "A6Ue0ijl1Xw6"
      }
    },
    {
      "cell_type": "code",
      "source": [
        "df['date_added'] = df['date_added'].apply(lambda x : pd.Timestamp(x))\n",
        "\n",
        "df['Registered year'] = df['date_added'].apply(lambda x : x.year)\n",
        "df['Registered month'] = df['date_added'].apply(lambda x : x.month)\n",
        "df['Registered day'] = df['date_added'].apply(lambda x : x.day)\n",
        "\n",
        "df.drop(['date_added'],axis=1,inplace=True)"
      ],
      "metadata": {
        "id": "NjhuhIkg1FSP"
      },
      "execution_count": 602,
      "outputs": []
    },
    {
      "cell_type": "markdown",
      "source": [
        "### description 기준 장르 분류"
      ],
      "metadata": {
        "id": "0cDzE6VicqNI"
      }
    },
    {
      "cell_type": "code",
      "source": [
        "df['Horror'] = df[df['description'].str.contains('[terror][horrible][blood][ghost]',case=False)].listed_in\n",
        "df['Romance'] = df[df['description'].str.contains('[love][romantic][happy][sad]',case=False)].listed_in\n",
        "df['Thriller'] = df[df['description'].str.contains('[mysterious][suspense][kill]',case=False)].listed_in\n",
        "df['SF'] = df[df['description'].str.contains('[monster]*[myth][space][magic][fantasy]*[dragon][witch]',case=False)].listed_in\n",
        "df.update(df['Horror'],overwrite=True)\n",
        "df.update(df['Romance'],overwrite=True)\n",
        "df.update(df['Thriller'],overwrite=True)\n",
        "df.update(df['SF'],overwrite=True)\n",
        "TV_H = df.groupby(['Thriller']).count()\n",
        "TV_H.iloc[:,[2]]\n"
      ],
      "metadata": {
        "colab": {
          "base_uri": "https://localhost:8080/",
          "height": 455
        },
        "id": "lKYxtbsrokY1",
        "outputId": "1d3760ce-b6e4-4b0c-a46d-92954d27ae84"
      },
      "execution_count": 603,
      "outputs": [
        {
          "output_type": "execute_result",
          "data": {
            "text/plain": [
              "                                                    country\n",
              "Thriller                                                   \n",
              "Action & Adventure                                       86\n",
              "Action & Adventure, Anime Features, Children & ...        3\n",
              "Action & Adventure, Anime Features, Classic Movies        1\n",
              "Action & Adventure, Anime Features, Horror Movies         1\n",
              "Action & Adventure, Anime Features, Internation...       19\n",
              "...                                                     ...\n",
              "TV Horror, TV Mysteries, Teen TV Shows                    1\n",
              "TV Horror, Teen TV Shows                                  1\n",
              "TV Sci-Fi & Fantasy, TV Thrillers                         1\n",
              "TV Shows                                                  5\n",
              "Thrillers                                                41\n",
              "\n",
              "[457 rows x 1 columns]"
            ],
            "text/html": [
              "\n",
              "  <div id=\"df-b250add6-6070-4589-834d-4b485b85c072\">\n",
              "    <div class=\"colab-df-container\">\n",
              "      <div>\n",
              "<style scoped>\n",
              "    .dataframe tbody tr th:only-of-type {\n",
              "        vertical-align: middle;\n",
              "    }\n",
              "\n",
              "    .dataframe tbody tr th {\n",
              "        vertical-align: top;\n",
              "    }\n",
              "\n",
              "    .dataframe thead th {\n",
              "        text-align: right;\n",
              "    }\n",
              "</style>\n",
              "<table border=\"1\" class=\"dataframe\">\n",
              "  <thead>\n",
              "    <tr style=\"text-align: right;\">\n",
              "      <th></th>\n",
              "      <th>country</th>\n",
              "    </tr>\n",
              "    <tr>\n",
              "      <th>Thriller</th>\n",
              "      <th></th>\n",
              "    </tr>\n",
              "  </thead>\n",
              "  <tbody>\n",
              "    <tr>\n",
              "      <th>Action &amp; Adventure</th>\n",
              "      <td>86</td>\n",
              "    </tr>\n",
              "    <tr>\n",
              "      <th>Action &amp; Adventure, Anime Features, Children &amp; Family Movies</th>\n",
              "      <td>3</td>\n",
              "    </tr>\n",
              "    <tr>\n",
              "      <th>Action &amp; Adventure, Anime Features, Classic Movies</th>\n",
              "      <td>1</td>\n",
              "    </tr>\n",
              "    <tr>\n",
              "      <th>Action &amp; Adventure, Anime Features, Horror Movies</th>\n",
              "      <td>1</td>\n",
              "    </tr>\n",
              "    <tr>\n",
              "      <th>Action &amp; Adventure, Anime Features, International Movies</th>\n",
              "      <td>19</td>\n",
              "    </tr>\n",
              "    <tr>\n",
              "      <th>...</th>\n",
              "      <td>...</td>\n",
              "    </tr>\n",
              "    <tr>\n",
              "      <th>TV Horror, TV Mysteries, Teen TV Shows</th>\n",
              "      <td>1</td>\n",
              "    </tr>\n",
              "    <tr>\n",
              "      <th>TV Horror, Teen TV Shows</th>\n",
              "      <td>1</td>\n",
              "    </tr>\n",
              "    <tr>\n",
              "      <th>TV Sci-Fi &amp; Fantasy, TV Thrillers</th>\n",
              "      <td>1</td>\n",
              "    </tr>\n",
              "    <tr>\n",
              "      <th>TV Shows</th>\n",
              "      <td>5</td>\n",
              "    </tr>\n",
              "    <tr>\n",
              "      <th>Thrillers</th>\n",
              "      <td>41</td>\n",
              "    </tr>\n",
              "  </tbody>\n",
              "</table>\n",
              "<p>457 rows × 1 columns</p>\n",
              "</div>\n",
              "      <button class=\"colab-df-convert\" onclick=\"convertToInteractive('df-b250add6-6070-4589-834d-4b485b85c072')\"\n",
              "              title=\"Convert this dataframe to an interactive table.\"\n",
              "              style=\"display:none;\">\n",
              "        \n",
              "  <svg xmlns=\"http://www.w3.org/2000/svg\" height=\"24px\"viewBox=\"0 0 24 24\"\n",
              "       width=\"24px\">\n",
              "    <path d=\"M0 0h24v24H0V0z\" fill=\"none\"/>\n",
              "    <path d=\"M18.56 5.44l.94 2.06.94-2.06 2.06-.94-2.06-.94-.94-2.06-.94 2.06-2.06.94zm-11 1L8.5 8.5l.94-2.06 2.06-.94-2.06-.94L8.5 2.5l-.94 2.06-2.06.94zm10 10l.94 2.06.94-2.06 2.06-.94-2.06-.94-.94-2.06-.94 2.06-2.06.94z\"/><path d=\"M17.41 7.96l-1.37-1.37c-.4-.4-.92-.59-1.43-.59-.52 0-1.04.2-1.43.59L10.3 9.45l-7.72 7.72c-.78.78-.78 2.05 0 2.83L4 21.41c.39.39.9.59 1.41.59.51 0 1.02-.2 1.41-.59l7.78-7.78 2.81-2.81c.8-.78.8-2.07 0-2.86zM5.41 20L4 18.59l7.72-7.72 1.47 1.35L5.41 20z\"/>\n",
              "  </svg>\n",
              "      </button>\n",
              "      \n",
              "  <style>\n",
              "    .colab-df-container {\n",
              "      display:flex;\n",
              "      flex-wrap:wrap;\n",
              "      gap: 12px;\n",
              "    }\n",
              "\n",
              "    .colab-df-convert {\n",
              "      background-color: #E8F0FE;\n",
              "      border: none;\n",
              "      border-radius: 50%;\n",
              "      cursor: pointer;\n",
              "      display: none;\n",
              "      fill: #1967D2;\n",
              "      height: 32px;\n",
              "      padding: 0 0 0 0;\n",
              "      width: 32px;\n",
              "    }\n",
              "\n",
              "    .colab-df-convert:hover {\n",
              "      background-color: #E2EBFA;\n",
              "      box-shadow: 0px 1px 2px rgba(60, 64, 67, 0.3), 0px 1px 3px 1px rgba(60, 64, 67, 0.15);\n",
              "      fill: #174EA6;\n",
              "    }\n",
              "\n",
              "    [theme=dark] .colab-df-convert {\n",
              "      background-color: #3B4455;\n",
              "      fill: #D2E3FC;\n",
              "    }\n",
              "\n",
              "    [theme=dark] .colab-df-convert:hover {\n",
              "      background-color: #434B5C;\n",
              "      box-shadow: 0px 1px 3px 1px rgba(0, 0, 0, 0.15);\n",
              "      filter: drop-shadow(0px 1px 2px rgba(0, 0, 0, 0.3));\n",
              "      fill: #FFFFFF;\n",
              "    }\n",
              "  </style>\n",
              "\n",
              "      <script>\n",
              "        const buttonEl =\n",
              "          document.querySelector('#df-b250add6-6070-4589-834d-4b485b85c072 button.colab-df-convert');\n",
              "        buttonEl.style.display =\n",
              "          google.colab.kernel.accessAllowed ? 'block' : 'none';\n",
              "\n",
              "        async function convertToInteractive(key) {\n",
              "          const element = document.querySelector('#df-b250add6-6070-4589-834d-4b485b85c072');\n",
              "          const dataTable =\n",
              "            await google.colab.kernel.invokeFunction('convertToInteractive',\n",
              "                                                     [key], {});\n",
              "          if (!dataTable) return;\n",
              "\n",
              "          const docLinkHtml = 'Like what you see? Visit the ' +\n",
              "            '<a target=\"_blank\" href=https://colab.research.google.com/notebooks/data_table.ipynb>data table notebook</a>'\n",
              "            + ' to learn more about interactive tables.';\n",
              "          element.innerHTML = '';\n",
              "          dataTable['output_type'] = 'display_data';\n",
              "          await google.colab.output.renderOutput(dataTable, element);\n",
              "          const docLink = document.createElement('div');\n",
              "          docLink.innerHTML = docLinkHtml;\n",
              "          element.appendChild(docLink);\n",
              "        }\n",
              "      </script>\n",
              "    </div>\n",
              "  </div>\n",
              "  "
            ]
          },
          "metadata": {},
          "execution_count": 603
        }
      ]
    },
    {
      "cell_type": "markdown",
      "source": [
        "## DataFrame split"
      ],
      "metadata": {
        "id": "Pdo_z1bZggM1"
      }
    },
    {
      "cell_type": "code",
      "source": [
        "# TV Show DataFrame 만들기\n",
        "dataFilter_TV = df['type'] == 'TV Show'\n",
        "df[dataFilter_TV]\n",
        "\n",
        "df_TV = df[dataFilter_TV]\n",
        "\n",
        "# Movie DataFrame 만들기\n",
        "dataFilter_Movie = df['type'] == 'Movie'\n",
        "df[dataFilter_Movie]\n",
        "\n",
        "df_Movie = df[dataFilter_Movie]\n"
      ],
      "metadata": {
        "id": "B-GBSUSSgZnI"
      },
      "execution_count": 604,
      "outputs": []
    },
    {
      "cell_type": "markdown",
      "source": [
        "## Country null vlaues fill\n",
        ">TV Show country null vlaues fill"
      ],
      "metadata": {
        "id": "LpWjaqQAhO4t"
      }
    },
    {
      "cell_type": "code",
      "source": [
        "# NaN 채우기\n",
        "df_TV['country'].fillna(\"America\",inplace =True,limit =79)\n",
        "df_TV['country'].fillna(\"Africa\",inplace =True,limit =78)\n",
        "df_TV['country'].fillna(\"Asia\",inplace =True,limit =78)\n",
        "df_TV['country'].fillna(\"Europe\",inplace =True,limit =78)\n",
        "df_TV['country'].fillna(\"Oceania \",inplace =True,limit =78)\n",
        "# country 결측치 채워졌는지 확인\n",
        "df_TV['country'].isnull().sum()"
      ],
      "metadata": {
        "colab": {
          "base_uri": "https://localhost:8080/"
        },
        "id": "Z8UunHfFhCQn",
        "outputId": "3370c56d-d52a-4342-b21a-ddc6eb103f2a"
      },
      "execution_count": 605,
      "outputs": [
        {
          "output_type": "execute_result",
          "data": {
            "text/plain": [
              "0"
            ]
          },
          "metadata": {},
          "execution_count": 605
        }
      ]
    },
    {
      "cell_type": "code",
      "source": [
        "# 두개 이상의 국가 값 변경\n",
        "dfTV_strs=df_TV.loc[(df_TV['country'].str.count(','))!=0]\n",
        "\n",
        "dfTV_strs[0:49]['country'] ='Africa'\n",
        "\n",
        "dfTV_strs[49:98]['country']='America'\n",
        "\n",
        "dfTV_strs[98:147]['country']='Asia'\n",
        "\n",
        "dfTV_strs[147:196]['country']='Europe'\n",
        "\n",
        "dfTV_strs[196:]['country']='Oceania '\n",
        "\n",
        "df_TV.update(dfTV_strs,overwrite = True)"
      ],
      "metadata": {
        "id": "bH4M_Ev7hrPH"
      },
      "execution_count": 606,
      "outputs": []
    },
    {
      "cell_type": "markdown",
      "source": [
        "> Movie country null vlaues fill\n"
      ],
      "metadata": {
        "id": "ZhCsHMtivFH1"
      }
    },
    {
      "cell_type": "code",
      "source": [
        "# NaN 채우기\n",
        "df_Movie['country'].fillna(\"America\",inplace =True,limit =88)\n",
        "df_Movie['country'].fillna(\"Africa\",inplace =True,limit =88)\n",
        "df_Movie['country'].fillna(\"Asia\",inplace =True,limit =88)\n",
        "df_Movie['country'].fillna(\"Europe\",inplace =True,limit =88)\n",
        "df_Movie['country'].fillna(\"Oceania \",inplace =True,limit =88)\n",
        "# country 결측치 채워졌는지 확인\n",
        "df_Movie['country'].isnull().sum()"
      ],
      "metadata": {
        "colab": {
          "base_uri": "https://localhost:8080/"
        },
        "id": "l_RkGqgzmJu8",
        "outputId": "bfc10934-7c03-40b9-c5bf-392f28c53018"
      },
      "execution_count": 607,
      "outputs": [
        {
          "output_type": "execute_result",
          "data": {
            "text/plain": [
              "0"
            ]
          },
          "metadata": {},
          "execution_count": 607
        }
      ]
    },
    {
      "cell_type": "code",
      "source": [
        "# 두개 이상의 국가 값 변경\n",
        "dfMovie_strs=df_Movie.loc[(df_Movie['country'].str.count(','))!=0]\n",
        "\n",
        "dfMovie_strs[0:215]['country'] ='Africa'\n",
        "\n",
        "dfMovie_strs[215:430]['country']='America'\n",
        "\n",
        "dfMovie_strs[430:645]['country']='Asia'\n",
        "\n",
        "dfMovie_strs[645:860]['country']='Europe'\n",
        "\n",
        "dfMovie_strs[860:]['country']='Oceania '\n",
        "\n",
        "df_Movie.update(dfMovie_strs,overwrite = True)"
      ],
      "metadata": {
        "id": "KCRvXxhKwLbL"
      },
      "execution_count": 608,
      "outputs": []
    },
    {
      "cell_type": "markdown",
      "source": [
        "### 나라를 대륙별로 분류하기\n",
        "> TV Show"
      ],
      "metadata": {
        "id": "AN9j8ID2xOZB"
      }
    },
    {
      "cell_type": "code",
      "source": [
        "df_TV_T = df_TV.groupby(['country']).count()\n",
        "df_TV_T.iloc[:,[2]]"
      ],
      "metadata": {
        "colab": {
          "base_uri": "https://localhost:8080/",
          "height": 1000
        },
        "id": "wSR-kNStxNQl",
        "outputId": "2969ee24-41ba-464d-849f-2fb45e57ec02"
      },
      "execution_count": 609,
      "outputs": [
        {
          "output_type": "execute_result",
          "data": {
            "text/plain": [
              "                      release_year\n",
              "country                           \n",
              "Africa                         127\n",
              "America                        128\n",
              "Argentina                       18\n",
              "Asia                           127\n",
              "Australia                       48\n",
              "Belarus                          1\n",
              "Belgium                          8\n",
              "Brazil                          27\n",
              "Canada                          59\n",
              "Chile                            3\n",
              "China                           38\n",
              "Colombia                        22\n",
              "Croatia                          1\n",
              "Cyprus                           1\n",
              "Denmark                          8\n",
              "Egypt                           14\n",
              "Europe                         127\n",
              "Finland                          1\n",
              "France                          49\n",
              "Germany                         20\n",
              "Hong Kong                        3\n",
              "Iceland                          3\n",
              "India                           79\n",
              "Indonesia                        2\n",
              "Ireland                          3\n",
              "Israel                           8\n",
              "Italy                           13\n",
              "Japan                          169\n",
              "Jordan                           2\n",
              "Kuwait                           2\n",
              "Lebanon                          6\n",
              "Luxembourg                       1\n",
              "Malaysia                         6\n",
              "Mexico                          40\n",
              "Netherlands                      4\n",
              "New Zealand                      2\n",
              "Nigeria                          9\n",
              "Norway                           5\n",
              "Oceania                        127\n",
              "Pakistan                         4\n",
              "Philippines                      2\n",
              "Poland                           6\n",
              "Russia                          14\n",
              "Saudi Arabia                     3\n",
              "Senegal                          1\n",
              "Singapore                       17\n",
              "South Africa                     6\n",
              "South Korea                    158\n",
              "Spain                           48\n",
              "Sweden                           8\n",
              "Switzerland                      1\n",
              "Taiwan                          68\n",
              "Thailand                        24\n",
              "Turkey                          29\n",
              "Ukraine                          2\n",
              "United Arab Emirates             1\n",
              "United Kingdom                 213\n",
              "United States                  760"
            ],
            "text/html": [
              "\n",
              "  <div id=\"df-1a5a5659-17c5-4c10-b646-5dec2ce7cb34\">\n",
              "    <div class=\"colab-df-container\">\n",
              "      <div>\n",
              "<style scoped>\n",
              "    .dataframe tbody tr th:only-of-type {\n",
              "        vertical-align: middle;\n",
              "    }\n",
              "\n",
              "    .dataframe tbody tr th {\n",
              "        vertical-align: top;\n",
              "    }\n",
              "\n",
              "    .dataframe thead th {\n",
              "        text-align: right;\n",
              "    }\n",
              "</style>\n",
              "<table border=\"1\" class=\"dataframe\">\n",
              "  <thead>\n",
              "    <tr style=\"text-align: right;\">\n",
              "      <th></th>\n",
              "      <th>release_year</th>\n",
              "    </tr>\n",
              "    <tr>\n",
              "      <th>country</th>\n",
              "      <th></th>\n",
              "    </tr>\n",
              "  </thead>\n",
              "  <tbody>\n",
              "    <tr>\n",
              "      <th>Africa</th>\n",
              "      <td>127</td>\n",
              "    </tr>\n",
              "    <tr>\n",
              "      <th>America</th>\n",
              "      <td>128</td>\n",
              "    </tr>\n",
              "    <tr>\n",
              "      <th>Argentina</th>\n",
              "      <td>18</td>\n",
              "    </tr>\n",
              "    <tr>\n",
              "      <th>Asia</th>\n",
              "      <td>127</td>\n",
              "    </tr>\n",
              "    <tr>\n",
              "      <th>Australia</th>\n",
              "      <td>48</td>\n",
              "    </tr>\n",
              "    <tr>\n",
              "      <th>Belarus</th>\n",
              "      <td>1</td>\n",
              "    </tr>\n",
              "    <tr>\n",
              "      <th>Belgium</th>\n",
              "      <td>8</td>\n",
              "    </tr>\n",
              "    <tr>\n",
              "      <th>Brazil</th>\n",
              "      <td>27</td>\n",
              "    </tr>\n",
              "    <tr>\n",
              "      <th>Canada</th>\n",
              "      <td>59</td>\n",
              "    </tr>\n",
              "    <tr>\n",
              "      <th>Chile</th>\n",
              "      <td>3</td>\n",
              "    </tr>\n",
              "    <tr>\n",
              "      <th>China</th>\n",
              "      <td>38</td>\n",
              "    </tr>\n",
              "    <tr>\n",
              "      <th>Colombia</th>\n",
              "      <td>22</td>\n",
              "    </tr>\n",
              "    <tr>\n",
              "      <th>Croatia</th>\n",
              "      <td>1</td>\n",
              "    </tr>\n",
              "    <tr>\n",
              "      <th>Cyprus</th>\n",
              "      <td>1</td>\n",
              "    </tr>\n",
              "    <tr>\n",
              "      <th>Denmark</th>\n",
              "      <td>8</td>\n",
              "    </tr>\n",
              "    <tr>\n",
              "      <th>Egypt</th>\n",
              "      <td>14</td>\n",
              "    </tr>\n",
              "    <tr>\n",
              "      <th>Europe</th>\n",
              "      <td>127</td>\n",
              "    </tr>\n",
              "    <tr>\n",
              "      <th>Finland</th>\n",
              "      <td>1</td>\n",
              "    </tr>\n",
              "    <tr>\n",
              "      <th>France</th>\n",
              "      <td>49</td>\n",
              "    </tr>\n",
              "    <tr>\n",
              "      <th>Germany</th>\n",
              "      <td>20</td>\n",
              "    </tr>\n",
              "    <tr>\n",
              "      <th>Hong Kong</th>\n",
              "      <td>3</td>\n",
              "    </tr>\n",
              "    <tr>\n",
              "      <th>Iceland</th>\n",
              "      <td>3</td>\n",
              "    </tr>\n",
              "    <tr>\n",
              "      <th>India</th>\n",
              "      <td>79</td>\n",
              "    </tr>\n",
              "    <tr>\n",
              "      <th>Indonesia</th>\n",
              "      <td>2</td>\n",
              "    </tr>\n",
              "    <tr>\n",
              "      <th>Ireland</th>\n",
              "      <td>3</td>\n",
              "    </tr>\n",
              "    <tr>\n",
              "      <th>Israel</th>\n",
              "      <td>8</td>\n",
              "    </tr>\n",
              "    <tr>\n",
              "      <th>Italy</th>\n",
              "      <td>13</td>\n",
              "    </tr>\n",
              "    <tr>\n",
              "      <th>Japan</th>\n",
              "      <td>169</td>\n",
              "    </tr>\n",
              "    <tr>\n",
              "      <th>Jordan</th>\n",
              "      <td>2</td>\n",
              "    </tr>\n",
              "    <tr>\n",
              "      <th>Kuwait</th>\n",
              "      <td>2</td>\n",
              "    </tr>\n",
              "    <tr>\n",
              "      <th>Lebanon</th>\n",
              "      <td>6</td>\n",
              "    </tr>\n",
              "    <tr>\n",
              "      <th>Luxembourg</th>\n",
              "      <td>1</td>\n",
              "    </tr>\n",
              "    <tr>\n",
              "      <th>Malaysia</th>\n",
              "      <td>6</td>\n",
              "    </tr>\n",
              "    <tr>\n",
              "      <th>Mexico</th>\n",
              "      <td>40</td>\n",
              "    </tr>\n",
              "    <tr>\n",
              "      <th>Netherlands</th>\n",
              "      <td>4</td>\n",
              "    </tr>\n",
              "    <tr>\n",
              "      <th>New Zealand</th>\n",
              "      <td>2</td>\n",
              "    </tr>\n",
              "    <tr>\n",
              "      <th>Nigeria</th>\n",
              "      <td>9</td>\n",
              "    </tr>\n",
              "    <tr>\n",
              "      <th>Norway</th>\n",
              "      <td>5</td>\n",
              "    </tr>\n",
              "    <tr>\n",
              "      <th>Oceania</th>\n",
              "      <td>127</td>\n",
              "    </tr>\n",
              "    <tr>\n",
              "      <th>Pakistan</th>\n",
              "      <td>4</td>\n",
              "    </tr>\n",
              "    <tr>\n",
              "      <th>Philippines</th>\n",
              "      <td>2</td>\n",
              "    </tr>\n",
              "    <tr>\n",
              "      <th>Poland</th>\n",
              "      <td>6</td>\n",
              "    </tr>\n",
              "    <tr>\n",
              "      <th>Russia</th>\n",
              "      <td>14</td>\n",
              "    </tr>\n",
              "    <tr>\n",
              "      <th>Saudi Arabia</th>\n",
              "      <td>3</td>\n",
              "    </tr>\n",
              "    <tr>\n",
              "      <th>Senegal</th>\n",
              "      <td>1</td>\n",
              "    </tr>\n",
              "    <tr>\n",
              "      <th>Singapore</th>\n",
              "      <td>17</td>\n",
              "    </tr>\n",
              "    <tr>\n",
              "      <th>South Africa</th>\n",
              "      <td>6</td>\n",
              "    </tr>\n",
              "    <tr>\n",
              "      <th>South Korea</th>\n",
              "      <td>158</td>\n",
              "    </tr>\n",
              "    <tr>\n",
              "      <th>Spain</th>\n",
              "      <td>48</td>\n",
              "    </tr>\n",
              "    <tr>\n",
              "      <th>Sweden</th>\n",
              "      <td>8</td>\n",
              "    </tr>\n",
              "    <tr>\n",
              "      <th>Switzerland</th>\n",
              "      <td>1</td>\n",
              "    </tr>\n",
              "    <tr>\n",
              "      <th>Taiwan</th>\n",
              "      <td>68</td>\n",
              "    </tr>\n",
              "    <tr>\n",
              "      <th>Thailand</th>\n",
              "      <td>24</td>\n",
              "    </tr>\n",
              "    <tr>\n",
              "      <th>Turkey</th>\n",
              "      <td>29</td>\n",
              "    </tr>\n",
              "    <tr>\n",
              "      <th>Ukraine</th>\n",
              "      <td>2</td>\n",
              "    </tr>\n",
              "    <tr>\n",
              "      <th>United Arab Emirates</th>\n",
              "      <td>1</td>\n",
              "    </tr>\n",
              "    <tr>\n",
              "      <th>United Kingdom</th>\n",
              "      <td>213</td>\n",
              "    </tr>\n",
              "    <tr>\n",
              "      <th>United States</th>\n",
              "      <td>760</td>\n",
              "    </tr>\n",
              "  </tbody>\n",
              "</table>\n",
              "</div>\n",
              "      <button class=\"colab-df-convert\" onclick=\"convertToInteractive('df-1a5a5659-17c5-4c10-b646-5dec2ce7cb34')\"\n",
              "              title=\"Convert this dataframe to an interactive table.\"\n",
              "              style=\"display:none;\">\n",
              "        \n",
              "  <svg xmlns=\"http://www.w3.org/2000/svg\" height=\"24px\"viewBox=\"0 0 24 24\"\n",
              "       width=\"24px\">\n",
              "    <path d=\"M0 0h24v24H0V0z\" fill=\"none\"/>\n",
              "    <path d=\"M18.56 5.44l.94 2.06.94-2.06 2.06-.94-2.06-.94-.94-2.06-.94 2.06-2.06.94zm-11 1L8.5 8.5l.94-2.06 2.06-.94-2.06-.94L8.5 2.5l-.94 2.06-2.06.94zm10 10l.94 2.06.94-2.06 2.06-.94-2.06-.94-.94-2.06-.94 2.06-2.06.94z\"/><path d=\"M17.41 7.96l-1.37-1.37c-.4-.4-.92-.59-1.43-.59-.52 0-1.04.2-1.43.59L10.3 9.45l-7.72 7.72c-.78.78-.78 2.05 0 2.83L4 21.41c.39.39.9.59 1.41.59.51 0 1.02-.2 1.41-.59l7.78-7.78 2.81-2.81c.8-.78.8-2.07 0-2.86zM5.41 20L4 18.59l7.72-7.72 1.47 1.35L5.41 20z\"/>\n",
              "  </svg>\n",
              "      </button>\n",
              "      \n",
              "  <style>\n",
              "    .colab-df-container {\n",
              "      display:flex;\n",
              "      flex-wrap:wrap;\n",
              "      gap: 12px;\n",
              "    }\n",
              "\n",
              "    .colab-df-convert {\n",
              "      background-color: #E8F0FE;\n",
              "      border: none;\n",
              "      border-radius: 50%;\n",
              "      cursor: pointer;\n",
              "      display: none;\n",
              "      fill: #1967D2;\n",
              "      height: 32px;\n",
              "      padding: 0 0 0 0;\n",
              "      width: 32px;\n",
              "    }\n",
              "\n",
              "    .colab-df-convert:hover {\n",
              "      background-color: #E2EBFA;\n",
              "      box-shadow: 0px 1px 2px rgba(60, 64, 67, 0.3), 0px 1px 3px 1px rgba(60, 64, 67, 0.15);\n",
              "      fill: #174EA6;\n",
              "    }\n",
              "\n",
              "    [theme=dark] .colab-df-convert {\n",
              "      background-color: #3B4455;\n",
              "      fill: #D2E3FC;\n",
              "    }\n",
              "\n",
              "    [theme=dark] .colab-df-convert:hover {\n",
              "      background-color: #434B5C;\n",
              "      box-shadow: 0px 1px 3px 1px rgba(0, 0, 0, 0.15);\n",
              "      filter: drop-shadow(0px 1px 2px rgba(0, 0, 0, 0.3));\n",
              "      fill: #FFFFFF;\n",
              "    }\n",
              "  </style>\n",
              "\n",
              "      <script>\n",
              "        const buttonEl =\n",
              "          document.querySelector('#df-1a5a5659-17c5-4c10-b646-5dec2ce7cb34 button.colab-df-convert');\n",
              "        buttonEl.style.display =\n",
              "          google.colab.kernel.accessAllowed ? 'block' : 'none';\n",
              "\n",
              "        async function convertToInteractive(key) {\n",
              "          const element = document.querySelector('#df-1a5a5659-17c5-4c10-b646-5dec2ce7cb34');\n",
              "          const dataTable =\n",
              "            await google.colab.kernel.invokeFunction('convertToInteractive',\n",
              "                                                     [key], {});\n",
              "          if (!dataTable) return;\n",
              "\n",
              "          const docLinkHtml = 'Like what you see? Visit the ' +\n",
              "            '<a target=\"_blank\" href=https://colab.research.google.com/notebooks/data_table.ipynb>data table notebook</a>'\n",
              "            + ' to learn more about interactive tables.';\n",
              "          element.innerHTML = '';\n",
              "          dataTable['output_type'] = 'display_data';\n",
              "          await google.colab.output.renderOutput(dataTable, element);\n",
              "          const docLink = document.createElement('div');\n",
              "          docLink.innerHTML = docLinkHtml;\n",
              "          element.appendChild(docLink);\n",
              "        }\n",
              "      </script>\n",
              "    </div>\n",
              "  </div>\n",
              "  "
            ]
          },
          "metadata": {},
          "execution_count": 609
        }
      ]
    },
    {
      "cell_type": "code",
      "source": [
        "def category_continent(x) :\n",
        "  if x == ('Senegal')or x== ('South Africa')or x== ('Nigeria ')or x== ('Africa') :\n",
        "    return 0\n",
        "  elif x == ('Chile')or x== ('Argentina')or x== ('Colombia')or x== ('Brazil')or x== ('Mexico')or x== ('Canada')or x== ('America')or x== ('United States'):\n",
        "    return 1\n",
        "  elif x == ('United Arab Emirates')or x== ('Cyprus')or x== ('Philippines')or x== ('Kuwait')or x== ('Jordan')or x== ('Indonesia')or x== ('Saudi Arabia')or x== ('Hong Kong')or x== ('Pakistan')or x== ('Malaysia')or x== ('Lebanon')or x== ('Israel')or x== ('Russia')or x== ('Egypt')or x== ('Singapore')or x== ('Thailand')or x== ('Turkey')or x== ('China')or x== ('India')or x== ('Taiwan')or x== ('Asia')or x== ('South Korea')or x== ('Japan'):\n",
        "    return 2\n",
        "  elif x == ('Switzerland')or x== ('Luxembourg')or x== ('Finland')or x== ('Croatia')or x== ('Belarus')or x== ('Ukraine')or x== ('Netherlands')or x== ('Ireland')or x== ('Iceland')or x== ('Norway')or x== ('Poland')or x== ('Belgium')or x== ('Sweden')or x== ('Denmark')or x== ('Italy')or x== ('Germany')or x== ('France')or x== ('Spain')or x== ('Europe')or x== ('United Kingdom'):\n",
        "    return 3\n",
        "  else :\n",
        "    return 4"
      ],
      "metadata": {
        "id": "pKCxuWvoxZDf"
      },
      "execution_count": 610,
      "outputs": []
    },
    {
      "cell_type": "code",
      "source": [
        "df_TV['Continent'] = df_TV['country'].apply(category_continent)\n",
        "df_TV.drop(['country'],axis=1,inplace=True)"
      ],
      "metadata": {
        "id": "3QGW08OMxa5m"
      },
      "execution_count": 611,
      "outputs": []
    },
    {
      "cell_type": "markdown",
      "source": [
        "> Movie"
      ],
      "metadata": {
        "id": "qvnjmjTZxgUh"
      }
    },
    {
      "cell_type": "code",
      "source": [
        "df_Movie_T = df_Movie.groupby(['country']).count()\n",
        "df_Movie_T.iloc[:,[2]]"
      ],
      "metadata": {
        "colab": {
          "base_uri": "https://localhost:8080/",
          "height": 455
        },
        "id": "JsPAfHeXxn9B",
        "outputId": "c3e8ccdd-4136-43ca-a9df-45c8e3ecf781"
      },
      "execution_count": 612,
      "outputs": [
        {
          "output_type": "execute_result",
          "data": {
            "text/plain": [
              "              release_year\n",
              "country                   \n",
              "Africa                 303\n",
              "America                303\n",
              "Argentina               38\n",
              "Asia                   303\n",
              "Australia               39\n",
              "...                    ...\n",
              "Uruguay                  3\n",
              "Venezuela                1\n",
              "Vietnam                  7\n",
              "West Germany             1\n",
              "Zimbabwe                 1\n",
              "\n",
              "[70 rows x 1 columns]"
            ],
            "text/html": [
              "\n",
              "  <div id=\"df-05327700-89bb-4a98-b784-36a2b1f9e597\">\n",
              "    <div class=\"colab-df-container\">\n",
              "      <div>\n",
              "<style scoped>\n",
              "    .dataframe tbody tr th:only-of-type {\n",
              "        vertical-align: middle;\n",
              "    }\n",
              "\n",
              "    .dataframe tbody tr th {\n",
              "        vertical-align: top;\n",
              "    }\n",
              "\n",
              "    .dataframe thead th {\n",
              "        text-align: right;\n",
              "    }\n",
              "</style>\n",
              "<table border=\"1\" class=\"dataframe\">\n",
              "  <thead>\n",
              "    <tr style=\"text-align: right;\">\n",
              "      <th></th>\n",
              "      <th>release_year</th>\n",
              "    </tr>\n",
              "    <tr>\n",
              "      <th>country</th>\n",
              "      <th></th>\n",
              "    </tr>\n",
              "  </thead>\n",
              "  <tbody>\n",
              "    <tr>\n",
              "      <th>Africa</th>\n",
              "      <td>303</td>\n",
              "    </tr>\n",
              "    <tr>\n",
              "      <th>America</th>\n",
              "      <td>303</td>\n",
              "    </tr>\n",
              "    <tr>\n",
              "      <th>Argentina</th>\n",
              "      <td>38</td>\n",
              "    </tr>\n",
              "    <tr>\n",
              "      <th>Asia</th>\n",
              "      <td>303</td>\n",
              "    </tr>\n",
              "    <tr>\n",
              "      <th>Australia</th>\n",
              "      <td>39</td>\n",
              "    </tr>\n",
              "    <tr>\n",
              "      <th>...</th>\n",
              "      <td>...</td>\n",
              "    </tr>\n",
              "    <tr>\n",
              "      <th>Uruguay</th>\n",
              "      <td>3</td>\n",
              "    </tr>\n",
              "    <tr>\n",
              "      <th>Venezuela</th>\n",
              "      <td>1</td>\n",
              "    </tr>\n",
              "    <tr>\n",
              "      <th>Vietnam</th>\n",
              "      <td>7</td>\n",
              "    </tr>\n",
              "    <tr>\n",
              "      <th>West Germany</th>\n",
              "      <td>1</td>\n",
              "    </tr>\n",
              "    <tr>\n",
              "      <th>Zimbabwe</th>\n",
              "      <td>1</td>\n",
              "    </tr>\n",
              "  </tbody>\n",
              "</table>\n",
              "<p>70 rows × 1 columns</p>\n",
              "</div>\n",
              "      <button class=\"colab-df-convert\" onclick=\"convertToInteractive('df-05327700-89bb-4a98-b784-36a2b1f9e597')\"\n",
              "              title=\"Convert this dataframe to an interactive table.\"\n",
              "              style=\"display:none;\">\n",
              "        \n",
              "  <svg xmlns=\"http://www.w3.org/2000/svg\" height=\"24px\"viewBox=\"0 0 24 24\"\n",
              "       width=\"24px\">\n",
              "    <path d=\"M0 0h24v24H0V0z\" fill=\"none\"/>\n",
              "    <path d=\"M18.56 5.44l.94 2.06.94-2.06 2.06-.94-2.06-.94-.94-2.06-.94 2.06-2.06.94zm-11 1L8.5 8.5l.94-2.06 2.06-.94-2.06-.94L8.5 2.5l-.94 2.06-2.06.94zm10 10l.94 2.06.94-2.06 2.06-.94-2.06-.94-.94-2.06-.94 2.06-2.06.94z\"/><path d=\"M17.41 7.96l-1.37-1.37c-.4-.4-.92-.59-1.43-.59-.52 0-1.04.2-1.43.59L10.3 9.45l-7.72 7.72c-.78.78-.78 2.05 0 2.83L4 21.41c.39.39.9.59 1.41.59.51 0 1.02-.2 1.41-.59l7.78-7.78 2.81-2.81c.8-.78.8-2.07 0-2.86zM5.41 20L4 18.59l7.72-7.72 1.47 1.35L5.41 20z\"/>\n",
              "  </svg>\n",
              "      </button>\n",
              "      \n",
              "  <style>\n",
              "    .colab-df-container {\n",
              "      display:flex;\n",
              "      flex-wrap:wrap;\n",
              "      gap: 12px;\n",
              "    }\n",
              "\n",
              "    .colab-df-convert {\n",
              "      background-color: #E8F0FE;\n",
              "      border: none;\n",
              "      border-radius: 50%;\n",
              "      cursor: pointer;\n",
              "      display: none;\n",
              "      fill: #1967D2;\n",
              "      height: 32px;\n",
              "      padding: 0 0 0 0;\n",
              "      width: 32px;\n",
              "    }\n",
              "\n",
              "    .colab-df-convert:hover {\n",
              "      background-color: #E2EBFA;\n",
              "      box-shadow: 0px 1px 2px rgba(60, 64, 67, 0.3), 0px 1px 3px 1px rgba(60, 64, 67, 0.15);\n",
              "      fill: #174EA6;\n",
              "    }\n",
              "\n",
              "    [theme=dark] .colab-df-convert {\n",
              "      background-color: #3B4455;\n",
              "      fill: #D2E3FC;\n",
              "    }\n",
              "\n",
              "    [theme=dark] .colab-df-convert:hover {\n",
              "      background-color: #434B5C;\n",
              "      box-shadow: 0px 1px 3px 1px rgba(0, 0, 0, 0.15);\n",
              "      filter: drop-shadow(0px 1px 2px rgba(0, 0, 0, 0.3));\n",
              "      fill: #FFFFFF;\n",
              "    }\n",
              "  </style>\n",
              "\n",
              "      <script>\n",
              "        const buttonEl =\n",
              "          document.querySelector('#df-05327700-89bb-4a98-b784-36a2b1f9e597 button.colab-df-convert');\n",
              "        buttonEl.style.display =\n",
              "          google.colab.kernel.accessAllowed ? 'block' : 'none';\n",
              "\n",
              "        async function convertToInteractive(key) {\n",
              "          const element = document.querySelector('#df-05327700-89bb-4a98-b784-36a2b1f9e597');\n",
              "          const dataTable =\n",
              "            await google.colab.kernel.invokeFunction('convertToInteractive',\n",
              "                                                     [key], {});\n",
              "          if (!dataTable) return;\n",
              "\n",
              "          const docLinkHtml = 'Like what you see? Visit the ' +\n",
              "            '<a target=\"_blank\" href=https://colab.research.google.com/notebooks/data_table.ipynb>data table notebook</a>'\n",
              "            + ' to learn more about interactive tables.';\n",
              "          element.innerHTML = '';\n",
              "          dataTable['output_type'] = 'display_data';\n",
              "          await google.colab.output.renderOutput(dataTable, element);\n",
              "          const docLink = document.createElement('div');\n",
              "          docLink.innerHTML = docLinkHtml;\n",
              "          element.appendChild(docLink);\n",
              "        }\n",
              "      </script>\n",
              "    </div>\n",
              "  </div>\n",
              "  "
            ]
          },
          "metadata": {},
          "execution_count": 612
        }
      ]
    },
    {
      "cell_type": "code",
      "source": [
        "df_Movie['Continent'] = df_Movie['country'].apply(category_continent)\n",
        "df_Movie.drop(['country'],axis=1,inplace=True)"
      ],
      "metadata": {
        "id": "o3AexQ1Exydm"
      },
      "execution_count": 613,
      "outputs": []
    },
    {
      "cell_type": "markdown",
      "source": [
        "### Rating_band 만들기"
      ],
      "metadata": {
        "id": "uhXNbN5U4nih"
      }
    },
    {
      "cell_type": "markdown",
      "source": [
        "> TV Show rating_band\n",
        ">> * TV-14 : 14세 이상의 청소년들을 위한 프로그램\n",
        "\n",
        ">> * TV-MA : 17세 이하의 어린이나 청소년들에게 맞지 않는 프로그램\n",
        "\n",
        ">> * TV-PG : 부모가 정확히 내용을 알고 보여주라는 프로그램\n",
        "\n",
        ">> * TV-Y : 모든 어린이의 시청이 가능한 프로그램\n",
        "\n",
        ">> * TV-Y7 : 7세 이상의 어린이들을 대상으로 한 프로그램\n",
        "\n",
        ">> * TV-G : 모든 연령층이 볼 수 있는 프로그램\n"
      ],
      "metadata": {
        "id": "3edG0aU-4yii"
      }
    },
    {
      "cell_type": "code",
      "source": [
        "df_TV.loc[(df_TV.rating=='TV-14'),'rating'] = 14\n",
        "df_TV.loc[(df_TV.rating=='TV-MA'),'rating'] = 19\n",
        "df_TV.loc[(df_TV.rating=='TV-PG'),'rating'] = 0\n",
        "df_TV.loc[(df_TV.rating=='TV-Y'),'rating'] = 0\n",
        "df_TV.loc[(df_TV.rating=='TV-Y7'),'rating'] = 0\n",
        "df_TV.loc[(df_TV.rating=='TV-G'),'rating'] = 0\n",
        "df_TV.loc[(df_TV.rating=='NR'),'rating'] = 0\n",
        "df_TV.loc[(df_TV.rating=='TV-Y7-FV'),'rating'] = 0\n",
        "df_TV.loc[(df_TV.rating=='R'),'rating'] = 0\n",
        "\n",
        "# TV-PG, TV-Y, TV-Y7, TV-G, NR, TV-Y7-FV, R = 모든 연령을 뜻하는 '0'\n",
        "# TV-14 = 14세 이상 관람 가능 등급이므로 '14'\n",
        "# TV-MA = 청소년 관람 불가 등급이므로 '19' "
      ],
      "metadata": {
        "id": "8uBgXPf-4xGN"
      },
      "execution_count": 614,
      "outputs": []
    },
    {
      "cell_type": "markdown",
      "source": [
        "> Movie rating_band\n",
        ">> * G : 모든 연령층의 관객들이 볼 수 있는 영화\n",
        "\n",
        ">> * PG : 어린이 청소년들의 시청여부를 판단해야 하는 영화\n",
        "\n",
        ">> * PG-13 : 13세 이상의 청소년들이 볼 수 있는 영화\n",
        "\n",
        ">> * R : 18세 이상의 성인들을 위한 영화\n",
        "\n",
        ">> * TV-14 : 14세 이상의 청소년들을 위한 영화\n",
        "\n",
        ">> * TV-G : 모든 연령층이 볼 수 있는 영화\n",
        "\n",
        ">> * TV-MA : 17세 이하의 어린이나 청소년들에게 맞지 않는 영화\n",
        "\n",
        ">> * TV-PG : 부모가 정확히 내용을 알고 보여주라는 영화\n",
        "\n",
        ">> * TV-Y : 모든 어린이의 시청이 가능한 영화\n",
        "\n",
        ">> * TV-Y7 : 7세 이상의 어린이들을 대상으로 하는 영화\n",
        "\n",
        ">> * NR : 미성년자 관람이 불가한 영화\n",
        "\n",
        ">> * NC-17 : 18세 이상의 성인들을 위한 영화(17세 이하의 청소년들은 시청 불가)\n",
        "\n",
        ">> * TV-Y7-FV : 틴 에이저나 청소년들을 위한 영화\n",
        "\n",
        ">> * UR : 미성년자 관람이 불가한 영화"
      ],
      "metadata": {
        "id": "cK8v0kEM5ySp"
      }
    },
    {
      "cell_type": "code",
      "source": [
        "df_Movie.loc[(df_Movie.rating=='TV-14'),'rating'] = 14\n",
        "df_Movie.loc[(df_Movie.rating=='TV-MA'),'rating'] = 19\n",
        "df_Movie.loc[(df_Movie.rating=='TV-PG'),'rating'] = 0\n",
        "df_Movie.loc[(df_Movie.rating=='TV-Y'),'rating'] = 0\n",
        "df_Movie.loc[(df_Movie.rating=='TV-Y7'),'rating'] = 0\n",
        "df_Movie.loc[(df_Movie.rating=='TV-G'),'rating'] = 0\n",
        "df_Movie.loc[(df_Movie.rating=='NR'),'rating'] = 19\n",
        "df_Movie.loc[(df_Movie.rating=='TV-Y7-FV'),'rating'] = 0\n",
        "df_Movie.loc[(df_Movie.rating=='R'),'rating'] = 19\n",
        "df_Movie.loc[(df_Movie.rating=='G'),'rating'] = 0\n",
        "df_Movie.loc[(df_Movie.rating=='PG'),'rating'] = 14\n",
        "df_Movie.loc[(df_Movie.rating=='PG-13'),'rating'] = 0\n",
        "df_Movie.loc[(df_Movie.rating=='UR'),'rating'] = 19\n",
        "df_Movie.loc[(df_Movie.rating=='NC-17'),'rating'] = 19\n",
        "df_Movie.loc[(df_Movie.rating=='66 min'),'rating'] = 0\n",
        "df_Movie.loc[(df_Movie.rating=='74 min'),'rating'] = 0\n",
        "df_Movie.loc[(df_Movie.rating=='84 min'),'rating'] = 0\n",
        "\n",
        "# TV-PG, TV-Y, TV-Y7, TV-G, TV-Y7-FV, G, PG-13, 66 min, 74 min, 84 min = 모든연령 등급 ='0'\n",
        "# TV-14, PG = 14세 이상 관람 가능 등급이므로 '14'\n",
        "# TV-MA, NR, R, UR, NC-17 = 청소년 관람 불가 등급이므로 '19'"
      ],
      "metadata": {
        "id": "ny1yQEes4--p"
      },
      "execution_count": 615,
      "outputs": []
    },
    {
      "cell_type": "markdown",
      "source": [
        "### duration 수치형으로 변환\n",
        "> TV_Show duration 수치형 변환\n"
      ],
      "metadata": {
        "id": "hX2sJnWrRU7M"
      }
    },
    {
      "cell_type": "code",
      "source": [
        "# duration 종류 확인\n",
        "df_TV_T = df_TV.groupby(['duration']).count()\n",
        "df_TV_T.iloc[:,[2]]"
      ],
      "metadata": {
        "colab": {
          "base_uri": "https://localhost:8080/",
          "height": 551
        },
        "id": "2ivgYS0e6EDC",
        "outputId": "3e88a1c4-83ab-4964-8373-c1d557b85b8b"
      },
      "execution_count": 616,
      "outputs": [
        {
          "output_type": "execute_result",
          "data": {
            "text/plain": [
              "            release_year\n",
              "duration                \n",
              "1 Season            1793\n",
              "10 Seasons             7\n",
              "11 Seasons             2\n",
              "12 Seasons             2\n",
              "13 Seasons             3\n",
              "15 Seasons             2\n",
              "17 Seasons             1\n",
              "2 Seasons            425\n",
              "3 Seasons            199\n",
              "4 Seasons             95\n",
              "5 Seasons             65\n",
              "6 Seasons             33\n",
              "7 Seasons             23\n",
              "8 Seasons             17\n",
              "9 Seasons              9"
            ],
            "text/html": [
              "\n",
              "  <div id=\"df-a6d2f0ec-279b-44b1-86a4-75bada2c05f4\">\n",
              "    <div class=\"colab-df-container\">\n",
              "      <div>\n",
              "<style scoped>\n",
              "    .dataframe tbody tr th:only-of-type {\n",
              "        vertical-align: middle;\n",
              "    }\n",
              "\n",
              "    .dataframe tbody tr th {\n",
              "        vertical-align: top;\n",
              "    }\n",
              "\n",
              "    .dataframe thead th {\n",
              "        text-align: right;\n",
              "    }\n",
              "</style>\n",
              "<table border=\"1\" class=\"dataframe\">\n",
              "  <thead>\n",
              "    <tr style=\"text-align: right;\">\n",
              "      <th></th>\n",
              "      <th>release_year</th>\n",
              "    </tr>\n",
              "    <tr>\n",
              "      <th>duration</th>\n",
              "      <th></th>\n",
              "    </tr>\n",
              "  </thead>\n",
              "  <tbody>\n",
              "    <tr>\n",
              "      <th>1 Season</th>\n",
              "      <td>1793</td>\n",
              "    </tr>\n",
              "    <tr>\n",
              "      <th>10 Seasons</th>\n",
              "      <td>7</td>\n",
              "    </tr>\n",
              "    <tr>\n",
              "      <th>11 Seasons</th>\n",
              "      <td>2</td>\n",
              "    </tr>\n",
              "    <tr>\n",
              "      <th>12 Seasons</th>\n",
              "      <td>2</td>\n",
              "    </tr>\n",
              "    <tr>\n",
              "      <th>13 Seasons</th>\n",
              "      <td>3</td>\n",
              "    </tr>\n",
              "    <tr>\n",
              "      <th>15 Seasons</th>\n",
              "      <td>2</td>\n",
              "    </tr>\n",
              "    <tr>\n",
              "      <th>17 Seasons</th>\n",
              "      <td>1</td>\n",
              "    </tr>\n",
              "    <tr>\n",
              "      <th>2 Seasons</th>\n",
              "      <td>425</td>\n",
              "    </tr>\n",
              "    <tr>\n",
              "      <th>3 Seasons</th>\n",
              "      <td>199</td>\n",
              "    </tr>\n",
              "    <tr>\n",
              "      <th>4 Seasons</th>\n",
              "      <td>95</td>\n",
              "    </tr>\n",
              "    <tr>\n",
              "      <th>5 Seasons</th>\n",
              "      <td>65</td>\n",
              "    </tr>\n",
              "    <tr>\n",
              "      <th>6 Seasons</th>\n",
              "      <td>33</td>\n",
              "    </tr>\n",
              "    <tr>\n",
              "      <th>7 Seasons</th>\n",
              "      <td>23</td>\n",
              "    </tr>\n",
              "    <tr>\n",
              "      <th>8 Seasons</th>\n",
              "      <td>17</td>\n",
              "    </tr>\n",
              "    <tr>\n",
              "      <th>9 Seasons</th>\n",
              "      <td>9</td>\n",
              "    </tr>\n",
              "  </tbody>\n",
              "</table>\n",
              "</div>\n",
              "      <button class=\"colab-df-convert\" onclick=\"convertToInteractive('df-a6d2f0ec-279b-44b1-86a4-75bada2c05f4')\"\n",
              "              title=\"Convert this dataframe to an interactive table.\"\n",
              "              style=\"display:none;\">\n",
              "        \n",
              "  <svg xmlns=\"http://www.w3.org/2000/svg\" height=\"24px\"viewBox=\"0 0 24 24\"\n",
              "       width=\"24px\">\n",
              "    <path d=\"M0 0h24v24H0V0z\" fill=\"none\"/>\n",
              "    <path d=\"M18.56 5.44l.94 2.06.94-2.06 2.06-.94-2.06-.94-.94-2.06-.94 2.06-2.06.94zm-11 1L8.5 8.5l.94-2.06 2.06-.94-2.06-.94L8.5 2.5l-.94 2.06-2.06.94zm10 10l.94 2.06.94-2.06 2.06-.94-2.06-.94-.94-2.06-.94 2.06-2.06.94z\"/><path d=\"M17.41 7.96l-1.37-1.37c-.4-.4-.92-.59-1.43-.59-.52 0-1.04.2-1.43.59L10.3 9.45l-7.72 7.72c-.78.78-.78 2.05 0 2.83L4 21.41c.39.39.9.59 1.41.59.51 0 1.02-.2 1.41-.59l7.78-7.78 2.81-2.81c.8-.78.8-2.07 0-2.86zM5.41 20L4 18.59l7.72-7.72 1.47 1.35L5.41 20z\"/>\n",
              "  </svg>\n",
              "      </button>\n",
              "      \n",
              "  <style>\n",
              "    .colab-df-container {\n",
              "      display:flex;\n",
              "      flex-wrap:wrap;\n",
              "      gap: 12px;\n",
              "    }\n",
              "\n",
              "    .colab-df-convert {\n",
              "      background-color: #E8F0FE;\n",
              "      border: none;\n",
              "      border-radius: 50%;\n",
              "      cursor: pointer;\n",
              "      display: none;\n",
              "      fill: #1967D2;\n",
              "      height: 32px;\n",
              "      padding: 0 0 0 0;\n",
              "      width: 32px;\n",
              "    }\n",
              "\n",
              "    .colab-df-convert:hover {\n",
              "      background-color: #E2EBFA;\n",
              "      box-shadow: 0px 1px 2px rgba(60, 64, 67, 0.3), 0px 1px 3px 1px rgba(60, 64, 67, 0.15);\n",
              "      fill: #174EA6;\n",
              "    }\n",
              "\n",
              "    [theme=dark] .colab-df-convert {\n",
              "      background-color: #3B4455;\n",
              "      fill: #D2E3FC;\n",
              "    }\n",
              "\n",
              "    [theme=dark] .colab-df-convert:hover {\n",
              "      background-color: #434B5C;\n",
              "      box-shadow: 0px 1px 3px 1px rgba(0, 0, 0, 0.15);\n",
              "      filter: drop-shadow(0px 1px 2px rgba(0, 0, 0, 0.3));\n",
              "      fill: #FFFFFF;\n",
              "    }\n",
              "  </style>\n",
              "\n",
              "      <script>\n",
              "        const buttonEl =\n",
              "          document.querySelector('#df-a6d2f0ec-279b-44b1-86a4-75bada2c05f4 button.colab-df-convert');\n",
              "        buttonEl.style.display =\n",
              "          google.colab.kernel.accessAllowed ? 'block' : 'none';\n",
              "\n",
              "        async function convertToInteractive(key) {\n",
              "          const element = document.querySelector('#df-a6d2f0ec-279b-44b1-86a4-75bada2c05f4');\n",
              "          const dataTable =\n",
              "            await google.colab.kernel.invokeFunction('convertToInteractive',\n",
              "                                                     [key], {});\n",
              "          if (!dataTable) return;\n",
              "\n",
              "          const docLinkHtml = 'Like what you see? Visit the ' +\n",
              "            '<a target=\"_blank\" href=https://colab.research.google.com/notebooks/data_table.ipynb>data table notebook</a>'\n",
              "            + ' to learn more about interactive tables.';\n",
              "          element.innerHTML = '';\n",
              "          dataTable['output_type'] = 'display_data';\n",
              "          await google.colab.output.renderOutput(dataTable, element);\n",
              "          const docLink = document.createElement('div');\n",
              "          docLink.innerHTML = docLinkHtml;\n",
              "          element.appendChild(docLink);\n",
              "        }\n",
              "      </script>\n",
              "    </div>\n",
              "  </div>\n",
              "  "
            ]
          },
          "metadata": {},
          "execution_count": 616
        }
      ]
    },
    {
      "cell_type": "code",
      "source": [
        "def category_duration\t(x) :\n",
        "  if x == \"1 Season\":\n",
        "    return 1\n",
        "  elif x == \"2 Seasons\" :\n",
        "    return 2\n",
        "  elif x == \"3 Seasons\" :\n",
        "    return 3\n",
        "  elif x == \"4 Seasons\" :\n",
        "    return 4\n",
        "  elif x == \"5 Seasons\" :\n",
        "    return 5\n",
        "  elif x == \"6 Seasons\" :\n",
        "    return 6 \n",
        "  elif x == \"7 Seasons\" :\n",
        "    return 7\n",
        "  elif x == \"8 Seasons\" :\n",
        "    return 8\n",
        "  elif x == \"9 Seasons\" :\n",
        "    return 9\n",
        "  elif x == \"10 Seasons\" :\n",
        "    return 10\n",
        "  elif x == \"11 Seasons\" :\n",
        "    return 11\n",
        "  elif x == \"12 Seasons\" :\n",
        "    return 12\n",
        "  elif x == \"13 Seasons\" :\n",
        "    return 13\n",
        "  elif x == \"15 Seasons\" :\n",
        "    return 15\n",
        "  elif x == \"17 Seasons\" :\n",
        "    return 17"
      ],
      "metadata": {
        "id": "gn-pu4hERqFo"
      },
      "execution_count": 617,
      "outputs": []
    },
    {
      "cell_type": "code",
      "source": [
        "df_TV['Duration'] = df_TV['duration'].apply(category_duration)\n",
        "df_TV.drop(['duration'],axis=1,inplace=True)"
      ],
      "metadata": {
        "id": "le5MQUFCSHPj"
      },
      "execution_count": 618,
      "outputs": []
    },
    {
      "cell_type": "markdown",
      "source": [
        "> Movie duration 수치형 변환"
      ],
      "metadata": {
        "id": "FrRXWrQoSLvZ"
      }
    },
    {
      "cell_type": "code",
      "source": [
        "# duration 종류 확인\n",
        "#df_Movie_T= df_Movie.groupby(['duration']).count()\n",
        "#df_Movie_T.iloc[:,[2]]\n",
        "\n",
        "df_Movie['Duration_T']= df_Movie['duration'].str.split(\" \",expand=True)[0]\n",
        "df_Movie.drop(['duration'],axis=1,inplace=True)\n",
        "\n",
        "# df_Movie 타입 변경 str -> int\n",
        "df_Movie['Duration_T'] = pd.to_numeric(df_Movie['Duration_T'])"
      ],
      "metadata": {
        "id": "Oa3WsgbDSKHj"
      },
      "execution_count": 619,
      "outputs": []
    },
    {
      "cell_type": "code",
      "source": [
        "def category_runningtime(x):\n",
        "  if 0 <= x <60 :\n",
        "    return 0\n",
        "  elif 60 <= x <120 :\n",
        "    return 1\n",
        "  elif 120 <= x <180 :\n",
        "    return 2\n",
        "  elif 180 <= x <240 :\n",
        "    return 3\n",
        "  elif 240 <= x <300 :\n",
        "    return 4\n",
        "  else :\n",
        "    return 5"
      ],
      "metadata": {
        "id": "ZvDRhsl4SWTA"
      },
      "execution_count": 620,
      "outputs": []
    },
    {
      "cell_type": "code",
      "source": [
        "df_Movie['Duration'] = df_Movie['Duration_T'].apply(category_runningtime)\n",
        "df_Movie.drop(['Duration_T'],axis=1,inplace=True)"
      ],
      "metadata": {
        "id": "Zti3UV_sVH8s"
      },
      "execution_count": 621,
      "outputs": []
    },
    {
      "cell_type": "code",
      "source": [
        "df_TV.fillna(0,inplace=True)\n",
        "df_Movie.fillna(0,inplace=True)"
      ],
      "metadata": {
        "id": "FKdrYYZAp_jr"
      },
      "execution_count": 622,
      "outputs": []
    },
    {
      "cell_type": "code",
      "source": [
        "df_TV"
      ],
      "metadata": {
        "colab": {
          "base_uri": "https://localhost:8080/",
          "height": 1000
        },
        "id": "0tWICehK7Bf_",
        "outputId": "f8eab5fe-52f2-428f-be60-efba2806b488"
      },
      "execution_count": 654,
      "outputs": [
        {
          "output_type": "execute_result",
          "data": {
            "text/plain": [
              "         type                  title  release_year  rating  \\\n",
              "1     TV Show          Blood & Water        2021.0      19   \n",
              "2     TV Show              Ganglands        2021.0      19   \n",
              "3     TV Show  Jailbirds New Orleans        2021.0      19   \n",
              "4     TV Show           Kota Factory        2021.0      19   \n",
              "5     TV Show          Midnight Mass        2021.0      19   \n",
              "...       ...                    ...           ...     ...   \n",
              "8795  TV Show        Yu-Gi-Oh! Arc-V        2015.0       0   \n",
              "8796  TV Show             Yunus Emre        2016.0       0   \n",
              "8797  TV Show              Zak Storm        2016.0       0   \n",
              "8800  TV Show     Zindagi Gulzar Hai        2012.0       0   \n",
              "8803  TV Show            Zombie Dumb        2018.0       0   \n",
              "\n",
              "                                              listed_in  \\\n",
              "1       International TV Shows, TV Dramas, TV Mysteries   \n",
              "2     Crime TV Shows, International TV Shows, TV Act...   \n",
              "3                                Docuseries, Reality TV   \n",
              "4     International TV Shows, Romantic TV Shows, TV ...   \n",
              "5                    TV Dramas, TV Horror, TV Mysteries   \n",
              "...                                                 ...   \n",
              "8795                             Anime Series, Kids' TV   \n",
              "8796                  International TV Shows, TV Dramas   \n",
              "8797                                           Kids' TV   \n",
              "8800  International TV Shows, Romantic TV Shows, TV ...   \n",
              "8803             Kids' TV, Korean TV Shows, TV Comedies   \n",
              "\n",
              "                                            description  Registered year  \\\n",
              "1     After crossing paths at a party, a Cape Town t...           2021.0   \n",
              "2     To protect his family from a powerful drug lor...           2021.0   \n",
              "3     Feuds, flirtations and toilet talk go down amo...           2021.0   \n",
              "4     In a city of coaching centers known to train I...           2021.0   \n",
              "5     The arrival of a charismatic young priest brin...           2021.0   \n",
              "...                                                 ...              ...   \n",
              "8795  Now that he's discovered the Pendulum Summonin...           2018.0   \n",
              "8796  During the Mongol invasions, Yunus Emre leaves...           2017.0   \n",
              "8797  Teen surfer Zak Storm is mysteriously transpor...           2018.0   \n",
              "8800  Strong-willed, middle-class Kashaf and carefre...           2016.0   \n",
              "8803  While living alone in a spooky town, a young g...           2019.0   \n",
              "\n",
              "      Registered month  Registered day  \\\n",
              "1                  9.0            24.0   \n",
              "2                  9.0            24.0   \n",
              "3                  9.0            24.0   \n",
              "4                  9.0            24.0   \n",
              "5                  9.0            24.0   \n",
              "...                ...             ...   \n",
              "8795               5.0             1.0   \n",
              "8796               1.0            17.0   \n",
              "8797               9.0            13.0   \n",
              "8800              12.0            15.0   \n",
              "8803               7.0             1.0   \n",
              "\n",
              "                                                 Horror Romance  \\\n",
              "1                                                     0       0   \n",
              "2                                                     0       0   \n",
              "3                                                     0       0   \n",
              "4                                                     0       0   \n",
              "5                                                     0       0   \n",
              "...                                                 ...     ...   \n",
              "8795                                                  0       0   \n",
              "8796                                                  0       0   \n",
              "8797                                                  0       0   \n",
              "8800  International TV Shows, Romantic TV Shows, TV ...       0   \n",
              "8803                                                  0       0   \n",
              "\n",
              "                                             Thriller  \\\n",
              "1     International TV Shows, TV Dramas, TV Mysteries   \n",
              "2                                                   0   \n",
              "3                                                   0   \n",
              "4                                                   0   \n",
              "5                  TV Dramas, TV Horror, TV Mysteries   \n",
              "...                                               ...   \n",
              "8795                           Anime Series, Kids' TV   \n",
              "8796                International TV Shows, TV Dramas   \n",
              "8797                                         Kids' TV   \n",
              "8800                                                0   \n",
              "8803                                                0   \n",
              "\n",
              "                                      SF  Continent  Duration  \n",
              "1                                      0          0         2  \n",
              "2                                      0          1         1  \n",
              "3                                      0          1         1  \n",
              "4                                      0          2         2  \n",
              "5     TV Dramas, TV Horror, TV Mysteries          1         1  \n",
              "...                                  ...        ...       ...  \n",
              "8795                                   0          4         2  \n",
              "8796                                   0          2         2  \n",
              "8797                            Kids' TV          4         3  \n",
              "8800                                   0          2         1  \n",
              "8803                                   0          4         2  \n",
              "\n",
              "[2676 rows x 15 columns]"
            ],
            "text/html": [
              "\n",
              "  <div id=\"df-ab27290f-c0b7-41e0-aad4-134c8e632484\">\n",
              "    <div class=\"colab-df-container\">\n",
              "      <div>\n",
              "<style scoped>\n",
              "    .dataframe tbody tr th:only-of-type {\n",
              "        vertical-align: middle;\n",
              "    }\n",
              "\n",
              "    .dataframe tbody tr th {\n",
              "        vertical-align: top;\n",
              "    }\n",
              "\n",
              "    .dataframe thead th {\n",
              "        text-align: right;\n",
              "    }\n",
              "</style>\n",
              "<table border=\"1\" class=\"dataframe\">\n",
              "  <thead>\n",
              "    <tr style=\"text-align: right;\">\n",
              "      <th></th>\n",
              "      <th>type</th>\n",
              "      <th>title</th>\n",
              "      <th>release_year</th>\n",
              "      <th>rating</th>\n",
              "      <th>listed_in</th>\n",
              "      <th>description</th>\n",
              "      <th>Registered year</th>\n",
              "      <th>Registered month</th>\n",
              "      <th>Registered day</th>\n",
              "      <th>Horror</th>\n",
              "      <th>Romance</th>\n",
              "      <th>Thriller</th>\n",
              "      <th>SF</th>\n",
              "      <th>Continent</th>\n",
              "      <th>Duration</th>\n",
              "    </tr>\n",
              "  </thead>\n",
              "  <tbody>\n",
              "    <tr>\n",
              "      <th>1</th>\n",
              "      <td>TV Show</td>\n",
              "      <td>Blood &amp; Water</td>\n",
              "      <td>2021.0</td>\n",
              "      <td>19</td>\n",
              "      <td>International TV Shows, TV Dramas, TV Mysteries</td>\n",
              "      <td>After crossing paths at a party, a Cape Town t...</td>\n",
              "      <td>2021.0</td>\n",
              "      <td>9.0</td>\n",
              "      <td>24.0</td>\n",
              "      <td>0</td>\n",
              "      <td>0</td>\n",
              "      <td>International TV Shows, TV Dramas, TV Mysteries</td>\n",
              "      <td>0</td>\n",
              "      <td>0</td>\n",
              "      <td>2</td>\n",
              "    </tr>\n",
              "    <tr>\n",
              "      <th>2</th>\n",
              "      <td>TV Show</td>\n",
              "      <td>Ganglands</td>\n",
              "      <td>2021.0</td>\n",
              "      <td>19</td>\n",
              "      <td>Crime TV Shows, International TV Shows, TV Act...</td>\n",
              "      <td>To protect his family from a powerful drug lor...</td>\n",
              "      <td>2021.0</td>\n",
              "      <td>9.0</td>\n",
              "      <td>24.0</td>\n",
              "      <td>0</td>\n",
              "      <td>0</td>\n",
              "      <td>0</td>\n",
              "      <td>0</td>\n",
              "      <td>1</td>\n",
              "      <td>1</td>\n",
              "    </tr>\n",
              "    <tr>\n",
              "      <th>3</th>\n",
              "      <td>TV Show</td>\n",
              "      <td>Jailbirds New Orleans</td>\n",
              "      <td>2021.0</td>\n",
              "      <td>19</td>\n",
              "      <td>Docuseries, Reality TV</td>\n",
              "      <td>Feuds, flirtations and toilet talk go down amo...</td>\n",
              "      <td>2021.0</td>\n",
              "      <td>9.0</td>\n",
              "      <td>24.0</td>\n",
              "      <td>0</td>\n",
              "      <td>0</td>\n",
              "      <td>0</td>\n",
              "      <td>0</td>\n",
              "      <td>1</td>\n",
              "      <td>1</td>\n",
              "    </tr>\n",
              "    <tr>\n",
              "      <th>4</th>\n",
              "      <td>TV Show</td>\n",
              "      <td>Kota Factory</td>\n",
              "      <td>2021.0</td>\n",
              "      <td>19</td>\n",
              "      <td>International TV Shows, Romantic TV Shows, TV ...</td>\n",
              "      <td>In a city of coaching centers known to train I...</td>\n",
              "      <td>2021.0</td>\n",
              "      <td>9.0</td>\n",
              "      <td>24.0</td>\n",
              "      <td>0</td>\n",
              "      <td>0</td>\n",
              "      <td>0</td>\n",
              "      <td>0</td>\n",
              "      <td>2</td>\n",
              "      <td>2</td>\n",
              "    </tr>\n",
              "    <tr>\n",
              "      <th>5</th>\n",
              "      <td>TV Show</td>\n",
              "      <td>Midnight Mass</td>\n",
              "      <td>2021.0</td>\n",
              "      <td>19</td>\n",
              "      <td>TV Dramas, TV Horror, TV Mysteries</td>\n",
              "      <td>The arrival of a charismatic young priest brin...</td>\n",
              "      <td>2021.0</td>\n",
              "      <td>9.0</td>\n",
              "      <td>24.0</td>\n",
              "      <td>0</td>\n",
              "      <td>0</td>\n",
              "      <td>TV Dramas, TV Horror, TV Mysteries</td>\n",
              "      <td>TV Dramas, TV Horror, TV Mysteries</td>\n",
              "      <td>1</td>\n",
              "      <td>1</td>\n",
              "    </tr>\n",
              "    <tr>\n",
              "      <th>...</th>\n",
              "      <td>...</td>\n",
              "      <td>...</td>\n",
              "      <td>...</td>\n",
              "      <td>...</td>\n",
              "      <td>...</td>\n",
              "      <td>...</td>\n",
              "      <td>...</td>\n",
              "      <td>...</td>\n",
              "      <td>...</td>\n",
              "      <td>...</td>\n",
              "      <td>...</td>\n",
              "      <td>...</td>\n",
              "      <td>...</td>\n",
              "      <td>...</td>\n",
              "      <td>...</td>\n",
              "    </tr>\n",
              "    <tr>\n",
              "      <th>8795</th>\n",
              "      <td>TV Show</td>\n",
              "      <td>Yu-Gi-Oh! Arc-V</td>\n",
              "      <td>2015.0</td>\n",
              "      <td>0</td>\n",
              "      <td>Anime Series, Kids' TV</td>\n",
              "      <td>Now that he's discovered the Pendulum Summonin...</td>\n",
              "      <td>2018.0</td>\n",
              "      <td>5.0</td>\n",
              "      <td>1.0</td>\n",
              "      <td>0</td>\n",
              "      <td>0</td>\n",
              "      <td>Anime Series, Kids' TV</td>\n",
              "      <td>0</td>\n",
              "      <td>4</td>\n",
              "      <td>2</td>\n",
              "    </tr>\n",
              "    <tr>\n",
              "      <th>8796</th>\n",
              "      <td>TV Show</td>\n",
              "      <td>Yunus Emre</td>\n",
              "      <td>2016.0</td>\n",
              "      <td>0</td>\n",
              "      <td>International TV Shows, TV Dramas</td>\n",
              "      <td>During the Mongol invasions, Yunus Emre leaves...</td>\n",
              "      <td>2017.0</td>\n",
              "      <td>1.0</td>\n",
              "      <td>17.0</td>\n",
              "      <td>0</td>\n",
              "      <td>0</td>\n",
              "      <td>International TV Shows, TV Dramas</td>\n",
              "      <td>0</td>\n",
              "      <td>2</td>\n",
              "      <td>2</td>\n",
              "    </tr>\n",
              "    <tr>\n",
              "      <th>8797</th>\n",
              "      <td>TV Show</td>\n",
              "      <td>Zak Storm</td>\n",
              "      <td>2016.0</td>\n",
              "      <td>0</td>\n",
              "      <td>Kids' TV</td>\n",
              "      <td>Teen surfer Zak Storm is mysteriously transpor...</td>\n",
              "      <td>2018.0</td>\n",
              "      <td>9.0</td>\n",
              "      <td>13.0</td>\n",
              "      <td>0</td>\n",
              "      <td>0</td>\n",
              "      <td>Kids' TV</td>\n",
              "      <td>Kids' TV</td>\n",
              "      <td>4</td>\n",
              "      <td>3</td>\n",
              "    </tr>\n",
              "    <tr>\n",
              "      <th>8800</th>\n",
              "      <td>TV Show</td>\n",
              "      <td>Zindagi Gulzar Hai</td>\n",
              "      <td>2012.0</td>\n",
              "      <td>0</td>\n",
              "      <td>International TV Shows, Romantic TV Shows, TV ...</td>\n",
              "      <td>Strong-willed, middle-class Kashaf and carefre...</td>\n",
              "      <td>2016.0</td>\n",
              "      <td>12.0</td>\n",
              "      <td>15.0</td>\n",
              "      <td>International TV Shows, Romantic TV Shows, TV ...</td>\n",
              "      <td>0</td>\n",
              "      <td>0</td>\n",
              "      <td>0</td>\n",
              "      <td>2</td>\n",
              "      <td>1</td>\n",
              "    </tr>\n",
              "    <tr>\n",
              "      <th>8803</th>\n",
              "      <td>TV Show</td>\n",
              "      <td>Zombie Dumb</td>\n",
              "      <td>2018.0</td>\n",
              "      <td>0</td>\n",
              "      <td>Kids' TV, Korean TV Shows, TV Comedies</td>\n",
              "      <td>While living alone in a spooky town, a young g...</td>\n",
              "      <td>2019.0</td>\n",
              "      <td>7.0</td>\n",
              "      <td>1.0</td>\n",
              "      <td>0</td>\n",
              "      <td>0</td>\n",
              "      <td>0</td>\n",
              "      <td>0</td>\n",
              "      <td>4</td>\n",
              "      <td>2</td>\n",
              "    </tr>\n",
              "  </tbody>\n",
              "</table>\n",
              "<p>2676 rows × 15 columns</p>\n",
              "</div>\n",
              "      <button class=\"colab-df-convert\" onclick=\"convertToInteractive('df-ab27290f-c0b7-41e0-aad4-134c8e632484')\"\n",
              "              title=\"Convert this dataframe to an interactive table.\"\n",
              "              style=\"display:none;\">\n",
              "        \n",
              "  <svg xmlns=\"http://www.w3.org/2000/svg\" height=\"24px\"viewBox=\"0 0 24 24\"\n",
              "       width=\"24px\">\n",
              "    <path d=\"M0 0h24v24H0V0z\" fill=\"none\"/>\n",
              "    <path d=\"M18.56 5.44l.94 2.06.94-2.06 2.06-.94-2.06-.94-.94-2.06-.94 2.06-2.06.94zm-11 1L8.5 8.5l.94-2.06 2.06-.94-2.06-.94L8.5 2.5l-.94 2.06-2.06.94zm10 10l.94 2.06.94-2.06 2.06-.94-2.06-.94-.94-2.06-.94 2.06-2.06.94z\"/><path d=\"M17.41 7.96l-1.37-1.37c-.4-.4-.92-.59-1.43-.59-.52 0-1.04.2-1.43.59L10.3 9.45l-7.72 7.72c-.78.78-.78 2.05 0 2.83L4 21.41c.39.39.9.59 1.41.59.51 0 1.02-.2 1.41-.59l7.78-7.78 2.81-2.81c.8-.78.8-2.07 0-2.86zM5.41 20L4 18.59l7.72-7.72 1.47 1.35L5.41 20z\"/>\n",
              "  </svg>\n",
              "      </button>\n",
              "      \n",
              "  <style>\n",
              "    .colab-df-container {\n",
              "      display:flex;\n",
              "      flex-wrap:wrap;\n",
              "      gap: 12px;\n",
              "    }\n",
              "\n",
              "    .colab-df-convert {\n",
              "      background-color: #E8F0FE;\n",
              "      border: none;\n",
              "      border-radius: 50%;\n",
              "      cursor: pointer;\n",
              "      display: none;\n",
              "      fill: #1967D2;\n",
              "      height: 32px;\n",
              "      padding: 0 0 0 0;\n",
              "      width: 32px;\n",
              "    }\n",
              "\n",
              "    .colab-df-convert:hover {\n",
              "      background-color: #E2EBFA;\n",
              "      box-shadow: 0px 1px 2px rgba(60, 64, 67, 0.3), 0px 1px 3px 1px rgba(60, 64, 67, 0.15);\n",
              "      fill: #174EA6;\n",
              "    }\n",
              "\n",
              "    [theme=dark] .colab-df-convert {\n",
              "      background-color: #3B4455;\n",
              "      fill: #D2E3FC;\n",
              "    }\n",
              "\n",
              "    [theme=dark] .colab-df-convert:hover {\n",
              "      background-color: #434B5C;\n",
              "      box-shadow: 0px 1px 3px 1px rgba(0, 0, 0, 0.15);\n",
              "      filter: drop-shadow(0px 1px 2px rgba(0, 0, 0, 0.3));\n",
              "      fill: #FFFFFF;\n",
              "    }\n",
              "  </style>\n",
              "\n",
              "      <script>\n",
              "        const buttonEl =\n",
              "          document.querySelector('#df-ab27290f-c0b7-41e0-aad4-134c8e632484 button.colab-df-convert');\n",
              "        buttonEl.style.display =\n",
              "          google.colab.kernel.accessAllowed ? 'block' : 'none';\n",
              "\n",
              "        async function convertToInteractive(key) {\n",
              "          const element = document.querySelector('#df-ab27290f-c0b7-41e0-aad4-134c8e632484');\n",
              "          const dataTable =\n",
              "            await google.colab.kernel.invokeFunction('convertToInteractive',\n",
              "                                                     [key], {});\n",
              "          if (!dataTable) return;\n",
              "\n",
              "          const docLinkHtml = 'Like what you see? Visit the ' +\n",
              "            '<a target=\"_blank\" href=https://colab.research.google.com/notebooks/data_table.ipynb>data table notebook</a>'\n",
              "            + ' to learn more about interactive tables.';\n",
              "          element.innerHTML = '';\n",
              "          dataTable['output_type'] = 'display_data';\n",
              "          await google.colab.output.renderOutput(dataTable, element);\n",
              "          const docLink = document.createElement('div');\n",
              "          docLink.innerHTML = docLinkHtml;\n",
              "          element.appendChild(docLink);\n",
              "        }\n",
              "      </script>\n",
              "    </div>\n",
              "  </div>\n",
              "  "
            ]
          },
          "metadata": {},
          "execution_count": 654
        }
      ]
    },
    {
      "cell_type": "markdown",
      "source": [
        "# Data Visualization"
      ],
      "metadata": {
        "id": "daTQvsR9lofx"
      }
    },
    {
      "cell_type": "code",
      "source": [
        "P = df.groupby(['type']).size().reset_index(name='counts')\n",
        "pieChart = px.pie(P, values='counts', names='type',\n",
        "title='Distribution of Content Type on Netflix')\n",
        "pieChart.show()"
      ],
      "metadata": {
        "colab": {
          "base_uri": "https://localhost:8080/",
          "height": 542
        },
        "id": "kKkyhihXrLxt",
        "outputId": "2a579a62-9ebe-4389-e9f3-39278132fb77"
      },
      "execution_count": 623,
      "outputs": [
        {
          "output_type": "display_data",
          "data": {
            "text/html": [
              "<html>\n",
              "<head><meta charset=\"utf-8\" /></head>\n",
              "<body>\n",
              "    <div>            <script src=\"https://cdnjs.cloudflare.com/ajax/libs/mathjax/2.7.5/MathJax.js?config=TeX-AMS-MML_SVG\"></script><script type=\"text/javascript\">if (window.MathJax) {MathJax.Hub.Config({SVG: {font: \"STIX-Web\"}});}</script>                <script type=\"text/javascript\">window.PlotlyConfig = {MathJaxConfig: 'local'};</script>\n",
              "        <script src=\"https://cdn.plot.ly/plotly-2.8.3.min.js\"></script>                <div id=\"20150372-70d8-4a61-b834-3df6dc33246d\" class=\"plotly-graph-div\" style=\"height:525px; width:100%;\"></div>            <script type=\"text/javascript\">                                    window.PLOTLYENV=window.PLOTLYENV || {};                                    if (document.getElementById(\"20150372-70d8-4a61-b834-3df6dc33246d\")) {                    Plotly.newPlot(                        \"20150372-70d8-4a61-b834-3df6dc33246d\",                        [{\"domain\":{\"x\":[0.0,1.0],\"y\":[0.0,1.0]},\"hovertemplate\":\"type=%{label}<br>counts=%{value}<extra></extra>\",\"labels\":[\"Movie\",\"TV Show\"],\"legendgroup\":\"\",\"name\":\"\",\"showlegend\":true,\"values\":[6131,2676],\"type\":\"pie\"}],                        {\"template\":{\"data\":{\"bar\":[{\"error_x\":{\"color\":\"#2a3f5f\"},\"error_y\":{\"color\":\"#2a3f5f\"},\"marker\":{\"line\":{\"color\":\"#E5ECF6\",\"width\":0.5},\"pattern\":{\"fillmode\":\"overlay\",\"size\":10,\"solidity\":0.2}},\"type\":\"bar\"}],\"barpolar\":[{\"marker\":{\"line\":{\"color\":\"#E5ECF6\",\"width\":0.5},\"pattern\":{\"fillmode\":\"overlay\",\"size\":10,\"solidity\":0.2}},\"type\":\"barpolar\"}],\"carpet\":[{\"aaxis\":{\"endlinecolor\":\"#2a3f5f\",\"gridcolor\":\"white\",\"linecolor\":\"white\",\"minorgridcolor\":\"white\",\"startlinecolor\":\"#2a3f5f\"},\"baxis\":{\"endlinecolor\":\"#2a3f5f\",\"gridcolor\":\"white\",\"linecolor\":\"white\",\"minorgridcolor\":\"white\",\"startlinecolor\":\"#2a3f5f\"},\"type\":\"carpet\"}],\"choropleth\":[{\"colorbar\":{\"outlinewidth\":0,\"ticks\":\"\"},\"type\":\"choropleth\"}],\"contour\":[{\"colorbar\":{\"outlinewidth\":0,\"ticks\":\"\"},\"colorscale\":[[0.0,\"#0d0887\"],[0.1111111111111111,\"#46039f\"],[0.2222222222222222,\"#7201a8\"],[0.3333333333333333,\"#9c179e\"],[0.4444444444444444,\"#bd3786\"],[0.5555555555555556,\"#d8576b\"],[0.6666666666666666,\"#ed7953\"],[0.7777777777777778,\"#fb9f3a\"],[0.8888888888888888,\"#fdca26\"],[1.0,\"#f0f921\"]],\"type\":\"contour\"}],\"contourcarpet\":[{\"colorbar\":{\"outlinewidth\":0,\"ticks\":\"\"},\"type\":\"contourcarpet\"}],\"heatmap\":[{\"colorbar\":{\"outlinewidth\":0,\"ticks\":\"\"},\"colorscale\":[[0.0,\"#0d0887\"],[0.1111111111111111,\"#46039f\"],[0.2222222222222222,\"#7201a8\"],[0.3333333333333333,\"#9c179e\"],[0.4444444444444444,\"#bd3786\"],[0.5555555555555556,\"#d8576b\"],[0.6666666666666666,\"#ed7953\"],[0.7777777777777778,\"#fb9f3a\"],[0.8888888888888888,\"#fdca26\"],[1.0,\"#f0f921\"]],\"type\":\"heatmap\"}],\"heatmapgl\":[{\"colorbar\":{\"outlinewidth\":0,\"ticks\":\"\"},\"colorscale\":[[0.0,\"#0d0887\"],[0.1111111111111111,\"#46039f\"],[0.2222222222222222,\"#7201a8\"],[0.3333333333333333,\"#9c179e\"],[0.4444444444444444,\"#bd3786\"],[0.5555555555555556,\"#d8576b\"],[0.6666666666666666,\"#ed7953\"],[0.7777777777777778,\"#fb9f3a\"],[0.8888888888888888,\"#fdca26\"],[1.0,\"#f0f921\"]],\"type\":\"heatmapgl\"}],\"histogram\":[{\"marker\":{\"pattern\":{\"fillmode\":\"overlay\",\"size\":10,\"solidity\":0.2}},\"type\":\"histogram\"}],\"histogram2d\":[{\"colorbar\":{\"outlinewidth\":0,\"ticks\":\"\"},\"colorscale\":[[0.0,\"#0d0887\"],[0.1111111111111111,\"#46039f\"],[0.2222222222222222,\"#7201a8\"],[0.3333333333333333,\"#9c179e\"],[0.4444444444444444,\"#bd3786\"],[0.5555555555555556,\"#d8576b\"],[0.6666666666666666,\"#ed7953\"],[0.7777777777777778,\"#fb9f3a\"],[0.8888888888888888,\"#fdca26\"],[1.0,\"#f0f921\"]],\"type\":\"histogram2d\"}],\"histogram2dcontour\":[{\"colorbar\":{\"outlinewidth\":0,\"ticks\":\"\"},\"colorscale\":[[0.0,\"#0d0887\"],[0.1111111111111111,\"#46039f\"],[0.2222222222222222,\"#7201a8\"],[0.3333333333333333,\"#9c179e\"],[0.4444444444444444,\"#bd3786\"],[0.5555555555555556,\"#d8576b\"],[0.6666666666666666,\"#ed7953\"],[0.7777777777777778,\"#fb9f3a\"],[0.8888888888888888,\"#fdca26\"],[1.0,\"#f0f921\"]],\"type\":\"histogram2dcontour\"}],\"mesh3d\":[{\"colorbar\":{\"outlinewidth\":0,\"ticks\":\"\"},\"type\":\"mesh3d\"}],\"parcoords\":[{\"line\":{\"colorbar\":{\"outlinewidth\":0,\"ticks\":\"\"}},\"type\":\"parcoords\"}],\"pie\":[{\"automargin\":true,\"type\":\"pie\"}],\"scatter\":[{\"marker\":{\"colorbar\":{\"outlinewidth\":0,\"ticks\":\"\"}},\"type\":\"scatter\"}],\"scatter3d\":[{\"line\":{\"colorbar\":{\"outlinewidth\":0,\"ticks\":\"\"}},\"marker\":{\"colorbar\":{\"outlinewidth\":0,\"ticks\":\"\"}},\"type\":\"scatter3d\"}],\"scattercarpet\":[{\"marker\":{\"colorbar\":{\"outlinewidth\":0,\"ticks\":\"\"}},\"type\":\"scattercarpet\"}],\"scattergeo\":[{\"marker\":{\"colorbar\":{\"outlinewidth\":0,\"ticks\":\"\"}},\"type\":\"scattergeo\"}],\"scattergl\":[{\"marker\":{\"colorbar\":{\"outlinewidth\":0,\"ticks\":\"\"}},\"type\":\"scattergl\"}],\"scattermapbox\":[{\"marker\":{\"colorbar\":{\"outlinewidth\":0,\"ticks\":\"\"}},\"type\":\"scattermapbox\"}],\"scatterpolar\":[{\"marker\":{\"colorbar\":{\"outlinewidth\":0,\"ticks\":\"\"}},\"type\":\"scatterpolar\"}],\"scatterpolargl\":[{\"marker\":{\"colorbar\":{\"outlinewidth\":0,\"ticks\":\"\"}},\"type\":\"scatterpolargl\"}],\"scatterternary\":[{\"marker\":{\"colorbar\":{\"outlinewidth\":0,\"ticks\":\"\"}},\"type\":\"scatterternary\"}],\"surface\":[{\"colorbar\":{\"outlinewidth\":0,\"ticks\":\"\"},\"colorscale\":[[0.0,\"#0d0887\"],[0.1111111111111111,\"#46039f\"],[0.2222222222222222,\"#7201a8\"],[0.3333333333333333,\"#9c179e\"],[0.4444444444444444,\"#bd3786\"],[0.5555555555555556,\"#d8576b\"],[0.6666666666666666,\"#ed7953\"],[0.7777777777777778,\"#fb9f3a\"],[0.8888888888888888,\"#fdca26\"],[1.0,\"#f0f921\"]],\"type\":\"surface\"}],\"table\":[{\"cells\":{\"fill\":{\"color\":\"#EBF0F8\"},\"line\":{\"color\":\"white\"}},\"header\":{\"fill\":{\"color\":\"#C8D4E3\"},\"line\":{\"color\":\"white\"}},\"type\":\"table\"}]},\"layout\":{\"annotationdefaults\":{\"arrowcolor\":\"#2a3f5f\",\"arrowhead\":0,\"arrowwidth\":1},\"autotypenumbers\":\"strict\",\"coloraxis\":{\"colorbar\":{\"outlinewidth\":0,\"ticks\":\"\"}},\"colorscale\":{\"diverging\":[[0,\"#8e0152\"],[0.1,\"#c51b7d\"],[0.2,\"#de77ae\"],[0.3,\"#f1b6da\"],[0.4,\"#fde0ef\"],[0.5,\"#f7f7f7\"],[0.6,\"#e6f5d0\"],[0.7,\"#b8e186\"],[0.8,\"#7fbc41\"],[0.9,\"#4d9221\"],[1,\"#276419\"]],\"sequential\":[[0.0,\"#0d0887\"],[0.1111111111111111,\"#46039f\"],[0.2222222222222222,\"#7201a8\"],[0.3333333333333333,\"#9c179e\"],[0.4444444444444444,\"#bd3786\"],[0.5555555555555556,\"#d8576b\"],[0.6666666666666666,\"#ed7953\"],[0.7777777777777778,\"#fb9f3a\"],[0.8888888888888888,\"#fdca26\"],[1.0,\"#f0f921\"]],\"sequentialminus\":[[0.0,\"#0d0887\"],[0.1111111111111111,\"#46039f\"],[0.2222222222222222,\"#7201a8\"],[0.3333333333333333,\"#9c179e\"],[0.4444444444444444,\"#bd3786\"],[0.5555555555555556,\"#d8576b\"],[0.6666666666666666,\"#ed7953\"],[0.7777777777777778,\"#fb9f3a\"],[0.8888888888888888,\"#fdca26\"],[1.0,\"#f0f921\"]]},\"colorway\":[\"#636efa\",\"#EF553B\",\"#00cc96\",\"#ab63fa\",\"#FFA15A\",\"#19d3f3\",\"#FF6692\",\"#B6E880\",\"#FF97FF\",\"#FECB52\"],\"font\":{\"color\":\"#2a3f5f\"},\"geo\":{\"bgcolor\":\"white\",\"lakecolor\":\"white\",\"landcolor\":\"#E5ECF6\",\"showlakes\":true,\"showland\":true,\"subunitcolor\":\"white\"},\"hoverlabel\":{\"align\":\"left\"},\"hovermode\":\"closest\",\"mapbox\":{\"style\":\"light\"},\"paper_bgcolor\":\"white\",\"plot_bgcolor\":\"#E5ECF6\",\"polar\":{\"angularaxis\":{\"gridcolor\":\"white\",\"linecolor\":\"white\",\"ticks\":\"\"},\"bgcolor\":\"#E5ECF6\",\"radialaxis\":{\"gridcolor\":\"white\",\"linecolor\":\"white\",\"ticks\":\"\"}},\"scene\":{\"xaxis\":{\"backgroundcolor\":\"#E5ECF6\",\"gridcolor\":\"white\",\"gridwidth\":2,\"linecolor\":\"white\",\"showbackground\":true,\"ticks\":\"\",\"zerolinecolor\":\"white\"},\"yaxis\":{\"backgroundcolor\":\"#E5ECF6\",\"gridcolor\":\"white\",\"gridwidth\":2,\"linecolor\":\"white\",\"showbackground\":true,\"ticks\":\"\",\"zerolinecolor\":\"white\"},\"zaxis\":{\"backgroundcolor\":\"#E5ECF6\",\"gridcolor\":\"white\",\"gridwidth\":2,\"linecolor\":\"white\",\"showbackground\":true,\"ticks\":\"\",\"zerolinecolor\":\"white\"}},\"shapedefaults\":{\"line\":{\"color\":\"#2a3f5f\"}},\"ternary\":{\"aaxis\":{\"gridcolor\":\"white\",\"linecolor\":\"white\",\"ticks\":\"\"},\"baxis\":{\"gridcolor\":\"white\",\"linecolor\":\"white\",\"ticks\":\"\"},\"bgcolor\":\"#E5ECF6\",\"caxis\":{\"gridcolor\":\"white\",\"linecolor\":\"white\",\"ticks\":\"\"}},\"title\":{\"x\":0.05},\"xaxis\":{\"automargin\":true,\"gridcolor\":\"white\",\"linecolor\":\"white\",\"ticks\":\"\",\"title\":{\"standoff\":15},\"zerolinecolor\":\"white\",\"zerolinewidth\":2},\"yaxis\":{\"automargin\":true,\"gridcolor\":\"white\",\"linecolor\":\"white\",\"ticks\":\"\",\"title\":{\"standoff\":15},\"zerolinecolor\":\"white\",\"zerolinewidth\":2}}},\"legend\":{\"tracegroupgap\":0},\"title\":{\"text\":\"Distribution of Content Type on Netflix\"}},                        {\"responsive\": true}                    ).then(function(){\n",
              "                            \n",
              "var gd = document.getElementById('20150372-70d8-4a61-b834-3df6dc33246d');\n",
              "var x = new MutationObserver(function (mutations, observer) {{\n",
              "        var display = window.getComputedStyle(gd).display;\n",
              "        if (!display || display === 'none') {{\n",
              "            console.log([gd, 'removed!']);\n",
              "            Plotly.purge(gd);\n",
              "            observer.disconnect();\n",
              "        }}\n",
              "}});\n",
              "\n",
              "// Listen for the removal of the full notebook cells\n",
              "var notebookContainer = gd.closest('#notebook-container');\n",
              "if (notebookContainer) {{\n",
              "    x.observe(notebookContainer, {childList: true});\n",
              "}}\n",
              "\n",
              "// Listen for the clearing of the current output cell\n",
              "var outputEl = gd.closest('.output');\n",
              "if (outputEl) {{\n",
              "    x.observe(outputEl, {childList: true});\n",
              "}}\n",
              "\n",
              "                        })                };                            </script>        </div>\n",
              "</body>\n",
              "</html>"
            ]
          },
          "metadata": {}
        }
      ]
    },
    {
      "cell_type": "code",
      "source": [
        "re_year = df.loc[df['release_year']>2005,['release_year']].astype('int')\n",
        "as_year = df.loc[df['Registered year']>2005,['Registered year']].astype('int')"
      ],
      "metadata": {
        "id": "76TV-ehZtvhj"
      },
      "execution_count": 624,
      "outputs": []
    },
    {
      "cell_type": "code",
      "source": [
        "fig,ax = plt.subplots(1,2)\n",
        "\n",
        "re_year.groupby('release_year')['release_year'].count().plot(kind='line',figsize=(20,8),ax=ax[0])\n",
        "as_year.groupby('Registered year')['Registered year'].count().plot(kind='line',figsize=(20,8), title='Release year(RED) VS Registered year(BLUE)',ax=ax[0])\n",
        "\n",
        "\n",
        "last_years = data[[\"type\",\"release_year\"]]\n",
        "last_years=last_years[last_years[\"release_year\"] >= 2012]\n",
        "sns.countplot(x=\"release_year\", data=last_years, hue=\"type\", palette=\"viridis\",ax=ax[1])"
      ],
      "metadata": {
        "colab": {
          "base_uri": "https://localhost:8080/",
          "height": 532
        },
        "id": "53yrT0ZDuSa0",
        "outputId": "19e260a0-3f69-4ad9-c094-147c2191fc50"
      },
      "execution_count": 625,
      "outputs": [
        {
          "output_type": "execute_result",
          "data": {
            "text/plain": [
              "<matplotlib.axes._subplots.AxesSubplot at 0x7f8eb4665450>"
            ]
          },
          "metadata": {},
          "execution_count": 625
        },
        {
          "output_type": "display_data",
          "data": {
            "text/plain": [
              "<Figure size 1440x576 with 2 Axes>"
            ],
            "image/png": "[encoded data removed]"
          },
          "metadata": {
            "needs_background": "light"
          }
        }
      ]
    },
    {
      "cell_type": "markdown",
      "source": [
        "## TV Show -feature"
      ],
      "metadata": {
        "id": "VMgtKU3pzv0Y"
      }
    },
    {
      "cell_type": "code",
      "source": [
        "plt.figure(figsize=(12,10))\n",
        "sns.distplot(df_TV['Duration'])"
      ],
      "metadata": {
        "colab": {
          "base_uri": "https://localhost:8080/",
          "height": 624
        },
        "id": "JdYHUow5zr65",
        "outputId": "93934a9e-1f0c-45df-aa05-5866718acc4b"
      },
      "execution_count": 626,
      "outputs": [
        {
          "output_type": "execute_result",
          "data": {
            "text/plain": [
              "<matplotlib.axes._subplots.AxesSubplot at 0x7f8eb30a4510>"
            ]
          },
          "metadata": {},
          "execution_count": 626
        },
        {
          "output_type": "display_data",
          "data": {
            "text/plain": [
              "<Figure size 864x720 with 1 Axes>"
            ],
            "image/png": "[encoded data removed]"
          },
          "metadata": {
            "needs_background": "light"
          }
        }
      ]
    },
    {
      "cell_type": "markdown",
      "source": [
        "#### * Continent vs Rating"
      ],
      "metadata": {
        "id": "9TJ8ltNbzUNI"
      }
    },
    {
      "cell_type": "code",
      "source": [
        "df1=df_TV[['rating','Continent']]\n",
        "df1=df1.rename(columns={\"Continent\": \"Continent\"})\n",
        "df2=df1.groupby(['Continent','rating']).size().reset_index(name='count')\n",
        "fig3 = px.line(df2, x=\"Continent\", y=\"count\", color='rating',title='Trend of TV_Show rating produced over the continent on Netflix')\n",
        "fig3.show()"
      ],
      "metadata": {
        "colab": {
          "base_uri": "https://localhost:8080/",
          "height": 542
        },
        "id": "SV4sCcyRuVtR",
        "outputId": "47d3b836-ef3c-411e-98f0-e8125f2c071b"
      },
      "execution_count": 627,
      "outputs": [
        {
          "output_type": "display_data",
          "data": {
            "text/html": [
              "<html>\n",
              "<head><meta charset=\"utf-8\" /></head>\n",
              "<body>\n",
              "    <div>            <script src=\"https://cdnjs.cloudflare.com/ajax/libs/mathjax/2.7.5/MathJax.js?config=TeX-AMS-MML_SVG\"></script><script type=\"text/javascript\">if (window.MathJax) {MathJax.Hub.Config({SVG: {font: \"STIX-Web\"}});}</script>                <script type=\"text/javascript\">window.PlotlyConfig = {MathJaxConfig: 'local'};</script>\n",
              "        <script src=\"https://cdn.plot.ly/plotly-2.8.3.min.js\"></script>                <div id=\"816597c1-da42-48d3-9c1d-42d433fb4857\" class=\"plotly-graph-div\" style=\"height:525px; width:100%;\"></div>            <script type=\"text/javascript\">                                    window.PLOTLYENV=window.PLOTLYENV || {};                                    if (document.getElementById(\"816597c1-da42-48d3-9c1d-42d433fb4857\")) {                    Plotly.newPlot(                        \"816597c1-da42-48d3-9c1d-42d433fb4857\",                        [{\"hovertemplate\":\"rating=0<br>Continent=%{x}<br>count=%{y}<extra></extra>\",\"legendgroup\":\"0\",\"line\":{\"color\":\"#636efa\",\"dash\":\"solid\"},\"marker\":{\"symbol\":\"circle\"},\"mode\":\"lines\",\"name\":\"0\",\"orientation\":\"v\",\"showlegend\":true,\"x\":[0,1,2,3,4],\"xaxis\":\"x\",\"y\":[56,332,165,165,80],\"yaxis\":\"y\",\"type\":\"scatter\"},{\"hovertemplate\":\"rating=14<br>Continent=%{x}<br>count=%{y}<extra></extra>\",\"legendgroup\":\"14\",\"line\":{\"color\":\"#EF553B\",\"dash\":\"solid\"},\"marker\":{\"symbol\":\"circle\"},\"mode\":\"lines\",\"name\":\"14\",\"orientation\":\"v\",\"showlegend\":true,\"x\":[0,1,2,3,4],\"xaxis\":\"x\",\"y\":[20,244,334,94,41],\"yaxis\":\"y\",\"type\":\"scatter\"},{\"hovertemplate\":\"rating=19<br>Continent=%{x}<br>count=%{y}<extra></extra>\",\"legendgroup\":\"19\",\"line\":{\"color\":\"#00cc96\",\"dash\":\"solid\"},\"marker\":{\"symbol\":\"circle\"},\"mode\":\"lines\",\"name\":\"19\",\"orientation\":\"v\",\"showlegend\":true,\"x\":[0,1,2,3,4],\"xaxis\":\"x\",\"y\":[58,481,278,263,65],\"yaxis\":\"y\",\"type\":\"scatter\"}],                        {\"template\":{\"data\":{\"bar\":[{\"error_x\":{\"color\":\"#2a3f5f\"},\"error_y\":{\"color\":\"#2a3f5f\"},\"marker\":{\"line\":{\"color\":\"#E5ECF6\",\"width\":0.5},\"pattern\":{\"fillmode\":\"overlay\",\"size\":10,\"solidity\":0.2}},\"type\":\"bar\"}],\"barpolar\":[{\"marker\":{\"line\":{\"color\":\"#E5ECF6\",\"width\":0.5},\"pattern\":{\"fillmode\":\"overlay\",\"size\":10,\"solidity\":0.2}},\"type\":\"barpolar\"}],\"carpet\":[{\"aaxis\":{\"endlinecolor\":\"#2a3f5f\",\"gridcolor\":\"white\",\"linecolor\":\"white\",\"minorgridcolor\":\"white\",\"startlinecolor\":\"#2a3f5f\"},\"baxis\":{\"endlinecolor\":\"#2a3f5f\",\"gridcolor\":\"white\",\"linecolor\":\"white\",\"minorgridcolor\":\"white\",\"startlinecolor\":\"#2a3f5f\"},\"type\":\"carpet\"}],\"choropleth\":[{\"colorbar\":{\"outlinewidth\":0,\"ticks\":\"\"},\"type\":\"choropleth\"}],\"contour\":[{\"colorbar\":{\"outlinewidth\":0,\"ticks\":\"\"},\"colorscale\":[[0.0,\"#0d0887\"],[0.1111111111111111,\"#46039f\"],[0.2222222222222222,\"#7201a8\"],[0.3333333333333333,\"#9c179e\"],[0.4444444444444444,\"#bd3786\"],[0.5555555555555556,\"#d8576b\"],[0.6666666666666666,\"#ed7953\"],[0.7777777777777778,\"#fb9f3a\"],[0.8888888888888888,\"#fdca26\"],[1.0,\"#f0f921\"]],\"type\":\"contour\"}],\"contourcarpet\":[{\"colorbar\":{\"outlinewidth\":0,\"ticks\":\"\"},\"type\":\"contourcarpet\"}],\"heatmap\":[{\"colorbar\":{\"outlinewidth\":0,\"ticks\":\"\"},\"colorscale\":[[0.0,\"#0d0887\"],[0.1111111111111111,\"#46039f\"],[0.2222222222222222,\"#7201a8\"],[0.3333333333333333,\"#9c179e\"],[0.4444444444444444,\"#bd3786\"],[0.5555555555555556,\"#d8576b\"],[0.6666666666666666,\"#ed7953\"],[0.7777777777777778,\"#fb9f3a\"],[0.8888888888888888,\"#fdca26\"],[1.0,\"#f0f921\"]],\"type\":\"heatmap\"}],\"heatmapgl\":[{\"colorbar\":{\"outlinewidth\":0,\"ticks\":\"\"},\"colorscale\":[[0.0,\"#0d0887\"],[0.1111111111111111,\"#46039f\"],[0.2222222222222222,\"#7201a8\"],[0.3333333333333333,\"#9c179e\"],[0.4444444444444444,\"#bd3786\"],[0.5555555555555556,\"#d8576b\"],[0.6666666666666666,\"#ed7953\"],[0.7777777777777778,\"#fb9f3a\"],[0.8888888888888888,\"#fdca26\"],[1.0,\"#f0f921\"]],\"type\":\"heatmapgl\"}],\"histogram\":[{\"marker\":{\"pattern\":{\"fillmode\":\"overlay\",\"size\":10,\"solidity\":0.2}},\"type\":\"histogram\"}],\"histogram2d\":[{\"colorbar\":{\"outlinewidth\":0,\"ticks\":\"\"},\"colorscale\":[[0.0,\"#0d0887\"],[0.1111111111111111,\"#46039f\"],[0.2222222222222222,\"#7201a8\"],[0.3333333333333333,\"#9c179e\"],[0.4444444444444444,\"#bd3786\"],[0.5555555555555556,\"#d8576b\"],[0.6666666666666666,\"#ed7953\"],[0.7777777777777778,\"#fb9f3a\"],[0.8888888888888888,\"#fdca26\"],[1.0,\"#f0f921\"]],\"type\":\"histogram2d\"}],\"histogram2dcontour\":[{\"colorbar\":{\"outlinewidth\":0,\"ticks\":\"\"},\"colorscale\":[[0.0,\"#0d0887\"],[0.1111111111111111,\"#46039f\"],[0.2222222222222222,\"#7201a8\"],[0.3333333333333333,\"#9c179e\"],[0.4444444444444444,\"#bd3786\"],[0.5555555555555556,\"#d8576b\"],[0.6666666666666666,\"#ed7953\"],[0.7777777777777778,\"#fb9f3a\"],[0.8888888888888888,\"#fdca26\"],[1.0,\"#f0f921\"]],\"type\":\"histogram2dcontour\"}],\"mesh3d\":[{\"colorbar\":{\"outlinewidth\":0,\"ticks\":\"\"},\"type\":\"mesh3d\"}],\"parcoords\":[{\"line\":{\"colorbar\":{\"outlinewidth\":0,\"ticks\":\"\"}},\"type\":\"parcoords\"}],\"pie\":[{\"automargin\":true,\"type\":\"pie\"}],\"scatter\":[{\"marker\":{\"colorbar\":{\"outlinewidth\":0,\"ticks\":\"\"}},\"type\":\"scatter\"}],\"scatter3d\":[{\"line\":{\"colorbar\":{\"outlinewidth\":0,\"ticks\":\"\"}},\"marker\":{\"colorbar\":{\"outlinewidth\":0,\"ticks\":\"\"}},\"type\":\"scatter3d\"}],\"scattercarpet\":[{\"marker\":{\"colorbar\":{\"outlinewidth\":0,\"ticks\":\"\"}},\"type\":\"scattercarpet\"}],\"scattergeo\":[{\"marker\":{\"colorbar\":{\"outlinewidth\":0,\"ticks\":\"\"}},\"type\":\"scattergeo\"}],\"scattergl\":[{\"marker\":{\"colorbar\":{\"outlinewidth\":0,\"ticks\":\"\"}},\"type\":\"scattergl\"}],\"scattermapbox\":[{\"marker\":{\"colorbar\":{\"outlinewidth\":0,\"ticks\":\"\"}},\"type\":\"scattermapbox\"}],\"scatterpolar\":[{\"marker\":{\"colorbar\":{\"outlinewidth\":0,\"ticks\":\"\"}},\"type\":\"scatterpolar\"}],\"scatterpolargl\":[{\"marker\":{\"colorbar\":{\"outlinewidth\":0,\"ticks\":\"\"}},\"type\":\"scatterpolargl\"}],\"scatterternary\":[{\"marker\":{\"colorbar\":{\"outlinewidth\":0,\"ticks\":\"\"}},\"type\":\"scatterternary\"}],\"surface\":[{\"colorbar\":{\"outlinewidth\":0,\"ticks\":\"\"},\"colorscale\":[[0.0,\"#0d0887\"],[0.1111111111111111,\"#46039f\"],[0.2222222222222222,\"#7201a8\"],[0.3333333333333333,\"#9c179e\"],[0.4444444444444444,\"#bd3786\"],[0.5555555555555556,\"#d8576b\"],[0.6666666666666666,\"#ed7953\"],[0.7777777777777778,\"#fb9f3a\"],[0.8888888888888888,\"#fdca26\"],[1.0,\"#f0f921\"]],\"type\":\"surface\"}],\"table\":[{\"cells\":{\"fill\":{\"color\":\"#EBF0F8\"},\"line\":{\"color\":\"white\"}},\"header\":{\"fill\":{\"color\":\"#C8D4E3\"},\"line\":{\"color\":\"white\"}},\"type\":\"table\"}]},\"layout\":{\"annotationdefaults\":{\"arrowcolor\":\"#2a3f5f\",\"arrowhead\":0,\"arrowwidth\":1},\"autotypenumbers\":\"strict\",\"coloraxis\":{\"colorbar\":{\"outlinewidth\":0,\"ticks\":\"\"}},\"colorscale\":{\"diverging\":[[0,\"#8e0152\"],[0.1,\"#c51b7d\"],[0.2,\"#de77ae\"],[0.3,\"#f1b6da\"],[0.4,\"#fde0ef\"],[0.5,\"#f7f7f7\"],[0.6,\"#e6f5d0\"],[0.7,\"#b8e186\"],[0.8,\"#7fbc41\"],[0.9,\"#4d9221\"],[1,\"#276419\"]],\"sequential\":[[0.0,\"#0d0887\"],[0.1111111111111111,\"#46039f\"],[0.2222222222222222,\"#7201a8\"],[0.3333333333333333,\"#9c179e\"],[0.4444444444444444,\"#bd3786\"],[0.5555555555555556,\"#d8576b\"],[0.6666666666666666,\"#ed7953\"],[0.7777777777777778,\"#fb9f3a\"],[0.8888888888888888,\"#fdca26\"],[1.0,\"#f0f921\"]],\"sequentialminus\":[[0.0,\"#0d0887\"],[0.1111111111111111,\"#46039f\"],[0.2222222222222222,\"#7201a8\"],[0.3333333333333333,\"#9c179e\"],[0.4444444444444444,\"#bd3786\"],[0.5555555555555556,\"#d8576b\"],[0.6666666666666666,\"#ed7953\"],[0.7777777777777778,\"#fb9f3a\"],[0.8888888888888888,\"#fdca26\"],[1.0,\"#f0f921\"]]},\"colorway\":[\"#636efa\",\"#EF553B\",\"#00cc96\",\"#ab63fa\",\"#FFA15A\",\"#19d3f3\",\"#FF6692\",\"#B6E880\",\"#FF97FF\",\"#FECB52\"],\"font\":{\"color\":\"#2a3f5f\"},\"geo\":{\"bgcolor\":\"white\",\"lakecolor\":\"white\",\"landcolor\":\"#E5ECF6\",\"showlakes\":true,\"showland\":true,\"subunitcolor\":\"white\"},\"hoverlabel\":{\"align\":\"left\"},\"hovermode\":\"closest\",\"mapbox\":{\"style\":\"light\"},\"paper_bgcolor\":\"white\",\"plot_bgcolor\":\"#E5ECF6\",\"polar\":{\"angularaxis\":{\"gridcolor\":\"white\",\"linecolor\":\"white\",\"ticks\":\"\"},\"bgcolor\":\"#E5ECF6\",\"radialaxis\":{\"gridcolor\":\"white\",\"linecolor\":\"white\",\"ticks\":\"\"}},\"scene\":{\"xaxis\":{\"backgroundcolor\":\"#E5ECF6\",\"gridcolor\":\"white\",\"gridwidth\":2,\"linecolor\":\"white\",\"showbackground\":true,\"ticks\":\"\",\"zerolinecolor\":\"white\"},\"yaxis\":{\"backgroundcolor\":\"#E5ECF6\",\"gridcolor\":\"white\",\"gridwidth\":2,\"linecolor\":\"white\",\"showbackground\":true,\"ticks\":\"\",\"zerolinecolor\":\"white\"},\"zaxis\":{\"backgroundcolor\":\"#E5ECF6\",\"gridcolor\":\"white\",\"gridwidth\":2,\"linecolor\":\"white\",\"showbackground\":true,\"ticks\":\"\",\"zerolinecolor\":\"white\"}},\"shapedefaults\":{\"line\":{\"color\":\"#2a3f5f\"}},\"ternary\":{\"aaxis\":{\"gridcolor\":\"white\",\"linecolor\":\"white\",\"ticks\":\"\"},\"baxis\":{\"gridcolor\":\"white\",\"linecolor\":\"white\",\"ticks\":\"\"},\"bgcolor\":\"#E5ECF6\",\"caxis\":{\"gridcolor\":\"white\",\"linecolor\":\"white\",\"ticks\":\"\"}},\"title\":{\"x\":0.05},\"xaxis\":{\"automargin\":true,\"gridcolor\":\"white\",\"linecolor\":\"white\",\"ticks\":\"\",\"title\":{\"standoff\":15},\"zerolinecolor\":\"white\",\"zerolinewidth\":2},\"yaxis\":{\"automargin\":true,\"gridcolor\":\"white\",\"linecolor\":\"white\",\"ticks\":\"\",\"title\":{\"standoff\":15},\"zerolinecolor\":\"white\",\"zerolinewidth\":2}}},\"xaxis\":{\"anchor\":\"y\",\"domain\":[0.0,1.0],\"title\":{\"text\":\"Continent\"}},\"yaxis\":{\"anchor\":\"x\",\"domain\":[0.0,1.0],\"title\":{\"text\":\"count\"}},\"legend\":{\"title\":{\"text\":\"rating\"},\"tracegroupgap\":0},\"title\":{\"text\":\"Trend of TV_Show rating produced over the continent on Netflix\"}},                        {\"responsive\": true}                    ).then(function(){\n",
              "                            \n",
              "var gd = document.getElementById('816597c1-da42-48d3-9c1d-42d433fb4857');\n",
              "var x = new MutationObserver(function (mutations, observer) {{\n",
              "        var display = window.getComputedStyle(gd).display;\n",
              "        if (!display || display === 'none') {{\n",
              "            console.log([gd, 'removed!']);\n",
              "            Plotly.purge(gd);\n",
              "            observer.disconnect();\n",
              "        }}\n",
              "}});\n",
              "\n",
              "// Listen for the removal of the full notebook cells\n",
              "var notebookContainer = gd.closest('#notebook-container');\n",
              "if (notebookContainer) {{\n",
              "    x.observe(notebookContainer, {childList: true});\n",
              "}}\n",
              "\n",
              "// Listen for the clearing of the current output cell\n",
              "var outputEl = gd.closest('.output');\n",
              "if (outputEl) {{\n",
              "    x.observe(outputEl, {childList: true});\n",
              "}}\n",
              "\n",
              "                        })                };                            </script>        </div>\n",
              "</body>\n",
              "</html>"
            ]
          },
          "metadata": {}
        }
      ]
    },
    {
      "cell_type": "code",
      "source": [
        "df_TV.groupby('rating')['Continent'].count().plot(kind='bar', figsize=(10,5))\n",
        "plt.show()"
      ],
      "metadata": {
        "colab": {
          "base_uri": "https://localhost:8080/",
          "height": 340
        },
        "id": "xPwuGEktw2FC",
        "outputId": "85c79af9-2d74-41ed-fdd1-d7785f55e642"
      },
      "execution_count": 628,
      "outputs": [
        {
          "output_type": "display_data",
          "data": {
            "text/plain": [
              "<Figure size 720x360 with 1 Axes>"
            ],
            "image/png": "[encoded data removed]"
          },
          "metadata": {
            "needs_background": "light"
          }
        }
      ]
    },
    {
      "cell_type": "markdown",
      "source": [
        "#### * Continent vs release_year vs Registered_year"
      ],
      "metadata": {
        "id": "wHXOwpd_0Dxj"
      }
    },
    {
      "cell_type": "code",
      "source": [
        "fig,ax = plt.subplots(1,2)\n",
        "\n",
        "df_TV.groupby(['Continent'])['release_year'].count().plot(kind='bar',rot=0,figsize=(20,8),ax=ax[0])\n",
        "ax[0].set_title('Continent vs Release_year')\n",
        "df_TV.groupby('Continent')['Registered year'].count().plot(kind='bar',figsize=(20,8),ax=ax[1])\n",
        "ax[1].set_title('Continent vs Registered year')"
      ],
      "metadata": {
        "colab": {
          "base_uri": "https://localhost:8080/",
          "height": 531
        },
        "id": "xdJ_zuiu0B2v",
        "outputId": "9c8f4aa1-6670-44c3-f947-965d1b13b6fa"
      },
      "execution_count": 629,
      "outputs": [
        {
          "output_type": "execute_result",
          "data": {
            "text/plain": [
              "Text(0.5, 1.0, 'Continent vs Registered year')"
            ]
          },
          "metadata": {},
          "execution_count": 629
        },
        {
          "output_type": "display_data",
          "data": {
            "text/plain": [
              "<Figure size 1440x576 with 2 Axes>"
            ],
            "image/png": "[encoded data removed]"
          },
          "metadata": {
            "needs_background": "light"
          }
        }
      ]
    },
    {
      "cell_type": "code",
      "source": [
        "RE= df_TV.loc[df_TV['release_year']>=2010]\n",
        "RA= df_TV.loc[df_TV['Registered year']>=2010]\n",
        "\n",
        "fig,ax = plt.subplots(1,2)\n",
        "RE.groupby('release_year')['Continent'].count().plot(kind='bar',rot=0,figsize=(20,8),ax=ax[0])\n",
        "RA.groupby('Registered year')['Continent'].count().plot(kind='bar',rot=0,figsize=(20,8),ax=ax[1])"
      ],
      "metadata": {
        "colab": {
          "base_uri": "https://localhost:8080/",
          "height": 516
        },
        "id": "c0V4s4_D1dNb",
        "outputId": "6ec40fe4-07ca-4601-f5ee-8bcad2602fa1"
      },
      "execution_count": 650,
      "outputs": [
        {
          "output_type": "execute_result",
          "data": {
            "text/plain": [
              "<matplotlib.axes._subplots.AxesSubplot at 0x7f8eb2c8ded0>"
            ]
          },
          "metadata": {},
          "execution_count": 650
        },
        {
          "output_type": "display_data",
          "data": {
            "text/plain": [
              "<Figure size 1440x576 with 2 Axes>"
            ],
            "image/png": "[encoded data removed]"
          },
          "metadata": {
            "needs_background": "light"
          }
        }
      ]
    },
    {
      "cell_type": "markdown",
      "source": [
        "#### * Continent vs (Description)enre"
      ],
      "metadata": {
        "id": "loNQjuTc1GN6"
      }
    },
    {
      "cell_type": "code",
      "source": [
        "df_TV['description']=np.array(df_TV['description'])\n",
        "f,ax=plt.subplots(2,2,figsize=(17,17))\n",
        "df_TV[df_TV['description'].str.contains('horror','evil')].Continent.plot.hist(ax=ax[0][0],bins=20,edgecolor='black',color='red')\n",
        "ax[0][0].set_title('horror')\n",
        "x1=list(range(0,5,1))\n",
        "y1=list(range(0,10,1))\n",
        "ax[0][0].set_xticks(x1)\n",
        "ax[0][0].set_yticks(y1)        \n",
        "df_TV[df_TV['description'].str.contains('love','kiss')].Continent.plot.hist(ax=ax[0][1],color='green',bins=20,edgecolor='black')\n",
        "ax[0][1].set_title('love')\n",
        "x2=list(range(0,5,1))\n",
        "y2=list(range(0,110,10))\n",
        "ax[0][1].set_xticks(x2)       \n",
        "ax[0][1].set_yticks(y2)\n",
        "df_TV[df_TV['description'].str.contains('thriller','suspense')].Continent.plot.hist(ax=ax[1][0],color='blue',bins=20,edgecolor='black')\n",
        "ax[1][0].set_title('thriller')\n",
        "x3=list(range(0,5,1))\n",
        "y3=list(range(0,5,1))\n",
        "ax[1][0].set_xticks(x3)       \n",
        "ax[1][0].set_yticks(y3)\n",
        "df_TV[df_TV['description'].str.contains('SF','space')].Continent.plot.hist(ax=ax[1][1],color='yellow',bins=20,edgecolor='black')\n",
        "ax[1][1].set_title('SF')\n",
        "x4=list(range(0,5,1))\n",
        "y4=list(range(0,8,1))\n",
        "ax[1][1].set_xticks(x4)       \n",
        "ax[1][1].set_yticks(y4)\n",
        "plt.show()"
      ],
      "metadata": {
        "colab": {
          "base_uri": "https://localhost:8080/",
          "height": 988
        },
        "id": "YNw6wrvz6fa3",
        "outputId": "1f6a41bd-14f4-4d6a-a0a9-827fef4b5ded"
      },
      "execution_count": 671,
      "outputs": [
        {
          "output_type": "display_data",
          "data": {
            "text/plain": [
              "<Figure size 1224x1224 with 4 Axes>"
            ],
            "image/png": "[encoded data removed]"
          },
          "metadata": {
            "needs_background": "light"
          }
        }
      ]
    },
    {
      "cell_type": "code",
      "source": [
        "f,ax = plt.subplots(1,3, figsize = (15,5))\n",
        "df_TV.groupby('rating')['Duration'].sum().plot.bar(color='blue', ax=ax[0])\n",
        "RE.groupby('release_year')['Duration'].sum().plot.bar(style='sky', ax=ax[1])\n",
        "RA.groupby('Registered year')['Duration'].sum().plot.bar(style='green', ax=ax[2])\n",
        "#df_TV.groupby('description')['Duration'].sum().plot.bar(style='yellow', ax=ax[3])\n",
        "plt.show()"
      ],
      "metadata": {
        "colab": {
          "base_uri": "https://localhost:8080/",
          "height": 360
        },
        "id": "XbvpDmgIyCeX",
        "outputId": "e73efe8f-15c5-49b8-f5f6-067f3be49115"
      },
      "execution_count": 662,
      "outputs": [
        {
          "output_type": "display_data",
          "data": {
            "text/plain": [
              "<Figure size 1080x360 with 3 Axes>"
            ],
            "image/png": "[encoded data removed]"
          },
          "metadata": {
            "needs_background": "light"
          }
        }
      ]
    },
    {
      "cell_type": "markdown",
      "source": [
        "## Movie -feature"
      ],
      "metadata": {
        "id": "UdszGAJc-V9Z"
      }
    },
    {
      "cell_type": "code",
      "source": [
        "plt.figure(figsize=(12,10))\n",
        "sns.distplot(df_Movie['Duration'])"
      ],
      "metadata": {
        "colab": {
          "base_uri": "https://localhost:8080/",
          "height": 624
        },
        "id": "LZKjRIO_-6Jy",
        "outputId": "c07b509d-acbb-481b-95aa-16b3afb15674"
      },
      "execution_count": 665,
      "outputs": [
        {
          "output_type": "execute_result",
          "data": {
            "text/plain": [
              "<matplotlib.axes._subplots.AxesSubplot at 0x7f8ea95ea210>"
            ]
          },
          "metadata": {},
          "execution_count": 665
        },
        {
          "output_type": "display_data",
          "data": {
            "text/plain": [
              "<Figure size 864x720 with 1 Axes>"
            ],
            "image/png": "[encoded data removed]"
          },
          "metadata": {
            "needs_background": "light"
          }
        }
      ]
    },
    {
      "cell_type": "markdown",
      "source": [
        "#### * Continent vs Rating"
      ],
      "metadata": {
        "id": "GbZ_SPxf_HfN"
      }
    },
    {
      "cell_type": "code",
      "source": [
        "df3=df_Movie[['rating','Continent']]\n",
        "df3=df3.rename(columns={\"Continent\": \"Continent\"})\n",
        "df4=df3.groupby(['Continent','rating']).size().reset_index(name='count')\n",
        "fig5 = px.line(df4, x=\"Continent\", y=\"count\", color='rating',title='Trend of Movie rating produced over the Continent on Netflix')\n",
        "fig5.show()"
      ],
      "metadata": {
        "colab": {
          "base_uri": "https://localhost:8080/",
          "height": 542
        },
        "id": "gkswPPp96XUA",
        "outputId": "f3bd11a6-249a-4e2b-c27e-759f4dc6c45e"
      },
      "execution_count": 664,
      "outputs": [
        {
          "output_type": "display_data",
          "data": {
            "text/html": [
              "<html>\n",
              "<head><meta charset=\"utf-8\" /></head>\n",
              "<body>\n",
              "    <div>            <script src=\"https://cdnjs.cloudflare.com/ajax/libs/mathjax/2.7.5/MathJax.js?config=TeX-AMS-MML_SVG\"></script><script type=\"text/javascript\">if (window.MathJax) {MathJax.Hub.Config({SVG: {font: \"STIX-Web\"}});}</script>                <script type=\"text/javascript\">window.PlotlyConfig = {MathJaxConfig: 'local'};</script>\n",
              "        <script src=\"https://cdn.plot.ly/plotly-2.8.3.min.js\"></script>                <div id=\"c13af52b-0f05-4894-96db-e6d86cef0b3e\" class=\"plotly-graph-div\" style=\"height:525px; width:100%;\"></div>            <script type=\"text/javascript\">                                    window.PLOTLYENV=window.PLOTLYENV || {};                                    if (document.getElementById(\"c13af52b-0f05-4894-96db-e6d86cef0b3e\")) {                    Plotly.newPlot(                        \"c13af52b-0f05-4894-96db-e6d86cef0b3e\",                        [{\"hovertemplate\":\"rating=0<br>Continent=%{x}<br>count=%{y}<extra></extra>\",\"legendgroup\":\"0\",\"line\":{\"color\":\"#636efa\",\"dash\":\"solid\"},\"marker\":{\"symbol\":\"circle\"},\"mode\":\"lines\",\"name\":\"0\",\"orientation\":\"v\",\"showlegend\":true,\"x\":[0,1,2,3,4],\"xaxis\":\"x\",\"y\":[91,736,351,162,137],\"yaxis\":\"y\",\"type\":\"scatter\"},{\"hovertemplate\":\"rating=14<br>Continent=%{x}<br>count=%{y}<extra></extra>\",\"legendgroup\":\"14\",\"line\":{\"color\":\"#EF553B\",\"dash\":\"solid\"},\"marker\":{\"symbol\":\"circle\"},\"mode\":\"lines\",\"name\":\"14\",\"orientation\":\"v\",\"showlegend\":true,\"x\":[0,1,2,3,4],\"xaxis\":\"x\",\"y\":[76,504,854,155,125],\"yaxis\":\"y\",\"type\":\"scatter\"},{\"hovertemplate\":\"rating=19<br>Continent=%{x}<br>count=%{y}<extra></extra>\",\"legendgroup\":\"19\",\"line\":{\"color\":\"#00cc96\",\"dash\":\"solid\"},\"marker\":{\"symbol\":\"circle\"},\"mode\":\"lines\",\"name\":\"19\",\"orientation\":\"v\",\"showlegend\":true,\"x\":[0,1,2,3,4],\"xaxis\":\"x\",\"y\":[160,1425,627,503,225],\"yaxis\":\"y\",\"type\":\"scatter\"}],                        {\"template\":{\"data\":{\"bar\":[{\"error_x\":{\"color\":\"#2a3f5f\"},\"error_y\":{\"color\":\"#2a3f5f\"},\"marker\":{\"line\":{\"color\":\"#E5ECF6\",\"width\":0.5},\"pattern\":{\"fillmode\":\"overlay\",\"size\":10,\"solidity\":0.2}},\"type\":\"bar\"}],\"barpolar\":[{\"marker\":{\"line\":{\"color\":\"#E5ECF6\",\"width\":0.5},\"pattern\":{\"fillmode\":\"overlay\",\"size\":10,\"solidity\":0.2}},\"type\":\"barpolar\"}],\"carpet\":[{\"aaxis\":{\"endlinecolor\":\"#2a3f5f\",\"gridcolor\":\"white\",\"linecolor\":\"white\",\"minorgridcolor\":\"white\",\"startlinecolor\":\"#2a3f5f\"},\"baxis\":{\"endlinecolor\":\"#2a3f5f\",\"gridcolor\":\"white\",\"linecolor\":\"white\",\"minorgridcolor\":\"white\",\"startlinecolor\":\"#2a3f5f\"},\"type\":\"carpet\"}],\"choropleth\":[{\"colorbar\":{\"outlinewidth\":0,\"ticks\":\"\"},\"type\":\"choropleth\"}],\"contour\":[{\"colorbar\":{\"outlinewidth\":0,\"ticks\":\"\"},\"colorscale\":[[0.0,\"#0d0887\"],[0.1111111111111111,\"#46039f\"],[0.2222222222222222,\"#7201a8\"],[0.3333333333333333,\"#9c179e\"],[0.4444444444444444,\"#bd3786\"],[0.5555555555555556,\"#d8576b\"],[0.6666666666666666,\"#ed7953\"],[0.7777777777777778,\"#fb9f3a\"],[0.8888888888888888,\"#fdca26\"],[1.0,\"#f0f921\"]],\"type\":\"contour\"}],\"contourcarpet\":[{\"colorbar\":{\"outlinewidth\":0,\"ticks\":\"\"},\"type\":\"contourcarpet\"}],\"heatmap\":[{\"colorbar\":{\"outlinewidth\":0,\"ticks\":\"\"},\"colorscale\":[[0.0,\"#0d0887\"],[0.1111111111111111,\"#46039f\"],[0.2222222222222222,\"#7201a8\"],[0.3333333333333333,\"#9c179e\"],[0.4444444444444444,\"#bd3786\"],[0.5555555555555556,\"#d8576b\"],[0.6666666666666666,\"#ed7953\"],[0.7777777777777778,\"#fb9f3a\"],[0.8888888888888888,\"#fdca26\"],[1.0,\"#f0f921\"]],\"type\":\"heatmap\"}],\"heatmapgl\":[{\"colorbar\":{\"outlinewidth\":0,\"ticks\":\"\"},\"colorscale\":[[0.0,\"#0d0887\"],[0.1111111111111111,\"#46039f\"],[0.2222222222222222,\"#7201a8\"],[0.3333333333333333,\"#9c179e\"],[0.4444444444444444,\"#bd3786\"],[0.5555555555555556,\"#d8576b\"],[0.6666666666666666,\"#ed7953\"],[0.7777777777777778,\"#fb9f3a\"],[0.8888888888888888,\"#fdca26\"],[1.0,\"#f0f921\"]],\"type\":\"heatmapgl\"}],\"histogram\":[{\"marker\":{\"pattern\":{\"fillmode\":\"overlay\",\"size\":10,\"solidity\":0.2}},\"type\":\"histogram\"}],\"histogram2d\":[{\"colorbar\":{\"outlinewidth\":0,\"ticks\":\"\"},\"colorscale\":[[0.0,\"#0d0887\"],[0.1111111111111111,\"#46039f\"],[0.2222222222222222,\"#7201a8\"],[0.3333333333333333,\"#9c179e\"],[0.4444444444444444,\"#bd3786\"],[0.5555555555555556,\"#d8576b\"],[0.6666666666666666,\"#ed7953\"],[0.7777777777777778,\"#fb9f3a\"],[0.8888888888888888,\"#fdca26\"],[1.0,\"#f0f921\"]],\"type\":\"histogram2d\"}],\"histogram2dcontour\":[{\"colorbar\":{\"outlinewidth\":0,\"ticks\":\"\"},\"colorscale\":[[0.0,\"#0d0887\"],[0.1111111111111111,\"#46039f\"],[0.2222222222222222,\"#7201a8\"],[0.3333333333333333,\"#9c179e\"],[0.4444444444444444,\"#bd3786\"],[0.5555555555555556,\"#d8576b\"],[0.6666666666666666,\"#ed7953\"],[0.7777777777777778,\"#fb9f3a\"],[0.8888888888888888,\"#fdca26\"],[1.0,\"#f0f921\"]],\"type\":\"histogram2dcontour\"}],\"mesh3d\":[{\"colorbar\":{\"outlinewidth\":0,\"ticks\":\"\"},\"type\":\"mesh3d\"}],\"parcoords\":[{\"line\":{\"colorbar\":{\"outlinewidth\":0,\"ticks\":\"\"}},\"type\":\"parcoords\"}],\"pie\":[{\"automargin\":true,\"type\":\"pie\"}],\"scatter\":[{\"marker\":{\"colorbar\":{\"outlinewidth\":0,\"ticks\":\"\"}},\"type\":\"scatter\"}],\"scatter3d\":[{\"line\":{\"colorbar\":{\"outlinewidth\":0,\"ticks\":\"\"}},\"marker\":{\"colorbar\":{\"outlinewidth\":0,\"ticks\":\"\"}},\"type\":\"scatter3d\"}],\"scattercarpet\":[{\"marker\":{\"colorbar\":{\"outlinewidth\":0,\"ticks\":\"\"}},\"type\":\"scattercarpet\"}],\"scattergeo\":[{\"marker\":{\"colorbar\":{\"outlinewidth\":0,\"ticks\":\"\"}},\"type\":\"scattergeo\"}],\"scattergl\":[{\"marker\":{\"colorbar\":{\"outlinewidth\":0,\"ticks\":\"\"}},\"type\":\"scattergl\"}],\"scattermapbox\":[{\"marker\":{\"colorbar\":{\"outlinewidth\":0,\"ticks\":\"\"}},\"type\":\"scattermapbox\"}],\"scatterpolar\":[{\"marker\":{\"colorbar\":{\"outlinewidth\":0,\"ticks\":\"\"}},\"type\":\"scatterpolar\"}],\"scatterpolargl\":[{\"marker\":{\"colorbar\":{\"outlinewidth\":0,\"ticks\":\"\"}},\"type\":\"scatterpolargl\"}],\"scatterternary\":[{\"marker\":{\"colorbar\":{\"outlinewidth\":0,\"ticks\":\"\"}},\"type\":\"scatterternary\"}],\"surface\":[{\"colorbar\":{\"outlinewidth\":0,\"ticks\":\"\"},\"colorscale\":[[0.0,\"#0d0887\"],[0.1111111111111111,\"#46039f\"],[0.2222222222222222,\"#7201a8\"],[0.3333333333333333,\"#9c179e\"],[0.4444444444444444,\"#bd3786\"],[0.5555555555555556,\"#d8576b\"],[0.6666666666666666,\"#ed7953\"],[0.7777777777777778,\"#fb9f3a\"],[0.8888888888888888,\"#fdca26\"],[1.0,\"#f0f921\"]],\"type\":\"surface\"}],\"table\":[{\"cells\":{\"fill\":{\"color\":\"#EBF0F8\"},\"line\":{\"color\":\"white\"}},\"header\":{\"fill\":{\"color\":\"#C8D4E3\"},\"line\":{\"color\":\"white\"}},\"type\":\"table\"}]},\"layout\":{\"annotationdefaults\":{\"arrowcolor\":\"#2a3f5f\",\"arrowhead\":0,\"arrowwidth\":1},\"autotypenumbers\":\"strict\",\"coloraxis\":{\"colorbar\":{\"outlinewidth\":0,\"ticks\":\"\"}},\"colorscale\":{\"diverging\":[[0,\"#8e0152\"],[0.1,\"#c51b7d\"],[0.2,\"#de77ae\"],[0.3,\"#f1b6da\"],[0.4,\"#fde0ef\"],[0.5,\"#f7f7f7\"],[0.6,\"#e6f5d0\"],[0.7,\"#b8e186\"],[0.8,\"#7fbc41\"],[0.9,\"#4d9221\"],[1,\"#276419\"]],\"sequential\":[[0.0,\"#0d0887\"],[0.1111111111111111,\"#46039f\"],[0.2222222222222222,\"#7201a8\"],[0.3333333333333333,\"#9c179e\"],[0.4444444444444444,\"#bd3786\"],[0.5555555555555556,\"#d8576b\"],[0.6666666666666666,\"#ed7953\"],[0.7777777777777778,\"#fb9f3a\"],[0.8888888888888888,\"#fdca26\"],[1.0,\"#f0f921\"]],\"sequentialminus\":[[0.0,\"#0d0887\"],[0.1111111111111111,\"#46039f\"],[0.2222222222222222,\"#7201a8\"],[0.3333333333333333,\"#9c179e\"],[0.4444444444444444,\"#bd3786\"],[0.5555555555555556,\"#d8576b\"],[0.6666666666666666,\"#ed7953\"],[0.7777777777777778,\"#fb9f3a\"],[0.8888888888888888,\"#fdca26\"],[1.0,\"#f0f921\"]]},\"colorway\":[\"#636efa\",\"#EF553B\",\"#00cc96\",\"#ab63fa\",\"#FFA15A\",\"#19d3f3\",\"#FF6692\",\"#B6E880\",\"#FF97FF\",\"#FECB52\"],\"font\":{\"color\":\"#2a3f5f\"},\"geo\":{\"bgcolor\":\"white\",\"lakecolor\":\"white\",\"landcolor\":\"#E5ECF6\",\"showlakes\":true,\"showland\":true,\"subunitcolor\":\"white\"},\"hoverlabel\":{\"align\":\"left\"},\"hovermode\":\"closest\",\"mapbox\":{\"style\":\"light\"},\"paper_bgcolor\":\"white\",\"plot_bgcolor\":\"#E5ECF6\",\"polar\":{\"angularaxis\":{\"gridcolor\":\"white\",\"linecolor\":\"white\",\"ticks\":\"\"},\"bgcolor\":\"#E5ECF6\",\"radialaxis\":{\"gridcolor\":\"white\",\"linecolor\":\"white\",\"ticks\":\"\"}},\"scene\":{\"xaxis\":{\"backgroundcolor\":\"#E5ECF6\",\"gridcolor\":\"white\",\"gridwidth\":2,\"linecolor\":\"white\",\"showbackground\":true,\"ticks\":\"\",\"zerolinecolor\":\"white\"},\"yaxis\":{\"backgroundcolor\":\"#E5ECF6\",\"gridcolor\":\"white\",\"gridwidth\":2,\"linecolor\":\"white\",\"showbackground\":true,\"ticks\":\"\",\"zerolinecolor\":\"white\"},\"zaxis\":{\"backgroundcolor\":\"#E5ECF6\",\"gridcolor\":\"white\",\"gridwidth\":2,\"linecolor\":\"white\",\"showbackground\":true,\"ticks\":\"\",\"zerolinecolor\":\"white\"}},\"shapedefaults\":{\"line\":{\"color\":\"#2a3f5f\"}},\"ternary\":{\"aaxis\":{\"gridcolor\":\"white\",\"linecolor\":\"white\",\"ticks\":\"\"},\"baxis\":{\"gridcolor\":\"white\",\"linecolor\":\"white\",\"ticks\":\"\"},\"bgcolor\":\"#E5ECF6\",\"caxis\":{\"gridcolor\":\"white\",\"linecolor\":\"white\",\"ticks\":\"\"}},\"title\":{\"x\":0.05},\"xaxis\":{\"automargin\":true,\"gridcolor\":\"white\",\"linecolor\":\"white\",\"ticks\":\"\",\"title\":{\"standoff\":15},\"zerolinecolor\":\"white\",\"zerolinewidth\":2},\"yaxis\":{\"automargin\":true,\"gridcolor\":\"white\",\"linecolor\":\"white\",\"ticks\":\"\",\"title\":{\"standoff\":15},\"zerolinecolor\":\"white\",\"zerolinewidth\":2}}},\"xaxis\":{\"anchor\":\"y\",\"domain\":[0.0,1.0],\"title\":{\"text\":\"Continent\"}},\"yaxis\":{\"anchor\":\"x\",\"domain\":[0.0,1.0],\"title\":{\"text\":\"count\"}},\"legend\":{\"title\":{\"text\":\"rating\"},\"tracegroupgap\":0},\"title\":{\"text\":\"Trend of Movie rating produced over the Continent on Netflix\"}},                        {\"responsive\": true}                    ).then(function(){\n",
              "                            \n",
              "var gd = document.getElementById('c13af52b-0f05-4894-96db-e6d86cef0b3e');\n",
              "var x = new MutationObserver(function (mutations, observer) {{\n",
              "        var display = window.getComputedStyle(gd).display;\n",
              "        if (!display || display === 'none') {{\n",
              "            console.log([gd, 'removed!']);\n",
              "            Plotly.purge(gd);\n",
              "            observer.disconnect();\n",
              "        }}\n",
              "}});\n",
              "\n",
              "// Listen for the removal of the full notebook cells\n",
              "var notebookContainer = gd.closest('#notebook-container');\n",
              "if (notebookContainer) {{\n",
              "    x.observe(notebookContainer, {childList: true});\n",
              "}}\n",
              "\n",
              "// Listen for the clearing of the current output cell\n",
              "var outputEl = gd.closest('.output');\n",
              "if (outputEl) {{\n",
              "    x.observe(outputEl, {childList: true});\n",
              "}}\n",
              "\n",
              "                        })                };                            </script>        </div>\n",
              "</body>\n",
              "</html>"
            ]
          },
          "metadata": {}
        }
      ]
    },
    {
      "cell_type": "code",
      "source": [
        "df_Movie.groupby('rating')['Continent'].count().plot(kind='bar', figsize=(10,5))\n",
        "plt.show()"
      ],
      "metadata": {
        "colab": {
          "base_uri": "https://localhost:8080/",
          "height": 336
        },
        "id": "VRwz1q_8_WQT",
        "outputId": "fe979c42-f318-4852-a36e-81aa3dfb5179"
      },
      "execution_count": 666,
      "outputs": [
        {
          "output_type": "display_data",
          "data": {
            "text/plain": [
              "<Figure size 720x360 with 1 Axes>"
            ],
            "image/png": "[encoded data removed]"
          },
          "metadata": {
            "needs_background": "light"
          }
        }
      ]
    },
    {
      "cell_type": "markdown",
      "source": [
        "#### * Continent vs release_year vs Registered_year"
      ],
      "metadata": {
        "id": "ze3ZMQhT_JNn"
      }
    },
    {
      "cell_type": "code",
      "source": [
        "fig,ax = plt.subplots(1,2)\n",
        "\n",
        "df_Movie.groupby(['Continent'])['release_year'].count().plot(kind='bar',rot=0,figsize=(20,8),ax=ax[0])\n",
        "ax[0].set_title('Continent vs Release_year')\n",
        "df_Movie.groupby('Continent')['Registered year'].count().plot(kind='bar',figsize=(20,8),ax=ax[1])\n",
        "ax[1].set_title('Continent vs Registered year')"
      ],
      "metadata": {
        "colab": {
          "base_uri": "https://localhost:8080/",
          "height": 531
        },
        "id": "Of-XcesX-f3M",
        "outputId": "c0af472b-802e-4303-f794-f3502821b5e0"
      },
      "execution_count": 668,
      "outputs": [
        {
          "output_type": "execute_result",
          "data": {
            "text/plain": [
              "Text(0.5, 1.0, 'Continent vs Registered year')"
            ]
          },
          "metadata": {},
          "execution_count": 668
        },
        {
          "output_type": "display_data",
          "data": {
            "text/plain": [
              "<Figure size 1440x576 with 2 Axes>"
            ],
            "image/png": "[encoded data removed]"
          },
          "metadata": {
            "needs_background": "light"
          }
        }
      ]
    },
    {
      "cell_type": "code",
      "source": [
        "RE= df_Movie.loc[df_Movie['release_year']>=2010]\n",
        "RA= df_Movie.loc[df_Movie['Registered year']>=2010]\n",
        "\n",
        "fig,ax = plt.subplots(1,2)\n",
        "RE.groupby('release_year')['Continent'].count().plot(kind='bar',rot=0,figsize=(20,8),ax=ax[0])\n",
        "RA.groupby('Registered year')['Continent'].count().plot(kind='bar',rot=0,figsize=(20,8),ax=ax[1])"
      ],
      "metadata": {
        "colab": {
          "base_uri": "https://localhost:8080/",
          "height": 517
        },
        "id": "IgSX5EX4_col",
        "outputId": "e7357d82-f91d-45ec-f699-7381da3f5d9e"
      },
      "execution_count": 669,
      "outputs": [
        {
          "output_type": "execute_result",
          "data": {
            "text/plain": [
              "<matplotlib.axes._subplots.AxesSubplot at 0x7f8ea8fea390>"
            ]
          },
          "metadata": {},
          "execution_count": 669
        },
        {
          "output_type": "display_data",
          "data": {
            "text/plain": [
              "<Figure size 1440x576 with 2 Axes>"
            ],
            "image/png": "[encoded data removed]"
          },
          "metadata": {
            "needs_background": "light"
          }
        }
      ]
    },
    {
      "cell_type": "code",
      "source": [
        "df_Movie['description']=np.array(df_Movie['description'])\n",
        "f,ax=plt.subplots(2,2,figsize=(17,17))\n",
        "df_Movie[df_Movie['description'].str.contains('horror','evil')].Continent.plot.hist(ax=ax[0][0],bins=20,edgecolor='black',color='red')\n",
        "ax[0][0].set_title('horror')\n",
        "x1=list(range(0,5,1))\n",
        "y1=list(range(0,10,1))\n",
        "ax[0][0].set_xticks(x1)\n",
        "ax[0][0].set_yticks(y1)        \n",
        "df_Movie[df_Movie['description'].str.contains('love','kiss')].Continent.plot.hist(ax=ax[0][1],color='green',bins=20,edgecolor='black')\n",
        "ax[0][1].set_title('love')\n",
        "x2=list(range(0,5,1))\n",
        "y2=list(range(0,110,10))\n",
        "ax[0][1].set_xticks(x2)       \n",
        "ax[0][1].set_yticks(y2)\n",
        "df_Movie[df_Movie['description'].str.contains('thriller','suspense')].Continent.plot.hist(ax=ax[1][0],color='blue',bins=20,edgecolor='black')\n",
        "ax[1][0].set_title('thriller')\n",
        "x3=list(range(0,5,1))\n",
        "y3=list(range(0,5,1))\n",
        "ax[1][0].set_xticks(x3)       \n",
        "ax[1][0].set_yticks(y3)\n",
        "df_Movie[df_Movie['description'].str.contains('SF','space')].Continent.plot.hist(ax=ax[1][1],color='yellow',bins=20,edgecolor='black')\n",
        "ax[1][1].set_title('SF')\n",
        "x4=list(range(0,5,1))\n",
        "y4=list(range(0,8,1))\n",
        "ax[1][1].set_xticks(x4)       \n",
        "ax[1][1].set_yticks(y4)\n",
        "plt.show()"
      ],
      "metadata": {
        "colab": {
          "base_uri": "https://localhost:8080/",
          "height": 988
        },
        "id": "JA8nk3ew_ric",
        "outputId": "dd8ba064-9901-452d-a912-86ddcf40c84a"
      },
      "execution_count": 672,
      "outputs": [
        {
          "output_type": "display_data",
          "data": {
            "text/plain": [
              "<Figure size 1224x1224 with 4 Axes>"
            ],
            "image/png": "[encoded data removed]"
          },
          "metadata": {
            "needs_background": "light"
          }
        }
      ]
    },
    {
      "cell_type": "code",
      "source": [
        ""
      ],
      "metadata": {
        "id": "0rGJNxTwADIx"
      },
      "execution_count": null,
      "outputs": []
    }
  ]
}