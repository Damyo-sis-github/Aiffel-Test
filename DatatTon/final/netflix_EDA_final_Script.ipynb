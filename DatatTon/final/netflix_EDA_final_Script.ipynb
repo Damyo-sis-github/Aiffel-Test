{
  "nbformat": 4,
  "nbformat_minor": 0,
  "metadata": {
    "colab": {
      "name": "넷플릭스 EDA.ipynb",
      "provenance": [],
      "collapsed_sections": []
    },
    "kernelspec": {
      "name": "python3",
      "display_name": "Python 3"
    },
    "language_info": {
      "name": "python"
    }
  },
  "cells": [
    {
      "cell_type": "code",
      "source": [
        "from google.colab import drive\n",
        "drive.mount('/content/drive')"
      ],
      "metadata": {
        "colab": {
          "base_uri": "https://localhost:8080/"
        },
        "id": "26G3E476eGC7",
        "outputId": "88618157-dcd7-47cf-fbee-aa261daa6c95"
      },
      "execution_count": 905,
      "outputs": [
        {
          "output_type": "stream",
          "name": "stdout",
          "text": [
            "Drive already mounted at /content/drive; to attempt to forcibly remount, call drive.mount(\"/content/drive\", force_remount=True).\n"
          ]
        }
      ]
    },
    {
      "cell_type": "code",
      "execution_count": 906,
      "metadata": {
        "id": "Zw5meTYnd_zk"
      },
      "outputs": [],
      "source": [
        "import re #정규 표현식 모듈\n",
        "import numpy as np\n",
        "import pandas as pd\n",
        "import seaborn as sns\n",
        "import calendar\n",
        "import matplotlib.cm as cm\n",
        "import plotly.express as px\n",
        "\n",
        "import warnings\n",
        "warnings.filterwarnings('ignore')\n",
        "\n",
        "from datetime import datetime      # datatime 라이브러리\n",
        "from matplotlib import pyplot as plt\n",
        "from matplotlib.colors import Normalize\n",
        "\n",
        "%matplotlib inline\n",
        "\n",
        "data = pd.read_csv('/content/drive/MyDrive/Dataton/netflix_titles.csv')"
      ]
    },
    {
      "cell_type": "markdown",
      "source": [
        "# Data Review"
      ],
      "metadata": {
        "id": "DNSaxQgFe2RG"
      }
    },
    {
      "cell_type": "code",
      "source": [
        "df = pd.DataFrame(data)\n",
        "df.drop(['show_id','director','cast'],axis=1,inplace=True)"
      ],
      "metadata": {
        "id": "hpo6w_RHeGjS"
      },
      "execution_count": 907,
      "outputs": []
    },
    {
      "cell_type": "code",
      "source": [
        "df.isnull().sum()"
      ],
      "metadata": {
        "colab": {
          "base_uri": "https://localhost:8080/"
        },
        "id": "5TvrXt85gSrg",
        "outputId": "2ccda79e-0d6e-44d0-cc77-489b9485050e"
      },
      "execution_count": 908,
      "outputs": [
        {
          "output_type": "execute_result",
          "data": {
            "text/plain": [
              "type              0\n",
              "title             0\n",
              "country         831\n",
              "date_added       10\n",
              "release_year      0\n",
              "rating            4\n",
              "duration          3\n",
              "listed_in         0\n",
              "description       0\n",
              "dtype: int64"
            ]
          },
          "metadata": {},
          "execution_count": 908
        }
      ]
    },
    {
      "cell_type": "markdown",
      "source": [
        "# **Data EDA**"
      ],
      "metadata": {
        "id": "2RIr4oy_1ev8"
      }
    },
    {
      "cell_type": "markdown",
      "source": [
        "## date_added 시간열 분리"
      ],
      "metadata": {
        "id": "A6Ue0ijl1Xw6"
      }
    },
    {
      "cell_type": "code",
      "source": [
        "df['date_added'] = df['date_added'].apply(lambda x : pd.Timestamp(x))\n",
        "\n",
        "df['Registered year'] = df['date_added'].apply(lambda x : x.year)\n",
        "df['Registered month'] = df['date_added'].apply(lambda x : x.month)\n",
        "df['Registered day'] = df['date_added'].apply(lambda x : x.day)\n",
        "\n",
        "df.drop(['date_added'],axis=1,inplace=True)"
      ],
      "metadata": {
        "id": "NjhuhIkg1FSP"
      },
      "execution_count": 909,
      "outputs": []
    },
    {
      "cell_type": "markdown",
      "source": [
        "### description 기준 장르 분류"
      ],
      "metadata": {
        "id": "0cDzE6VicqNI"
      }
    },
    {
      "cell_type": "code",
      "source": [
        "df['Horror'] = df[df['description'].str.contains('[terror][horrible][blood][ghost]',case=False)].listed_in\n",
        "df['Romance'] = df[df['description'].str.contains('[love][romantic][happy][sad]',case=False)].listed_in\n",
        "df['Thriller'] = df[df['description'].str.contains('[mysterious][suspense][kill]',case=False)].listed_in\n",
        "df['SF'] = df[df['description'].str.contains('[monster]*[myth][space][magic][fantasy]*[dragon][witch]',case=False)].listed_in\n",
        "df.update(df['Horror'],overwrite=True)\n",
        "df.update(df['Romance'],overwrite=True)\n",
        "df.update(df['Thriller'],overwrite=True)\n",
        "df.update(df['SF'],overwrite=True)\n",
        "TV_H = df.groupby(['Thriller']).count()\n",
        "TV_H.iloc[:,[2]]\n"
      ],
      "metadata": {
        "colab": {
          "base_uri": "https://localhost:8080/",
          "height": 455
        },
        "id": "lKYxtbsrokY1",
        "outputId": "c38ccdc1-5b0f-4fcc-cd01-2e29c2f512a6"
      },
      "execution_count": 910,
      "outputs": [
        {
          "output_type": "execute_result",
          "data": {
            "text/plain": [
              "                                                    country\n",
              "Thriller                                                   \n",
              "Action & Adventure                                       86\n",
              "Action & Adventure, Anime Features, Children & ...        3\n",
              "Action & Adventure, Anime Features, Classic Movies        1\n",
              "Action & Adventure, Anime Features, Horror Movies         1\n",
              "Action & Adventure, Anime Features, Internation...       19\n",
              "...                                                     ...\n",
              "TV Horror, TV Mysteries, Teen TV Shows                    1\n",
              "TV Horror, Teen TV Shows                                  1\n",
              "TV Sci-Fi & Fantasy, TV Thrillers                         1\n",
              "TV Shows                                                  5\n",
              "Thrillers                                                41\n",
              "\n",
              "[457 rows x 1 columns]"
            ],
            "text/html": [
              "\n",
              "  <div id=\"df-496db552-d1d9-4b4f-90b6-abb04c49b0cb\">\n",
              "    <div class=\"colab-df-container\">\n",
              "      <div>\n",
              "<style scoped>\n",
              "    .dataframe tbody tr th:only-of-type {\n",
              "        vertical-align: middle;\n",
              "    }\n",
              "\n",
              "    .dataframe tbody tr th {\n",
              "        vertical-align: top;\n",
              "    }\n",
              "\n",
              "    .dataframe thead th {\n",
              "        text-align: right;\n",
              "    }\n",
              "</style>\n",
              "<table border=\"1\" class=\"dataframe\">\n",
              "  <thead>\n",
              "    <tr style=\"text-align: right;\">\n",
              "      <th></th>\n",
              "      <th>country</th>\n",
              "    </tr>\n",
              "    <tr>\n",
              "      <th>Thriller</th>\n",
              "      <th></th>\n",
              "    </tr>\n",
              "  </thead>\n",
              "  <tbody>\n",
              "    <tr>\n",
              "      <th>Action &amp; Adventure</th>\n",
              "      <td>86</td>\n",
              "    </tr>\n",
              "    <tr>\n",
              "      <th>Action &amp; Adventure, Anime Features, Children &amp; Family Movies</th>\n",
              "      <td>3</td>\n",
              "    </tr>\n",
              "    <tr>\n",
              "      <th>Action &amp; Adventure, Anime Features, Classic Movies</th>\n",
              "      <td>1</td>\n",
              "    </tr>\n",
              "    <tr>\n",
              "      <th>Action &amp; Adventure, Anime Features, Horror Movies</th>\n",
              "      <td>1</td>\n",
              "    </tr>\n",
              "    <tr>\n",
              "      <th>Action &amp; Adventure, Anime Features, International Movies</th>\n",
              "      <td>19</td>\n",
              "    </tr>\n",
              "    <tr>\n",
              "      <th>...</th>\n",
              "      <td>...</td>\n",
              "    </tr>\n",
              "    <tr>\n",
              "      <th>TV Horror, TV Mysteries, Teen TV Shows</th>\n",
              "      <td>1</td>\n",
              "    </tr>\n",
              "    <tr>\n",
              "      <th>TV Horror, Teen TV Shows</th>\n",
              "      <td>1</td>\n",
              "    </tr>\n",
              "    <tr>\n",
              "      <th>TV Sci-Fi &amp; Fantasy, TV Thrillers</th>\n",
              "      <td>1</td>\n",
              "    </tr>\n",
              "    <tr>\n",
              "      <th>TV Shows</th>\n",
              "      <td>5</td>\n",
              "    </tr>\n",
              "    <tr>\n",
              "      <th>Thrillers</th>\n",
              "      <td>41</td>\n",
              "    </tr>\n",
              "  </tbody>\n",
              "</table>\n",
              "<p>457 rows × 1 columns</p>\n",
              "</div>\n",
              "      <button class=\"colab-df-convert\" onclick=\"convertToInteractive('df-496db552-d1d9-4b4f-90b6-abb04c49b0cb')\"\n",
              "              title=\"Convert this dataframe to an interactive table.\"\n",
              "              style=\"display:none;\">\n",
              "        \n",
              "  <svg xmlns=\"http://www.w3.org/2000/svg\" height=\"24px\"viewBox=\"0 0 24 24\"\n",
              "       width=\"24px\">\n",
              "    <path d=\"M0 0h24v24H0V0z\" fill=\"none\"/>\n",
              "    <path d=\"M18.56 5.44l.94 2.06.94-2.06 2.06-.94-2.06-.94-.94-2.06-.94 2.06-2.06.94zm-11 1L8.5 8.5l.94-2.06 2.06-.94-2.06-.94L8.5 2.5l-.94 2.06-2.06.94zm10 10l.94 2.06.94-2.06 2.06-.94-2.06-.94-.94-2.06-.94 2.06-2.06.94z\"/><path d=\"M17.41 7.96l-1.37-1.37c-.4-.4-.92-.59-1.43-.59-.52 0-1.04.2-1.43.59L10.3 9.45l-7.72 7.72c-.78.78-.78 2.05 0 2.83L4 21.41c.39.39.9.59 1.41.59.51 0 1.02-.2 1.41-.59l7.78-7.78 2.81-2.81c.8-.78.8-2.07 0-2.86zM5.41 20L4 18.59l7.72-7.72 1.47 1.35L5.41 20z\"/>\n",
              "  </svg>\n",
              "      </button>\n",
              "      \n",
              "  <style>\n",
              "    .colab-df-container {\n",
              "      display:flex;\n",
              "      flex-wrap:wrap;\n",
              "      gap: 12px;\n",
              "    }\n",
              "\n",
              "    .colab-df-convert {\n",
              "      background-color: #E8F0FE;\n",
              "      border: none;\n",
              "      border-radius: 50%;\n",
              "      cursor: pointer;\n",
              "      display: none;\n",
              "      fill: #1967D2;\n",
              "      height: 32px;\n",
              "      padding: 0 0 0 0;\n",
              "      width: 32px;\n",
              "    }\n",
              "\n",
              "    .colab-df-convert:hover {\n",
              "      background-color: #E2EBFA;\n",
              "      box-shadow: 0px 1px 2px rgba(60, 64, 67, 0.3), 0px 1px 3px 1px rgba(60, 64, 67, 0.15);\n",
              "      fill: #174EA6;\n",
              "    }\n",
              "\n",
              "    [theme=dark] .colab-df-convert {\n",
              "      background-color: #3B4455;\n",
              "      fill: #D2E3FC;\n",
              "    }\n",
              "\n",
              "    [theme=dark] .colab-df-convert:hover {\n",
              "      background-color: #434B5C;\n",
              "      box-shadow: 0px 1px 3px 1px rgba(0, 0, 0, 0.15);\n",
              "      filter: drop-shadow(0px 1px 2px rgba(0, 0, 0, 0.3));\n",
              "      fill: #FFFFFF;\n",
              "    }\n",
              "  </style>\n",
              "\n",
              "      <script>\n",
              "        const buttonEl =\n",
              "          document.querySelector('#df-496db552-d1d9-4b4f-90b6-abb04c49b0cb button.colab-df-convert');\n",
              "        buttonEl.style.display =\n",
              "          google.colab.kernel.accessAllowed ? 'block' : 'none';\n",
              "\n",
              "        async function convertToInteractive(key) {\n",
              "          const element = document.querySelector('#df-496db552-d1d9-4b4f-90b6-abb04c49b0cb');\n",
              "          const dataTable =\n",
              "            await google.colab.kernel.invokeFunction('convertToInteractive',\n",
              "                                                     [key], {});\n",
              "          if (!dataTable) return;\n",
              "\n",
              "          const docLinkHtml = 'Like what you see? Visit the ' +\n",
              "            '<a target=\"_blank\" href=https://colab.research.google.com/notebooks/data_table.ipynb>data table notebook</a>'\n",
              "            + ' to learn more about interactive tables.';\n",
              "          element.innerHTML = '';\n",
              "          dataTable['output_type'] = 'display_data';\n",
              "          await google.colab.output.renderOutput(dataTable, element);\n",
              "          const docLink = document.createElement('div');\n",
              "          docLink.innerHTML = docLinkHtml;\n",
              "          element.appendChild(docLink);\n",
              "        }\n",
              "      </script>\n",
              "    </div>\n",
              "  </div>\n",
              "  "
            ]
          },
          "metadata": {},
          "execution_count": 910
        }
      ]
    },
    {
      "cell_type": "markdown",
      "source": [
        "## DataFrame split"
      ],
      "metadata": {
        "id": "Pdo_z1bZggM1"
      }
    },
    {
      "cell_type": "code",
      "source": [
        "# TV Show DataFrame 만들기\n",
        "dataFilter_TV = df['type'] == 'TV Show'\n",
        "df[dataFilter_TV]\n",
        "\n",
        "df_TV = df[dataFilter_TV]\n",
        "\n",
        "# Movie DataFrame 만들기\n",
        "dataFilter_Movie = df['type'] == 'Movie'\n",
        "df[dataFilter_Movie]\n",
        "\n",
        "df_Movie = df[dataFilter_Movie]\n"
      ],
      "metadata": {
        "id": "B-GBSUSSgZnI"
      },
      "execution_count": 911,
      "outputs": []
    },
    {
      "cell_type": "markdown",
      "source": [
        "## Country null vlaues fill\n",
        ">TV Show country null vlaues fill"
      ],
      "metadata": {
        "id": "LpWjaqQAhO4t"
      }
    },
    {
      "cell_type": "code",
      "source": [
        "# NaN 채우기\n",
        "df_TV['country'].fillna(\"America\",inplace =True,limit =79)\n",
        "df_TV['country'].fillna(\"Africa\",inplace =True,limit =78)\n",
        "df_TV['country'].fillna(\"Asia\",inplace =True,limit =78)\n",
        "df_TV['country'].fillna(\"Europe\",inplace =True,limit =78)\n",
        "df_TV['country'].fillna(\"Oceania \",inplace =True,limit =78)\n",
        "# country 결측치 채워졌는지 확인\n",
        "df_TV['country'].isnull().sum()"
      ],
      "metadata": {
        "colab": {
          "base_uri": "https://localhost:8080/"
        },
        "id": "Z8UunHfFhCQn",
        "outputId": "769c4d8d-a3a2-4a4c-f387-aacdd483c086"
      },
      "execution_count": 912,
      "outputs": [
        {
          "output_type": "execute_result",
          "data": {
            "text/plain": [
              "0"
            ]
          },
          "metadata": {},
          "execution_count": 912
        }
      ]
    },
    {
      "cell_type": "code",
      "source": [
        "# 두개 이상의 국가 값 변경\n",
        "dfTV_strs=df_TV.loc[(df_TV['country'].str.count(','))!=0]\n",
        "\n",
        "dfTV_strs[0:49]['country'] ='Africa'\n",
        "\n",
        "dfTV_strs[49:98]['country']='America'\n",
        "\n",
        "dfTV_strs[98:147]['country']='Asia'\n",
        "\n",
        "dfTV_strs[147:196]['country']='Europe'\n",
        "\n",
        "dfTV_strs[196:]['country']='Oceania '\n",
        "\n",
        "df_TV.update(dfTV_strs,overwrite = True)"
      ],
      "metadata": {
        "id": "bH4M_Ev7hrPH"
      },
      "execution_count": 913,
      "outputs": []
    },
    {
      "cell_type": "markdown",
      "source": [
        "> Movie country null vlaues fill\n"
      ],
      "metadata": {
        "id": "ZhCsHMtivFH1"
      }
    },
    {
      "cell_type": "code",
      "source": [
        "# NaN 채우기\n",
        "df_Movie['country'].fillna(\"America\",inplace =True,limit =88)\n",
        "df_Movie['country'].fillna(\"Africa\",inplace =True,limit =88)\n",
        "df_Movie['country'].fillna(\"Asia\",inplace =True,limit =88)\n",
        "df_Movie['country'].fillna(\"Europe\",inplace =True,limit =88)\n",
        "df_Movie['country'].fillna(\"Oceania \",inplace =True,limit =88)\n",
        "# country 결측치 채워졌는지 확인\n",
        "df_Movie['country'].isnull().sum()"
      ],
      "metadata": {
        "colab": {
          "base_uri": "https://localhost:8080/"
        },
        "id": "l_RkGqgzmJu8",
        "outputId": "056ed26b-abac-467c-c1fe-506e0da617b9"
      },
      "execution_count": 914,
      "outputs": [
        {
          "output_type": "execute_result",
          "data": {
            "text/plain": [
              "0"
            ]
          },
          "metadata": {},
          "execution_count": 914
        }
      ]
    },
    {
      "cell_type": "code",
      "source": [
        "# 두개 이상의 국가 값 변경\n",
        "dfMovie_strs=df_Movie.loc[(df_Movie['country'].str.count(','))!=0]\n",
        "\n",
        "dfMovie_strs[0:215]['country'] ='Africa'\n",
        "\n",
        "dfMovie_strs[215:430]['country']='America'\n",
        "\n",
        "dfMovie_strs[430:645]['country']='Asia'\n",
        "\n",
        "dfMovie_strs[645:860]['country']='Europe'\n",
        "\n",
        "dfMovie_strs[860:]['country']='Oceania '\n",
        "\n",
        "df_Movie.update(dfMovie_strs,overwrite = True)"
      ],
      "metadata": {
        "id": "KCRvXxhKwLbL"
      },
      "execution_count": 915,
      "outputs": []
    },
    {
      "cell_type": "markdown",
      "source": [
        "### 나라를 대륙별로 분류하기\n",
        "> TV Show"
      ],
      "metadata": {
        "id": "AN9j8ID2xOZB"
      }
    },
    {
      "cell_type": "code",
      "source": [
        "df_TV_T = df_TV.groupby(['country']).count()\n",
        "df_TV_T.iloc[:,[2]]"
      ],
      "metadata": {
        "colab": {
          "base_uri": "https://localhost:8080/",
          "height": 1000
        },
        "id": "wSR-kNStxNQl",
        "outputId": "ac70f816-4d9f-4c63-f191-44af1e73405c"
      },
      "execution_count": 916,
      "outputs": [
        {
          "output_type": "execute_result",
          "data": {
            "text/plain": [
              "                      release_year\n",
              "country                           \n",
              "Africa                         127\n",
              "America                        128\n",
              "Argentina                       18\n",
              "Asia                           127\n",
              "Australia                       48\n",
              "Belarus                          1\n",
              "Belgium                          8\n",
              "Brazil                          27\n",
              "Canada                          59\n",
              "Chile                            3\n",
              "China                           38\n",
              "Colombia                        22\n",
              "Croatia                          1\n",
              "Cyprus                           1\n",
              "Denmark                          8\n",
              "Egypt                           14\n",
              "Europe                         127\n",
              "Finland                          1\n",
              "France                          49\n",
              "Germany                         20\n",
              "Hong Kong                        3\n",
              "Iceland                          3\n",
              "India                           79\n",
              "Indonesia                        2\n",
              "Ireland                          3\n",
              "Israel                           8\n",
              "Italy                           13\n",
              "Japan                          169\n",
              "Jordan                           2\n",
              "Kuwait                           2\n",
              "Lebanon                          6\n",
              "Luxembourg                       1\n",
              "Malaysia                         6\n",
              "Mexico                          40\n",
              "Netherlands                      4\n",
              "New Zealand                      2\n",
              "Nigeria                          9\n",
              "Norway                           5\n",
              "Oceania                        127\n",
              "Pakistan                         4\n",
              "Philippines                      2\n",
              "Poland                           6\n",
              "Russia                          14\n",
              "Saudi Arabia                     3\n",
              "Senegal                          1\n",
              "Singapore                       17\n",
              "South Africa                     6\n",
              "South Korea                    158\n",
              "Spain                           48\n",
              "Sweden                           8\n",
              "Switzerland                      1\n",
              "Taiwan                          68\n",
              "Thailand                        24\n",
              "Turkey                          29\n",
              "Ukraine                          2\n",
              "United Arab Emirates             1\n",
              "United Kingdom                 213\n",
              "United States                  760"
            ],
            "text/html": [
              "\n",
              "  <div id=\"df-a98541a0-b680-4d31-96b0-6153ac4575dc\">\n",
              "    <div class=\"colab-df-container\">\n",
              "      <div>\n",
              "<style scoped>\n",
              "    .dataframe tbody tr th:only-of-type {\n",
              "        vertical-align: middle;\n",
              "    }\n",
              "\n",
              "    .dataframe tbody tr th {\n",
              "        vertical-align: top;\n",
              "    }\n",
              "\n",
              "    .dataframe thead th {\n",
              "        text-align: right;\n",
              "    }\n",
              "</style>\n",
              "<table border=\"1\" class=\"dataframe\">\n",
              "  <thead>\n",
              "    <tr style=\"text-align: right;\">\n",
              "      <th></th>\n",
              "      <th>release_year</th>\n",
              "    </tr>\n",
              "    <tr>\n",
              "      <th>country</th>\n",
              "      <th></th>\n",
              "    </tr>\n",
              "  </thead>\n",
              "  <tbody>\n",
              "    <tr>\n",
              "      <th>Africa</th>\n",
              "      <td>127</td>\n",
              "    </tr>\n",
              "    <tr>\n",
              "      <th>America</th>\n",
              "      <td>128</td>\n",
              "    </tr>\n",
              "    <tr>\n",
              "      <th>Argentina</th>\n",
              "      <td>18</td>\n",
              "    </tr>\n",
              "    <tr>\n",
              "      <th>Asia</th>\n",
              "      <td>127</td>\n",
              "    </tr>\n",
              "    <tr>\n",
              "      <th>Australia</th>\n",
              "      <td>48</td>\n",
              "    </tr>\n",
              "    <tr>\n",
              "      <th>Belarus</th>\n",
              "      <td>1</td>\n",
              "    </tr>\n",
              "    <tr>\n",
              "      <th>Belgium</th>\n",
              "      <td>8</td>\n",
              "    </tr>\n",
              "    <tr>\n",
              "      <th>Brazil</th>\n",
              "      <td>27</td>\n",
              "    </tr>\n",
              "    <tr>\n",
              "      <th>Canada</th>\n",
              "      <td>59</td>\n",
              "    </tr>\n",
              "    <tr>\n",
              "      <th>Chile</th>\n",
              "      <td>3</td>\n",
              "    </tr>\n",
              "    <tr>\n",
              "      <th>China</th>\n",
              "      <td>38</td>\n",
              "    </tr>\n",
              "    <tr>\n",
              "      <th>Colombia</th>\n",
              "      <td>22</td>\n",
              "    </tr>\n",
              "    <tr>\n",
              "      <th>Croatia</th>\n",
              "      <td>1</td>\n",
              "    </tr>\n",
              "    <tr>\n",
              "      <th>Cyprus</th>\n",
              "      <td>1</td>\n",
              "    </tr>\n",
              "    <tr>\n",
              "      <th>Denmark</th>\n",
              "      <td>8</td>\n",
              "    </tr>\n",
              "    <tr>\n",
              "      <th>Egypt</th>\n",
              "      <td>14</td>\n",
              "    </tr>\n",
              "    <tr>\n",
              "      <th>Europe</th>\n",
              "      <td>127</td>\n",
              "    </tr>\n",
              "    <tr>\n",
              "      <th>Finland</th>\n",
              "      <td>1</td>\n",
              "    </tr>\n",
              "    <tr>\n",
              "      <th>France</th>\n",
              "      <td>49</td>\n",
              "    </tr>\n",
              "    <tr>\n",
              "      <th>Germany</th>\n",
              "      <td>20</td>\n",
              "    </tr>\n",
              "    <tr>\n",
              "      <th>Hong Kong</th>\n",
              "      <td>3</td>\n",
              "    </tr>\n",
              "    <tr>\n",
              "      <th>Iceland</th>\n",
              "      <td>3</td>\n",
              "    </tr>\n",
              "    <tr>\n",
              "      <th>India</th>\n",
              "      <td>79</td>\n",
              "    </tr>\n",
              "    <tr>\n",
              "      <th>Indonesia</th>\n",
              "      <td>2</td>\n",
              "    </tr>\n",
              "    <tr>\n",
              "      <th>Ireland</th>\n",
              "      <td>3</td>\n",
              "    </tr>\n",
              "    <tr>\n",
              "      <th>Israel</th>\n",
              "      <td>8</td>\n",
              "    </tr>\n",
              "    <tr>\n",
              "      <th>Italy</th>\n",
              "      <td>13</td>\n",
              "    </tr>\n",
              "    <tr>\n",
              "      <th>Japan</th>\n",
              "      <td>169</td>\n",
              "    </tr>\n",
              "    <tr>\n",
              "      <th>Jordan</th>\n",
              "      <td>2</td>\n",
              "    </tr>\n",
              "    <tr>\n",
              "      <th>Kuwait</th>\n",
              "      <td>2</td>\n",
              "    </tr>\n",
              "    <tr>\n",
              "      <th>Lebanon</th>\n",
              "      <td>6</td>\n",
              "    </tr>\n",
              "    <tr>\n",
              "      <th>Luxembourg</th>\n",
              "      <td>1</td>\n",
              "    </tr>\n",
              "    <tr>\n",
              "      <th>Malaysia</th>\n",
              "      <td>6</td>\n",
              "    </tr>\n",
              "    <tr>\n",
              "      <th>Mexico</th>\n",
              "      <td>40</td>\n",
              "    </tr>\n",
              "    <tr>\n",
              "      <th>Netherlands</th>\n",
              "      <td>4</td>\n",
              "    </tr>\n",
              "    <tr>\n",
              "      <th>New Zealand</th>\n",
              "      <td>2</td>\n",
              "    </tr>\n",
              "    <tr>\n",
              "      <th>Nigeria</th>\n",
              "      <td>9</td>\n",
              "    </tr>\n",
              "    <tr>\n",
              "      <th>Norway</th>\n",
              "      <td>5</td>\n",
              "    </tr>\n",
              "    <tr>\n",
              "      <th>Oceania</th>\n",
              "      <td>127</td>\n",
              "    </tr>\n",
              "    <tr>\n",
              "      <th>Pakistan</th>\n",
              "      <td>4</td>\n",
              "    </tr>\n",
              "    <tr>\n",
              "      <th>Philippines</th>\n",
              "      <td>2</td>\n",
              "    </tr>\n",
              "    <tr>\n",
              "      <th>Poland</th>\n",
              "      <td>6</td>\n",
              "    </tr>\n",
              "    <tr>\n",
              "      <th>Russia</th>\n",
              "      <td>14</td>\n",
              "    </tr>\n",
              "    <tr>\n",
              "      <th>Saudi Arabia</th>\n",
              "      <td>3</td>\n",
              "    </tr>\n",
              "    <tr>\n",
              "      <th>Senegal</th>\n",
              "      <td>1</td>\n",
              "    </tr>\n",
              "    <tr>\n",
              "      <th>Singapore</th>\n",
              "      <td>17</td>\n",
              "    </tr>\n",
              "    <tr>\n",
              "      <th>South Africa</th>\n",
              "      <td>6</td>\n",
              "    </tr>\n",
              "    <tr>\n",
              "      <th>South Korea</th>\n",
              "      <td>158</td>\n",
              "    </tr>\n",
              "    <tr>\n",
              "      <th>Spain</th>\n",
              "      <td>48</td>\n",
              "    </tr>\n",
              "    <tr>\n",
              "      <th>Sweden</th>\n",
              "      <td>8</td>\n",
              "    </tr>\n",
              "    <tr>\n",
              "      <th>Switzerland</th>\n",
              "      <td>1</td>\n",
              "    </tr>\n",
              "    <tr>\n",
              "      <th>Taiwan</th>\n",
              "      <td>68</td>\n",
              "    </tr>\n",
              "    <tr>\n",
              "      <th>Thailand</th>\n",
              "      <td>24</td>\n",
              "    </tr>\n",
              "    <tr>\n",
              "      <th>Turkey</th>\n",
              "      <td>29</td>\n",
              "    </tr>\n",
              "    <tr>\n",
              "      <th>Ukraine</th>\n",
              "      <td>2</td>\n",
              "    </tr>\n",
              "    <tr>\n",
              "      <th>United Arab Emirates</th>\n",
              "      <td>1</td>\n",
              "    </tr>\n",
              "    <tr>\n",
              "      <th>United Kingdom</th>\n",
              "      <td>213</td>\n",
              "    </tr>\n",
              "    <tr>\n",
              "      <th>United States</th>\n",
              "      <td>760</td>\n",
              "    </tr>\n",
              "  </tbody>\n",
              "</table>\n",
              "</div>\n",
              "      <button class=\"colab-df-convert\" onclick=\"convertToInteractive('df-a98541a0-b680-4d31-96b0-6153ac4575dc')\"\n",
              "              title=\"Convert this dataframe to an interactive table.\"\n",
              "              style=\"display:none;\">\n",
              "        \n",
              "  <svg xmlns=\"http://www.w3.org/2000/svg\" height=\"24px\"viewBox=\"0 0 24 24\"\n",
              "       width=\"24px\">\n",
              "    <path d=\"M0 0h24v24H0V0z\" fill=\"none\"/>\n",
              "    <path d=\"M18.56 5.44l.94 2.06.94-2.06 2.06-.94-2.06-.94-.94-2.06-.94 2.06-2.06.94zm-11 1L8.5 8.5l.94-2.06 2.06-.94-2.06-.94L8.5 2.5l-.94 2.06-2.06.94zm10 10l.94 2.06.94-2.06 2.06-.94-2.06-.94-.94-2.06-.94 2.06-2.06.94z\"/><path d=\"M17.41 7.96l-1.37-1.37c-.4-.4-.92-.59-1.43-.59-.52 0-1.04.2-1.43.59L10.3 9.45l-7.72 7.72c-.78.78-.78 2.05 0 2.83L4 21.41c.39.39.9.59 1.41.59.51 0 1.02-.2 1.41-.59l7.78-7.78 2.81-2.81c.8-.78.8-2.07 0-2.86zM5.41 20L4 18.59l7.72-7.72 1.47 1.35L5.41 20z\"/>\n",
              "  </svg>\n",
              "      </button>\n",
              "      \n",
              "  <style>\n",
              "    .colab-df-container {\n",
              "      display:flex;\n",
              "      flex-wrap:wrap;\n",
              "      gap: 12px;\n",
              "    }\n",
              "\n",
              "    .colab-df-convert {\n",
              "      background-color: #E8F0FE;\n",
              "      border: none;\n",
              "      border-radius: 50%;\n",
              "      cursor: pointer;\n",
              "      display: none;\n",
              "      fill: #1967D2;\n",
              "      height: 32px;\n",
              "      padding: 0 0 0 0;\n",
              "      width: 32px;\n",
              "    }\n",
              "\n",
              "    .colab-df-convert:hover {\n",
              "      background-color: #E2EBFA;\n",
              "      box-shadow: 0px 1px 2px rgba(60, 64, 67, 0.3), 0px 1px 3px 1px rgba(60, 64, 67, 0.15);\n",
              "      fill: #174EA6;\n",
              "    }\n",
              "\n",
              "    [theme=dark] .colab-df-convert {\n",
              "      background-color: #3B4455;\n",
              "      fill: #D2E3FC;\n",
              "    }\n",
              "\n",
              "    [theme=dark] .colab-df-convert:hover {\n",
              "      background-color: #434B5C;\n",
              "      box-shadow: 0px 1px 3px 1px rgba(0, 0, 0, 0.15);\n",
              "      filter: drop-shadow(0px 1px 2px rgba(0, 0, 0, 0.3));\n",
              "      fill: #FFFFFF;\n",
              "    }\n",
              "  </style>\n",
              "\n",
              "      <script>\n",
              "        const buttonEl =\n",
              "          document.querySelector('#df-a98541a0-b680-4d31-96b0-6153ac4575dc button.colab-df-convert');\n",
              "        buttonEl.style.display =\n",
              "          google.colab.kernel.accessAllowed ? 'block' : 'none';\n",
              "\n",
              "        async function convertToInteractive(key) {\n",
              "          const element = document.querySelector('#df-a98541a0-b680-4d31-96b0-6153ac4575dc');\n",
              "          const dataTable =\n",
              "            await google.colab.kernel.invokeFunction('convertToInteractive',\n",
              "                                                     [key], {});\n",
              "          if (!dataTable) return;\n",
              "\n",
              "          const docLinkHtml = 'Like what you see? Visit the ' +\n",
              "            '<a target=\"_blank\" href=https://colab.research.google.com/notebooks/data_table.ipynb>data table notebook</a>'\n",
              "            + ' to learn more about interactive tables.';\n",
              "          element.innerHTML = '';\n",
              "          dataTable['output_type'] = 'display_data';\n",
              "          await google.colab.output.renderOutput(dataTable, element);\n",
              "          const docLink = document.createElement('div');\n",
              "          docLink.innerHTML = docLinkHtml;\n",
              "          element.appendChild(docLink);\n",
              "        }\n",
              "      </script>\n",
              "    </div>\n",
              "  </div>\n",
              "  "
            ]
          },
          "metadata": {},
          "execution_count": 916
        }
      ]
    },
    {
      "cell_type": "code",
      "source": [
        "def category_continent(x) :\n",
        "  if x == ('Senegal')or x== ('South Africa')or x== ('Nigeria ')or x== ('Africa') :\n",
        "    return 0\n",
        "  elif x == ('Chile')or x== ('Argentina')or x== ('Colombia')or x== ('Brazil')or x== ('Mexico')or x== ('Canada')or x== ('America')or x== ('United States'):\n",
        "    return 1\n",
        "  elif x == ('United Arab Emirates')or x== ('Cyprus')or x== ('Philippines')or x== ('Kuwait')or x== ('Jordan')or x== ('Indonesia')or x== ('Saudi Arabia')or x== ('Hong Kong')or x== ('Pakistan')or x== ('Malaysia')or x== ('Lebanon')or x== ('Israel')or x== ('Russia')or x== ('Egypt')or x== ('Singapore')or x== ('Thailand')or x== ('Turkey')or x== ('China')or x== ('India')or x== ('Taiwan')or x== ('Asia')or x== ('South Korea')or x== ('Japan'):\n",
        "    return 2\n",
        "  elif x == ('Switzerland')or x== ('Luxembourg')or x== ('Finland')or x== ('Croatia')or x== ('Belarus')or x== ('Ukraine')or x== ('Netherlands')or x== ('Ireland')or x== ('Iceland')or x== ('Norway')or x== ('Poland')or x== ('Belgium')or x== ('Sweden')or x== ('Denmark')or x== ('Italy')or x== ('Germany')or x== ('France')or x== ('Spain')or x== ('Europe')or x== ('United Kingdom'):\n",
        "    return 3\n",
        "  else :\n",
        "    return 4"
      ],
      "metadata": {
        "id": "pKCxuWvoxZDf"
      },
      "execution_count": 917,
      "outputs": []
    },
    {
      "cell_type": "code",
      "source": [
        "df_TV['Continent'] = df_TV['country'].apply(category_continent)\n",
        "df_TV.drop(['country'],axis=1,inplace=True)"
      ],
      "metadata": {
        "id": "3QGW08OMxa5m"
      },
      "execution_count": 918,
      "outputs": []
    },
    {
      "cell_type": "markdown",
      "source": [
        "> Movie"
      ],
      "metadata": {
        "id": "qvnjmjTZxgUh"
      }
    },
    {
      "cell_type": "code",
      "source": [
        "df_Movie_T = df_Movie.groupby(['country']).count()\n",
        "df_Movie_T.iloc[:,[2]]"
      ],
      "metadata": {
        "colab": {
          "base_uri": "https://localhost:8080/",
          "height": 455
        },
        "id": "JsPAfHeXxn9B",
        "outputId": "c4333aaf-79d5-427f-c83a-4e1f830e446a"
      },
      "execution_count": 919,
      "outputs": [
        {
          "output_type": "execute_result",
          "data": {
            "text/plain": [
              "              release_year\n",
              "country                   \n",
              "Africa                 303\n",
              "America                303\n",
              "Argentina               38\n",
              "Asia                   303\n",
              "Australia               39\n",
              "...                    ...\n",
              "Uruguay                  3\n",
              "Venezuela                1\n",
              "Vietnam                  7\n",
              "West Germany             1\n",
              "Zimbabwe                 1\n",
              "\n",
              "[70 rows x 1 columns]"
            ],
            "text/html": [
              "\n",
              "  <div id=\"df-2b15f4c5-c9ae-49a2-9c2a-6d553b3c22f7\">\n",
              "    <div class=\"colab-df-container\">\n",
              "      <div>\n",
              "<style scoped>\n",
              "    .dataframe tbody tr th:only-of-type {\n",
              "        vertical-align: middle;\n",
              "    }\n",
              "\n",
              "    .dataframe tbody tr th {\n",
              "        vertical-align: top;\n",
              "    }\n",
              "\n",
              "    .dataframe thead th {\n",
              "        text-align: right;\n",
              "    }\n",
              "</style>\n",
              "<table border=\"1\" class=\"dataframe\">\n",
              "  <thead>\n",
              "    <tr style=\"text-align: right;\">\n",
              "      <th></th>\n",
              "      <th>release_year</th>\n",
              "    </tr>\n",
              "    <tr>\n",
              "      <th>country</th>\n",
              "      <th></th>\n",
              "    </tr>\n",
              "  </thead>\n",
              "  <tbody>\n",
              "    <tr>\n",
              "      <th>Africa</th>\n",
              "      <td>303</td>\n",
              "    </tr>\n",
              "    <tr>\n",
              "      <th>America</th>\n",
              "      <td>303</td>\n",
              "    </tr>\n",
              "    <tr>\n",
              "      <th>Argentina</th>\n",
              "      <td>38</td>\n",
              "    </tr>\n",
              "    <tr>\n",
              "      <th>Asia</th>\n",
              "      <td>303</td>\n",
              "    </tr>\n",
              "    <tr>\n",
              "      <th>Australia</th>\n",
              "      <td>39</td>\n",
              "    </tr>\n",
              "    <tr>\n",
              "      <th>...</th>\n",
              "      <td>...</td>\n",
              "    </tr>\n",
              "    <tr>\n",
              "      <th>Uruguay</th>\n",
              "      <td>3</td>\n",
              "    </tr>\n",
              "    <tr>\n",
              "      <th>Venezuela</th>\n",
              "      <td>1</td>\n",
              "    </tr>\n",
              "    <tr>\n",
              "      <th>Vietnam</th>\n",
              "      <td>7</td>\n",
              "    </tr>\n",
              "    <tr>\n",
              "      <th>West Germany</th>\n",
              "      <td>1</td>\n",
              "    </tr>\n",
              "    <tr>\n",
              "      <th>Zimbabwe</th>\n",
              "      <td>1</td>\n",
              "    </tr>\n",
              "  </tbody>\n",
              "</table>\n",
              "<p>70 rows × 1 columns</p>\n",
              "</div>\n",
              "      <button class=\"colab-df-convert\" onclick=\"convertToInteractive('df-2b15f4c5-c9ae-49a2-9c2a-6d553b3c22f7')\"\n",
              "              title=\"Convert this dataframe to an interactive table.\"\n",
              "              style=\"display:none;\">\n",
              "        \n",
              "  <svg xmlns=\"http://www.w3.org/2000/svg\" height=\"24px\"viewBox=\"0 0 24 24\"\n",
              "       width=\"24px\">\n",
              "    <path d=\"M0 0h24v24H0V0z\" fill=\"none\"/>\n",
              "    <path d=\"M18.56 5.44l.94 2.06.94-2.06 2.06-.94-2.06-.94-.94-2.06-.94 2.06-2.06.94zm-11 1L8.5 8.5l.94-2.06 2.06-.94-2.06-.94L8.5 2.5l-.94 2.06-2.06.94zm10 10l.94 2.06.94-2.06 2.06-.94-2.06-.94-.94-2.06-.94 2.06-2.06.94z\"/><path d=\"M17.41 7.96l-1.37-1.37c-.4-.4-.92-.59-1.43-.59-.52 0-1.04.2-1.43.59L10.3 9.45l-7.72 7.72c-.78.78-.78 2.05 0 2.83L4 21.41c.39.39.9.59 1.41.59.51 0 1.02-.2 1.41-.59l7.78-7.78 2.81-2.81c.8-.78.8-2.07 0-2.86zM5.41 20L4 18.59l7.72-7.72 1.47 1.35L5.41 20z\"/>\n",
              "  </svg>\n",
              "      </button>\n",
              "      \n",
              "  <style>\n",
              "    .colab-df-container {\n",
              "      display:flex;\n",
              "      flex-wrap:wrap;\n",
              "      gap: 12px;\n",
              "    }\n",
              "\n",
              "    .colab-df-convert {\n",
              "      background-color: #E8F0FE;\n",
              "      border: none;\n",
              "      border-radius: 50%;\n",
              "      cursor: pointer;\n",
              "      display: none;\n",
              "      fill: #1967D2;\n",
              "      height: 32px;\n",
              "      padding: 0 0 0 0;\n",
              "      width: 32px;\n",
              "    }\n",
              "\n",
              "    .colab-df-convert:hover {\n",
              "      background-color: #E2EBFA;\n",
              "      box-shadow: 0px 1px 2px rgba(60, 64, 67, 0.3), 0px 1px 3px 1px rgba(60, 64, 67, 0.15);\n",
              "      fill: #174EA6;\n",
              "    }\n",
              "\n",
              "    [theme=dark] .colab-df-convert {\n",
              "      background-color: #3B4455;\n",
              "      fill: #D2E3FC;\n",
              "    }\n",
              "\n",
              "    [theme=dark] .colab-df-convert:hover {\n",
              "      background-color: #434B5C;\n",
              "      box-shadow: 0px 1px 3px 1px rgba(0, 0, 0, 0.15);\n",
              "      filter: drop-shadow(0px 1px 2px rgba(0, 0, 0, 0.3));\n",
              "      fill: #FFFFFF;\n",
              "    }\n",
              "  </style>\n",
              "\n",
              "      <script>\n",
              "        const buttonEl =\n",
              "          document.querySelector('#df-2b15f4c5-c9ae-49a2-9c2a-6d553b3c22f7 button.colab-df-convert');\n",
              "        buttonEl.style.display =\n",
              "          google.colab.kernel.accessAllowed ? 'block' : 'none';\n",
              "\n",
              "        async function convertToInteractive(key) {\n",
              "          const element = document.querySelector('#df-2b15f4c5-c9ae-49a2-9c2a-6d553b3c22f7');\n",
              "          const dataTable =\n",
              "            await google.colab.kernel.invokeFunction('convertToInteractive',\n",
              "                                                     [key], {});\n",
              "          if (!dataTable) return;\n",
              "\n",
              "          const docLinkHtml = 'Like what you see? Visit the ' +\n",
              "            '<a target=\"_blank\" href=https://colab.research.google.com/notebooks/data_table.ipynb>data table notebook</a>'\n",
              "            + ' to learn more about interactive tables.';\n",
              "          element.innerHTML = '';\n",
              "          dataTable['output_type'] = 'display_data';\n",
              "          await google.colab.output.renderOutput(dataTable, element);\n",
              "          const docLink = document.createElement('div');\n",
              "          docLink.innerHTML = docLinkHtml;\n",
              "          element.appendChild(docLink);\n",
              "        }\n",
              "      </script>\n",
              "    </div>\n",
              "  </div>\n",
              "  "
            ]
          },
          "metadata": {},
          "execution_count": 919
        }
      ]
    },
    {
      "cell_type": "code",
      "source": [
        "df_Movie['Continent'] = df_Movie['country'].apply(category_continent)\n",
        "df_Movie.drop(['country'],axis=1,inplace=True)"
      ],
      "metadata": {
        "id": "o3AexQ1Exydm"
      },
      "execution_count": 920,
      "outputs": []
    },
    {
      "cell_type": "markdown",
      "source": [
        "### Rating_band 만들기"
      ],
      "metadata": {
        "id": "uhXNbN5U4nih"
      }
    },
    {
      "cell_type": "markdown",
      "source": [
        "> TV Show rating_band\n",
        ">> * TV-14 : 14세 이상의 청소년들을 위한 프로그램\n",
        "\n",
        ">> * TV-MA : 17세 이하의 어린이나 청소년들에게 맞지 않는 프로그램\n",
        "\n",
        ">> * TV-PG : 부모가 정확히 내용을 알고 보여주라는 프로그램\n",
        "\n",
        ">> * TV-Y : 모든 어린이의 시청이 가능한 프로그램\n",
        "\n",
        ">> * TV-Y7 : 7세 이상의 어린이들을 대상으로 한 프로그램\n",
        "\n",
        ">> * TV-G : 모든 연령층이 볼 수 있는 프로그램\n"
      ],
      "metadata": {
        "id": "3edG0aU-4yii"
      }
    },
    {
      "cell_type": "code",
      "source": [
        "df_TV.loc[(df_TV.rating=='TV-14'),'rating'] = 14\n",
        "df_TV.loc[(df_TV.rating=='TV-MA'),'rating'] = 19\n",
        "df_TV.loc[(df_TV.rating=='TV-PG'),'rating'] = 0\n",
        "df_TV.loc[(df_TV.rating=='TV-Y'),'rating'] = 0\n",
        "df_TV.loc[(df_TV.rating=='TV-Y7'),'rating'] = 0\n",
        "df_TV.loc[(df_TV.rating=='TV-G'),'rating'] = 0\n",
        "df_TV.loc[(df_TV.rating=='NR'),'rating'] = 0\n",
        "df_TV.loc[(df_TV.rating=='TV-Y7-FV'),'rating'] = 0\n",
        "df_TV.loc[(df_TV.rating=='R'),'rating'] = 0\n",
        "\n",
        "# TV-PG, TV-Y, TV-Y7, TV-G, NR, TV-Y7-FV, R = 모든 연령을 뜻하는 '0'\n",
        "# TV-14 = 14세 이상 관람 가능 등급이므로 '14'\n",
        "# TV-MA = 청소년 관람 불가 등급이므로 '19' "
      ],
      "metadata": {
        "id": "8uBgXPf-4xGN"
      },
      "execution_count": 921,
      "outputs": []
    },
    {
      "cell_type": "markdown",
      "source": [
        "> Movie rating_band\n",
        ">> * G : 모든 연령층의 관객들이 볼 수 있는 영화\n",
        "\n",
        ">> * PG : 어린이 청소년들의 시청여부를 판단해야 하는 영화\n",
        "\n",
        ">> * PG-13 : 13세 이상의 청소년들이 볼 수 있는 영화\n",
        "\n",
        ">> * R : 18세 이상의 성인들을 위한 영화\n",
        "\n",
        ">> * TV-14 : 14세 이상의 청소년들을 위한 영화\n",
        "\n",
        ">> * TV-G : 모든 연령층이 볼 수 있는 영화\n",
        "\n",
        ">> * TV-MA : 17세 이하의 어린이나 청소년들에게 맞지 않는 영화\n",
        "\n",
        ">> * TV-PG : 부모가 정확히 내용을 알고 보여주라는 영화\n",
        "\n",
        ">> * TV-Y : 모든 어린이의 시청이 가능한 영화\n",
        "\n",
        ">> * TV-Y7 : 7세 이상의 어린이들을 대상으로 하는 영화\n",
        "\n",
        ">> * NR : 미성년자 관람이 불가한 영화\n",
        "\n",
        ">> * NC-17 : 18세 이상의 성인들을 위한 영화(17세 이하의 청소년들은 시청 불가)\n",
        "\n",
        ">> * TV-Y7-FV : 틴 에이저나 청소년들을 위한 영화\n",
        "\n",
        ">> * UR : 미성년자 관람이 불가한 영화"
      ],
      "metadata": {
        "id": "cK8v0kEM5ySp"
      }
    },
    {
      "cell_type": "code",
      "source": [
        "df_Movie.loc[(df_Movie.rating=='TV-14'),'rating'] = 14\n",
        "df_Movie.loc[(df_Movie.rating=='TV-MA'),'rating'] = 19\n",
        "df_Movie.loc[(df_Movie.rating=='TV-PG'),'rating'] = 0\n",
        "df_Movie.loc[(df_Movie.rating=='TV-Y'),'rating'] = 0\n",
        "df_Movie.loc[(df_Movie.rating=='TV-Y7'),'rating'] = 0\n",
        "df_Movie.loc[(df_Movie.rating=='TV-G'),'rating'] = 0\n",
        "df_Movie.loc[(df_Movie.rating=='NR'),'rating'] = 19\n",
        "df_Movie.loc[(df_Movie.rating=='TV-Y7-FV'),'rating'] = 0\n",
        "df_Movie.loc[(df_Movie.rating=='R'),'rating'] = 19\n",
        "df_Movie.loc[(df_Movie.rating=='G'),'rating'] = 0\n",
        "df_Movie.loc[(df_Movie.rating=='PG'),'rating'] = 14\n",
        "df_Movie.loc[(df_Movie.rating=='PG-13'),'rating'] = 0\n",
        "df_Movie.loc[(df_Movie.rating=='UR'),'rating'] = 19\n",
        "df_Movie.loc[(df_Movie.rating=='NC-17'),'rating'] = 19\n",
        "df_Movie.loc[(df_Movie.rating=='66 min'),'rating'] = 0\n",
        "df_Movie.loc[(df_Movie.rating=='74 min'),'rating'] = 0\n",
        "df_Movie.loc[(df_Movie.rating=='84 min'),'rating'] = 0\n",
        "\n",
        "# TV-PG, TV-Y, TV-Y7, TV-G, TV-Y7-FV, G, PG-13, 66 min, 74 min, 84 min = 모든연령 등급 ='0'\n",
        "# TV-14, PG = 14세 이상 관람 가능 등급이므로 '14'\n",
        "# TV-MA, NR, R, UR, NC-17 = 청소년 관람 불가 등급이므로 '19'"
      ],
      "metadata": {
        "id": "ny1yQEes4--p"
      },
      "execution_count": 922,
      "outputs": []
    },
    {
      "cell_type": "markdown",
      "source": [
        "### duration 수치형으로 변환\n",
        "> TV_Show duration 수치형 변환\n"
      ],
      "metadata": {
        "id": "hX2sJnWrRU7M"
      }
    },
    {
      "cell_type": "code",
      "source": [
        "# duration 종류 확인\n",
        "df_TV_T = df_TV.groupby(['duration']).count()\n",
        "df_TV_T.iloc[:,[2]]"
      ],
      "metadata": {
        "colab": {
          "base_uri": "https://localhost:8080/",
          "height": 551
        },
        "id": "2ivgYS0e6EDC",
        "outputId": "f15c42ca-0938-42ab-f0bc-83ebed6f437a"
      },
      "execution_count": 923,
      "outputs": [
        {
          "output_type": "execute_result",
          "data": {
            "text/plain": [
              "            release_year\n",
              "duration                \n",
              "1 Season            1793\n",
              "10 Seasons             7\n",
              "11 Seasons             2\n",
              "12 Seasons             2\n",
              "13 Seasons             3\n",
              "15 Seasons             2\n",
              "17 Seasons             1\n",
              "2 Seasons            425\n",
              "3 Seasons            199\n",
              "4 Seasons             95\n",
              "5 Seasons             65\n",
              "6 Seasons             33\n",
              "7 Seasons             23\n",
              "8 Seasons             17\n",
              "9 Seasons              9"
            ],
            "text/html": [
              "\n",
              "  <div id=\"df-864b3d5a-a737-4a9f-9922-45d90dc23f76\">\n",
              "    <div class=\"colab-df-container\">\n",
              "      <div>\n",
              "<style scoped>\n",
              "    .dataframe tbody tr th:only-of-type {\n",
              "        vertical-align: middle;\n",
              "    }\n",
              "\n",
              "    .dataframe tbody tr th {\n",
              "        vertical-align: top;\n",
              "    }\n",
              "\n",
              "    .dataframe thead th {\n",
              "        text-align: right;\n",
              "    }\n",
              "</style>\n",
              "<table border=\"1\" class=\"dataframe\">\n",
              "  <thead>\n",
              "    <tr style=\"text-align: right;\">\n",
              "      <th></th>\n",
              "      <th>release_year</th>\n",
              "    </tr>\n",
              "    <tr>\n",
              "      <th>duration</th>\n",
              "      <th></th>\n",
              "    </tr>\n",
              "  </thead>\n",
              "  <tbody>\n",
              "    <tr>\n",
              "      <th>1 Season</th>\n",
              "      <td>1793</td>\n",
              "    </tr>\n",
              "    <tr>\n",
              "      <th>10 Seasons</th>\n",
              "      <td>7</td>\n",
              "    </tr>\n",
              "    <tr>\n",
              "      <th>11 Seasons</th>\n",
              "      <td>2</td>\n",
              "    </tr>\n",
              "    <tr>\n",
              "      <th>12 Seasons</th>\n",
              "      <td>2</td>\n",
              "    </tr>\n",
              "    <tr>\n",
              "      <th>13 Seasons</th>\n",
              "      <td>3</td>\n",
              "    </tr>\n",
              "    <tr>\n",
              "      <th>15 Seasons</th>\n",
              "      <td>2</td>\n",
              "    </tr>\n",
              "    <tr>\n",
              "      <th>17 Seasons</th>\n",
              "      <td>1</td>\n",
              "    </tr>\n",
              "    <tr>\n",
              "      <th>2 Seasons</th>\n",
              "      <td>425</td>\n",
              "    </tr>\n",
              "    <tr>\n",
              "      <th>3 Seasons</th>\n",
              "      <td>199</td>\n",
              "    </tr>\n",
              "    <tr>\n",
              "      <th>4 Seasons</th>\n",
              "      <td>95</td>\n",
              "    </tr>\n",
              "    <tr>\n",
              "      <th>5 Seasons</th>\n",
              "      <td>65</td>\n",
              "    </tr>\n",
              "    <tr>\n",
              "      <th>6 Seasons</th>\n",
              "      <td>33</td>\n",
              "    </tr>\n",
              "    <tr>\n",
              "      <th>7 Seasons</th>\n",
              "      <td>23</td>\n",
              "    </tr>\n",
              "    <tr>\n",
              "      <th>8 Seasons</th>\n",
              "      <td>17</td>\n",
              "    </tr>\n",
              "    <tr>\n",
              "      <th>9 Seasons</th>\n",
              "      <td>9</td>\n",
              "    </tr>\n",
              "  </tbody>\n",
              "</table>\n",
              "</div>\n",
              "      <button class=\"colab-df-convert\" onclick=\"convertToInteractive('df-864b3d5a-a737-4a9f-9922-45d90dc23f76')\"\n",
              "              title=\"Convert this dataframe to an interactive table.\"\n",
              "              style=\"display:none;\">\n",
              "        \n",
              "  <svg xmlns=\"http://www.w3.org/2000/svg\" height=\"24px\"viewBox=\"0 0 24 24\"\n",
              "       width=\"24px\">\n",
              "    <path d=\"M0 0h24v24H0V0z\" fill=\"none\"/>\n",
              "    <path d=\"M18.56 5.44l.94 2.06.94-2.06 2.06-.94-2.06-.94-.94-2.06-.94 2.06-2.06.94zm-11 1L8.5 8.5l.94-2.06 2.06-.94-2.06-.94L8.5 2.5l-.94 2.06-2.06.94zm10 10l.94 2.06.94-2.06 2.06-.94-2.06-.94-.94-2.06-.94 2.06-2.06.94z\"/><path d=\"M17.41 7.96l-1.37-1.37c-.4-.4-.92-.59-1.43-.59-.52 0-1.04.2-1.43.59L10.3 9.45l-7.72 7.72c-.78.78-.78 2.05 0 2.83L4 21.41c.39.39.9.59 1.41.59.51 0 1.02-.2 1.41-.59l7.78-7.78 2.81-2.81c.8-.78.8-2.07 0-2.86zM5.41 20L4 18.59l7.72-7.72 1.47 1.35L5.41 20z\"/>\n",
              "  </svg>\n",
              "      </button>\n",
              "      \n",
              "  <style>\n",
              "    .colab-df-container {\n",
              "      display:flex;\n",
              "      flex-wrap:wrap;\n",
              "      gap: 12px;\n",
              "    }\n",
              "\n",
              "    .colab-df-convert {\n",
              "      background-color: #E8F0FE;\n",
              "      border: none;\n",
              "      border-radius: 50%;\n",
              "      cursor: pointer;\n",
              "      display: none;\n",
              "      fill: #1967D2;\n",
              "      height: 32px;\n",
              "      padding: 0 0 0 0;\n",
              "      width: 32px;\n",
              "    }\n",
              "\n",
              "    .colab-df-convert:hover {\n",
              "      background-color: #E2EBFA;\n",
              "      box-shadow: 0px 1px 2px rgba(60, 64, 67, 0.3), 0px 1px 3px 1px rgba(60, 64, 67, 0.15);\n",
              "      fill: #174EA6;\n",
              "    }\n",
              "\n",
              "    [theme=dark] .colab-df-convert {\n",
              "      background-color: #3B4455;\n",
              "      fill: #D2E3FC;\n",
              "    }\n",
              "\n",
              "    [theme=dark] .colab-df-convert:hover {\n",
              "      background-color: #434B5C;\n",
              "      box-shadow: 0px 1px 3px 1px rgba(0, 0, 0, 0.15);\n",
              "      filter: drop-shadow(0px 1px 2px rgba(0, 0, 0, 0.3));\n",
              "      fill: #FFFFFF;\n",
              "    }\n",
              "  </style>\n",
              "\n",
              "      <script>\n",
              "        const buttonEl =\n",
              "          document.querySelector('#df-864b3d5a-a737-4a9f-9922-45d90dc23f76 button.colab-df-convert');\n",
              "        buttonEl.style.display =\n",
              "          google.colab.kernel.accessAllowed ? 'block' : 'none';\n",
              "\n",
              "        async function convertToInteractive(key) {\n",
              "          const element = document.querySelector('#df-864b3d5a-a737-4a9f-9922-45d90dc23f76');\n",
              "          const dataTable =\n",
              "            await google.colab.kernel.invokeFunction('convertToInteractive',\n",
              "                                                     [key], {});\n",
              "          if (!dataTable) return;\n",
              "\n",
              "          const docLinkHtml = 'Like what you see? Visit the ' +\n",
              "            '<a target=\"_blank\" href=https://colab.research.google.com/notebooks/data_table.ipynb>data table notebook</a>'\n",
              "            + ' to learn more about interactive tables.';\n",
              "          element.innerHTML = '';\n",
              "          dataTable['output_type'] = 'display_data';\n",
              "          await google.colab.output.renderOutput(dataTable, element);\n",
              "          const docLink = document.createElement('div');\n",
              "          docLink.innerHTML = docLinkHtml;\n",
              "          element.appendChild(docLink);\n",
              "        }\n",
              "      </script>\n",
              "    </div>\n",
              "  </div>\n",
              "  "
            ]
          },
          "metadata": {},
          "execution_count": 923
        }
      ]
    },
    {
      "cell_type": "code",
      "source": [
        "def category_duration\t(x) :\n",
        "  if x == \"1 Season\":\n",
        "    return 1\n",
        "  elif x == \"2 Seasons\" :\n",
        "    return 2\n",
        "  elif x == \"3 Seasons\" :\n",
        "    return 3\n",
        "  elif x == \"4 Seasons\" :\n",
        "    return 4\n",
        "  elif x == \"5 Seasons\" :\n",
        "    return 5\n",
        "  elif x == \"6 Seasons\" :\n",
        "    return 6 \n",
        "  elif x == \"7 Seasons\" :\n",
        "    return 7\n",
        "  elif x == \"8 Seasons\" :\n",
        "    return 8\n",
        "  elif x == \"9 Seasons\" :\n",
        "    return 9\n",
        "  elif x == \"10 Seasons\" :\n",
        "    return 10\n",
        "  elif x == \"11 Seasons\" :\n",
        "    return 11\n",
        "  elif x == \"12 Seasons\" :\n",
        "    return 12\n",
        "  elif x == \"13 Seasons\" :\n",
        "    return 13\n",
        "  elif x == \"15 Seasons\" :\n",
        "    return 15\n",
        "  elif x == \"17 Seasons\" :\n",
        "    return 17"
      ],
      "metadata": {
        "id": "gn-pu4hERqFo"
      },
      "execution_count": 924,
      "outputs": []
    },
    {
      "cell_type": "code",
      "source": [
        "df_TV['Duration'] = df_TV['duration'].apply(category_duration)\n",
        "df_TV.drop(['duration'],axis=1,inplace=True)"
      ],
      "metadata": {
        "id": "le5MQUFCSHPj"
      },
      "execution_count": 925,
      "outputs": []
    },
    {
      "cell_type": "markdown",
      "source": [
        "> Movie duration 수치형 변환"
      ],
      "metadata": {
        "id": "FrRXWrQoSLvZ"
      }
    },
    {
      "cell_type": "code",
      "source": [
        "# duration 종류 확인\n",
        "#df_Movie_T= df_Movie.groupby(['duration']).count()\n",
        "#df_Movie_T.iloc[:,[2]]\n",
        "\n",
        "df_Movie['Duration_T']= df_Movie['duration'].str.split(\" \",expand=True)[0]\n",
        "df_Movie.drop(['duration'],axis=1,inplace=True)\n",
        "\n",
        "# df_Movie 타입 변경 str -> int\n",
        "df_Movie['Duration_T'] = pd.to_numeric(df_Movie['Duration_T'])"
      ],
      "metadata": {
        "id": "Oa3WsgbDSKHj"
      },
      "execution_count": 926,
      "outputs": []
    },
    {
      "cell_type": "code",
      "source": [
        "def category_runningtime(x):\n",
        "  if 0 <= x <60 :\n",
        "    return 0\n",
        "  elif 60 <= x <120 :\n",
        "    return 1\n",
        "  elif 120 <= x <180 :\n",
        "    return 2\n",
        "  elif 180 <= x <240 :\n",
        "    return 3\n",
        "  elif 240 <= x <300 :\n",
        "    return 4\n",
        "  else :\n",
        "    return 5"
      ],
      "metadata": {
        "id": "ZvDRhsl4SWTA"
      },
      "execution_count": 927,
      "outputs": []
    },
    {
      "cell_type": "code",
      "source": [
        "df_Movie['Duration'] = df_Movie['Duration_T'].apply(category_runningtime)\n",
        "df_Movie.drop(['Duration_T'],axis=1,inplace=True)"
      ],
      "metadata": {
        "id": "Zti3UV_sVH8s"
      },
      "execution_count": 928,
      "outputs": []
    },
    {
      "cell_type": "code",
      "source": [
        "df_TV.fillna(0,inplace=True)\n",
        "df_Movie.fillna(0,inplace=True)"
      ],
      "metadata": {
        "id": "FKdrYYZAp_jr"
      },
      "execution_count": 929,
      "outputs": []
    },
    {
      "cell_type": "code",
      "source": [
        "df_TV"
      ],
      "metadata": {
        "colab": {
          "base_uri": "https://localhost:8080/",
          "height": 884
        },
        "id": "0tWICehK7Bf_",
        "outputId": "2e1640d8-1edc-45f0-bf4a-30f1b098371a"
      },
      "execution_count": 930,
      "outputs": [
        {
          "output_type": "execute_result",
          "data": {
            "text/plain": [
              "         type                  title  release_year  rating  \\\n",
              "1     TV Show          Blood & Water        2021.0      19   \n",
              "2     TV Show              Ganglands        2021.0      19   \n",
              "3     TV Show  Jailbirds New Orleans        2021.0      19   \n",
              "4     TV Show           Kota Factory        2021.0      19   \n",
              "5     TV Show          Midnight Mass        2021.0      19   \n",
              "...       ...                    ...           ...     ...   \n",
              "8795  TV Show        Yu-Gi-Oh! Arc-V        2015.0       0   \n",
              "8796  TV Show             Yunus Emre        2016.0       0   \n",
              "8797  TV Show              Zak Storm        2016.0       0   \n",
              "8800  TV Show     Zindagi Gulzar Hai        2012.0       0   \n",
              "8803  TV Show            Zombie Dumb        2018.0       0   \n",
              "\n",
              "                                              listed_in  \\\n",
              "1       International TV Shows, TV Dramas, TV Mysteries   \n",
              "2     Crime TV Shows, International TV Shows, TV Act...   \n",
              "3                                Docuseries, Reality TV   \n",
              "4     International TV Shows, Romantic TV Shows, TV ...   \n",
              "5                    TV Dramas, TV Horror, TV Mysteries   \n",
              "...                                                 ...   \n",
              "8795                             Anime Series, Kids' TV   \n",
              "8796                  International TV Shows, TV Dramas   \n",
              "8797                                           Kids' TV   \n",
              "8800  International TV Shows, Romantic TV Shows, TV ...   \n",
              "8803             Kids' TV, Korean TV Shows, TV Comedies   \n",
              "\n",
              "                                            description  Registered year  \\\n",
              "1     After crossing paths at a party, a Cape Town t...           2021.0   \n",
              "2     To protect his family from a powerful drug lor...           2021.0   \n",
              "3     Feuds, flirtations and toilet talk go down amo...           2021.0   \n",
              "4     In a city of coaching centers known to train I...           2021.0   \n",
              "5     The arrival of a charismatic young priest brin...           2021.0   \n",
              "...                                                 ...              ...   \n",
              "8795  Now that he's discovered the Pendulum Summonin...           2018.0   \n",
              "8796  During the Mongol invasions, Yunus Emre leaves...           2017.0   \n",
              "8797  Teen surfer Zak Storm is mysteriously transpor...           2018.0   \n",
              "8800  Strong-willed, middle-class Kashaf and carefre...           2016.0   \n",
              "8803  While living alone in a spooky town, a young g...           2019.0   \n",
              "\n",
              "      Registered month  Registered day  \\\n",
              "1                  9.0            24.0   \n",
              "2                  9.0            24.0   \n",
              "3                  9.0            24.0   \n",
              "4                  9.0            24.0   \n",
              "5                  9.0            24.0   \n",
              "...                ...             ...   \n",
              "8795               5.0             1.0   \n",
              "8796               1.0            17.0   \n",
              "8797               9.0            13.0   \n",
              "8800              12.0            15.0   \n",
              "8803               7.0             1.0   \n",
              "\n",
              "                                                 Horror Romance  \\\n",
              "1                                                     0       0   \n",
              "2                                                     0       0   \n",
              "3                                                     0       0   \n",
              "4                                                     0       0   \n",
              "5                                                     0       0   \n",
              "...                                                 ...     ...   \n",
              "8795                                                  0       0   \n",
              "8796                                                  0       0   \n",
              "8797                                                  0       0   \n",
              "8800  International TV Shows, Romantic TV Shows, TV ...       0   \n",
              "8803                                                  0       0   \n",
              "\n",
              "                                             Thriller SF  Continent  Duration  \n",
              "1     International TV Shows, TV Dramas, TV Mysteries  0          0         2  \n",
              "2                                                   0  0          1         1  \n",
              "3                                                   0  0          1         1  \n",
              "4                                                   0  0          2         2  \n",
              "5                  TV Dramas, TV Horror, TV Mysteries  0          1         1  \n",
              "...                                               ... ..        ...       ...  \n",
              "8795                           Anime Series, Kids' TV  0          4         2  \n",
              "8796                International TV Shows, TV Dramas  0          2         2  \n",
              "8797                                         Kids' TV  0          4         3  \n",
              "8800                                                0  0          2         1  \n",
              "8803                                                0  0          4         2  \n",
              "\n",
              "[2676 rows x 15 columns]"
            ],
            "text/html": [
              "\n",
              "  <div id=\"df-bcb377e7-1cf9-4ba5-b908-60ee8eefabaa\">\n",
              "    <div class=\"colab-df-container\">\n",
              "      <div>\n",
              "<style scoped>\n",
              "    .dataframe tbody tr th:only-of-type {\n",
              "        vertical-align: middle;\n",
              "    }\n",
              "\n",
              "    .dataframe tbody tr th {\n",
              "        vertical-align: top;\n",
              "    }\n",
              "\n",
              "    .dataframe thead th {\n",
              "        text-align: right;\n",
              "    }\n",
              "</style>\n",
              "<table border=\"1\" class=\"dataframe\">\n",
              "  <thead>\n",
              "    <tr style=\"text-align: right;\">\n",
              "      <th></th>\n",
              "      <th>type</th>\n",
              "      <th>title</th>\n",
              "      <th>release_year</th>\n",
              "      <th>rating</th>\n",
              "      <th>listed_in</th>\n",
              "      <th>description</th>\n",
              "      <th>Registered year</th>\n",
              "      <th>Registered month</th>\n",
              "      <th>Registered day</th>\n",
              "      <th>Horror</th>\n",
              "      <th>Romance</th>\n",
              "      <th>Thriller</th>\n",
              "      <th>SF</th>\n",
              "      <th>Continent</th>\n",
              "      <th>Duration</th>\n",
              "    </tr>\n",
              "  </thead>\n",
              "  <tbody>\n",
              "    <tr>\n",
              "      <th>1</th>\n",
              "      <td>TV Show</td>\n",
              "      <td>Blood &amp; Water</td>\n",
              "      <td>2021.0</td>\n",
              "      <td>19</td>\n",
              "      <td>International TV Shows, TV Dramas, TV Mysteries</td>\n",
              "      <td>After crossing paths at a party, a Cape Town t...</td>\n",
              "      <td>2021.0</td>\n",
              "      <td>9.0</td>\n",
              "      <td>24.0</td>\n",
              "      <td>0</td>\n",
              "      <td>0</td>\n",
              "      <td>International TV Shows, TV Dramas, TV Mysteries</td>\n",
              "      <td>0</td>\n",
              "      <td>0</td>\n",
              "      <td>2</td>\n",
              "    </tr>\n",
              "    <tr>\n",
              "      <th>2</th>\n",
              "      <td>TV Show</td>\n",
              "      <td>Ganglands</td>\n",
              "      <td>2021.0</td>\n",
              "      <td>19</td>\n",
              "      <td>Crime TV Shows, International TV Shows, TV Act...</td>\n",
              "      <td>To protect his family from a powerful drug lor...</td>\n",
              "      <td>2021.0</td>\n",
              "      <td>9.0</td>\n",
              "      <td>24.0</td>\n",
              "      <td>0</td>\n",
              "      <td>0</td>\n",
              "      <td>0</td>\n",
              "      <td>0</td>\n",
              "      <td>1</td>\n",
              "      <td>1</td>\n",
              "    </tr>\n",
              "    <tr>\n",
              "      <th>3</th>\n",
              "      <td>TV Show</td>\n",
              "      <td>Jailbirds New Orleans</td>\n",
              "      <td>2021.0</td>\n",
              "      <td>19</td>\n",
              "      <td>Docuseries, Reality TV</td>\n",
              "      <td>Feuds, flirtations and toilet talk go down amo...</td>\n",
              "      <td>2021.0</td>\n",
              "      <td>9.0</td>\n",
              "      <td>24.0</td>\n",
              "      <td>0</td>\n",
              "      <td>0</td>\n",
              "      <td>0</td>\n",
              "      <td>0</td>\n",
              "      <td>1</td>\n",
              "      <td>1</td>\n",
              "    </tr>\n",
              "    <tr>\n",
              "      <th>4</th>\n",
              "      <td>TV Show</td>\n",
              "      <td>Kota Factory</td>\n",
              "      <td>2021.0</td>\n",
              "      <td>19</td>\n",
              "      <td>International TV Shows, Romantic TV Shows, TV ...</td>\n",
              "      <td>In a city of coaching centers known to train I...</td>\n",
              "      <td>2021.0</td>\n",
              "      <td>9.0</td>\n",
              "      <td>24.0</td>\n",
              "      <td>0</td>\n",
              "      <td>0</td>\n",
              "      <td>0</td>\n",
              "      <td>0</td>\n",
              "      <td>2</td>\n",
              "      <td>2</td>\n",
              "    </tr>\n",
              "    <tr>\n",
              "      <th>5</th>\n",
              "      <td>TV Show</td>\n",
              "      <td>Midnight Mass</td>\n",
              "      <td>2021.0</td>\n",
              "      <td>19</td>\n",
              "      <td>TV Dramas, TV Horror, TV Mysteries</td>\n",
              "      <td>The arrival of a charismatic young priest brin...</td>\n",
              "      <td>2021.0</td>\n",
              "      <td>9.0</td>\n",
              "      <td>24.0</td>\n",
              "      <td>0</td>\n",
              "      <td>0</td>\n",
              "      <td>TV Dramas, TV Horror, TV Mysteries</td>\n",
              "      <td>0</td>\n",
              "      <td>1</td>\n",
              "      <td>1</td>\n",
              "    </tr>\n",
              "    <tr>\n",
              "      <th>...</th>\n",
              "      <td>...</td>\n",
              "      <td>...</td>\n",
              "      <td>...</td>\n",
              "      <td>...</td>\n",
              "      <td>...</td>\n",
              "      <td>...</td>\n",
              "      <td>...</td>\n",
              "      <td>...</td>\n",
              "      <td>...</td>\n",
              "      <td>...</td>\n",
              "      <td>...</td>\n",
              "      <td>...</td>\n",
              "      <td>...</td>\n",
              "      <td>...</td>\n",
              "      <td>...</td>\n",
              "    </tr>\n",
              "    <tr>\n",
              "      <th>8795</th>\n",
              "      <td>TV Show</td>\n",
              "      <td>Yu-Gi-Oh! Arc-V</td>\n",
              "      <td>2015.0</td>\n",
              "      <td>0</td>\n",
              "      <td>Anime Series, Kids' TV</td>\n",
              "      <td>Now that he's discovered the Pendulum Summonin...</td>\n",
              "      <td>2018.0</td>\n",
              "      <td>5.0</td>\n",
              "      <td>1.0</td>\n",
              "      <td>0</td>\n",
              "      <td>0</td>\n",
              "      <td>Anime Series, Kids' TV</td>\n",
              "      <td>0</td>\n",
              "      <td>4</td>\n",
              "      <td>2</td>\n",
              "    </tr>\n",
              "    <tr>\n",
              "      <th>8796</th>\n",
              "      <td>TV Show</td>\n",
              "      <td>Yunus Emre</td>\n",
              "      <td>2016.0</td>\n",
              "      <td>0</td>\n",
              "      <td>International TV Shows, TV Dramas</td>\n",
              "      <td>During the Mongol invasions, Yunus Emre leaves...</td>\n",
              "      <td>2017.0</td>\n",
              "      <td>1.0</td>\n",
              "      <td>17.0</td>\n",
              "      <td>0</td>\n",
              "      <td>0</td>\n",
              "      <td>International TV Shows, TV Dramas</td>\n",
              "      <td>0</td>\n",
              "      <td>2</td>\n",
              "      <td>2</td>\n",
              "    </tr>\n",
              "    <tr>\n",
              "      <th>8797</th>\n",
              "      <td>TV Show</td>\n",
              "      <td>Zak Storm</td>\n",
              "      <td>2016.0</td>\n",
              "      <td>0</td>\n",
              "      <td>Kids' TV</td>\n",
              "      <td>Teen surfer Zak Storm is mysteriously transpor...</td>\n",
              "      <td>2018.0</td>\n",
              "      <td>9.0</td>\n",
              "      <td>13.0</td>\n",
              "      <td>0</td>\n",
              "      <td>0</td>\n",
              "      <td>Kids' TV</td>\n",
              "      <td>0</td>\n",
              "      <td>4</td>\n",
              "      <td>3</td>\n",
              "    </tr>\n",
              "    <tr>\n",
              "      <th>8800</th>\n",
              "      <td>TV Show</td>\n",
              "      <td>Zindagi Gulzar Hai</td>\n",
              "      <td>2012.0</td>\n",
              "      <td>0</td>\n",
              "      <td>International TV Shows, Romantic TV Shows, TV ...</td>\n",
              "      <td>Strong-willed, middle-class Kashaf and carefre...</td>\n",
              "      <td>2016.0</td>\n",
              "      <td>12.0</td>\n",
              "      <td>15.0</td>\n",
              "      <td>International TV Shows, Romantic TV Shows, TV ...</td>\n",
              "      <td>0</td>\n",
              "      <td>0</td>\n",
              "      <td>0</td>\n",
              "      <td>2</td>\n",
              "      <td>1</td>\n",
              "    </tr>\n",
              "    <tr>\n",
              "      <th>8803</th>\n",
              "      <td>TV Show</td>\n",
              "      <td>Zombie Dumb</td>\n",
              "      <td>2018.0</td>\n",
              "      <td>0</td>\n",
              "      <td>Kids' TV, Korean TV Shows, TV Comedies</td>\n",
              "      <td>While living alone in a spooky town, a young g...</td>\n",
              "      <td>2019.0</td>\n",
              "      <td>7.0</td>\n",
              "      <td>1.0</td>\n",
              "      <td>0</td>\n",
              "      <td>0</td>\n",
              "      <td>0</td>\n",
              "      <td>0</td>\n",
              "      <td>4</td>\n",
              "      <td>2</td>\n",
              "    </tr>\n",
              "  </tbody>\n",
              "</table>\n",
              "<p>2676 rows × 15 columns</p>\n",
              "</div>\n",
              "      <button class=\"colab-df-convert\" onclick=\"convertToInteractive('df-bcb377e7-1cf9-4ba5-b908-60ee8eefabaa')\"\n",
              "              title=\"Convert this dataframe to an interactive table.\"\n",
              "              style=\"display:none;\">\n",
              "        \n",
              "  <svg xmlns=\"http://www.w3.org/2000/svg\" height=\"24px\"viewBox=\"0 0 24 24\"\n",
              "       width=\"24px\">\n",
              "    <path d=\"M0 0h24v24H0V0z\" fill=\"none\"/>\n",
              "    <path d=\"M18.56 5.44l.94 2.06.94-2.06 2.06-.94-2.06-.94-.94-2.06-.94 2.06-2.06.94zm-11 1L8.5 8.5l.94-2.06 2.06-.94-2.06-.94L8.5 2.5l-.94 2.06-2.06.94zm10 10l.94 2.06.94-2.06 2.06-.94-2.06-.94-.94-2.06-.94 2.06-2.06.94z\"/><path d=\"M17.41 7.96l-1.37-1.37c-.4-.4-.92-.59-1.43-.59-.52 0-1.04.2-1.43.59L10.3 9.45l-7.72 7.72c-.78.78-.78 2.05 0 2.83L4 21.41c.39.39.9.59 1.41.59.51 0 1.02-.2 1.41-.59l7.78-7.78 2.81-2.81c.8-.78.8-2.07 0-2.86zM5.41 20L4 18.59l7.72-7.72 1.47 1.35L5.41 20z\"/>\n",
              "  </svg>\n",
              "      </button>\n",
              "      \n",
              "  <style>\n",
              "    .colab-df-container {\n",
              "      display:flex;\n",
              "      flex-wrap:wrap;\n",
              "      gap: 12px;\n",
              "    }\n",
              "\n",
              "    .colab-df-convert {\n",
              "      background-color: #E8F0FE;\n",
              "      border: none;\n",
              "      border-radius: 50%;\n",
              "      cursor: pointer;\n",
              "      display: none;\n",
              "      fill: #1967D2;\n",
              "      height: 32px;\n",
              "      padding: 0 0 0 0;\n",
              "      width: 32px;\n",
              "    }\n",
              "\n",
              "    .colab-df-convert:hover {\n",
              "      background-color: #E2EBFA;\n",
              "      box-shadow: 0px 1px 2px rgba(60, 64, 67, 0.3), 0px 1px 3px 1px rgba(60, 64, 67, 0.15);\n",
              "      fill: #174EA6;\n",
              "    }\n",
              "\n",
              "    [theme=dark] .colab-df-convert {\n",
              "      background-color: #3B4455;\n",
              "      fill: #D2E3FC;\n",
              "    }\n",
              "\n",
              "    [theme=dark] .colab-df-convert:hover {\n",
              "      background-color: #434B5C;\n",
              "      box-shadow: 0px 1px 3px 1px rgba(0, 0, 0, 0.15);\n",
              "      filter: drop-shadow(0px 1px 2px rgba(0, 0, 0, 0.3));\n",
              "      fill: #FFFFFF;\n",
              "    }\n",
              "  </style>\n",
              "\n",
              "      <script>\n",
              "        const buttonEl =\n",
              "          document.querySelector('#df-bcb377e7-1cf9-4ba5-b908-60ee8eefabaa button.colab-df-convert');\n",
              "        buttonEl.style.display =\n",
              "          google.colab.kernel.accessAllowed ? 'block' : 'none';\n",
              "\n",
              "        async function convertToInteractive(key) {\n",
              "          const element = document.querySelector('#df-bcb377e7-1cf9-4ba5-b908-60ee8eefabaa');\n",
              "          const dataTable =\n",
              "            await google.colab.kernel.invokeFunction('convertToInteractive',\n",
              "                                                     [key], {});\n",
              "          if (!dataTable) return;\n",
              "\n",
              "          const docLinkHtml = 'Like what you see? Visit the ' +\n",
              "            '<a target=\"_blank\" href=https://colab.research.google.com/notebooks/data_table.ipynb>data table notebook</a>'\n",
              "            + ' to learn more about interactive tables.';\n",
              "          element.innerHTML = '';\n",
              "          dataTable['output_type'] = 'display_data';\n",
              "          await google.colab.output.renderOutput(dataTable, element);\n",
              "          const docLink = document.createElement('div');\n",
              "          docLink.innerHTML = docLinkHtml;\n",
              "          element.appendChild(docLink);\n",
              "        }\n",
              "      </script>\n",
              "    </div>\n",
              "  </div>\n",
              "  "
            ]
          },
          "metadata": {},
          "execution_count": 930
        }
      ]
    },
    {
      "cell_type": "code",
      "source": [
        "df_Movie"
      ],
      "metadata": {
        "colab": {
          "base_uri": "https://localhost:8080/",
          "height": 1000
        },
        "id": "L4mdEUDUIYfO",
        "outputId": "05c8d3a7-0bd8-4cf7-9a01-df9df0d05899"
      },
      "execution_count": 931,
      "outputs": [
        {
          "output_type": "execute_result",
          "data": {
            "text/plain": [
              "       type                             title  release_year  rating  \\\n",
              "0     Movie              Dick Johnson Is Dead        2020.0       0   \n",
              "6     Movie  My Little Pony: A New Generation        2021.0      14   \n",
              "7     Movie                           Sankofa        1993.0      19   \n",
              "9     Movie                      The Starling        2021.0       0   \n",
              "12    Movie                      Je Suis Karl        2021.0      19   \n",
              "...     ...                               ...           ...     ...   \n",
              "8801  Movie                           Zinzana        2015.0      19   \n",
              "8802  Movie                            Zodiac        2007.0      19   \n",
              "8804  Movie                        Zombieland        2009.0      19   \n",
              "8805  Movie                              Zoom        2006.0      14   \n",
              "8806  Movie                            Zubaan        2015.0      14   \n",
              "\n",
              "                                             listed_in  \\\n",
              "0                                        Documentaries   \n",
              "6                             Children & Family Movies   \n",
              "7     Dramas, Independent Movies, International Movies   \n",
              "9                                     Comedies, Dramas   \n",
              "12                        Dramas, International Movies   \n",
              "...                                                ...   \n",
              "8801           Dramas, International Movies, Thrillers   \n",
              "8802                    Cult Movies, Dramas, Thrillers   \n",
              "8804                           Comedies, Horror Movies   \n",
              "8805                Children & Family Movies, Comedies   \n",
              "8806    Dramas, International Movies, Music & Musicals   \n",
              "\n",
              "                                            description  Registered year  \\\n",
              "0     As her father nears the end of his life, filmm...           2021.0   \n",
              "6     Equestria's divided. But a bright-eyed hero be...           2021.0   \n",
              "7     On a photo shoot in Ghana, an American model s...           2021.0   \n",
              "9     A woman adjusting to life after a loss contend...           2021.0   \n",
              "12    After most of her family is murdered in a terr...           2021.0   \n",
              "...                                                 ...              ...   \n",
              "8801  Recovering alcoholic Talal wakes up inside a s...           2016.0   \n",
              "8802  A political cartoonist, a crime reporter and a...           2019.0   \n",
              "8804  Looking to survive in a world taken over by zo...           2019.0   \n",
              "8805  Dragged from civilian life, a former superhero...           2020.0   \n",
              "8806  A scrappy but poor boy worms his way into a ty...           2019.0   \n",
              "\n",
              "      Registered month  Registered day Horror  \\\n",
              "0                  9.0            25.0      0   \n",
              "6                  9.0            24.0      0   \n",
              "7                  9.0            24.0      0   \n",
              "9                  9.0            24.0      0   \n",
              "12                 9.0            23.0      0   \n",
              "...                ...             ...    ...   \n",
              "8801               3.0             9.0      0   \n",
              "8802              11.0            20.0      0   \n",
              "8804              11.0             1.0      0   \n",
              "8805               1.0            11.0      0   \n",
              "8806               3.0             2.0      0   \n",
              "\n",
              "                                               Romance  \\\n",
              "0                                                    0   \n",
              "6                                                    0   \n",
              "7     Dramas, Independent Movies, International Movies   \n",
              "9                                                    0   \n",
              "12                                                   0   \n",
              "...                                                ...   \n",
              "8801                                                 0   \n",
              "8802                                                 0   \n",
              "8804                                                 0   \n",
              "8805                                                 0   \n",
              "8806                                                 0   \n",
              "\n",
              "                                            Thriller  \\\n",
              "0                                                  0   \n",
              "6                           Children & Family Movies   \n",
              "7                                                  0   \n",
              "9                                                  0   \n",
              "12                      Dramas, International Movies   \n",
              "...                                              ...   \n",
              "8801                                               0   \n",
              "8802                  Cult Movies, Dramas, Thrillers   \n",
              "8804                                               0   \n",
              "8805                                               0   \n",
              "8806  Dramas, International Movies, Music & Musicals   \n",
              "\n",
              "                            SF  Continent  Duration  \n",
              "0                            0          1         1  \n",
              "6     Children & Family Movies          1         1  \n",
              "7                            0          0         2  \n",
              "9                            0          1         1  \n",
              "12                           0          0         2  \n",
              "...                        ...        ...       ...  \n",
              "8801                         0          4         1  \n",
              "8802                         0          1         2  \n",
              "8804                         0          1         1  \n",
              "8805                         0          1         1  \n",
              "8806                         0          2         1  \n",
              "\n",
              "[6131 rows x 15 columns]"
            ],
            "text/html": [
              "\n",
              "  <div id=\"df-646168fe-90ac-4fc4-878d-db2014e64bcf\">\n",
              "    <div class=\"colab-df-container\">\n",
              "      <div>\n",
              "<style scoped>\n",
              "    .dataframe tbody tr th:only-of-type {\n",
              "        vertical-align: middle;\n",
              "    }\n",
              "\n",
              "    .dataframe tbody tr th {\n",
              "        vertical-align: top;\n",
              "    }\n",
              "\n",
              "    .dataframe thead th {\n",
              "        text-align: right;\n",
              "    }\n",
              "</style>\n",
              "<table border=\"1\" class=\"dataframe\">\n",
              "  <thead>\n",
              "    <tr style=\"text-align: right;\">\n",
              "      <th></th>\n",
              "      <th>type</th>\n",
              "      <th>title</th>\n",
              "      <th>release_year</th>\n",
              "      <th>rating</th>\n",
              "      <th>listed_in</th>\n",
              "      <th>description</th>\n",
              "      <th>Registered year</th>\n",
              "      <th>Registered month</th>\n",
              "      <th>Registered day</th>\n",
              "      <th>Horror</th>\n",
              "      <th>Romance</th>\n",
              "      <th>Thriller</th>\n",
              "      <th>SF</th>\n",
              "      <th>Continent</th>\n",
              "      <th>Duration</th>\n",
              "    </tr>\n",
              "  </thead>\n",
              "  <tbody>\n",
              "    <tr>\n",
              "      <th>0</th>\n",
              "      <td>Movie</td>\n",
              "      <td>Dick Johnson Is Dead</td>\n",
              "      <td>2020.0</td>\n",
              "      <td>0</td>\n",
              "      <td>Documentaries</td>\n",
              "      <td>As her father nears the end of his life, filmm...</td>\n",
              "      <td>2021.0</td>\n",
              "      <td>9.0</td>\n",
              "      <td>25.0</td>\n",
              "      <td>0</td>\n",
              "      <td>0</td>\n",
              "      <td>0</td>\n",
              "      <td>0</td>\n",
              "      <td>1</td>\n",
              "      <td>1</td>\n",
              "    </tr>\n",
              "    <tr>\n",
              "      <th>6</th>\n",
              "      <td>Movie</td>\n",
              "      <td>My Little Pony: A New Generation</td>\n",
              "      <td>2021.0</td>\n",
              "      <td>14</td>\n",
              "      <td>Children &amp; Family Movies</td>\n",
              "      <td>Equestria's divided. But a bright-eyed hero be...</td>\n",
              "      <td>2021.0</td>\n",
              "      <td>9.0</td>\n",
              "      <td>24.0</td>\n",
              "      <td>0</td>\n",
              "      <td>0</td>\n",
              "      <td>Children &amp; Family Movies</td>\n",
              "      <td>Children &amp; Family Movies</td>\n",
              "      <td>1</td>\n",
              "      <td>1</td>\n",
              "    </tr>\n",
              "    <tr>\n",
              "      <th>7</th>\n",
              "      <td>Movie</td>\n",
              "      <td>Sankofa</td>\n",
              "      <td>1993.0</td>\n",
              "      <td>19</td>\n",
              "      <td>Dramas, Independent Movies, International Movies</td>\n",
              "      <td>On a photo shoot in Ghana, an American model s...</td>\n",
              "      <td>2021.0</td>\n",
              "      <td>9.0</td>\n",
              "      <td>24.0</td>\n",
              "      <td>0</td>\n",
              "      <td>Dramas, Independent Movies, International Movies</td>\n",
              "      <td>0</td>\n",
              "      <td>0</td>\n",
              "      <td>0</td>\n",
              "      <td>2</td>\n",
              "    </tr>\n",
              "    <tr>\n",
              "      <th>9</th>\n",
              "      <td>Movie</td>\n",
              "      <td>The Starling</td>\n",
              "      <td>2021.0</td>\n",
              "      <td>0</td>\n",
              "      <td>Comedies, Dramas</td>\n",
              "      <td>A woman adjusting to life after a loss contend...</td>\n",
              "      <td>2021.0</td>\n",
              "      <td>9.0</td>\n",
              "      <td>24.0</td>\n",
              "      <td>0</td>\n",
              "      <td>0</td>\n",
              "      <td>0</td>\n",
              "      <td>0</td>\n",
              "      <td>1</td>\n",
              "      <td>1</td>\n",
              "    </tr>\n",
              "    <tr>\n",
              "      <th>12</th>\n",
              "      <td>Movie</td>\n",
              "      <td>Je Suis Karl</td>\n",
              "      <td>2021.0</td>\n",
              "      <td>19</td>\n",
              "      <td>Dramas, International Movies</td>\n",
              "      <td>After most of her family is murdered in a terr...</td>\n",
              "      <td>2021.0</td>\n",
              "      <td>9.0</td>\n",
              "      <td>23.0</td>\n",
              "      <td>0</td>\n",
              "      <td>0</td>\n",
              "      <td>Dramas, International Movies</td>\n",
              "      <td>0</td>\n",
              "      <td>0</td>\n",
              "      <td>2</td>\n",
              "    </tr>\n",
              "    <tr>\n",
              "      <th>...</th>\n",
              "      <td>...</td>\n",
              "      <td>...</td>\n",
              "      <td>...</td>\n",
              "      <td>...</td>\n",
              "      <td>...</td>\n",
              "      <td>...</td>\n",
              "      <td>...</td>\n",
              "      <td>...</td>\n",
              "      <td>...</td>\n",
              "      <td>...</td>\n",
              "      <td>...</td>\n",
              "      <td>...</td>\n",
              "      <td>...</td>\n",
              "      <td>...</td>\n",
              "      <td>...</td>\n",
              "    </tr>\n",
              "    <tr>\n",
              "      <th>8801</th>\n",
              "      <td>Movie</td>\n",
              "      <td>Zinzana</td>\n",
              "      <td>2015.0</td>\n",
              "      <td>19</td>\n",
              "      <td>Dramas, International Movies, Thrillers</td>\n",
              "      <td>Recovering alcoholic Talal wakes up inside a s...</td>\n",
              "      <td>2016.0</td>\n",
              "      <td>3.0</td>\n",
              "      <td>9.0</td>\n",
              "      <td>0</td>\n",
              "      <td>0</td>\n",
              "      <td>0</td>\n",
              "      <td>0</td>\n",
              "      <td>4</td>\n",
              "      <td>1</td>\n",
              "    </tr>\n",
              "    <tr>\n",
              "      <th>8802</th>\n",
              "      <td>Movie</td>\n",
              "      <td>Zodiac</td>\n",
              "      <td>2007.0</td>\n",
              "      <td>19</td>\n",
              "      <td>Cult Movies, Dramas, Thrillers</td>\n",
              "      <td>A political cartoonist, a crime reporter and a...</td>\n",
              "      <td>2019.0</td>\n",
              "      <td>11.0</td>\n",
              "      <td>20.0</td>\n",
              "      <td>0</td>\n",
              "      <td>0</td>\n",
              "      <td>Cult Movies, Dramas, Thrillers</td>\n",
              "      <td>0</td>\n",
              "      <td>1</td>\n",
              "      <td>2</td>\n",
              "    </tr>\n",
              "    <tr>\n",
              "      <th>8804</th>\n",
              "      <td>Movie</td>\n",
              "      <td>Zombieland</td>\n",
              "      <td>2009.0</td>\n",
              "      <td>19</td>\n",
              "      <td>Comedies, Horror Movies</td>\n",
              "      <td>Looking to survive in a world taken over by zo...</td>\n",
              "      <td>2019.0</td>\n",
              "      <td>11.0</td>\n",
              "      <td>1.0</td>\n",
              "      <td>0</td>\n",
              "      <td>0</td>\n",
              "      <td>0</td>\n",
              "      <td>0</td>\n",
              "      <td>1</td>\n",
              "      <td>1</td>\n",
              "    </tr>\n",
              "    <tr>\n",
              "      <th>8805</th>\n",
              "      <td>Movie</td>\n",
              "      <td>Zoom</td>\n",
              "      <td>2006.0</td>\n",
              "      <td>14</td>\n",
              "      <td>Children &amp; Family Movies, Comedies</td>\n",
              "      <td>Dragged from civilian life, a former superhero...</td>\n",
              "      <td>2020.0</td>\n",
              "      <td>1.0</td>\n",
              "      <td>11.0</td>\n",
              "      <td>0</td>\n",
              "      <td>0</td>\n",
              "      <td>0</td>\n",
              "      <td>0</td>\n",
              "      <td>1</td>\n",
              "      <td>1</td>\n",
              "    </tr>\n",
              "    <tr>\n",
              "      <th>8806</th>\n",
              "      <td>Movie</td>\n",
              "      <td>Zubaan</td>\n",
              "      <td>2015.0</td>\n",
              "      <td>14</td>\n",
              "      <td>Dramas, International Movies, Music &amp; Musicals</td>\n",
              "      <td>A scrappy but poor boy worms his way into a ty...</td>\n",
              "      <td>2019.0</td>\n",
              "      <td>3.0</td>\n",
              "      <td>2.0</td>\n",
              "      <td>0</td>\n",
              "      <td>0</td>\n",
              "      <td>Dramas, International Movies, Music &amp; Musicals</td>\n",
              "      <td>0</td>\n",
              "      <td>2</td>\n",
              "      <td>1</td>\n",
              "    </tr>\n",
              "  </tbody>\n",
              "</table>\n",
              "<p>6131 rows × 15 columns</p>\n",
              "</div>\n",
              "      <button class=\"colab-df-convert\" onclick=\"convertToInteractive('df-646168fe-90ac-4fc4-878d-db2014e64bcf')\"\n",
              "              title=\"Convert this dataframe to an interactive table.\"\n",
              "              style=\"display:none;\">\n",
              "        \n",
              "  <svg xmlns=\"http://www.w3.org/2000/svg\" height=\"24px\"viewBox=\"0 0 24 24\"\n",
              "       width=\"24px\">\n",
              "    <path d=\"M0 0h24v24H0V0z\" fill=\"none\"/>\n",
              "    <path d=\"M18.56 5.44l.94 2.06.94-2.06 2.06-.94-2.06-.94-.94-2.06-.94 2.06-2.06.94zm-11 1L8.5 8.5l.94-2.06 2.06-.94-2.06-.94L8.5 2.5l-.94 2.06-2.06.94zm10 10l.94 2.06.94-2.06 2.06-.94-2.06-.94-.94-2.06-.94 2.06-2.06.94z\"/><path d=\"M17.41 7.96l-1.37-1.37c-.4-.4-.92-.59-1.43-.59-.52 0-1.04.2-1.43.59L10.3 9.45l-7.72 7.72c-.78.78-.78 2.05 0 2.83L4 21.41c.39.39.9.59 1.41.59.51 0 1.02-.2 1.41-.59l7.78-7.78 2.81-2.81c.8-.78.8-2.07 0-2.86zM5.41 20L4 18.59l7.72-7.72 1.47 1.35L5.41 20z\"/>\n",
              "  </svg>\n",
              "      </button>\n",
              "      \n",
              "  <style>\n",
              "    .colab-df-container {\n",
              "      display:flex;\n",
              "      flex-wrap:wrap;\n",
              "      gap: 12px;\n",
              "    }\n",
              "\n",
              "    .colab-df-convert {\n",
              "      background-color: #E8F0FE;\n",
              "      border: none;\n",
              "      border-radius: 50%;\n",
              "      cursor: pointer;\n",
              "      display: none;\n",
              "      fill: #1967D2;\n",
              "      height: 32px;\n",
              "      padding: 0 0 0 0;\n",
              "      width: 32px;\n",
              "    }\n",
              "\n",
              "    .colab-df-convert:hover {\n",
              "      background-color: #E2EBFA;\n",
              "      box-shadow: 0px 1px 2px rgba(60, 64, 67, 0.3), 0px 1px 3px 1px rgba(60, 64, 67, 0.15);\n",
              "      fill: #174EA6;\n",
              "    }\n",
              "\n",
              "    [theme=dark] .colab-df-convert {\n",
              "      background-color: #3B4455;\n",
              "      fill: #D2E3FC;\n",
              "    }\n",
              "\n",
              "    [theme=dark] .colab-df-convert:hover {\n",
              "      background-color: #434B5C;\n",
              "      box-shadow: 0px 1px 3px 1px rgba(0, 0, 0, 0.15);\n",
              "      filter: drop-shadow(0px 1px 2px rgba(0, 0, 0, 0.3));\n",
              "      fill: #FFFFFF;\n",
              "    }\n",
              "  </style>\n",
              "\n",
              "      <script>\n",
              "        const buttonEl =\n",
              "          document.querySelector('#df-646168fe-90ac-4fc4-878d-db2014e64bcf button.colab-df-convert');\n",
              "        buttonEl.style.display =\n",
              "          google.colab.kernel.accessAllowed ? 'block' : 'none';\n",
              "\n",
              "        async function convertToInteractive(key) {\n",
              "          const element = document.querySelector('#df-646168fe-90ac-4fc4-878d-db2014e64bcf');\n",
              "          const dataTable =\n",
              "            await google.colab.kernel.invokeFunction('convertToInteractive',\n",
              "                                                     [key], {});\n",
              "          if (!dataTable) return;\n",
              "\n",
              "          const docLinkHtml = 'Like what you see? Visit the ' +\n",
              "            '<a target=\"_blank\" href=https://colab.research.google.com/notebooks/data_table.ipynb>data table notebook</a>'\n",
              "            + ' to learn more about interactive tables.';\n",
              "          element.innerHTML = '';\n",
              "          dataTable['output_type'] = 'display_data';\n",
              "          await google.colab.output.renderOutput(dataTable, element);\n",
              "          const docLink = document.createElement('div');\n",
              "          docLink.innerHTML = docLinkHtml;\n",
              "          element.appendChild(docLink);\n",
              "        }\n",
              "      </script>\n",
              "    </div>\n",
              "  </div>\n",
              "  "
            ]
          },
          "metadata": {},
          "execution_count": 931
        }
      ]
    },
    {
      "cell_type": "markdown",
      "source": [
        "# Data Visualization"
      ],
      "metadata": {
        "id": "daTQvsR9lofx"
      }
    },
    {
      "cell_type": "code",
      "source": [
        "P = df.groupby(['type']).size().reset_index(name='counts')\n",
        "pieChart = px.pie(P, values='counts', names='type',\n",
        "title='Distribution of Content Type on Netflix')\n",
        "pieChart.show()"
      ],
      "metadata": {
        "colab": {
          "base_uri": "https://localhost:8080/",
          "height": 542
        },
        "id": "kKkyhihXrLxt",
        "outputId": "7910de66-bc0d-4b59-cdf9-7f11380b8c76"
      },
      "execution_count": 932,
      "outputs": [
        {
          "output_type": "display_data",
          "data": {
            "text/html": [
              "<html>\n",
              "<head><meta charset=\"utf-8\" /></head>\n",
              "<body>\n",
              "    <div>            <script src=\"https://cdnjs.cloudflare.com/ajax/libs/mathjax/2.7.5/MathJax.js?config=TeX-AMS-MML_SVG\"></script><script type=\"text/javascript\">if (window.MathJax) {MathJax.Hub.Config({SVG: {font: \"STIX-Web\"}});}</script>                <script type=\"text/javascript\">window.PlotlyConfig = {MathJaxConfig: 'local'};</script>\n",
              "        <script src=\"https://cdn.plot.ly/plotly-2.8.3.min.js\"></script>                <div id=\"c2e91589-17e9-4acb-ba79-a5ec53762586\" class=\"plotly-graph-div\" style=\"height:525px; width:100%;\"></div>            <script type=\"text/javascript\">                                    window.PLOTLYENV=window.PLOTLYENV || {};                                    if (document.getElementById(\"c2e91589-17e9-4acb-ba79-a5ec53762586\")) {                    Plotly.newPlot(                        \"c2e91589-17e9-4acb-ba79-a5ec53762586\",                        [{\"domain\":{\"x\":[0.0,1.0],\"y\":[0.0,1.0]},\"hovertemplate\":\"type=%{label}<br>counts=%{value}<extra></extra>\",\"labels\":[\"Movie\",\"TV Show\"],\"legendgroup\":\"\",\"name\":\"\",\"showlegend\":true,\"values\":[6131,2676],\"type\":\"pie\"}],                        {\"template\":{\"data\":{\"bar\":[{\"error_x\":{\"color\":\"#2a3f5f\"},\"error_y\":{\"color\":\"#2a3f5f\"},\"marker\":{\"line\":{\"color\":\"#E5ECF6\",\"width\":0.5},\"pattern\":{\"fillmode\":\"overlay\",\"size\":10,\"solidity\":0.2}},\"type\":\"bar\"}],\"barpolar\":[{\"marker\":{\"line\":{\"color\":\"#E5ECF6\",\"width\":0.5},\"pattern\":{\"fillmode\":\"overlay\",\"size\":10,\"solidity\":0.2}},\"type\":\"barpolar\"}],\"carpet\":[{\"aaxis\":{\"endlinecolor\":\"#2a3f5f\",\"gridcolor\":\"white\",\"linecolor\":\"white\",\"minorgridcolor\":\"white\",\"startlinecolor\":\"#2a3f5f\"},\"baxis\":{\"endlinecolor\":\"#2a3f5f\",\"gridcolor\":\"white\",\"linecolor\":\"white\",\"minorgridcolor\":\"white\",\"startlinecolor\":\"#2a3f5f\"},\"type\":\"carpet\"}],\"choropleth\":[{\"colorbar\":{\"outlinewidth\":0,\"ticks\":\"\"},\"type\":\"choropleth\"}],\"contour\":[{\"colorbar\":{\"outlinewidth\":0,\"ticks\":\"\"},\"colorscale\":[[0.0,\"#0d0887\"],[0.1111111111111111,\"#46039f\"],[0.2222222222222222,\"#7201a8\"],[0.3333333333333333,\"#9c179e\"],[0.4444444444444444,\"#bd3786\"],[0.5555555555555556,\"#d8576b\"],[0.6666666666666666,\"#ed7953\"],[0.7777777777777778,\"#fb9f3a\"],[0.8888888888888888,\"#fdca26\"],[1.0,\"#f0f921\"]],\"type\":\"contour\"}],\"contourcarpet\":[{\"colorbar\":{\"outlinewidth\":0,\"ticks\":\"\"},\"type\":\"contourcarpet\"}],\"heatmap\":[{\"colorbar\":{\"outlinewidth\":0,\"ticks\":\"\"},\"colorscale\":[[0.0,\"#0d0887\"],[0.1111111111111111,\"#46039f\"],[0.2222222222222222,\"#7201a8\"],[0.3333333333333333,\"#9c179e\"],[0.4444444444444444,\"#bd3786\"],[0.5555555555555556,\"#d8576b\"],[0.6666666666666666,\"#ed7953\"],[0.7777777777777778,\"#fb9f3a\"],[0.8888888888888888,\"#fdca26\"],[1.0,\"#f0f921\"]],\"type\":\"heatmap\"}],\"heatmapgl\":[{\"colorbar\":{\"outlinewidth\":0,\"ticks\":\"\"},\"colorscale\":[[0.0,\"#0d0887\"],[0.1111111111111111,\"#46039f\"],[0.2222222222222222,\"#7201a8\"],[0.3333333333333333,\"#9c179e\"],[0.4444444444444444,\"#bd3786\"],[0.5555555555555556,\"#d8576b\"],[0.6666666666666666,\"#ed7953\"],[0.7777777777777778,\"#fb9f3a\"],[0.8888888888888888,\"#fdca26\"],[1.0,\"#f0f921\"]],\"type\":\"heatmapgl\"}],\"histogram\":[{\"marker\":{\"pattern\":{\"fillmode\":\"overlay\",\"size\":10,\"solidity\":0.2}},\"type\":\"histogram\"}],\"histogram2d\":[{\"colorbar\":{\"outlinewidth\":0,\"ticks\":\"\"},\"colorscale\":[[0.0,\"#0d0887\"],[0.1111111111111111,\"#46039f\"],[0.2222222222222222,\"#7201a8\"],[0.3333333333333333,\"#9c179e\"],[0.4444444444444444,\"#bd3786\"],[0.5555555555555556,\"#d8576b\"],[0.6666666666666666,\"#ed7953\"],[0.7777777777777778,\"#fb9f3a\"],[0.8888888888888888,\"#fdca26\"],[1.0,\"#f0f921\"]],\"type\":\"histogram2d\"}],\"histogram2dcontour\":[{\"colorbar\":{\"outlinewidth\":0,\"ticks\":\"\"},\"colorscale\":[[0.0,\"#0d0887\"],[0.1111111111111111,\"#46039f\"],[0.2222222222222222,\"#7201a8\"],[0.3333333333333333,\"#9c179e\"],[0.4444444444444444,\"#bd3786\"],[0.5555555555555556,\"#d8576b\"],[0.6666666666666666,\"#ed7953\"],[0.7777777777777778,\"#fb9f3a\"],[0.8888888888888888,\"#fdca26\"],[1.0,\"#f0f921\"]],\"type\":\"histogram2dcontour\"}],\"mesh3d\":[{\"colorbar\":{\"outlinewidth\":0,\"ticks\":\"\"},\"type\":\"mesh3d\"}],\"parcoords\":[{\"line\":{\"colorbar\":{\"outlinewidth\":0,\"ticks\":\"\"}},\"type\":\"parcoords\"}],\"pie\":[{\"automargin\":true,\"type\":\"pie\"}],\"scatter\":[{\"marker\":{\"colorbar\":{\"outlinewidth\":0,\"ticks\":\"\"}},\"type\":\"scatter\"}],\"scatter3d\":[{\"line\":{\"colorbar\":{\"outlinewidth\":0,\"ticks\":\"\"}},\"marker\":{\"colorbar\":{\"outlinewidth\":0,\"ticks\":\"\"}},\"type\":\"scatter3d\"}],\"scattercarpet\":[{\"marker\":{\"colorbar\":{\"outlinewidth\":0,\"ticks\":\"\"}},\"type\":\"scattercarpet\"}],\"scattergeo\":[{\"marker\":{\"colorbar\":{\"outlinewidth\":0,\"ticks\":\"\"}},\"type\":\"scattergeo\"}],\"scattergl\":[{\"marker\":{\"colorbar\":{\"outlinewidth\":0,\"ticks\":\"\"}},\"type\":\"scattergl\"}],\"scattermapbox\":[{\"marker\":{\"colorbar\":{\"outlinewidth\":0,\"ticks\":\"\"}},\"type\":\"scattermapbox\"}],\"scatterpolar\":[{\"marker\":{\"colorbar\":{\"outlinewidth\":0,\"ticks\":\"\"}},\"type\":\"scatterpolar\"}],\"scatterpolargl\":[{\"marker\":{\"colorbar\":{\"outlinewidth\":0,\"ticks\":\"\"}},\"type\":\"scatterpolargl\"}],\"scatterternary\":[{\"marker\":{\"colorbar\":{\"outlinewidth\":0,\"ticks\":\"\"}},\"type\":\"scatterternary\"}],\"surface\":[{\"colorbar\":{\"outlinewidth\":0,\"ticks\":\"\"},\"colorscale\":[[0.0,\"#0d0887\"],[0.1111111111111111,\"#46039f\"],[0.2222222222222222,\"#7201a8\"],[0.3333333333333333,\"#9c179e\"],[0.4444444444444444,\"#bd3786\"],[0.5555555555555556,\"#d8576b\"],[0.6666666666666666,\"#ed7953\"],[0.7777777777777778,\"#fb9f3a\"],[0.8888888888888888,\"#fdca26\"],[1.0,\"#f0f921\"]],\"type\":\"surface\"}],\"table\":[{\"cells\":{\"fill\":{\"color\":\"#EBF0F8\"},\"line\":{\"color\":\"white\"}},\"header\":{\"fill\":{\"color\":\"#C8D4E3\"},\"line\":{\"color\":\"white\"}},\"type\":\"table\"}]},\"layout\":{\"annotationdefaults\":{\"arrowcolor\":\"#2a3f5f\",\"arrowhead\":0,\"arrowwidth\":1},\"autotypenumbers\":\"strict\",\"coloraxis\":{\"colorbar\":{\"outlinewidth\":0,\"ticks\":\"\"}},\"colorscale\":{\"diverging\":[[0,\"#8e0152\"],[0.1,\"#c51b7d\"],[0.2,\"#de77ae\"],[0.3,\"#f1b6da\"],[0.4,\"#fde0ef\"],[0.5,\"#f7f7f7\"],[0.6,\"#e6f5d0\"],[0.7,\"#b8e186\"],[0.8,\"#7fbc41\"],[0.9,\"#4d9221\"],[1,\"#276419\"]],\"sequential\":[[0.0,\"#0d0887\"],[0.1111111111111111,\"#46039f\"],[0.2222222222222222,\"#7201a8\"],[0.3333333333333333,\"#9c179e\"],[0.4444444444444444,\"#bd3786\"],[0.5555555555555556,\"#d8576b\"],[0.6666666666666666,\"#ed7953\"],[0.7777777777777778,\"#fb9f3a\"],[0.8888888888888888,\"#fdca26\"],[1.0,\"#f0f921\"]],\"sequentialminus\":[[0.0,\"#0d0887\"],[0.1111111111111111,\"#46039f\"],[0.2222222222222222,\"#7201a8\"],[0.3333333333333333,\"#9c179e\"],[0.4444444444444444,\"#bd3786\"],[0.5555555555555556,\"#d8576b\"],[0.6666666666666666,\"#ed7953\"],[0.7777777777777778,\"#fb9f3a\"],[0.8888888888888888,\"#fdca26\"],[1.0,\"#f0f921\"]]},\"colorway\":[\"#636efa\",\"#EF553B\",\"#00cc96\",\"#ab63fa\",\"#FFA15A\",\"#19d3f3\",\"#FF6692\",\"#B6E880\",\"#FF97FF\",\"#FECB52\"],\"font\":{\"color\":\"#2a3f5f\"},\"geo\":{\"bgcolor\":\"white\",\"lakecolor\":\"white\",\"landcolor\":\"#E5ECF6\",\"showlakes\":true,\"showland\":true,\"subunitcolor\":\"white\"},\"hoverlabel\":{\"align\":\"left\"},\"hovermode\":\"closest\",\"mapbox\":{\"style\":\"light\"},\"paper_bgcolor\":\"white\",\"plot_bgcolor\":\"#E5ECF6\",\"polar\":{\"angularaxis\":{\"gridcolor\":\"white\",\"linecolor\":\"white\",\"ticks\":\"\"},\"bgcolor\":\"#E5ECF6\",\"radialaxis\":{\"gridcolor\":\"white\",\"linecolor\":\"white\",\"ticks\":\"\"}},\"scene\":{\"xaxis\":{\"backgroundcolor\":\"#E5ECF6\",\"gridcolor\":\"white\",\"gridwidth\":2,\"linecolor\":\"white\",\"showbackground\":true,\"ticks\":\"\",\"zerolinecolor\":\"white\"},\"yaxis\":{\"backgroundcolor\":\"#E5ECF6\",\"gridcolor\":\"white\",\"gridwidth\":2,\"linecolor\":\"white\",\"showbackground\":true,\"ticks\":\"\",\"zerolinecolor\":\"white\"},\"zaxis\":{\"backgroundcolor\":\"#E5ECF6\",\"gridcolor\":\"white\",\"gridwidth\":2,\"linecolor\":\"white\",\"showbackground\":true,\"ticks\":\"\",\"zerolinecolor\":\"white\"}},\"shapedefaults\":{\"line\":{\"color\":\"#2a3f5f\"}},\"ternary\":{\"aaxis\":{\"gridcolor\":\"white\",\"linecolor\":\"white\",\"ticks\":\"\"},\"baxis\":{\"gridcolor\":\"white\",\"linecolor\":\"white\",\"ticks\":\"\"},\"bgcolor\":\"#E5ECF6\",\"caxis\":{\"gridcolor\":\"white\",\"linecolor\":\"white\",\"ticks\":\"\"}},\"title\":{\"x\":0.05},\"xaxis\":{\"automargin\":true,\"gridcolor\":\"white\",\"linecolor\":\"white\",\"ticks\":\"\",\"title\":{\"standoff\":15},\"zerolinecolor\":\"white\",\"zerolinewidth\":2},\"yaxis\":{\"automargin\":true,\"gridcolor\":\"white\",\"linecolor\":\"white\",\"ticks\":\"\",\"title\":{\"standoff\":15},\"zerolinecolor\":\"white\",\"zerolinewidth\":2}}},\"legend\":{\"tracegroupgap\":0},\"title\":{\"text\":\"Distribution of Content Type on Netflix\"}},                        {\"responsive\": true}                    ).then(function(){\n",
              "                            \n",
              "var gd = document.getElementById('c2e91589-17e9-4acb-ba79-a5ec53762586');\n",
              "var x = new MutationObserver(function (mutations, observer) {{\n",
              "        var display = window.getComputedStyle(gd).display;\n",
              "        if (!display || display === 'none') {{\n",
              "            console.log([gd, 'removed!']);\n",
              "            Plotly.purge(gd);\n",
              "            observer.disconnect();\n",
              "        }}\n",
              "}});\n",
              "\n",
              "// Listen for the removal of the full notebook cells\n",
              "var notebookContainer = gd.closest('#notebook-container');\n",
              "if (notebookContainer) {{\n",
              "    x.observe(notebookContainer, {childList: true});\n",
              "}}\n",
              "\n",
              "// Listen for the clearing of the current output cell\n",
              "var outputEl = gd.closest('.output');\n",
              "if (outputEl) {{\n",
              "    x.observe(outputEl, {childList: true});\n",
              "}}\n",
              "\n",
              "                        })                };                            </script>        </div>\n",
              "</body>\n",
              "</html>"
            ]
          },
          "metadata": {}
        }
      ]
    },
    {
      "cell_type": "markdown",
      "source": [
        "* *전체 컨텐츠 중 영화와 TV Show 비율이 2배정도로 영화 비중이 높다*"
      ],
      "metadata": {
        "id": "kGXKXrs7LwH9"
      }
    },
    {
      "cell_type": "code",
      "source": [
        "re_year = df.loc[df['release_year']>2005,['release_year']].astype('int')\n",
        "as_year = df.loc[df['Registered year']>2005,['Registered year']].astype('int')"
      ],
      "metadata": {
        "id": "76TV-ehZtvhj"
      },
      "execution_count": 933,
      "outputs": []
    },
    {
      "cell_type": "code",
      "source": [
        "fig,ax = plt.subplots(1,3,figsize = (25,8))\n",
        "\n",
        "re_year.groupby('release_year')['release_year'].count().plot(kind='line',label = \"Release_Year\",ax=ax[0]).legend(loc='best')\n",
        "as_year.groupby('Registered year')['Registered year'].count().plot(kind='line', title='Release year VS Registered year',label='Registered year',ax=ax[0]).legend(loc='best')\n",
        "\n",
        "last_years = df[[\"type\",\"release_year\"]]\n",
        "last_years=last_years[last_years[\"release_year\"] >= 2012]\n",
        "sns.countplot(x=\"release_year\", data=last_years, hue=\"type\", palette=\"viridis\",ax=ax[1])\n",
        "\n",
        "Register_years = df[[\"type\",\"Registered year\"]]\n",
        "Register_years=Register_years[Register_years[\"Registered year\"] >= 2012]\n",
        "sns.countplot(x=\"Registered year\", data=Register_years, hue=\"type\", palette=\"viridis\",ax=ax[2])"
      ],
      "metadata": {
        "colab": {
          "base_uri": "https://localhost:8080/",
          "height": 532
        },
        "id": "53yrT0ZDuSa0",
        "outputId": "e28f07a1-bd47-43fc-a3c3-9938c96871aa"
      },
      "execution_count": 934,
      "outputs": [
        {
          "output_type": "execute_result",
          "data": {
            "text/plain": [
              "<matplotlib.axes._subplots.AxesSubplot at 0x7f8eaf8f9a90>"
            ]
          },
          "metadata": {},
          "execution_count": 934
        },
        {
          "output_type": "display_data",
          "data": {
            "text/plain": [
              "<Figure size 1800x576 with 3 Axes>"
            ],
            "image/png": "[encoded data removed]"
          },
          "metadata": {
            "needs_background": "light"
          }
        }
      ]
    },
    {
      "cell_type": "markdown",
      "source": [
        "* **넷플릭스은 1998년부터 서비스를 시작하였으며, 비디오->DVD->온라인 스트리밍 서비스를 제공하고 있으며 실제 2017년부터 전세계 1억명 이상이 서비스를 이용하고 있다**\n",
        "\n",
        "위의 라인 그래프를 살펴보면\n",
        "\n",
        "* 2015년 하반기 이후로 점차 성장하면서 넷플릭스에 등록되는 컨텐츠가 늘어났으며, 이와 비례하게 컨텐츠 런칭도 늘어나는 형태이다\n",
        "> 컨텐츠 수가 늘어나는 동시에 넷플릭스 온라인 스트리밍 서비스를 통해 많은 컨텐츠를 접할 수 있고 수요가 늘어남에 의해 공급도 함께 늘어나는 선순환의 형태로 넷플릭스가 성장되었을 것으로 추측\n",
        "\n",
        "* 하지만 2018년도 이후 런칭 컨텐츠, 등록 컨텐츠 둘다 감소하는 형태를 띄고 있다 \n",
        "> 이는 코로나 팬데믹으로 인한 런칭 컨텐츠 감소로 넷플릭스에 등록되는 컨텐츠의 수도 함께 줄어들었을 수 밖에 없었을 것으로 추측\n",
        "\n",
        "다음으로 막대 그래프를 살펴보면\n",
        "\n",
        "* 런칭하는 컨텐츠는 영화의 비중이 TV show에 비해 약 2배이상일 때도 있었지만 2020년대 이후로는 역전되는 형상이 발생\n",
        "> 위의 라인 그래프와 같이 수요가 늘어남에 따라 런칭되는 컨텐츠의 수도 늘어났을 것으로 판단하기 때문에 시간에 따라 런칭되는 수가 많아졌을 것이고, 2020년대에는 코로나 팬데믹의 본격화로 많은 인원수가 필요한 영화보다 소수의 인원으로 만들 수 있는 TV show의 컨텐츠들이 늘어나 역전되었을 것으로 추측\n",
        "\n",
        "* 하지만 넷플릭스에 등록되어지는 컨텐츠는 2020대 이후에도 영화 비중이 TV show보다 2배 이상이다\n",
        "> 새롭고 많은 컨텐츠를 확보하여 성장해야하는 넷플릭스의 입장에서 새롭게 런칭되는 컨텐츠의 수가 많지 않기 때문에 2015년 이전의 컨텐츠들을 확보하고 재방영하는 서비스 제공을 하여 등록되는 컨텐츠의 수가 급격하게 많아졌을 것으로 추측\n"
      ],
      "metadata": {
        "id": "9LiMjd2MMLLY"
      }
    },
    {
      "cell_type": "markdown",
      "source": [
        "## TV Show -feature"
      ],
      "metadata": {
        "id": "VMgtKU3pzv0Y"
      }
    },
    {
      "cell_type": "code",
      "source": [
        "plt.figure(figsize=(12,10))\n",
        "sns.distplot(df_TV['Duration'])"
      ],
      "metadata": {
        "colab": {
          "base_uri": "https://localhost:8080/",
          "height": 624
        },
        "id": "JdYHUow5zr65",
        "outputId": "ff373e07-8b3d-473d-c19f-126321478d10"
      },
      "execution_count": 935,
      "outputs": [
        {
          "output_type": "execute_result",
          "data": {
            "text/plain": [
              "<matplotlib.axes._subplots.AxesSubplot at 0x7f8eb1793a50>"
            ]
          },
          "metadata": {},
          "execution_count": 935
        },
        {
          "output_type": "display_data",
          "data": {
            "text/plain": [
              "<Figure size 864x720 with 1 Axes>"
            ],
            "image/png": "[encoded data removed]"
          },
          "metadata": {
            "needs_background": "light"
          }
        }
      ]
    },
    {
      "cell_type": "markdown",
      "source": [
        "TV show의 Duration을 살펴보면 대부분 한 시즌으로만 컨텐츠가 제작되어지는 것으로  보여집니다."
      ],
      "metadata": {
        "id": "H0b2qF8Bf9yN"
      }
    },
    {
      "cell_type": "markdown",
      "source": [
        "#### * Continent vs Rating"
      ],
      "metadata": {
        "id": "9TJ8ltNbzUNI"
      }
    },
    {
      "cell_type": "code",
      "source": [
        "df1=df_TV[['rating','Continent']]\n",
        "df1=df1.rename(columns={\"Continent\": \"Continent\"})\n",
        "df2=df1.groupby(['Continent','rating']).size().reset_index(name='count')\n",
        "fig3 = px.line(df2, x=\"Continent\", y=\"count\", color='rating',title='Trend of TV_Show rating produced over the continent on Netflix')\n",
        "fig3.show()"
      ],
      "metadata": {
        "colab": {
          "base_uri": "https://localhost:8080/",
          "height": 542
        },
        "id": "SV4sCcyRuVtR",
        "outputId": "f6b01b48-6564-4e7a-f236-89c6fe233174"
      },
      "execution_count": 936,
      "outputs": [
        {
          "output_type": "display_data",
          "data": {
            "text/html": [
              "<html>\n",
              "<head><meta charset=\"utf-8\" /></head>\n",
              "<body>\n",
              "    <div>            <script src=\"https://cdnjs.cloudflare.com/ajax/libs/mathjax/2.7.5/MathJax.js?config=TeX-AMS-MML_SVG\"></script><script type=\"text/javascript\">if (window.MathJax) {MathJax.Hub.Config({SVG: {font: \"STIX-Web\"}});}</script>                <script type=\"text/javascript\">window.PlotlyConfig = {MathJaxConfig: 'local'};</script>\n",
              "        <script src=\"https://cdn.plot.ly/plotly-2.8.3.min.js\"></script>                <div id=\"1d6bbf00-7307-4c54-9668-f6d01a0d4479\" class=\"plotly-graph-div\" style=\"height:525px; width:100%;\"></div>            <script type=\"text/javascript\">                                    window.PLOTLYENV=window.PLOTLYENV || {};                                    if (document.getElementById(\"1d6bbf00-7307-4c54-9668-f6d01a0d4479\")) {                    Plotly.newPlot(                        \"1d6bbf00-7307-4c54-9668-f6d01a0d4479\",                        [{\"hovertemplate\":\"rating=0<br>Continent=%{x}<br>count=%{y}<extra></extra>\",\"legendgroup\":\"0\",\"line\":{\"color\":\"#636efa\",\"dash\":\"solid\"},\"marker\":{\"symbol\":\"circle\"},\"mode\":\"lines\",\"name\":\"0\",\"orientation\":\"v\",\"showlegend\":true,\"x\":[0,1,2,3,4],\"xaxis\":\"x\",\"y\":[56,332,165,165,80],\"yaxis\":\"y\",\"type\":\"scatter\"},{\"hovertemplate\":\"rating=14<br>Continent=%{x}<br>count=%{y}<extra></extra>\",\"legendgroup\":\"14\",\"line\":{\"color\":\"#EF553B\",\"dash\":\"solid\"},\"marker\":{\"symbol\":\"circle\"},\"mode\":\"lines\",\"name\":\"14\",\"orientation\":\"v\",\"showlegend\":true,\"x\":[0,1,2,3,4],\"xaxis\":\"x\",\"y\":[20,244,334,94,41],\"yaxis\":\"y\",\"type\":\"scatter\"},{\"hovertemplate\":\"rating=19<br>Continent=%{x}<br>count=%{y}<extra></extra>\",\"legendgroup\":\"19\",\"line\":{\"color\":\"#00cc96\",\"dash\":\"solid\"},\"marker\":{\"symbol\":\"circle\"},\"mode\":\"lines\",\"name\":\"19\",\"orientation\":\"v\",\"showlegend\":true,\"x\":[0,1,2,3,4],\"xaxis\":\"x\",\"y\":[58,481,278,263,65],\"yaxis\":\"y\",\"type\":\"scatter\"}],                        {\"template\":{\"data\":{\"bar\":[{\"error_x\":{\"color\":\"#2a3f5f\"},\"error_y\":{\"color\":\"#2a3f5f\"},\"marker\":{\"line\":{\"color\":\"#E5ECF6\",\"width\":0.5},\"pattern\":{\"fillmode\":\"overlay\",\"size\":10,\"solidity\":0.2}},\"type\":\"bar\"}],\"barpolar\":[{\"marker\":{\"line\":{\"color\":\"#E5ECF6\",\"width\":0.5},\"pattern\":{\"fillmode\":\"overlay\",\"size\":10,\"solidity\":0.2}},\"type\":\"barpolar\"}],\"carpet\":[{\"aaxis\":{\"endlinecolor\":\"#2a3f5f\",\"gridcolor\":\"white\",\"linecolor\":\"white\",\"minorgridcolor\":\"white\",\"startlinecolor\":\"#2a3f5f\"},\"baxis\":{\"endlinecolor\":\"#2a3f5f\",\"gridcolor\":\"white\",\"linecolor\":\"white\",\"minorgridcolor\":\"white\",\"startlinecolor\":\"#2a3f5f\"},\"type\":\"carpet\"}],\"choropleth\":[{\"colorbar\":{\"outlinewidth\":0,\"ticks\":\"\"},\"type\":\"choropleth\"}],\"contour\":[{\"colorbar\":{\"outlinewidth\":0,\"ticks\":\"\"},\"colorscale\":[[0.0,\"#0d0887\"],[0.1111111111111111,\"#46039f\"],[0.2222222222222222,\"#7201a8\"],[0.3333333333333333,\"#9c179e\"],[0.4444444444444444,\"#bd3786\"],[0.5555555555555556,\"#d8576b\"],[0.6666666666666666,\"#ed7953\"],[0.7777777777777778,\"#fb9f3a\"],[0.8888888888888888,\"#fdca26\"],[1.0,\"#f0f921\"]],\"type\":\"contour\"}],\"contourcarpet\":[{\"colorbar\":{\"outlinewidth\":0,\"ticks\":\"\"},\"type\":\"contourcarpet\"}],\"heatmap\":[{\"colorbar\":{\"outlinewidth\":0,\"ticks\":\"\"},\"colorscale\":[[0.0,\"#0d0887\"],[0.1111111111111111,\"#46039f\"],[0.2222222222222222,\"#7201a8\"],[0.3333333333333333,\"#9c179e\"],[0.4444444444444444,\"#bd3786\"],[0.5555555555555556,\"#d8576b\"],[0.6666666666666666,\"#ed7953\"],[0.7777777777777778,\"#fb9f3a\"],[0.8888888888888888,\"#fdca26\"],[1.0,\"#f0f921\"]],\"type\":\"heatmap\"}],\"heatmapgl\":[{\"colorbar\":{\"outlinewidth\":0,\"ticks\":\"\"},\"colorscale\":[[0.0,\"#0d0887\"],[0.1111111111111111,\"#46039f\"],[0.2222222222222222,\"#7201a8\"],[0.3333333333333333,\"#9c179e\"],[0.4444444444444444,\"#bd3786\"],[0.5555555555555556,\"#d8576b\"],[0.6666666666666666,\"#ed7953\"],[0.7777777777777778,\"#fb9f3a\"],[0.8888888888888888,\"#fdca26\"],[1.0,\"#f0f921\"]],\"type\":\"heatmapgl\"}],\"histogram\":[{\"marker\":{\"pattern\":{\"fillmode\":\"overlay\",\"size\":10,\"solidity\":0.2}},\"type\":\"histogram\"}],\"histogram2d\":[{\"colorbar\":{\"outlinewidth\":0,\"ticks\":\"\"},\"colorscale\":[[0.0,\"#0d0887\"],[0.1111111111111111,\"#46039f\"],[0.2222222222222222,\"#7201a8\"],[0.3333333333333333,\"#9c179e\"],[0.4444444444444444,\"#bd3786\"],[0.5555555555555556,\"#d8576b\"],[0.6666666666666666,\"#ed7953\"],[0.7777777777777778,\"#fb9f3a\"],[0.8888888888888888,\"#fdca26\"],[1.0,\"#f0f921\"]],\"type\":\"histogram2d\"}],\"histogram2dcontour\":[{\"colorbar\":{\"outlinewidth\":0,\"ticks\":\"\"},\"colorscale\":[[0.0,\"#0d0887\"],[0.1111111111111111,\"#46039f\"],[0.2222222222222222,\"#7201a8\"],[0.3333333333333333,\"#9c179e\"],[0.4444444444444444,\"#bd3786\"],[0.5555555555555556,\"#d8576b\"],[0.6666666666666666,\"#ed7953\"],[0.7777777777777778,\"#fb9f3a\"],[0.8888888888888888,\"#fdca26\"],[1.0,\"#f0f921\"]],\"type\":\"histogram2dcontour\"}],\"mesh3d\":[{\"colorbar\":{\"outlinewidth\":0,\"ticks\":\"\"},\"type\":\"mesh3d\"}],\"parcoords\":[{\"line\":{\"colorbar\":{\"outlinewidth\":0,\"ticks\":\"\"}},\"type\":\"parcoords\"}],\"pie\":[{\"automargin\":true,\"type\":\"pie\"}],\"scatter\":[{\"marker\":{\"colorbar\":{\"outlinewidth\":0,\"ticks\":\"\"}},\"type\":\"scatter\"}],\"scatter3d\":[{\"line\":{\"colorbar\":{\"outlinewidth\":0,\"ticks\":\"\"}},\"marker\":{\"colorbar\":{\"outlinewidth\":0,\"ticks\":\"\"}},\"type\":\"scatter3d\"}],\"scattercarpet\":[{\"marker\":{\"colorbar\":{\"outlinewidth\":0,\"ticks\":\"\"}},\"type\":\"scattercarpet\"}],\"scattergeo\":[{\"marker\":{\"colorbar\":{\"outlinewidth\":0,\"ticks\":\"\"}},\"type\":\"scattergeo\"}],\"scattergl\":[{\"marker\":{\"colorbar\":{\"outlinewidth\":0,\"ticks\":\"\"}},\"type\":\"scattergl\"}],\"scattermapbox\":[{\"marker\":{\"colorbar\":{\"outlinewidth\":0,\"ticks\":\"\"}},\"type\":\"scattermapbox\"}],\"scatterpolar\":[{\"marker\":{\"colorbar\":{\"outlinewidth\":0,\"ticks\":\"\"}},\"type\":\"scatterpolar\"}],\"scatterpolargl\":[{\"marker\":{\"colorbar\":{\"outlinewidth\":0,\"ticks\":\"\"}},\"type\":\"scatterpolargl\"}],\"scatterternary\":[{\"marker\":{\"colorbar\":{\"outlinewidth\":0,\"ticks\":\"\"}},\"type\":\"scatterternary\"}],\"surface\":[{\"colorbar\":{\"outlinewidth\":0,\"ticks\":\"\"},\"colorscale\":[[0.0,\"#0d0887\"],[0.1111111111111111,\"#46039f\"],[0.2222222222222222,\"#7201a8\"],[0.3333333333333333,\"#9c179e\"],[0.4444444444444444,\"#bd3786\"],[0.5555555555555556,\"#d8576b\"],[0.6666666666666666,\"#ed7953\"],[0.7777777777777778,\"#fb9f3a\"],[0.8888888888888888,\"#fdca26\"],[1.0,\"#f0f921\"]],\"type\":\"surface\"}],\"table\":[{\"cells\":{\"fill\":{\"color\":\"#EBF0F8\"},\"line\":{\"color\":\"white\"}},\"header\":{\"fill\":{\"color\":\"#C8D4E3\"},\"line\":{\"color\":\"white\"}},\"type\":\"table\"}]},\"layout\":{\"annotationdefaults\":{\"arrowcolor\":\"#2a3f5f\",\"arrowhead\":0,\"arrowwidth\":1},\"autotypenumbers\":\"strict\",\"coloraxis\":{\"colorbar\":{\"outlinewidth\":0,\"ticks\":\"\"}},\"colorscale\":{\"diverging\":[[0,\"#8e0152\"],[0.1,\"#c51b7d\"],[0.2,\"#de77ae\"],[0.3,\"#f1b6da\"],[0.4,\"#fde0ef\"],[0.5,\"#f7f7f7\"],[0.6,\"#e6f5d0\"],[0.7,\"#b8e186\"],[0.8,\"#7fbc41\"],[0.9,\"#4d9221\"],[1,\"#276419\"]],\"sequential\":[[0.0,\"#0d0887\"],[0.1111111111111111,\"#46039f\"],[0.2222222222222222,\"#7201a8\"],[0.3333333333333333,\"#9c179e\"],[0.4444444444444444,\"#bd3786\"],[0.5555555555555556,\"#d8576b\"],[0.6666666666666666,\"#ed7953\"],[0.7777777777777778,\"#fb9f3a\"],[0.8888888888888888,\"#fdca26\"],[1.0,\"#f0f921\"]],\"sequentialminus\":[[0.0,\"#0d0887\"],[0.1111111111111111,\"#46039f\"],[0.2222222222222222,\"#7201a8\"],[0.3333333333333333,\"#9c179e\"],[0.4444444444444444,\"#bd3786\"],[0.5555555555555556,\"#d8576b\"],[0.6666666666666666,\"#ed7953\"],[0.7777777777777778,\"#fb9f3a\"],[0.8888888888888888,\"#fdca26\"],[1.0,\"#f0f921\"]]},\"colorway\":[\"#636efa\",\"#EF553B\",\"#00cc96\",\"#ab63fa\",\"#FFA15A\",\"#19d3f3\",\"#FF6692\",\"#B6E880\",\"#FF97FF\",\"#FECB52\"],\"font\":{\"color\":\"#2a3f5f\"},\"geo\":{\"bgcolor\":\"white\",\"lakecolor\":\"white\",\"landcolor\":\"#E5ECF6\",\"showlakes\":true,\"showland\":true,\"subunitcolor\":\"white\"},\"hoverlabel\":{\"align\":\"left\"},\"hovermode\":\"closest\",\"mapbox\":{\"style\":\"light\"},\"paper_bgcolor\":\"white\",\"plot_bgcolor\":\"#E5ECF6\",\"polar\":{\"angularaxis\":{\"gridcolor\":\"white\",\"linecolor\":\"white\",\"ticks\":\"\"},\"bgcolor\":\"#E5ECF6\",\"radialaxis\":{\"gridcolor\":\"white\",\"linecolor\":\"white\",\"ticks\":\"\"}},\"scene\":{\"xaxis\":{\"backgroundcolor\":\"#E5ECF6\",\"gridcolor\":\"white\",\"gridwidth\":2,\"linecolor\":\"white\",\"showbackground\":true,\"ticks\":\"\",\"zerolinecolor\":\"white\"},\"yaxis\":{\"backgroundcolor\":\"#E5ECF6\",\"gridcolor\":\"white\",\"gridwidth\":2,\"linecolor\":\"white\",\"showbackground\":true,\"ticks\":\"\",\"zerolinecolor\":\"white\"},\"zaxis\":{\"backgroundcolor\":\"#E5ECF6\",\"gridcolor\":\"white\",\"gridwidth\":2,\"linecolor\":\"white\",\"showbackground\":true,\"ticks\":\"\",\"zerolinecolor\":\"white\"}},\"shapedefaults\":{\"line\":{\"color\":\"#2a3f5f\"}},\"ternary\":{\"aaxis\":{\"gridcolor\":\"white\",\"linecolor\":\"white\",\"ticks\":\"\"},\"baxis\":{\"gridcolor\":\"white\",\"linecolor\":\"white\",\"ticks\":\"\"},\"bgcolor\":\"#E5ECF6\",\"caxis\":{\"gridcolor\":\"white\",\"linecolor\":\"white\",\"ticks\":\"\"}},\"title\":{\"x\":0.05},\"xaxis\":{\"automargin\":true,\"gridcolor\":\"white\",\"linecolor\":\"white\",\"ticks\":\"\",\"title\":{\"standoff\":15},\"zerolinecolor\":\"white\",\"zerolinewidth\":2},\"yaxis\":{\"automargin\":true,\"gridcolor\":\"white\",\"linecolor\":\"white\",\"ticks\":\"\",\"title\":{\"standoff\":15},\"zerolinecolor\":\"white\",\"zerolinewidth\":2}}},\"xaxis\":{\"anchor\":\"y\",\"domain\":[0.0,1.0],\"title\":{\"text\":\"Continent\"}},\"yaxis\":{\"anchor\":\"x\",\"domain\":[0.0,1.0],\"title\":{\"text\":\"count\"}},\"legend\":{\"title\":{\"text\":\"rating\"},\"tracegroupgap\":0},\"title\":{\"text\":\"Trend of TV_Show rating produced over the continent on Netflix\"}},                        {\"responsive\": true}                    ).then(function(){\n",
              "                            \n",
              "var gd = document.getElementById('1d6bbf00-7307-4c54-9668-f6d01a0d4479');\n",
              "var x = new MutationObserver(function (mutations, observer) {{\n",
              "        var display = window.getComputedStyle(gd).display;\n",
              "        if (!display || display === 'none') {{\n",
              "            console.log([gd, 'removed!']);\n",
              "            Plotly.purge(gd);\n",
              "            observer.disconnect();\n",
              "        }}\n",
              "}});\n",
              "\n",
              "// Listen for the removal of the full notebook cells\n",
              "var notebookContainer = gd.closest('#notebook-container');\n",
              "if (notebookContainer) {{\n",
              "    x.observe(notebookContainer, {childList: true});\n",
              "}}\n",
              "\n",
              "// Listen for the clearing of the current output cell\n",
              "var outputEl = gd.closest('.output');\n",
              "if (outputEl) {{\n",
              "    x.observe(outputEl, {childList: true});\n",
              "}}\n",
              "\n",
              "                        })                };                            </script>        </div>\n",
              "</body>\n",
              "</html>"
            ]
          },
          "metadata": {}
        }
      ]
    },
    {
      "cell_type": "markdown",
      "source": [
        "##### 0 = 아프리카 | 1 = 아메리카 |2 = 아시아|3=유럽 |4=오세아니아 "
      ],
      "metadata": {
        "id": "QrI_qdczhwHS"
      }
    },
    {
      "cell_type": "markdown",
      "source": [
        "* 아시아를 제외한 아프리카,아메리카,유럽,오세아니아 등의 대륙에서 19세 이상 (청소년 관람 불가)관람이 많은 것으로 보아 4개의 대륙에서는 19세 이상의 자극적인 상업용 컨텐츠가 인기가 있는 것으로 보여진다\n",
        "\n",
        "* 이에 반해 아시아의 경우 19세 이상 관람보다는 14세 이상의 청소년도 함께 관람할 수 있는 컨텐츠의 수가 많음을 알 수 있는데 이는 아시아만의 독특한 정서와 관련 있지 않을까하고 예상한다 "
      ],
      "metadata": {
        "id": "qn9XOEjkg6Xa"
      }
    },
    {
      "cell_type": "code",
      "source": [
        "df_TV.groupby('rating')['Continent'].count().plot(kind='bar', figsize=(10,5))\n",
        "plt.show()"
      ],
      "metadata": {
        "colab": {
          "base_uri": "https://localhost:8080/",
          "height": 340
        },
        "id": "xPwuGEktw2FC",
        "outputId": "648ab723-bdb0-49e1-89ae-c464a11c8dd3"
      },
      "execution_count": 937,
      "outputs": [
        {
          "output_type": "display_data",
          "data": {
            "text/plain": [
              "<Figure size 720x360 with 1 Axes>"
            ],
            "image/png": "[encoded data removed]"
          },
          "metadata": {
            "needs_background": "light"
          }
        }
      ]
    },
    {
      "cell_type": "markdown",
      "source": [
        "* 19세 이상 관람 티비쇼가 전체 관람이나 14세 이상 관람보다 400개 이상 많다. 이는 넷플리스의 상업성을 보여준다."
      ],
      "metadata": {
        "id": "0do88Ljmiwug"
      }
    },
    {
      "cell_type": "markdown",
      "source": [
        "#### * Continent vs release_year vs Registered_year"
      ],
      "metadata": {
        "id": "wHXOwpd_0Dxj"
      }
    },
    {
      "cell_type": "code",
      "source": [
        "fig,ax = plt.subplots(1,2)\n",
        "\n",
        "df_TV.groupby(['Continent'])['release_year'].count().plot(kind='bar',rot=0,figsize=(20,8),ax=ax[0])\n",
        "ax[0].set_title('Continent vs Release_year')\n",
        "df_TV.groupby('Continent')['Registered year'].count().plot(kind='bar',figsize=(20,8),ax=ax[1])\n",
        "ax[1].set_title('Continent vs Registered year')"
      ],
      "metadata": {
        "colab": {
          "base_uri": "https://localhost:8080/",
          "height": 531
        },
        "id": "xdJ_zuiu0B2v",
        "outputId": "cc12f9d3-bbc6-4c03-900d-b6698d06dd99"
      },
      "execution_count": 938,
      "outputs": [
        {
          "output_type": "execute_result",
          "data": {
            "text/plain": [
              "Text(0.5, 1.0, 'Continent vs Registered year')"
            ]
          },
          "metadata": {},
          "execution_count": 938
        },
        {
          "output_type": "display_data",
          "data": {
            "text/plain": [
              "<Figure size 1440x576 with 2 Axes>"
            ],
            "image/png": "[encoded data removed]"
          },
          "metadata": {
            "needs_background": "light"
          }
        }
      ]
    },
    {
      "cell_type": "markdown",
      "source": [
        "* 아메리카 > 아시아 > 유럽순 으로 런칭되는 컨텐츠의 수가 많은 것으로 보여지며, 넷플릭스에 등록되어지는 컨텐츠도 아메리카 > 아시아 > 유럽 순으로 동일하다 \n",
        "\n",
        "이는 런칭되는 컨텐츠의 수가 증가할수록 넷플릭스에 등록되어질 수 있는 기회가 많은 것으로 보여진다"
      ],
      "metadata": {
        "id": "jpizzjE2jiGu"
      }
    },
    {
      "cell_type": "code",
      "source": [
        "RE_T= df_TV.loc[df_TV['release_year']>=2010]\n",
        "RA_T= df_TV.loc[df_TV['Registered year']>=2010]\n",
        "\n",
        "fig,ax = plt.subplots(1,2)\n",
        "RE_T.groupby('release_year')['Continent'].count().plot(kind='bar',rot=0,figsize=(20,8),ax=ax[0])\n",
        "RA_T.groupby('Registered year')['Continent'].count().plot(kind='bar',rot=0,figsize=(20,8),ax=ax[1])"
      ],
      "metadata": {
        "colab": {
          "base_uri": "https://localhost:8080/",
          "height": 516
        },
        "id": "c0V4s4_D1dNb",
        "outputId": "ee485b4c-61dc-48f7-a50e-3924232b7562"
      },
      "execution_count": 939,
      "outputs": [
        {
          "output_type": "execute_result",
          "data": {
            "text/plain": [
              "<matplotlib.axes._subplots.AxesSubplot at 0x7f8eaddcb190>"
            ]
          },
          "metadata": {},
          "execution_count": 939
        },
        {
          "output_type": "display_data",
          "data": {
            "text/plain": [
              "<Figure size 1440x576 with 2 Axes>"
            ],
            "image/png": "[encoded data removed]"
          },
          "metadata": {
            "needs_background": "light"
          }
        }
      ]
    },
    {
      "cell_type": "markdown",
      "source": [
        "#### * Continent vs (Description)enre"
      ],
      "metadata": {
        "id": "loNQjuTc1GN6"
      }
    },
    {
      "cell_type": "code",
      "source": [
        "df_TV['description']=np.array(df_TV['description'])\n",
        "f,ax=plt.subplots(2,2,figsize=(17,8))\n",
        "df_TV[df_TV['description'].str.contains('horror','evil')].Continent.plot.hist(ax=ax[0][0],bins=20,edgecolor='black',color='red')\n",
        "ax[0][0].set_title('horror')\n",
        "x1=list(range(0,5,1))\n",
        "y1=list(range(0,10,1))\n",
        "ax[0][0].set_xticks(x1)\n",
        "ax[0][0].set_yticks(y1)        \n",
        "df_TV[df_TV['description'].str.contains('love','kiss')].Continent.plot.hist(ax=ax[0][1],color='green',bins=20,edgecolor='black')\n",
        "ax[0][1].set_title('love')\n",
        "x2=list(range(0,5,1))\n",
        "y2=list(range(0,110,10))\n",
        "ax[0][1].set_xticks(x2)       \n",
        "ax[0][1].set_yticks(y2)\n",
        "df_TV[df_TV['description'].str.contains('thriller','suspense')].Continent.plot.hist(ax=ax[1][0],color='blue',bins=20,edgecolor='black')\n",
        "ax[1][0].set_title('thriller')\n",
        "x3=list(range(0,5,1))\n",
        "y3=list(range(0,5,1))\n",
        "ax[1][0].set_xticks(x3)       \n",
        "ax[1][0].set_yticks(y3)\n",
        "df_TV[df_TV['description'].str.contains('SF','space')].Continent.plot.hist(ax=ax[1][1],color='yellow',bins=20,edgecolor='black')\n",
        "ax[1][1].set_title('SF')\n",
        "x4=list(range(0,5,1))\n",
        "y4=list(range(0,8,1))\n",
        "ax[1][1].set_xticks(x4)       \n",
        "ax[1][1].set_yticks(y4)\n",
        "plt.show()"
      ],
      "metadata": {
        "colab": {
          "base_uri": "https://localhost:8080/",
          "height": 499
        },
        "id": "YNw6wrvz6fa3",
        "outputId": "10253faf-98c7-4ae7-d7d2-f182d16a201c"
      },
      "execution_count": 940,
      "outputs": [
        {
          "output_type": "display_data",
          "data": {
            "text/plain": [
              "<Figure size 1224x576 with 4 Axes>"
            ],
            "image/png": "[encoded data removed]"
          },
          "metadata": {
            "needs_background": "light"
          }
        }
      ]
    },
    {
      "cell_type": "markdown",
      "source": [
        "* 호러,스릴러, SF 장르에서는 아메리카 대륙에서 많이 만들어지는 것으로 보여지며 \n",
        "* 로맨스 장르에서는 아시아 대륙이 크게 강세를 보인다 \n",
        "\n",
        "이는 아메리카 대륙 중 미국의 영향이 클 것으로 예상하며, 특히 로맨스 장르에서 아시아가 두드러지게 보이는것은 아시아 만의 정서 때문으로 판단한다.\n",
        "\n"
      ],
      "metadata": {
        "id": "xtm9xkqElN7K"
      }
    },
    {
      "cell_type": "markdown",
      "source": [
        "### **Target(Duration) - feature**"
      ],
      "metadata": {
        "id": "vo4jfCBymyBF"
      }
    },
    {
      "cell_type": "code",
      "source": [
        "df_TV.groupby('rating')['Duration'].sum().plot.bar(color='blue')\n",
        "plt.show()"
      ],
      "metadata": {
        "colab": {
          "base_uri": "https://localhost:8080/",
          "height": 283
        },
        "id": "XbvpDmgIyCeX",
        "outputId": "51c80a92-3663-4091-f740-e9f482d502de"
      },
      "execution_count": 941,
      "outputs": [
        {
          "output_type": "display_data",
          "data": {
            "text/plain": [
              "<Figure size 432x288 with 1 Axes>"
            ],
            "image/png": "[encoded data removed]"
          },
          "metadata": {
            "needs_background": "light"
          }
        }
      ]
    },
    {
      "cell_type": "markdown",
      "source": [
        "* 흥행하기 위해 상업적인 컨텐츠가 유리하다"
      ],
      "metadata": {
        "id": "RbCW1jcRolmz"
      }
    },
    {
      "cell_type": "code",
      "source": [
        "f,ax=plt.subplots(1,2,figsize=(50,10))\n",
        "RE_T.groupby(['release_year','Continent'])['Duration'].sum().plot.bar(style='sky', ax=ax[0])\n",
        "RA_T.groupby(['Registered year','Continent'])['Duration'].sum().plot.bar(style='green', ax=ax[1])"
      ],
      "metadata": {
        "colab": {
          "base_uri": "https://localhost:8080/",
          "height": 367
        },
        "id": "Ltopv1ZroMGo",
        "outputId": "ac0303a3-98de-4c57-b02a-62393871506f"
      },
      "execution_count": 942,
      "outputs": [
        {
          "output_type": "execute_result",
          "data": {
            "text/plain": [
              "<matplotlib.axes._subplots.AxesSubplot at 0x7f8eb117e890>"
            ]
          },
          "metadata": {},
          "execution_count": 942
        },
        {
          "output_type": "display_data",
          "data": {
            "text/plain": [
              "<Figure size 3600x720 with 2 Axes>"
            ],
            "image/png": "[encoded data removed]"
          },
          "metadata": {
            "needs_background": "light"
          }
        }
      ]
    },
    {
      "cell_type": "markdown",
      "source": [
        "* 흥행하기 위해 연도별 컨텐츠 시장의 상승세인지 확인해야하며, 아메리카 대륙에서 런칭하는 것이 유리하다"
      ],
      "metadata": {
        "id": "XnHX17HXoy8I"
      }
    },
    {
      "cell_type": "code",
      "source": [
        "df_TV['description']=np.array(df_TV['description'])\n",
        "f,ax=plt.subplots(2,2,figsize=(17,8))\n",
        "df_TV[df_TV['description'].str.contains('horror','evil')].Duration.plot.hist(ax=ax[0][0],bins=20,edgecolor='black',color='red')\n",
        "ax[0][0].set_title('horror')\n",
        "x1=list(range(0,5,1))\n",
        "y1=list(range(0,10,1))\n",
        "ax[0][0].set_xticks(x1)\n",
        "ax[0][0].set_yticks(y1)        \n",
        "df_TV[df_TV['description'].str.contains('love','kiss')].Duration.plot.hist(ax=ax[0][1],color='green',bins=20,edgecolor='black')\n",
        "ax[0][1].set_title('love')\n",
        "x2=list(range(0,5,1))\n",
        "y2=list(range(0,110,10))\n",
        "ax[0][1].set_xticks(x2)       \n",
        "ax[0][1].set_yticks(y2)\n",
        "df_TV[df_TV['description'].str.contains('thriller','suspense')].Duration.plot.hist(ax=ax[1][0],color='blue',bins=20,edgecolor='black')\n",
        "ax[1][0].set_title('thriller')\n",
        "x3=list(range(0,5,1))\n",
        "y3=list(range(0,5,1))\n",
        "ax[1][0].set_xticks(x3)       \n",
        "ax[1][0].set_yticks(y3)\n",
        "df_TV[df_TV['description'].str.contains('SF','space')].Duration.plot.hist(ax=ax[1][1],color='yellow',bins=20,edgecolor='black')\n",
        "ax[1][1].set_title('SF')\n",
        "x4=list(range(0,5,1))\n",
        "y4=list(range(0,8,1))\n",
        "ax[1][1].set_xticks(x4)       \n",
        "ax[1][1].set_yticks(y4)\n",
        "plt.show()"
      ],
      "metadata": {
        "colab": {
          "base_uri": "https://localhost:8080/",
          "height": 499
        },
        "id": "D6fq7w98DHJv",
        "outputId": "6953440f-aaee-4d3c-c83b-aabf320a2547"
      },
      "execution_count": 943,
      "outputs": [
        {
          "output_type": "display_data",
          "data": {
            "text/plain": [
              "<Figure size 1224x576 with 4 Axes>"
            ],
            "image/png": "[encoded data removed]"
          },
          "metadata": {
            "needs_background": "light"
          }
        }
      ]
    },
    {
      "cell_type": "markdown",
      "source": [
        "* 흥행하기위해서는 호러물(공포)과 SF 장르를 선택하여 제작하는 것이 유리하다"
      ],
      "metadata": {
        "id": "cWKr_BeTpdg0"
      }
    },
    {
      "cell_type": "markdown",
      "source": [
        "## Movie -feature"
      ],
      "metadata": {
        "id": "UdszGAJc-V9Z"
      }
    },
    {
      "cell_type": "code",
      "source": [
        "plt.figure(figsize=(12,10))\n",
        "sns.distplot(df_Movie['Duration'])"
      ],
      "metadata": {
        "colab": {
          "base_uri": "https://localhost:8080/",
          "height": 624
        },
        "id": "LZKjRIO_-6Jy",
        "outputId": "a15b0262-a4e4-4567-fe22-bbb2e0d00b21"
      },
      "execution_count": 944,
      "outputs": [
        {
          "output_type": "execute_result",
          "data": {
            "text/plain": [
              "<matplotlib.axes._subplots.AxesSubplot at 0x7f8eb02e58d0>"
            ]
          },
          "metadata": {},
          "execution_count": 944
        },
        {
          "output_type": "display_data",
          "data": {
            "text/plain": [
              "<Figure size 864x720 with 1 Axes>"
            ],
            "image/png": "[encoded data removed]"
          },
          "metadata": {
            "needs_background": "light"
          }
        }
      ]
    },
    {
      "cell_type": "markdown",
      "source": [
        "영화의 Duration을 살펴보면 대부분 1~2시간 사이의 컨텐츠가  활발히 제작되어지는 것으로 보여집니다."
      ],
      "metadata": {
        "id": "MKR3RKhgp5DO"
      }
    },
    {
      "cell_type": "markdown",
      "source": [
        "#### * Continent vs Rating"
      ],
      "metadata": {
        "id": "GbZ_SPxf_HfN"
      }
    },
    {
      "cell_type": "code",
      "source": [
        "df3=df_Movie[['rating','Continent']]\n",
        "df3=df3.rename(columns={\"Continent\": \"Continent\"})\n",
        "df4=df3.groupby(['Continent','rating']).size().reset_index(name='count')\n",
        "fig5 = px.line(df4, x=\"Continent\", y=\"count\", color='rating',title='Trend of Movie rating produced over the Continent on Netflix')\n",
        "fig5.show()"
      ],
      "metadata": {
        "colab": {
          "base_uri": "https://localhost:8080/",
          "height": 542
        },
        "id": "gkswPPp96XUA",
        "outputId": "f21944e5-98e3-48b3-d660-64df835565d8"
      },
      "execution_count": 945,
      "outputs": [
        {
          "output_type": "display_data",
          "data": {
            "text/html": [
              "<html>\n",
              "<head><meta charset=\"utf-8\" /></head>\n",
              "<body>\n",
              "    <div>            <script src=\"https://cdnjs.cloudflare.com/ajax/libs/mathjax/2.7.5/MathJax.js?config=TeX-AMS-MML_SVG\"></script><script type=\"text/javascript\">if (window.MathJax) {MathJax.Hub.Config({SVG: {font: \"STIX-Web\"}});}</script>                <script type=\"text/javascript\">window.PlotlyConfig = {MathJaxConfig: 'local'};</script>\n",
              "        <script src=\"https://cdn.plot.ly/plotly-2.8.3.min.js\"></script>                <div id=\"51f67601-715d-4a90-b769-de54239a71f5\" class=\"plotly-graph-div\" style=\"height:525px; width:100%;\"></div>            <script type=\"text/javascript\">                                    window.PLOTLYENV=window.PLOTLYENV || {};                                    if (document.getElementById(\"51f67601-715d-4a90-b769-de54239a71f5\")) {                    Plotly.newPlot(                        \"51f67601-715d-4a90-b769-de54239a71f5\",                        [{\"hovertemplate\":\"rating=0<br>Continent=%{x}<br>count=%{y}<extra></extra>\",\"legendgroup\":\"0\",\"line\":{\"color\":\"#636efa\",\"dash\":\"solid\"},\"marker\":{\"symbol\":\"circle\"},\"mode\":\"lines\",\"name\":\"0\",\"orientation\":\"v\",\"showlegend\":true,\"x\":[0,1,2,3,4],\"xaxis\":\"x\",\"y\":[91,736,351,162,137],\"yaxis\":\"y\",\"type\":\"scatter\"},{\"hovertemplate\":\"rating=14<br>Continent=%{x}<br>count=%{y}<extra></extra>\",\"legendgroup\":\"14\",\"line\":{\"color\":\"#EF553B\",\"dash\":\"solid\"},\"marker\":{\"symbol\":\"circle\"},\"mode\":\"lines\",\"name\":\"14\",\"orientation\":\"v\",\"showlegend\":true,\"x\":[0,1,2,3,4],\"xaxis\":\"x\",\"y\":[76,504,854,155,125],\"yaxis\":\"y\",\"type\":\"scatter\"},{\"hovertemplate\":\"rating=19<br>Continent=%{x}<br>count=%{y}<extra></extra>\",\"legendgroup\":\"19\",\"line\":{\"color\":\"#00cc96\",\"dash\":\"solid\"},\"marker\":{\"symbol\":\"circle\"},\"mode\":\"lines\",\"name\":\"19\",\"orientation\":\"v\",\"showlegend\":true,\"x\":[0,1,2,3,4],\"xaxis\":\"x\",\"y\":[160,1425,627,503,225],\"yaxis\":\"y\",\"type\":\"scatter\"}],                        {\"template\":{\"data\":{\"bar\":[{\"error_x\":{\"color\":\"#2a3f5f\"},\"error_y\":{\"color\":\"#2a3f5f\"},\"marker\":{\"line\":{\"color\":\"#E5ECF6\",\"width\":0.5},\"pattern\":{\"fillmode\":\"overlay\",\"size\":10,\"solidity\":0.2}},\"type\":\"bar\"}],\"barpolar\":[{\"marker\":{\"line\":{\"color\":\"#E5ECF6\",\"width\":0.5},\"pattern\":{\"fillmode\":\"overlay\",\"size\":10,\"solidity\":0.2}},\"type\":\"barpolar\"}],\"carpet\":[{\"aaxis\":{\"endlinecolor\":\"#2a3f5f\",\"gridcolor\":\"white\",\"linecolor\":\"white\",\"minorgridcolor\":\"white\",\"startlinecolor\":\"#2a3f5f\"},\"baxis\":{\"endlinecolor\":\"#2a3f5f\",\"gridcolor\":\"white\",\"linecolor\":\"white\",\"minorgridcolor\":\"white\",\"startlinecolor\":\"#2a3f5f\"},\"type\":\"carpet\"}],\"choropleth\":[{\"colorbar\":{\"outlinewidth\":0,\"ticks\":\"\"},\"type\":\"choropleth\"}],\"contour\":[{\"colorbar\":{\"outlinewidth\":0,\"ticks\":\"\"},\"colorscale\":[[0.0,\"#0d0887\"],[0.1111111111111111,\"#46039f\"],[0.2222222222222222,\"#7201a8\"],[0.3333333333333333,\"#9c179e\"],[0.4444444444444444,\"#bd3786\"],[0.5555555555555556,\"#d8576b\"],[0.6666666666666666,\"#ed7953\"],[0.7777777777777778,\"#fb9f3a\"],[0.8888888888888888,\"#fdca26\"],[1.0,\"#f0f921\"]],\"type\":\"contour\"}],\"contourcarpet\":[{\"colorbar\":{\"outlinewidth\":0,\"ticks\":\"\"},\"type\":\"contourcarpet\"}],\"heatmap\":[{\"colorbar\":{\"outlinewidth\":0,\"ticks\":\"\"},\"colorscale\":[[0.0,\"#0d0887\"],[0.1111111111111111,\"#46039f\"],[0.2222222222222222,\"#7201a8\"],[0.3333333333333333,\"#9c179e\"],[0.4444444444444444,\"#bd3786\"],[0.5555555555555556,\"#d8576b\"],[0.6666666666666666,\"#ed7953\"],[0.7777777777777778,\"#fb9f3a\"],[0.8888888888888888,\"#fdca26\"],[1.0,\"#f0f921\"]],\"type\":\"heatmap\"}],\"heatmapgl\":[{\"colorbar\":{\"outlinewidth\":0,\"ticks\":\"\"},\"colorscale\":[[0.0,\"#0d0887\"],[0.1111111111111111,\"#46039f\"],[0.2222222222222222,\"#7201a8\"],[0.3333333333333333,\"#9c179e\"],[0.4444444444444444,\"#bd3786\"],[0.5555555555555556,\"#d8576b\"],[0.6666666666666666,\"#ed7953\"],[0.7777777777777778,\"#fb9f3a\"],[0.8888888888888888,\"#fdca26\"],[1.0,\"#f0f921\"]],\"type\":\"heatmapgl\"}],\"histogram\":[{\"marker\":{\"pattern\":{\"fillmode\":\"overlay\",\"size\":10,\"solidity\":0.2}},\"type\":\"histogram\"}],\"histogram2d\":[{\"colorbar\":{\"outlinewidth\":0,\"ticks\":\"\"},\"colorscale\":[[0.0,\"#0d0887\"],[0.1111111111111111,\"#46039f\"],[0.2222222222222222,\"#7201a8\"],[0.3333333333333333,\"#9c179e\"],[0.4444444444444444,\"#bd3786\"],[0.5555555555555556,\"#d8576b\"],[0.6666666666666666,\"#ed7953\"],[0.7777777777777778,\"#fb9f3a\"],[0.8888888888888888,\"#fdca26\"],[1.0,\"#f0f921\"]],\"type\":\"histogram2d\"}],\"histogram2dcontour\":[{\"colorbar\":{\"outlinewidth\":0,\"ticks\":\"\"},\"colorscale\":[[0.0,\"#0d0887\"],[0.1111111111111111,\"#46039f\"],[0.2222222222222222,\"#7201a8\"],[0.3333333333333333,\"#9c179e\"],[0.4444444444444444,\"#bd3786\"],[0.5555555555555556,\"#d8576b\"],[0.6666666666666666,\"#ed7953\"],[0.7777777777777778,\"#fb9f3a\"],[0.8888888888888888,\"#fdca26\"],[1.0,\"#f0f921\"]],\"type\":\"histogram2dcontour\"}],\"mesh3d\":[{\"colorbar\":{\"outlinewidth\":0,\"ticks\":\"\"},\"type\":\"mesh3d\"}],\"parcoords\":[{\"line\":{\"colorbar\":{\"outlinewidth\":0,\"ticks\":\"\"}},\"type\":\"parcoords\"}],\"pie\":[{\"automargin\":true,\"type\":\"pie\"}],\"scatter\":[{\"marker\":{\"colorbar\":{\"outlinewidth\":0,\"ticks\":\"\"}},\"type\":\"scatter\"}],\"scatter3d\":[{\"line\":{\"colorbar\":{\"outlinewidth\":0,\"ticks\":\"\"}},\"marker\":{\"colorbar\":{\"outlinewidth\":0,\"ticks\":\"\"}},\"type\":\"scatter3d\"}],\"scattercarpet\":[{\"marker\":{\"colorbar\":{\"outlinewidth\":0,\"ticks\":\"\"}},\"type\":\"scattercarpet\"}],\"scattergeo\":[{\"marker\":{\"colorbar\":{\"outlinewidth\":0,\"ticks\":\"\"}},\"type\":\"scattergeo\"}],\"scattergl\":[{\"marker\":{\"colorbar\":{\"outlinewidth\":0,\"ticks\":\"\"}},\"type\":\"scattergl\"}],\"scattermapbox\":[{\"marker\":{\"colorbar\":{\"outlinewidth\":0,\"ticks\":\"\"}},\"type\":\"scattermapbox\"}],\"scatterpolar\":[{\"marker\":{\"colorbar\":{\"outlinewidth\":0,\"ticks\":\"\"}},\"type\":\"scatterpolar\"}],\"scatterpolargl\":[{\"marker\":{\"colorbar\":{\"outlinewidth\":0,\"ticks\":\"\"}},\"type\":\"scatterpolargl\"}],\"scatterternary\":[{\"marker\":{\"colorbar\":{\"outlinewidth\":0,\"ticks\":\"\"}},\"type\":\"scatterternary\"}],\"surface\":[{\"colorbar\":{\"outlinewidth\":0,\"ticks\":\"\"},\"colorscale\":[[0.0,\"#0d0887\"],[0.1111111111111111,\"#46039f\"],[0.2222222222222222,\"#7201a8\"],[0.3333333333333333,\"#9c179e\"],[0.4444444444444444,\"#bd3786\"],[0.5555555555555556,\"#d8576b\"],[0.6666666666666666,\"#ed7953\"],[0.7777777777777778,\"#fb9f3a\"],[0.8888888888888888,\"#fdca26\"],[1.0,\"#f0f921\"]],\"type\":\"surface\"}],\"table\":[{\"cells\":{\"fill\":{\"color\":\"#EBF0F8\"},\"line\":{\"color\":\"white\"}},\"header\":{\"fill\":{\"color\":\"#C8D4E3\"},\"line\":{\"color\":\"white\"}},\"type\":\"table\"}]},\"layout\":{\"annotationdefaults\":{\"arrowcolor\":\"#2a3f5f\",\"arrowhead\":0,\"arrowwidth\":1},\"autotypenumbers\":\"strict\",\"coloraxis\":{\"colorbar\":{\"outlinewidth\":0,\"ticks\":\"\"}},\"colorscale\":{\"diverging\":[[0,\"#8e0152\"],[0.1,\"#c51b7d\"],[0.2,\"#de77ae\"],[0.3,\"#f1b6da\"],[0.4,\"#fde0ef\"],[0.5,\"#f7f7f7\"],[0.6,\"#e6f5d0\"],[0.7,\"#b8e186\"],[0.8,\"#7fbc41\"],[0.9,\"#4d9221\"],[1,\"#276419\"]],\"sequential\":[[0.0,\"#0d0887\"],[0.1111111111111111,\"#46039f\"],[0.2222222222222222,\"#7201a8\"],[0.3333333333333333,\"#9c179e\"],[0.4444444444444444,\"#bd3786\"],[0.5555555555555556,\"#d8576b\"],[0.6666666666666666,\"#ed7953\"],[0.7777777777777778,\"#fb9f3a\"],[0.8888888888888888,\"#fdca26\"],[1.0,\"#f0f921\"]],\"sequentialminus\":[[0.0,\"#0d0887\"],[0.1111111111111111,\"#46039f\"],[0.2222222222222222,\"#7201a8\"],[0.3333333333333333,\"#9c179e\"],[0.4444444444444444,\"#bd3786\"],[0.5555555555555556,\"#d8576b\"],[0.6666666666666666,\"#ed7953\"],[0.7777777777777778,\"#fb9f3a\"],[0.8888888888888888,\"#fdca26\"],[1.0,\"#f0f921\"]]},\"colorway\":[\"#636efa\",\"#EF553B\",\"#00cc96\",\"#ab63fa\",\"#FFA15A\",\"#19d3f3\",\"#FF6692\",\"#B6E880\",\"#FF97FF\",\"#FECB52\"],\"font\":{\"color\":\"#2a3f5f\"},\"geo\":{\"bgcolor\":\"white\",\"lakecolor\":\"white\",\"landcolor\":\"#E5ECF6\",\"showlakes\":true,\"showland\":true,\"subunitcolor\":\"white\"},\"hoverlabel\":{\"align\":\"left\"},\"hovermode\":\"closest\",\"mapbox\":{\"style\":\"light\"},\"paper_bgcolor\":\"white\",\"plot_bgcolor\":\"#E5ECF6\",\"polar\":{\"angularaxis\":{\"gridcolor\":\"white\",\"linecolor\":\"white\",\"ticks\":\"\"},\"bgcolor\":\"#E5ECF6\",\"radialaxis\":{\"gridcolor\":\"white\",\"linecolor\":\"white\",\"ticks\":\"\"}},\"scene\":{\"xaxis\":{\"backgroundcolor\":\"#E5ECF6\",\"gridcolor\":\"white\",\"gridwidth\":2,\"linecolor\":\"white\",\"showbackground\":true,\"ticks\":\"\",\"zerolinecolor\":\"white\"},\"yaxis\":{\"backgroundcolor\":\"#E5ECF6\",\"gridcolor\":\"white\",\"gridwidth\":2,\"linecolor\":\"white\",\"showbackground\":true,\"ticks\":\"\",\"zerolinecolor\":\"white\"},\"zaxis\":{\"backgroundcolor\":\"#E5ECF6\",\"gridcolor\":\"white\",\"gridwidth\":2,\"linecolor\":\"white\",\"showbackground\":true,\"ticks\":\"\",\"zerolinecolor\":\"white\"}},\"shapedefaults\":{\"line\":{\"color\":\"#2a3f5f\"}},\"ternary\":{\"aaxis\":{\"gridcolor\":\"white\",\"linecolor\":\"white\",\"ticks\":\"\"},\"baxis\":{\"gridcolor\":\"white\",\"linecolor\":\"white\",\"ticks\":\"\"},\"bgcolor\":\"#E5ECF6\",\"caxis\":{\"gridcolor\":\"white\",\"linecolor\":\"white\",\"ticks\":\"\"}},\"title\":{\"x\":0.05},\"xaxis\":{\"automargin\":true,\"gridcolor\":\"white\",\"linecolor\":\"white\",\"ticks\":\"\",\"title\":{\"standoff\":15},\"zerolinecolor\":\"white\",\"zerolinewidth\":2},\"yaxis\":{\"automargin\":true,\"gridcolor\":\"white\",\"linecolor\":\"white\",\"ticks\":\"\",\"title\":{\"standoff\":15},\"zerolinecolor\":\"white\",\"zerolinewidth\":2}}},\"xaxis\":{\"anchor\":\"y\",\"domain\":[0.0,1.0],\"title\":{\"text\":\"Continent\"}},\"yaxis\":{\"anchor\":\"x\",\"domain\":[0.0,1.0],\"title\":{\"text\":\"count\"}},\"legend\":{\"title\":{\"text\":\"rating\"},\"tracegroupgap\":0},\"title\":{\"text\":\"Trend of Movie rating produced over the Continent on Netflix\"}},                        {\"responsive\": true}                    ).then(function(){\n",
              "                            \n",
              "var gd = document.getElementById('51f67601-715d-4a90-b769-de54239a71f5');\n",
              "var x = new MutationObserver(function (mutations, observer) {{\n",
              "        var display = window.getComputedStyle(gd).display;\n",
              "        if (!display || display === 'none') {{\n",
              "            console.log([gd, 'removed!']);\n",
              "            Plotly.purge(gd);\n",
              "            observer.disconnect();\n",
              "        }}\n",
              "}});\n",
              "\n",
              "// Listen for the removal of the full notebook cells\n",
              "var notebookContainer = gd.closest('#notebook-container');\n",
              "if (notebookContainer) {{\n",
              "    x.observe(notebookContainer, {childList: true});\n",
              "}}\n",
              "\n",
              "// Listen for the clearing of the current output cell\n",
              "var outputEl = gd.closest('.output');\n",
              "if (outputEl) {{\n",
              "    x.observe(outputEl, {childList: true});\n",
              "}}\n",
              "\n",
              "                        })                };                            </script>        </div>\n",
              "</body>\n",
              "</html>"
            ]
          },
          "metadata": {}
        }
      ]
    },
    {
      "cell_type": "markdown",
      "source": [
        "위의 TV show와 같이 19세 이상 관람 등급의 상업용 영화가 많습니다."
      ],
      "metadata": {
        "id": "6BUKYKAuqnE0"
      }
    },
    {
      "cell_type": "code",
      "source": [
        "df_Movie.groupby('rating')['Continent'].count().plot(kind='bar', figsize=(10,5))\n",
        "plt.show()"
      ],
      "metadata": {
        "colab": {
          "base_uri": "https://localhost:8080/",
          "height": 336
        },
        "id": "VRwz1q_8_WQT",
        "outputId": "0e012e04-bb94-4fb2-9913-d510cebed2c8"
      },
      "execution_count": 946,
      "outputs": [
        {
          "output_type": "display_data",
          "data": {
            "text/plain": [
              "<Figure size 720x360 with 1 Axes>"
            ],
            "image/png": "[encoded data removed]"
          },
          "metadata": {
            "needs_background": "light"
          }
        }
      ]
    },
    {
      "cell_type": "markdown",
      "source": [
        "#### * Continent vs release_year vs Registered_year"
      ],
      "metadata": {
        "id": "ze3ZMQhT_JNn"
      }
    },
    {
      "cell_type": "code",
      "source": [
        "fig,ax = plt.subplots(1,2)\n",
        "\n",
        "df_Movie.groupby(['Continent'])['release_year'].count().plot(kind='bar',rot=0,figsize=(20,8),ax=ax[0])\n",
        "ax[0].set_title('Continent vs Release_year')\n",
        "df_Movie.groupby('Continent')['Registered year'].count().plot(kind='bar',figsize=(20,8),ax=ax[1])\n",
        "ax[1].set_title('Continent vs Registered year')"
      ],
      "metadata": {
        "colab": {
          "base_uri": "https://localhost:8080/",
          "height": 531
        },
        "id": "Of-XcesX-f3M",
        "outputId": "cea0b271-ec40-41dd-d174-6175940b4b79"
      },
      "execution_count": 947,
      "outputs": [
        {
          "output_type": "execute_result",
          "data": {
            "text/plain": [
              "Text(0.5, 1.0, 'Continent vs Registered year')"
            ]
          },
          "metadata": {},
          "execution_count": 947
        },
        {
          "output_type": "display_data",
          "data": {
            "text/plain": [
              "<Figure size 1440x576 with 2 Axes>"
            ],
            "image/png": "[encoded data removed]"
          },
          "metadata": {
            "needs_background": "light"
          }
        }
      ]
    },
    {
      "cell_type": "markdown",
      "source": [
        "\n",
        "위의 TV show와 똑같이 런칭되는 영화의 수가 증가할수록 넷플릭스에 등록되어질 수 있는 기회가 많은 것으로 보여진다"
      ],
      "metadata": {
        "id": "zxfEjXG7q_B9"
      }
    },
    {
      "cell_type": "code",
      "source": [
        "RE_M= df_Movie.loc[df_Movie['release_year']>=2010]\n",
        "RA_M= df_Movie.loc[df_Movie['Registered year']>=2010]\n",
        "\n",
        "fig,ax = plt.subplots(1,2)\n",
        "RE_M.groupby('release_year')['Continent'].count().plot(kind='bar',rot=0,figsize=(20,8),ax=ax[0])\n",
        "RA_M.groupby('Registered year')['Continent'].count().plot(kind='bar',rot=0,figsize=(20,8),ax=ax[1])"
      ],
      "metadata": {
        "colab": {
          "base_uri": "https://localhost:8080/",
          "height": 517
        },
        "id": "IgSX5EX4_col",
        "outputId": "3bb33097-8c7d-49a1-87f1-2653e19785aa"
      },
      "execution_count": 948,
      "outputs": [
        {
          "output_type": "execute_result",
          "data": {
            "text/plain": [
              "<matplotlib.axes._subplots.AxesSubplot at 0x7f8eaf95c410>"
            ]
          },
          "metadata": {},
          "execution_count": 948
        },
        {
          "output_type": "display_data",
          "data": {
            "text/plain": [
              "<Figure size 1440x576 with 2 Axes>"
            ],
            "image/png": "[encoded data removed]"
          },
          "metadata": {
            "needs_background": "light"
          }
        }
      ]
    },
    {
      "cell_type": "code",
      "source": [
        "df_Movie['description']=np.array(df_Movie['description'])\n",
        "f,ax=plt.subplots(2,2,figsize=(17,8))\n",
        "df_Movie[df_Movie['description'].str.contains('horror','evil')].Continent.plot.hist(ax=ax[0][0],bins=20,edgecolor='black',color='red')\n",
        "ax[0][0].set_title('horror')\n",
        "x1=list(range(0,5,1))\n",
        "y1=list(range(0,10,1))\n",
        "ax[0][0].set_xticks(x1)\n",
        "ax[0][0].set_yticks(y1)        \n",
        "df_Movie[df_Movie['description'].str.contains('love','kiss')].Continent.plot.hist(ax=ax[0][1],color='green',bins=20,edgecolor='black')\n",
        "ax[0][1].set_title('love')\n",
        "x2=list(range(0,5,1))\n",
        "y2=list(range(0,110,10))\n",
        "ax[0][1].set_xticks(x2)       \n",
        "ax[0][1].set_yticks(y2)\n",
        "df_Movie[df_Movie['description'].str.contains('thriller','suspense')].Continent.plot.hist(ax=ax[1][0],color='blue',bins=20,edgecolor='black')\n",
        "ax[1][0].set_title('thriller')\n",
        "x3=list(range(0,5,1))\n",
        "y3=list(range(0,5,1))\n",
        "ax[1][0].set_xticks(x3)       \n",
        "ax[1][0].set_yticks(y3)\n",
        "df_Movie[df_Movie['description'].str.contains('SF','space')].Continent.plot.hist(ax=ax[1][1],color='yellow',bins=20,edgecolor='black')\n",
        "ax[1][1].set_title('SF')\n",
        "x4=list(range(0,5,1))\n",
        "y4=list(range(0,8,1))\n",
        "ax[1][1].set_xticks(x4)       \n",
        "ax[1][1].set_yticks(y4)\n",
        "plt.show()"
      ],
      "metadata": {
        "colab": {
          "base_uri": "https://localhost:8080/",
          "height": 499
        },
        "id": "JA8nk3ew_ric",
        "outputId": "2d68d92e-d6b6-423b-f57a-d84bb06cc0d3"
      },
      "execution_count": 949,
      "outputs": [
        {
          "output_type": "display_data",
          "data": {
            "text/plain": [
              "<Figure size 1224x576 with 4 Axes>"
            ],
            "image/png": "[encoded data removed]"
          },
          "metadata": {
            "needs_background": "light"
          }
        }
      ]
    },
    {
      "cell_type": "markdown",
      "source": [
        "* 호러, 로맨스 장르 그래프 형태는 위의 TV show와 같지만, 스릴러 장르에서는 아메리카, 아시아가 동일한 빈도로 영화 제작하는 것을 볼 수 있습니다.\n",
        "* 또한, TV show와 다르게 영화에서는 SF 장르를 제작하는 대륙을 볼 수 없는데, 현재 추측하는 바는 데이터 전처리 과정 중 장르를 나누는 조건 문자열의 조합을 수정한다면 필요한 정보를 얻을 수 있을 것이라 예상됩니다."
      ],
      "metadata": {
        "id": "Xwwp3NKcrdN0"
      }
    },
    {
      "cell_type": "markdown",
      "source": [
        "### **Target(Duration) - feature**"
      ],
      "metadata": {
        "id": "lKagqy_utDaL"
      }
    },
    {
      "cell_type": "code",
      "source": [
        "df_Movie.groupby('rating')['Duration'].sum().plot.bar(color='blue')\n",
        "plt.show()"
      ],
      "metadata": {
        "colab": {
          "base_uri": "https://localhost:8080/",
          "height": 282
        },
        "id": "0rGJNxTwADIx",
        "outputId": "fb818838-15bd-4ea0-cbd2-62356770a744"
      },
      "execution_count": 950,
      "outputs": [
        {
          "output_type": "display_data",
          "data": {
            "text/plain": [
              "<Figure size 432x288 with 1 Axes>"
            ],
            "image/png": "[encoded data removed]"
          },
          "metadata": {
            "needs_background": "light"
          }
        }
      ]
    },
    {
      "cell_type": "markdown",
      "source": [
        "* 흥행하기 위해 상업적인 컨텐츠가 유리하다"
      ],
      "metadata": {
        "id": "WAGLtSbctv7t"
      }
    },
    {
      "cell_type": "code",
      "source": [
        "f,ax=plt.subplots(1,2,figsize=(50,10))\n",
        "RE_M.groupby(['release_year','Continent'])['Duration'].sum().plot.bar(style='sky', ax=ax[0])\n",
        "RA_M.groupby(['Registered year','Continent'])['Duration'].sum().plot.bar(style='green', ax=ax[1])"
      ],
      "metadata": {
        "colab": {
          "base_uri": "https://localhost:8080/",
          "height": 367
        },
        "id": "X7yiGtb0tJ9W",
        "outputId": "8f74d390-491d-44ff-f6a6-84a7601e31f8"
      },
      "execution_count": 951,
      "outputs": [
        {
          "output_type": "execute_result",
          "data": {
            "text/plain": [
              "<matplotlib.axes._subplots.AxesSubplot at 0x7f8ead0f8350>"
            ]
          },
          "metadata": {},
          "execution_count": 951
        },
        {
          "output_type": "display_data",
          "data": {
            "text/plain": [
              "<Figure size 3600x720 with 2 Axes>"
            ],
            "image/png": "[encoded data removed]"
          },
          "metadata": {
            "needs_background": "light"
          }
        }
      ]
    },
    {
      "cell_type": "markdown",
      "source": [
        "* 흥행하기 위해 연도별 영화 시장의 상승세인지 확인해야하며, 아메리카 대륙에서 런칭하는 것이 유리하다\n",
        "* 하지만, 2021년도에는 아시아에서도 활발하게 영화사업이 발전하고 유명해지고 있는 추세로 아시아 대륙에서 런칭하는 것도 고려하는 것도 좋을 것으로 예측한다."
      ],
      "metadata": {
        "id": "jG1O3nc1t1Q5"
      }
    },
    {
      "cell_type": "code",
      "source": [
        "df_Movie['description']=np.array(df_Movie['description'])\n",
        "f,ax=plt.subplots(2,2,figsize=(17,8))\n",
        "df_Movie[df_Movie['description'].str.contains('horror','evil')].Duration.plot.hist(ax=ax[0][0],bins=20,edgecolor='black',color='red')\n",
        "ax[0][0].set_title('horror')\n",
        "x1=list(range(0,5,1))\n",
        "y1=list(range(0,10,1))\n",
        "ax[0][0].set_xticks(x1)\n",
        "ax[0][0].set_yticks(y1)        \n",
        "df_Movie[df_Movie['description'].str.contains('love','kiss')].Duration.plot.hist(ax=ax[0][1],color='green',bins=20,edgecolor='black')\n",
        "ax[0][1].set_title('love')\n",
        "x2=list(range(0,5,1))\n",
        "y2=list(range(0,110,10))\n",
        "ax[0][1].set_xticks(x2)       \n",
        "ax[0][1].set_yticks(y2)\n",
        "df_Movie[df_Movie['description'].str.contains('thriller','suspense')].Duration.plot.hist(ax=ax[1][0],color='blue',bins=20,edgecolor='black')\n",
        "ax[1][0].set_title('thriller')\n",
        "x3=list(range(0,5,1))\n",
        "y3=list(range(0,5,1))\n",
        "ax[1][0].set_xticks(x3)       \n",
        "ax[1][0].set_yticks(y3)\n",
        "df_Movie[df_Movie['description'].str.contains('SF','space')].Duration.plot.hist(ax=ax[1][1],color='yellow',bins=20,edgecolor='black')\n",
        "ax[1][1].set_title('SF')\n",
        "x4=list(range(0,5,1))\n",
        "y4=list(range(0,8,1))\n",
        "ax[1][1].set_xticks(x4)       \n",
        "ax[1][1].set_yticks(y4)\n",
        "plt.show()"
      ],
      "metadata": {
        "colab": {
          "base_uri": "https://localhost:8080/",
          "height": 499
        },
        "id": "89JsJZzWGKce",
        "outputId": "98d160dd-532f-4e25-939c-f6883f6e7877"
      },
      "execution_count": 953,
      "outputs": [
        {
          "output_type": "display_data",
          "data": {
            "text/plain": [
              "<Figure size 1224x576 with 4 Axes>"
            ],
            "image/png": "[encoded data removed]"
          },
          "metadata": {
            "needs_background": "light"
          }
        }
      ]
    },
    {
      "cell_type": "markdown",
      "source": [
        "* 영화로 흥행하기 위해 1~2시간의 러닝타임을 초과하지 않도록 하는 것이 유리하다"
      ],
      "metadata": {
        "id": "aekTb7GQulcd"
      }
    },
    {
      "cell_type": "markdown",
      "source": [
        "## 결론"
      ],
      "metadata": {
        "id": "4LSYHxjju5t8"
      }
    },
    {
      "cell_type": "markdown",
      "source": [
        "* 넷플릭스에는 흥행하기 위한 요소\n",
        "> 1. 자극적인 요소가 포함된 상업용 컨텐츠 (청소년 관람 불가)\n",
        "> 2. 컨텐츠 시장의 추이 확인 및 활발히 제작되어 지고 있는 아메리카, 아시아 등의 대륙을 선택\n",
        "> 3. 공포, SF 등의 시즌(시리즈) 및 2시간 미만의 러닝타임의 컨텐츠\n"
      ],
      "metadata": {
        "id": "UXtm3sJQu7hV"
      }
    },
    {
      "cell_type": "code",
      "source": [
        ""
      ],
      "metadata": {
        "id": "M_JHcdA9u0x1"
      },
      "execution_count": null,
      "outputs": []
    }
  ]
}