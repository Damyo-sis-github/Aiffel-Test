{
  "nbformat": 4,
  "nbformat_minor": 0,
  "metadata": {
    "colab": {
      "name": "Untitled7.ipynb",
      "provenance": []
    },
    "kernelspec": {
      "name": "python3",
      "display_name": "Python 3"
    },
    "language_info": {
      "name": "python"
    }
  },
  "cells": [
    {
      "cell_type": "code",
      "source": [
        "from google.colab import drive\n",
        "drive.mount('/content/drive')"
      ],
      "metadata": {
        "colab": {
          "base_uri": "https://localhost:8080/"
        },
        "id": "26G3E476eGC7",
        "outputId": "dae55d18-6c19-44c8-8048-60ccc42276a0"
      },
      "execution_count": 486,
      "outputs": [
        {
          "output_type": "stream",
          "name": "stdout",
          "text": [
            "Drive already mounted at /content/drive; to attempt to forcibly remount, call drive.mount(\"/content/drive\", force_remount=True).\n"
          ]
        }
      ]
    },
    {
      "cell_type": "code",
      "execution_count": 487,
      "metadata": {
        "id": "Zw5meTYnd_zk"
      },
      "outputs": [],
      "source": [
        "import re #정규 표현식 모듈\n",
        "import numpy as np\n",
        "import pandas as pd\n",
        "import seaborn as sns\n",
        "import calendar\n",
        "import matplotlib.cm as cm\n",
        "\n",
        "import warnings\n",
        "warnings.filterwarnings('ignore')\n",
        "\n",
        "from datetime import datetime      # datatime 라이브러리\n",
        "from matplotlib import pyplot as plt\n",
        "from matplotlib.colors import Normalize\n",
        "\n",
        "%matplotlib inline\n",
        "\n",
        "data = pd.read_csv('/content/drive/MyDrive/Dataton/netflix_titles.csv')"
      ]
    },
    {
      "cell_type": "markdown",
      "source": [
        "# Data Review"
      ],
      "metadata": {
        "id": "DNSaxQgFe2RG"
      }
    },
    {
      "cell_type": "code",
      "source": [
        "df = pd.DataFrame(data)\n",
        "df.drop(['show_id','director','cast'],axis=1,inplace=True)"
      ],
      "metadata": {
        "id": "hpo6w_RHeGjS"
      },
      "execution_count": 488,
      "outputs": []
    },
    {
      "cell_type": "code",
      "source": [
        "df.isnull().sum()"
      ],
      "metadata": {
        "colab": {
          "base_uri": "https://localhost:8080/"
        },
        "id": "5TvrXt85gSrg",
        "outputId": "f6212c44-9664-4367-a09b-250e84acfdd9"
      },
      "execution_count": 489,
      "outputs": [
        {
          "output_type": "execute_result",
          "data": {
            "text/plain": [
              "type              0\n",
              "title             0\n",
              "country         831\n",
              "date_added       10\n",
              "release_year      0\n",
              "rating            4\n",
              "duration          3\n",
              "listed_in         0\n",
              "description       0\n",
              "dtype: int64"
            ]
          },
          "metadata": {},
          "execution_count": 489
        }
      ]
    },
    {
      "cell_type": "markdown",
      "source": [
        "# **Data EDA**"
      ],
      "metadata": {
        "id": "2RIr4oy_1ev8"
      }
    },
    {
      "cell_type": "markdown",
      "source": [
        "## date_added 시간열 분리"
      ],
      "metadata": {
        "id": "A6Ue0ijl1Xw6"
      }
    },
    {
      "cell_type": "code",
      "source": [
        "df['date_added'] = df['date_added'].apply(lambda x : pd.Timestamp(x))\n",
        "\n",
        "df['Registered year'] = df['date_added'].apply(lambda x : x.year)\n",
        "df['Registered month'] = df['date_added'].apply(lambda x : x.month)\n",
        "df['Registered day'] = df['date_added'].apply(lambda x : x.day)\n",
        "\n",
        "df.drop(['date_added'],axis=1,inplace=True)"
      ],
      "metadata": {
        "id": "NjhuhIkg1FSP"
      },
      "execution_count": 490,
      "outputs": []
    },
    {
      "cell_type": "markdown",
      "source": [
        "### description 기준 장르 분류"
      ],
      "metadata": {
        "id": "0cDzE6VicqNI"
      }
    },
    {
      "cell_type": "code",
      "source": [
        "df['Horror'] = df[df['description'].str.contains('[terror][horrible][blood][ghost]',case=False)].listed_in\n",
        "df['Romance'] = df[df['description'].str.contains('[love][romantic][happy][sad]',case=False)].listed_in\n",
        "df['Thriller'] = df[df['description'].str.contains('[mysterious][suspense][kill]',case=False)].listed_in\n",
        "df['SF'] = df[df['description'].str.contains('[monster]*[myth][magic][fantasy]*[dragon][witch]',case=False)].listed_in\n",
        "df.update(df['Horror'],overwrite=True)\n",
        "df.update(df['Romance'],overwrite=True)\n",
        "df.update(df['Thriller'],overwrite=True)\n",
        "df.update(df['SF'],overwrite=True)\n",
        "TV_H = df.groupby(['Thriller']).count()\n",
        "TV_H.iloc[:,[2]]\n"
      ],
      "metadata": {
        "colab": {
          "base_uri": "https://localhost:8080/",
          "height": 455
        },
        "id": "lKYxtbsrokY1",
        "outputId": "2fa20a46-3c78-4c31-f690-148ed0286861"
      },
      "execution_count": 491,
      "outputs": [
        {
          "output_type": "execute_result",
          "data": {
            "text/plain": [
              "                                                    country\n",
              "Thriller                                                   \n",
              "Action & Adventure                                       86\n",
              "Action & Adventure, Anime Features, Children & ...        3\n",
              "Action & Adventure, Anime Features, Classic Movies        1\n",
              "Action & Adventure, Anime Features, Horror Movies         1\n",
              "Action & Adventure, Anime Features, Internation...       19\n",
              "...                                                     ...\n",
              "TV Horror, TV Mysteries, Teen TV Shows                    1\n",
              "TV Horror, Teen TV Shows                                  1\n",
              "TV Sci-Fi & Fantasy, TV Thrillers                         1\n",
              "TV Shows                                                  5\n",
              "Thrillers                                                41\n",
              "\n",
              "[457 rows x 1 columns]"
            ],
            "text/html": [
              "\n",
              "  <div id=\"df-bdaddbe9-f36c-4f9b-96ea-f3d41c1c45ee\">\n",
              "    <div class=\"colab-df-container\">\n",
              "      <div>\n",
              "<style scoped>\n",
              "    .dataframe tbody tr th:only-of-type {\n",
              "        vertical-align: middle;\n",
              "    }\n",
              "\n",
              "    .dataframe tbody tr th {\n",
              "        vertical-align: top;\n",
              "    }\n",
              "\n",
              "    .dataframe thead th {\n",
              "        text-align: right;\n",
              "    }\n",
              "</style>\n",
              "<table border=\"1\" class=\"dataframe\">\n",
              "  <thead>\n",
              "    <tr style=\"text-align: right;\">\n",
              "      <th></th>\n",
              "      <th>country</th>\n",
              "    </tr>\n",
              "    <tr>\n",
              "      <th>Thriller</th>\n",
              "      <th></th>\n",
              "    </tr>\n",
              "  </thead>\n",
              "  <tbody>\n",
              "    <tr>\n",
              "      <th>Action &amp; Adventure</th>\n",
              "      <td>86</td>\n",
              "    </tr>\n",
              "    <tr>\n",
              "      <th>Action &amp; Adventure, Anime Features, Children &amp; Family Movies</th>\n",
              "      <td>3</td>\n",
              "    </tr>\n",
              "    <tr>\n",
              "      <th>Action &amp; Adventure, Anime Features, Classic Movies</th>\n",
              "      <td>1</td>\n",
              "    </tr>\n",
              "    <tr>\n",
              "      <th>Action &amp; Adventure, Anime Features, Horror Movies</th>\n",
              "      <td>1</td>\n",
              "    </tr>\n",
              "    <tr>\n",
              "      <th>Action &amp; Adventure, Anime Features, International Movies</th>\n",
              "      <td>19</td>\n",
              "    </tr>\n",
              "    <tr>\n",
              "      <th>...</th>\n",
              "      <td>...</td>\n",
              "    </tr>\n",
              "    <tr>\n",
              "      <th>TV Horror, TV Mysteries, Teen TV Shows</th>\n",
              "      <td>1</td>\n",
              "    </tr>\n",
              "    <tr>\n",
              "      <th>TV Horror, Teen TV Shows</th>\n",
              "      <td>1</td>\n",
              "    </tr>\n",
              "    <tr>\n",
              "      <th>TV Sci-Fi &amp; Fantasy, TV Thrillers</th>\n",
              "      <td>1</td>\n",
              "    </tr>\n",
              "    <tr>\n",
              "      <th>TV Shows</th>\n",
              "      <td>5</td>\n",
              "    </tr>\n",
              "    <tr>\n",
              "      <th>Thrillers</th>\n",
              "      <td>41</td>\n",
              "    </tr>\n",
              "  </tbody>\n",
              "</table>\n",
              "<p>457 rows × 1 columns</p>\n",
              "</div>\n",
              "      <button class=\"colab-df-convert\" onclick=\"convertToInteractive('df-bdaddbe9-f36c-4f9b-96ea-f3d41c1c45ee')\"\n",
              "              title=\"Convert this dataframe to an interactive table.\"\n",
              "              style=\"display:none;\">\n",
              "        \n",
              "  <svg xmlns=\"http://www.w3.org/2000/svg\" height=\"24px\"viewBox=\"0 0 24 24\"\n",
              "       width=\"24px\">\n",
              "    <path d=\"M0 0h24v24H0V0z\" fill=\"none\"/>\n",
              "    <path d=\"M18.56 5.44l.94 2.06.94-2.06 2.06-.94-2.06-.94-.94-2.06-.94 2.06-2.06.94zm-11 1L8.5 8.5l.94-2.06 2.06-.94-2.06-.94L8.5 2.5l-.94 2.06-2.06.94zm10 10l.94 2.06.94-2.06 2.06-.94-2.06-.94-.94-2.06-.94 2.06-2.06.94z\"/><path d=\"M17.41 7.96l-1.37-1.37c-.4-.4-.92-.59-1.43-.59-.52 0-1.04.2-1.43.59L10.3 9.45l-7.72 7.72c-.78.78-.78 2.05 0 2.83L4 21.41c.39.39.9.59 1.41.59.51 0 1.02-.2 1.41-.59l7.78-7.78 2.81-2.81c.8-.78.8-2.07 0-2.86zM5.41 20L4 18.59l7.72-7.72 1.47 1.35L5.41 20z\"/>\n",
              "  </svg>\n",
              "      </button>\n",
              "      \n",
              "  <style>\n",
              "    .colab-df-container {\n",
              "      display:flex;\n",
              "      flex-wrap:wrap;\n",
              "      gap: 12px;\n",
              "    }\n",
              "\n",
              "    .colab-df-convert {\n",
              "      background-color: #E8F0FE;\n",
              "      border: none;\n",
              "      border-radius: 50%;\n",
              "      cursor: pointer;\n",
              "      display: none;\n",
              "      fill: #1967D2;\n",
              "      height: 32px;\n",
              "      padding: 0 0 0 0;\n",
              "      width: 32px;\n",
              "    }\n",
              "\n",
              "    .colab-df-convert:hover {\n",
              "      background-color: #E2EBFA;\n",
              "      box-shadow: 0px 1px 2px rgba(60, 64, 67, 0.3), 0px 1px 3px 1px rgba(60, 64, 67, 0.15);\n",
              "      fill: #174EA6;\n",
              "    }\n",
              "\n",
              "    [theme=dark] .colab-df-convert {\n",
              "      background-color: #3B4455;\n",
              "      fill: #D2E3FC;\n",
              "    }\n",
              "\n",
              "    [theme=dark] .colab-df-convert:hover {\n",
              "      background-color: #434B5C;\n",
              "      box-shadow: 0px 1px 3px 1px rgba(0, 0, 0, 0.15);\n",
              "      filter: drop-shadow(0px 1px 2px rgba(0, 0, 0, 0.3));\n",
              "      fill: #FFFFFF;\n",
              "    }\n",
              "  </style>\n",
              "\n",
              "      <script>\n",
              "        const buttonEl =\n",
              "          document.querySelector('#df-bdaddbe9-f36c-4f9b-96ea-f3d41c1c45ee button.colab-df-convert');\n",
              "        buttonEl.style.display =\n",
              "          google.colab.kernel.accessAllowed ? 'block' : 'none';\n",
              "\n",
              "        async function convertToInteractive(key) {\n",
              "          const element = document.querySelector('#df-bdaddbe9-f36c-4f9b-96ea-f3d41c1c45ee');\n",
              "          const dataTable =\n",
              "            await google.colab.kernel.invokeFunction('convertToInteractive',\n",
              "                                                     [key], {});\n",
              "          if (!dataTable) return;\n",
              "\n",
              "          const docLinkHtml = 'Like what you see? Visit the ' +\n",
              "            '<a target=\"_blank\" href=https://colab.research.google.com/notebooks/data_table.ipynb>data table notebook</a>'\n",
              "            + ' to learn more about interactive tables.';\n",
              "          element.innerHTML = '';\n",
              "          dataTable['output_type'] = 'display_data';\n",
              "          await google.colab.output.renderOutput(dataTable, element);\n",
              "          const docLink = document.createElement('div');\n",
              "          docLink.innerHTML = docLinkHtml;\n",
              "          element.appendChild(docLink);\n",
              "        }\n",
              "      </script>\n",
              "    </div>\n",
              "  </div>\n",
              "  "
            ]
          },
          "metadata": {},
          "execution_count": 491
        }
      ]
    },
    {
      "cell_type": "markdown",
      "source": [
        "## DataFrame split"
      ],
      "metadata": {
        "id": "Pdo_z1bZggM1"
      }
    },
    {
      "cell_type": "code",
      "source": [
        "# TV Show DataFrame 만들기\n",
        "dataFilter_TV = df['type'] == 'TV Show'\n",
        "df[dataFilter_TV]\n",
        "\n",
        "df_TV = df[dataFilter_TV]\n",
        "\n",
        "# Movie DataFrame 만들기\n",
        "dataFilter_Movie = df['type'] == 'Movie'\n",
        "df[dataFilter_Movie]\n",
        "\n",
        "df_Movie = df[dataFilter_Movie]\n"
      ],
      "metadata": {
        "id": "B-GBSUSSgZnI"
      },
      "execution_count": 492,
      "outputs": []
    },
    {
      "cell_type": "markdown",
      "source": [
        "## Country null vlaues fill\n",
        ">TV Show country null vlaues fill"
      ],
      "metadata": {
        "id": "LpWjaqQAhO4t"
      }
    },
    {
      "cell_type": "code",
      "source": [
        "# NaN 채우기\n",
        "df_TV['country'].fillna(\"America\",inplace =True,limit =79)\n",
        "df_TV['country'].fillna(\"Africa\",inplace =True,limit =78)\n",
        "df_TV['country'].fillna(\"Asia\",inplace =True,limit =78)\n",
        "df_TV['country'].fillna(\"Europe\",inplace =True,limit =78)\n",
        "df_TV['country'].fillna(\"Oceania \",inplace =True,limit =78)\n",
        "# country 결측치 채워졌는지 확인\n",
        "df_TV['country'].isnull().sum()"
      ],
      "metadata": {
        "colab": {
          "base_uri": "https://localhost:8080/"
        },
        "id": "Z8UunHfFhCQn",
        "outputId": "68605eac-7887-48cc-eb1b-3d375aff4bdf"
      },
      "execution_count": 493,
      "outputs": [
        {
          "output_type": "execute_result",
          "data": {
            "text/plain": [
              "0"
            ]
          },
          "metadata": {},
          "execution_count": 493
        }
      ]
    },
    {
      "cell_type": "code",
      "source": [
        "# 두개 이상의 국가 값 변경\n",
        "dfTV_strs=df_TV.loc[(df_TV['country'].str.count(','))!=0]\n",
        "\n",
        "dfTV_strs[0:49]['country'] ='Africa'\n",
        "\n",
        "dfTV_strs[49:98]['country']='America'\n",
        "\n",
        "dfTV_strs[98:147]['country']='Asia'\n",
        "\n",
        "dfTV_strs[147:196]['country']='Europe'\n",
        "\n",
        "dfTV_strs[196:]['country']='Oceania '\n",
        "\n",
        "df_TV.update(dfTV_strs,overwrite = True)"
      ],
      "metadata": {
        "id": "bH4M_Ev7hrPH"
      },
      "execution_count": 494,
      "outputs": []
    },
    {
      "cell_type": "markdown",
      "source": [
        "> Movie country null vlaues fill\n"
      ],
      "metadata": {
        "id": "ZhCsHMtivFH1"
      }
    },
    {
      "cell_type": "code",
      "source": [
        "# NaN 채우기\n",
        "df_Movie['country'].fillna(\"America\",inplace =True,limit =88)\n",
        "df_Movie['country'].fillna(\"Africa\",inplace =True,limit =88)\n",
        "df_Movie['country'].fillna(\"Asia\",inplace =True,limit =88)\n",
        "df_Movie['country'].fillna(\"Europe\",inplace =True,limit =88)\n",
        "df_Movie['country'].fillna(\"Oceania \",inplace =True,limit =88)\n",
        "# country 결측치 채워졌는지 확인\n",
        "df_Movie['country'].isnull().sum()"
      ],
      "metadata": {
        "colab": {
          "base_uri": "https://localhost:8080/"
        },
        "id": "l_RkGqgzmJu8",
        "outputId": "4bdf5c7d-5838-4fd5-e30b-fd505e720c86"
      },
      "execution_count": 495,
      "outputs": [
        {
          "output_type": "execute_result",
          "data": {
            "text/plain": [
              "0"
            ]
          },
          "metadata": {},
          "execution_count": 495
        }
      ]
    },
    {
      "cell_type": "code",
      "source": [
        "# 두개 이상의 국가 값 변경\n",
        "dfMovie_strs=df_Movie.loc[(df_Movie['country'].str.count(','))!=0]\n",
        "\n",
        "dfMovie_strs[0:215]['country'] ='Africa'\n",
        "\n",
        "dfMovie_strs[215:430]['country']='America'\n",
        "\n",
        "dfMovie_strs[430:645]['country']='Asia'\n",
        "\n",
        "dfMovie_strs[645:860]['country']='Europe'\n",
        "\n",
        "dfMovie_strs[860:]['country']='Oceania '\n",
        "\n",
        "df_Movie.update(dfMovie_strs,overwrite = True)"
      ],
      "metadata": {
        "id": "KCRvXxhKwLbL"
      },
      "execution_count": 496,
      "outputs": []
    },
    {
      "cell_type": "markdown",
      "source": [
        "### Rating_band 만들기"
      ],
      "metadata": {
        "id": "uhXNbN5U4nih"
      }
    },
    {
      "cell_type": "markdown",
      "source": [
        "> TV Show rating_band\n",
        ">> * TV-14 : 14세 이상의 청소년들을 위한 프로그램\n",
        "\n",
        ">> * TV-MA : 17세 이하의 어린이나 청소년들에게 맞지 않는 프로그램\n",
        "\n",
        ">> * TV-PG : 부모가 정확히 내용을 알고 보여주라는 프로그램\n",
        "\n",
        ">> * TV-Y : 모든 어린이의 시청이 가능한 프로그램\n",
        "\n",
        ">> * TV-Y7 : 7세 이상의 어린이들을 대상으로 한 프로그램\n",
        "\n",
        ">> * TV-G : 모든 연령층이 볼 수 있는 프로그램\n"
      ],
      "metadata": {
        "id": "3edG0aU-4yii"
      }
    },
    {
      "cell_type": "code",
      "source": [
        "df_TV.loc[(df_TV.rating=='TV-14'),'rating'] = 14\n",
        "df_TV.loc[(df_TV.rating=='TV-MA'),'rating'] = 19\n",
        "df_TV.loc[(df_TV.rating=='TV-PG'),'rating'] = 0\n",
        "df_TV.loc[(df_TV.rating=='TV-Y'),'rating'] = 0\n",
        "df_TV.loc[(df_TV.rating=='TV-Y7'),'rating'] = 0\n",
        "df_TV.loc[(df_TV.rating=='TV-G'),'rating'] = 0\n",
        "df_TV.loc[(df_TV.rating=='NR'),'rating'] = 0\n",
        "df_TV.loc[(df_TV.rating=='TV-Y7-FV'),'rating'] = 0\n",
        "df_TV.loc[(df_TV.rating=='R'),'rating'] = 0\n",
        "\n",
        "# TV-PG, TV-Y, TV-Y7, TV-G, NR, TV-Y7-FV, R = 모든 연령을 뜻하는 '0'\n",
        "# TV-14 = 14세 이상 관람 가능 등급이므로 '14'\n",
        "# TV-MA = 청소년 관람 불가 등급이므로 '19' "
      ],
      "metadata": {
        "id": "8uBgXPf-4xGN"
      },
      "execution_count": 497,
      "outputs": []
    },
    {
      "cell_type": "markdown",
      "source": [
        "> Movie rating_band\n",
        ">> * G : 모든 연령층의 관객들이 볼 수 있는 영화\n",
        "\n",
        ">> * PG : 어린이 청소년들의 시청여부를 판단해야 하는 영화\n",
        "\n",
        ">> * PG-13 : 13세 이상의 청소년들이 볼 수 있는 영화\n",
        "\n",
        ">> * R : 18세 이상의 성인들을 위한 영화\n",
        "\n",
        ">> * TV-14 : 14세 이상의 청소년들을 위한 영화\n",
        "\n",
        ">> * TV-G : 모든 연령층이 볼 수 있는 영화\n",
        "\n",
        ">> * TV-MA : 17세 이하의 어린이나 청소년들에게 맞지 않는 영화\n",
        "\n",
        ">> * TV-PG : 부모가 정확히 내용을 알고 보여주라는 영화\n",
        "\n",
        ">> * TV-Y : 모든 어린이의 시청이 가능한 영화\n",
        "\n",
        ">> * TV-Y7 : 7세 이상의 어린이들을 대상으로 하는 영화\n",
        "\n",
        ">> * NR : 미성년자 관람이 불가한 영화\n",
        "\n",
        ">> * NC-17 : 18세 이상의 성인들을 위한 영화(17세 이하의 청소년들은 시청 불가)\n",
        "\n",
        ">> * TV-Y7-FV : 틴 에이저나 청소년들을 위한 영화\n",
        "\n",
        ">> * UR : 미성년자 관람이 불가한 영화"
      ],
      "metadata": {
        "id": "cK8v0kEM5ySp"
      }
    },
    {
      "cell_type": "code",
      "source": [
        "df_Movie.loc[(df_Movie.rating=='TV-14'),'rating'] = 14\n",
        "df_Movie.loc[(df_Movie.rating=='TV-MA'),'rating'] = 19\n",
        "df_Movie.loc[(df_Movie.rating=='TV-PG'),'rating'] = 0\n",
        "df_Movie.loc[(df_Movie.rating=='TV-Y'),'rating'] = 0\n",
        "df_Movie.loc[(df_Movie.rating=='TV-Y7'),'rating'] = 0\n",
        "df_Movie.loc[(df_Movie.rating=='TV-G'),'rating'] = 0\n",
        "df_Movie.loc[(df_Movie.rating=='NR'),'rating'] = 19\n",
        "df_Movie.loc[(df_Movie.rating=='TV-Y7-FV'),'rating'] = 0\n",
        "df_Movie.loc[(df_Movie.rating=='R'),'rating'] = 19\n",
        "df_Movie.loc[(df_Movie.rating=='G'),'rating'] = 0\n",
        "df_Movie.loc[(df_Movie.rating=='PG'),'rating'] = 14\n",
        "df_Movie.loc[(df_Movie.rating=='PG-13'),'rating'] = 0\n",
        "df_Movie.loc[(df_Movie.rating=='UR'),'rating'] = 19\n",
        "df_Movie.loc[(df_Movie.rating=='NC-17'),'rating'] = 19\n",
        "df_Movie.loc[(df_Movie.rating=='66 min'),'rating'] = 0\n",
        "df_Movie.loc[(df_Movie.rating=='74 min'),'rating'] = 0\n",
        "df_Movie.loc[(df_Movie.rating=='84 min'),'rating'] = 0\n",
        "\n",
        "# TV-PG, TV-Y, TV-Y7, TV-G, TV-Y7-FV, G, PG-13, 66 min, 74 min, 84 min = 모든연령 등급 ='0'\n",
        "# TV-14, PG = 14세 이상 관람 가능 등급이므로 '14'\n",
        "# TV-MA, NR, R, UR, NC-17 = 청소년 관람 불가 등급이므로 '19'"
      ],
      "metadata": {
        "id": "ny1yQEes4--p"
      },
      "execution_count": 498,
      "outputs": []
    },
    {
      "cell_type": "markdown",
      "source": [
        "### duration 수치형으로 변환\n",
        "> TV_Show duration 수치형 변환\n"
      ],
      "metadata": {
        "id": "hX2sJnWrRU7M"
      }
    },
    {
      "cell_type": "code",
      "source": [
        "# duration 종류 확인\n",
        "df_TV_T = df_TV.groupby(['duration']).count()\n",
        "df_TV_T.iloc[:,[2]]"
      ],
      "metadata": {
        "colab": {
          "base_uri": "https://localhost:8080/",
          "height": 551
        },
        "id": "2ivgYS0e6EDC",
        "outputId": "0bd58570-d6a3-4a22-933e-327d8f3112ec"
      },
      "execution_count": 499,
      "outputs": [
        {
          "output_type": "execute_result",
          "data": {
            "text/plain": [
              "            country\n",
              "duration           \n",
              "1 Season       1793\n",
              "10 Seasons        7\n",
              "11 Seasons        2\n",
              "12 Seasons        2\n",
              "13 Seasons        3\n",
              "15 Seasons        2\n",
              "17 Seasons        1\n",
              "2 Seasons       425\n",
              "3 Seasons       199\n",
              "4 Seasons        95\n",
              "5 Seasons        65\n",
              "6 Seasons        33\n",
              "7 Seasons        23\n",
              "8 Seasons        17\n",
              "9 Seasons         9"
            ],
            "text/html": [
              "\n",
              "  <div id=\"df-c4a67fc3-55bb-4ab5-961c-677c82ff6f30\">\n",
              "    <div class=\"colab-df-container\">\n",
              "      <div>\n",
              "<style scoped>\n",
              "    .dataframe tbody tr th:only-of-type {\n",
              "        vertical-align: middle;\n",
              "    }\n",
              "\n",
              "    .dataframe tbody tr th {\n",
              "        vertical-align: top;\n",
              "    }\n",
              "\n",
              "    .dataframe thead th {\n",
              "        text-align: right;\n",
              "    }\n",
              "</style>\n",
              "<table border=\"1\" class=\"dataframe\">\n",
              "  <thead>\n",
              "    <tr style=\"text-align: right;\">\n",
              "      <th></th>\n",
              "      <th>country</th>\n",
              "    </tr>\n",
              "    <tr>\n",
              "      <th>duration</th>\n",
              "      <th></th>\n",
              "    </tr>\n",
              "  </thead>\n",
              "  <tbody>\n",
              "    <tr>\n",
              "      <th>1 Season</th>\n",
              "      <td>1793</td>\n",
              "    </tr>\n",
              "    <tr>\n",
              "      <th>10 Seasons</th>\n",
              "      <td>7</td>\n",
              "    </tr>\n",
              "    <tr>\n",
              "      <th>11 Seasons</th>\n",
              "      <td>2</td>\n",
              "    </tr>\n",
              "    <tr>\n",
              "      <th>12 Seasons</th>\n",
              "      <td>2</td>\n",
              "    </tr>\n",
              "    <tr>\n",
              "      <th>13 Seasons</th>\n",
              "      <td>3</td>\n",
              "    </tr>\n",
              "    <tr>\n",
              "      <th>15 Seasons</th>\n",
              "      <td>2</td>\n",
              "    </tr>\n",
              "    <tr>\n",
              "      <th>17 Seasons</th>\n",
              "      <td>1</td>\n",
              "    </tr>\n",
              "    <tr>\n",
              "      <th>2 Seasons</th>\n",
              "      <td>425</td>\n",
              "    </tr>\n",
              "    <tr>\n",
              "      <th>3 Seasons</th>\n",
              "      <td>199</td>\n",
              "    </tr>\n",
              "    <tr>\n",
              "      <th>4 Seasons</th>\n",
              "      <td>95</td>\n",
              "    </tr>\n",
              "    <tr>\n",
              "      <th>5 Seasons</th>\n",
              "      <td>65</td>\n",
              "    </tr>\n",
              "    <tr>\n",
              "      <th>6 Seasons</th>\n",
              "      <td>33</td>\n",
              "    </tr>\n",
              "    <tr>\n",
              "      <th>7 Seasons</th>\n",
              "      <td>23</td>\n",
              "    </tr>\n",
              "    <tr>\n",
              "      <th>8 Seasons</th>\n",
              "      <td>17</td>\n",
              "    </tr>\n",
              "    <tr>\n",
              "      <th>9 Seasons</th>\n",
              "      <td>9</td>\n",
              "    </tr>\n",
              "  </tbody>\n",
              "</table>\n",
              "</div>\n",
              "      <button class=\"colab-df-convert\" onclick=\"convertToInteractive('df-c4a67fc3-55bb-4ab5-961c-677c82ff6f30')\"\n",
              "              title=\"Convert this dataframe to an interactive table.\"\n",
              "              style=\"display:none;\">\n",
              "        \n",
              "  <svg xmlns=\"http://www.w3.org/2000/svg\" height=\"24px\"viewBox=\"0 0 24 24\"\n",
              "       width=\"24px\">\n",
              "    <path d=\"M0 0h24v24H0V0z\" fill=\"none\"/>\n",
              "    <path d=\"M18.56 5.44l.94 2.06.94-2.06 2.06-.94-2.06-.94-.94-2.06-.94 2.06-2.06.94zm-11 1L8.5 8.5l.94-2.06 2.06-.94-2.06-.94L8.5 2.5l-.94 2.06-2.06.94zm10 10l.94 2.06.94-2.06 2.06-.94-2.06-.94-.94-2.06-.94 2.06-2.06.94z\"/><path d=\"M17.41 7.96l-1.37-1.37c-.4-.4-.92-.59-1.43-.59-.52 0-1.04.2-1.43.59L10.3 9.45l-7.72 7.72c-.78.78-.78 2.05 0 2.83L4 21.41c.39.39.9.59 1.41.59.51 0 1.02-.2 1.41-.59l7.78-7.78 2.81-2.81c.8-.78.8-2.07 0-2.86zM5.41 20L4 18.59l7.72-7.72 1.47 1.35L5.41 20z\"/>\n",
              "  </svg>\n",
              "      </button>\n",
              "      \n",
              "  <style>\n",
              "    .colab-df-container {\n",
              "      display:flex;\n",
              "      flex-wrap:wrap;\n",
              "      gap: 12px;\n",
              "    }\n",
              "\n",
              "    .colab-df-convert {\n",
              "      background-color: #E8F0FE;\n",
              "      border: none;\n",
              "      border-radius: 50%;\n",
              "      cursor: pointer;\n",
              "      display: none;\n",
              "      fill: #1967D2;\n",
              "      height: 32px;\n",
              "      padding: 0 0 0 0;\n",
              "      width: 32px;\n",
              "    }\n",
              "\n",
              "    .colab-df-convert:hover {\n",
              "      background-color: #E2EBFA;\n",
              "      box-shadow: 0px 1px 2px rgba(60, 64, 67, 0.3), 0px 1px 3px 1px rgba(60, 64, 67, 0.15);\n",
              "      fill: #174EA6;\n",
              "    }\n",
              "\n",
              "    [theme=dark] .colab-df-convert {\n",
              "      background-color: #3B4455;\n",
              "      fill: #D2E3FC;\n",
              "    }\n",
              "\n",
              "    [theme=dark] .colab-df-convert:hover {\n",
              "      background-color: #434B5C;\n",
              "      box-shadow: 0px 1px 3px 1px rgba(0, 0, 0, 0.15);\n",
              "      filter: drop-shadow(0px 1px 2px rgba(0, 0, 0, 0.3));\n",
              "      fill: #FFFFFF;\n",
              "    }\n",
              "  </style>\n",
              "\n",
              "      <script>\n",
              "        const buttonEl =\n",
              "          document.querySelector('#df-c4a67fc3-55bb-4ab5-961c-677c82ff6f30 button.colab-df-convert');\n",
              "        buttonEl.style.display =\n",
              "          google.colab.kernel.accessAllowed ? 'block' : 'none';\n",
              "\n",
              "        async function convertToInteractive(key) {\n",
              "          const element = document.querySelector('#df-c4a67fc3-55bb-4ab5-961c-677c82ff6f30');\n",
              "          const dataTable =\n",
              "            await google.colab.kernel.invokeFunction('convertToInteractive',\n",
              "                                                     [key], {});\n",
              "          if (!dataTable) return;\n",
              "\n",
              "          const docLinkHtml = 'Like what you see? Visit the ' +\n",
              "            '<a target=\"_blank\" href=https://colab.research.google.com/notebooks/data_table.ipynb>data table notebook</a>'\n",
              "            + ' to learn more about interactive tables.';\n",
              "          element.innerHTML = '';\n",
              "          dataTable['output_type'] = 'display_data';\n",
              "          await google.colab.output.renderOutput(dataTable, element);\n",
              "          const docLink = document.createElement('div');\n",
              "          docLink.innerHTML = docLinkHtml;\n",
              "          element.appendChild(docLink);\n",
              "        }\n",
              "      </script>\n",
              "    </div>\n",
              "  </div>\n",
              "  "
            ]
          },
          "metadata": {},
          "execution_count": 499
        }
      ]
    },
    {
      "cell_type": "code",
      "source": [
        "def category_duration\t(x) :\n",
        "  if x == \"1 Season\":\n",
        "    return 1\n",
        "  elif x == \"2 Seasons\" :\n",
        "    return 2\n",
        "  elif x == \"3 Seasons\" :\n",
        "    return 3\n",
        "  elif x == \"4 Seasons\" :\n",
        "    return 4\n",
        "  elif x == \"5 Seasons\" :\n",
        "    return 5\n",
        "  elif x == \"6 Seasons\" :\n",
        "    return 6 \n",
        "  elif x == \"7 Seasons\" :\n",
        "    return 7\n",
        "  elif x == \"8 Seasons\" :\n",
        "    return 8\n",
        "  elif x == \"9 Seasons\" :\n",
        "    return 9\n",
        "  elif x == \"10 Seasons\" :\n",
        "    return 10\n",
        "  elif x == \"11 Seasons\" :\n",
        "    return 11\n",
        "  elif x == \"12 Seasons\" :\n",
        "    return 12\n",
        "  elif x == \"13 Seasons\" :\n",
        "    return 13\n",
        "  elif x == \"15 Seasons\" :\n",
        "    return 15\n",
        "  elif x == \"17 Seasons\" :\n",
        "    return 17"
      ],
      "metadata": {
        "id": "gn-pu4hERqFo"
      },
      "execution_count": 500,
      "outputs": []
    },
    {
      "cell_type": "code",
      "source": [
        "df_TV['Duration'] = df_TV['duration'].apply(category_duration)\n",
        "df_TV.drop(['duration'],axis=1,inplace=True)"
      ],
      "metadata": {
        "id": "le5MQUFCSHPj"
      },
      "execution_count": 501,
      "outputs": []
    },
    {
      "cell_type": "markdown",
      "source": [
        "> Movie duration 수치형 변환"
      ],
      "metadata": {
        "id": "FrRXWrQoSLvZ"
      }
    },
    {
      "cell_type": "code",
      "source": [
        "# duration 종류 확인\n",
        "#df_Movie_T= df_Movie.groupby(['duration']).count()\n",
        "#df_Movie_T.iloc[:,[2]]\n",
        "\n",
        "df_Movie['Duration_T']= df_Movie['duration'].str.split(\" \",expand=True)[0]\n",
        "df_Movie.drop(['duration'],axis=1,inplace=True)\n",
        "\n",
        "# df_Movie 타입 변경 str -> int\n",
        "df_Movie['Duration_T'] = pd.to_numeric(df_Movie['Duration_T'])"
      ],
      "metadata": {
        "id": "Oa3WsgbDSKHj"
      },
      "execution_count": 502,
      "outputs": []
    },
    {
      "cell_type": "code",
      "source": [
        "def category_runningtime(x):\n",
        "  if 0 <= x <60 :\n",
        "    return 0\n",
        "  elif 60 <= x <120 :\n",
        "    return 1\n",
        "  elif 120 <= x <180 :\n",
        "    return 2\n",
        "  elif 180 <= x <240 :\n",
        "    return 3\n",
        "  elif 240 <= x <300 :\n",
        "    return 4\n",
        "  else :\n",
        "    return 5"
      ],
      "metadata": {
        "id": "ZvDRhsl4SWTA"
      },
      "execution_count": 503,
      "outputs": []
    },
    {
      "cell_type": "code",
      "source": [
        "df_Movie['Duration'] = df_Movie['Duration_T'].apply(category_runningtime)\n",
        "df_Movie.drop(['Duration_T'],axis=1,inplace=True)"
      ],
      "metadata": {
        "id": "Zti3UV_sVH8s"
      },
      "execution_count": 504,
      "outputs": []
    },
    {
      "cell_type": "code",
      "source": [
        "df_TV.fillna(0,inplace=True)\n",
        "df_Movie.fillna(0,inplace=True)"
      ],
      "metadata": {
        "id": "FKdrYYZAp_jr"
      },
      "execution_count": 508,
      "outputs": []
    },
    {
      "cell_type": "markdown",
      "source": [
        "# Data 시각화"
      ],
      "metadata": {
        "id": "daTQvsR9lofx"
      }
    },
    {
      "cell_type": "code",
      "source": [
        ""
      ],
      "metadata": {
        "colab": {
          "base_uri": "https://localhost:8080/",
          "height": 1000
        },
        "id": "OfypKSRSpZRG",
        "outputId": "77091d18-11cc-41b5-a1d0-11b916614429"
      },
      "execution_count": 510,
      "outputs": [
        {
          "output_type": "execute_result",
          "data": {
            "text/plain": [
              "         type                  title       country  release_year  rating  \\\n",
              "1     TV Show          Blood & Water  South Africa        2021.0      19   \n",
              "2     TV Show              Ganglands       America        2021.0      19   \n",
              "3     TV Show  Jailbirds New Orleans       America        2021.0      19   \n",
              "4     TV Show           Kota Factory         India        2021.0      19   \n",
              "5     TV Show          Midnight Mass       America        2021.0      19   \n",
              "...       ...                    ...           ...           ...     ...   \n",
              "8795  TV Show        Yu-Gi-Oh! Arc-V      Oceania         2015.0       0   \n",
              "8796  TV Show             Yunus Emre        Turkey        2016.0       0   \n",
              "8797  TV Show              Zak Storm      Oceania         2016.0       0   \n",
              "8800  TV Show     Zindagi Gulzar Hai      Pakistan        2012.0       0   \n",
              "8803  TV Show            Zombie Dumb      Oceania         2018.0       0   \n",
              "\n",
              "                                              listed_in  \\\n",
              "1       International TV Shows, TV Dramas, TV Mysteries   \n",
              "2     Crime TV Shows, International TV Shows, TV Act...   \n",
              "3                                Docuseries, Reality TV   \n",
              "4     International TV Shows, Romantic TV Shows, TV ...   \n",
              "5                    TV Dramas, TV Horror, TV Mysteries   \n",
              "...                                                 ...   \n",
              "8795                             Anime Series, Kids' TV   \n",
              "8796                  International TV Shows, TV Dramas   \n",
              "8797                                           Kids' TV   \n",
              "8800  International TV Shows, Romantic TV Shows, TV ...   \n",
              "8803             Kids' TV, Korean TV Shows, TV Comedies   \n",
              "\n",
              "                                            description  Registered year  \\\n",
              "1     After crossing paths at a party, a Cape Town t...           2021.0   \n",
              "2     To protect his family from a powerful drug lor...           2021.0   \n",
              "3     Feuds, flirtations and toilet talk go down amo...           2021.0   \n",
              "4     In a city of coaching centers known to train I...           2021.0   \n",
              "5     The arrival of a charismatic young priest brin...           2021.0   \n",
              "...                                                 ...              ...   \n",
              "8795  Now that he's discovered the Pendulum Summonin...           2018.0   \n",
              "8796  During the Mongol invasions, Yunus Emre leaves...           2017.0   \n",
              "8797  Teen surfer Zak Storm is mysteriously transpor...           2018.0   \n",
              "8800  Strong-willed, middle-class Kashaf and carefre...           2016.0   \n",
              "8803  While living alone in a spooky town, a young g...           2019.0   \n",
              "\n",
              "      Registered month  Registered day  \\\n",
              "1                  9.0            24.0   \n",
              "2                  9.0            24.0   \n",
              "3                  9.0            24.0   \n",
              "4                  9.0            24.0   \n",
              "5                  9.0            24.0   \n",
              "...                ...             ...   \n",
              "8795               5.0             1.0   \n",
              "8796               1.0            17.0   \n",
              "8797               9.0            13.0   \n",
              "8800              12.0            15.0   \n",
              "8803               7.0             1.0   \n",
              "\n",
              "                                                 Horror Romance  \\\n",
              "1                                                     0       0   \n",
              "2                                                     0       0   \n",
              "3                                                     0       0   \n",
              "4                                                     0       0   \n",
              "5                                                     0       0   \n",
              "...                                                 ...     ...   \n",
              "8795                                                  0       0   \n",
              "8796                                                  0       0   \n",
              "8797                                                  0       0   \n",
              "8800  International TV Shows, Romantic TV Shows, TV ...       0   \n",
              "8803                                                  0       0   \n",
              "\n",
              "                                             Thriller  \\\n",
              "1     International TV Shows, TV Dramas, TV Mysteries   \n",
              "2                                                   0   \n",
              "3                                                   0   \n",
              "4                                                   0   \n",
              "5                  TV Dramas, TV Horror, TV Mysteries   \n",
              "...                                               ...   \n",
              "8795                           Anime Series, Kids' TV   \n",
              "8796                International TV Shows, TV Dramas   \n",
              "8797                                         Kids' TV   \n",
              "8800                                                0   \n",
              "8803                                                0   \n",
              "\n",
              "                                      SF  Duration  \n",
              "1                                      0         2  \n",
              "2                                      0         1  \n",
              "3                                      0         1  \n",
              "4                                      0         2  \n",
              "5     TV Dramas, TV Horror, TV Mysteries         1  \n",
              "...                                  ...       ...  \n",
              "8795                                   0         2  \n",
              "8796                                   0         2  \n",
              "8797                            Kids' TV         3  \n",
              "8800                                   0         1  \n",
              "8803                                   0         2  \n",
              "\n",
              "[2676 rows x 15 columns]"
            ],
            "text/html": [
              "\n",
              "  <div id=\"df-3a52d579-3c39-4aa6-bc94-3e1e43a96c6a\">\n",
              "    <div class=\"colab-df-container\">\n",
              "      <div>\n",
              "<style scoped>\n",
              "    .dataframe tbody tr th:only-of-type {\n",
              "        vertical-align: middle;\n",
              "    }\n",
              "\n",
              "    .dataframe tbody tr th {\n",
              "        vertical-align: top;\n",
              "    }\n",
              "\n",
              "    .dataframe thead th {\n",
              "        text-align: right;\n",
              "    }\n",
              "</style>\n",
              "<table border=\"1\" class=\"dataframe\">\n",
              "  <thead>\n",
              "    <tr style=\"text-align: right;\">\n",
              "      <th></th>\n",
              "      <th>type</th>\n",
              "      <th>title</th>\n",
              "      <th>country</th>\n",
              "      <th>release_year</th>\n",
              "      <th>rating</th>\n",
              "      <th>listed_in</th>\n",
              "      <th>description</th>\n",
              "      <th>Registered year</th>\n",
              "      <th>Registered month</th>\n",
              "      <th>Registered day</th>\n",
              "      <th>Horror</th>\n",
              "      <th>Romance</th>\n",
              "      <th>Thriller</th>\n",
              "      <th>SF</th>\n",
              "      <th>Duration</th>\n",
              "    </tr>\n",
              "  </thead>\n",
              "  <tbody>\n",
              "    <tr>\n",
              "      <th>1</th>\n",
              "      <td>TV Show</td>\n",
              "      <td>Blood &amp; Water</td>\n",
              "      <td>South Africa</td>\n",
              "      <td>2021.0</td>\n",
              "      <td>19</td>\n",
              "      <td>International TV Shows, TV Dramas, TV Mysteries</td>\n",
              "      <td>After crossing paths at a party, a Cape Town t...</td>\n",
              "      <td>2021.0</td>\n",
              "      <td>9.0</td>\n",
              "      <td>24.0</td>\n",
              "      <td>0</td>\n",
              "      <td>0</td>\n",
              "      <td>International TV Shows, TV Dramas, TV Mysteries</td>\n",
              "      <td>0</td>\n",
              "      <td>2</td>\n",
              "    </tr>\n",
              "    <tr>\n",
              "      <th>2</th>\n",
              "      <td>TV Show</td>\n",
              "      <td>Ganglands</td>\n",
              "      <td>America</td>\n",
              "      <td>2021.0</td>\n",
              "      <td>19</td>\n",
              "      <td>Crime TV Shows, International TV Shows, TV Act...</td>\n",
              "      <td>To protect his family from a powerful drug lor...</td>\n",
              "      <td>2021.0</td>\n",
              "      <td>9.0</td>\n",
              "      <td>24.0</td>\n",
              "      <td>0</td>\n",
              "      <td>0</td>\n",
              "      <td>0</td>\n",
              "      <td>0</td>\n",
              "      <td>1</td>\n",
              "    </tr>\n",
              "    <tr>\n",
              "      <th>3</th>\n",
              "      <td>TV Show</td>\n",
              "      <td>Jailbirds New Orleans</td>\n",
              "      <td>America</td>\n",
              "      <td>2021.0</td>\n",
              "      <td>19</td>\n",
              "      <td>Docuseries, Reality TV</td>\n",
              "      <td>Feuds, flirtations and toilet talk go down amo...</td>\n",
              "      <td>2021.0</td>\n",
              "      <td>9.0</td>\n",
              "      <td>24.0</td>\n",
              "      <td>0</td>\n",
              "      <td>0</td>\n",
              "      <td>0</td>\n",
              "      <td>0</td>\n",
              "      <td>1</td>\n",
              "    </tr>\n",
              "    <tr>\n",
              "      <th>4</th>\n",
              "      <td>TV Show</td>\n",
              "      <td>Kota Factory</td>\n",
              "      <td>India</td>\n",
              "      <td>2021.0</td>\n",
              "      <td>19</td>\n",
              "      <td>International TV Shows, Romantic TV Shows, TV ...</td>\n",
              "      <td>In a city of coaching centers known to train I...</td>\n",
              "      <td>2021.0</td>\n",
              "      <td>9.0</td>\n",
              "      <td>24.0</td>\n",
              "      <td>0</td>\n",
              "      <td>0</td>\n",
              "      <td>0</td>\n",
              "      <td>0</td>\n",
              "      <td>2</td>\n",
              "    </tr>\n",
              "    <tr>\n",
              "      <th>5</th>\n",
              "      <td>TV Show</td>\n",
              "      <td>Midnight Mass</td>\n",
              "      <td>America</td>\n",
              "      <td>2021.0</td>\n",
              "      <td>19</td>\n",
              "      <td>TV Dramas, TV Horror, TV Mysteries</td>\n",
              "      <td>The arrival of a charismatic young priest brin...</td>\n",
              "      <td>2021.0</td>\n",
              "      <td>9.0</td>\n",
              "      <td>24.0</td>\n",
              "      <td>0</td>\n",
              "      <td>0</td>\n",
              "      <td>TV Dramas, TV Horror, TV Mysteries</td>\n",
              "      <td>TV Dramas, TV Horror, TV Mysteries</td>\n",
              "      <td>1</td>\n",
              "    </tr>\n",
              "    <tr>\n",
              "      <th>...</th>\n",
              "      <td>...</td>\n",
              "      <td>...</td>\n",
              "      <td>...</td>\n",
              "      <td>...</td>\n",
              "      <td>...</td>\n",
              "      <td>...</td>\n",
              "      <td>...</td>\n",
              "      <td>...</td>\n",
              "      <td>...</td>\n",
              "      <td>...</td>\n",
              "      <td>...</td>\n",
              "      <td>...</td>\n",
              "      <td>...</td>\n",
              "      <td>...</td>\n",
              "      <td>...</td>\n",
              "    </tr>\n",
              "    <tr>\n",
              "      <th>8795</th>\n",
              "      <td>TV Show</td>\n",
              "      <td>Yu-Gi-Oh! Arc-V</td>\n",
              "      <td>Oceania</td>\n",
              "      <td>2015.0</td>\n",
              "      <td>0</td>\n",
              "      <td>Anime Series, Kids' TV</td>\n",
              "      <td>Now that he's discovered the Pendulum Summonin...</td>\n",
              "      <td>2018.0</td>\n",
              "      <td>5.0</td>\n",
              "      <td>1.0</td>\n",
              "      <td>0</td>\n",
              "      <td>0</td>\n",
              "      <td>Anime Series, Kids' TV</td>\n",
              "      <td>0</td>\n",
              "      <td>2</td>\n",
              "    </tr>\n",
              "    <tr>\n",
              "      <th>8796</th>\n",
              "      <td>TV Show</td>\n",
              "      <td>Yunus Emre</td>\n",
              "      <td>Turkey</td>\n",
              "      <td>2016.0</td>\n",
              "      <td>0</td>\n",
              "      <td>International TV Shows, TV Dramas</td>\n",
              "      <td>During the Mongol invasions, Yunus Emre leaves...</td>\n",
              "      <td>2017.0</td>\n",
              "      <td>1.0</td>\n",
              "      <td>17.0</td>\n",
              "      <td>0</td>\n",
              "      <td>0</td>\n",
              "      <td>International TV Shows, TV Dramas</td>\n",
              "      <td>0</td>\n",
              "      <td>2</td>\n",
              "    </tr>\n",
              "    <tr>\n",
              "      <th>8797</th>\n",
              "      <td>TV Show</td>\n",
              "      <td>Zak Storm</td>\n",
              "      <td>Oceania</td>\n",
              "      <td>2016.0</td>\n",
              "      <td>0</td>\n",
              "      <td>Kids' TV</td>\n",
              "      <td>Teen surfer Zak Storm is mysteriously transpor...</td>\n",
              "      <td>2018.0</td>\n",
              "      <td>9.0</td>\n",
              "      <td>13.0</td>\n",
              "      <td>0</td>\n",
              "      <td>0</td>\n",
              "      <td>Kids' TV</td>\n",
              "      <td>Kids' TV</td>\n",
              "      <td>3</td>\n",
              "    </tr>\n",
              "    <tr>\n",
              "      <th>8800</th>\n",
              "      <td>TV Show</td>\n",
              "      <td>Zindagi Gulzar Hai</td>\n",
              "      <td>Pakistan</td>\n",
              "      <td>2012.0</td>\n",
              "      <td>0</td>\n",
              "      <td>International TV Shows, Romantic TV Shows, TV ...</td>\n",
              "      <td>Strong-willed, middle-class Kashaf and carefre...</td>\n",
              "      <td>2016.0</td>\n",
              "      <td>12.0</td>\n",
              "      <td>15.0</td>\n",
              "      <td>International TV Shows, Romantic TV Shows, TV ...</td>\n",
              "      <td>0</td>\n",
              "      <td>0</td>\n",
              "      <td>0</td>\n",
              "      <td>1</td>\n",
              "    </tr>\n",
              "    <tr>\n",
              "      <th>8803</th>\n",
              "      <td>TV Show</td>\n",
              "      <td>Zombie Dumb</td>\n",
              "      <td>Oceania</td>\n",
              "      <td>2018.0</td>\n",
              "      <td>0</td>\n",
              "      <td>Kids' TV, Korean TV Shows, TV Comedies</td>\n",
              "      <td>While living alone in a spooky town, a young g...</td>\n",
              "      <td>2019.0</td>\n",
              "      <td>7.0</td>\n",
              "      <td>1.0</td>\n",
              "      <td>0</td>\n",
              "      <td>0</td>\n",
              "      <td>0</td>\n",
              "      <td>0</td>\n",
              "      <td>2</td>\n",
              "    </tr>\n",
              "  </tbody>\n",
              "</table>\n",
              "<p>2676 rows × 15 columns</p>\n",
              "</div>\n",
              "      <button class=\"colab-df-convert\" onclick=\"convertToInteractive('df-3a52d579-3c39-4aa6-bc94-3e1e43a96c6a')\"\n",
              "              title=\"Convert this dataframe to an interactive table.\"\n",
              "              style=\"display:none;\">\n",
              "        \n",
              "  <svg xmlns=\"http://www.w3.org/2000/svg\" height=\"24px\"viewBox=\"0 0 24 24\"\n",
              "       width=\"24px\">\n",
              "    <path d=\"M0 0h24v24H0V0z\" fill=\"none\"/>\n",
              "    <path d=\"M18.56 5.44l.94 2.06.94-2.06 2.06-.94-2.06-.94-.94-2.06-.94 2.06-2.06.94zm-11 1L8.5 8.5l.94-2.06 2.06-.94-2.06-.94L8.5 2.5l-.94 2.06-2.06.94zm10 10l.94 2.06.94-2.06 2.06-.94-2.06-.94-.94-2.06-.94 2.06-2.06.94z\"/><path d=\"M17.41 7.96l-1.37-1.37c-.4-.4-.92-.59-1.43-.59-.52 0-1.04.2-1.43.59L10.3 9.45l-7.72 7.72c-.78.78-.78 2.05 0 2.83L4 21.41c.39.39.9.59 1.41.59.51 0 1.02-.2 1.41-.59l7.78-7.78 2.81-2.81c.8-.78.8-2.07 0-2.86zM5.41 20L4 18.59l7.72-7.72 1.47 1.35L5.41 20z\"/>\n",
              "  </svg>\n",
              "      </button>\n",
              "      \n",
              "  <style>\n",
              "    .colab-df-container {\n",
              "      display:flex;\n",
              "      flex-wrap:wrap;\n",
              "      gap: 12px;\n",
              "    }\n",
              "\n",
              "    .colab-df-convert {\n",
              "      background-color: #E8F0FE;\n",
              "      border: none;\n",
              "      border-radius: 50%;\n",
              "      cursor: pointer;\n",
              "      display: none;\n",
              "      fill: #1967D2;\n",
              "      height: 32px;\n",
              "      padding: 0 0 0 0;\n",
              "      width: 32px;\n",
              "    }\n",
              "\n",
              "    .colab-df-convert:hover {\n",
              "      background-color: #E2EBFA;\n",
              "      box-shadow: 0px 1px 2px rgba(60, 64, 67, 0.3), 0px 1px 3px 1px rgba(60, 64, 67, 0.15);\n",
              "      fill: #174EA6;\n",
              "    }\n",
              "\n",
              "    [theme=dark] .colab-df-convert {\n",
              "      background-color: #3B4455;\n",
              "      fill: #D2E3FC;\n",
              "    }\n",
              "\n",
              "    [theme=dark] .colab-df-convert:hover {\n",
              "      background-color: #434B5C;\n",
              "      box-shadow: 0px 1px 3px 1px rgba(0, 0, 0, 0.15);\n",
              "      filter: drop-shadow(0px 1px 2px rgba(0, 0, 0, 0.3));\n",
              "      fill: #FFFFFF;\n",
              "    }\n",
              "  </style>\n",
              "\n",
              "      <script>\n",
              "        const buttonEl =\n",
              "          document.querySelector('#df-3a52d579-3c39-4aa6-bc94-3e1e43a96c6a button.colab-df-convert');\n",
              "        buttonEl.style.display =\n",
              "          google.colab.kernel.accessAllowed ? 'block' : 'none';\n",
              "\n",
              "        async function convertToInteractive(key) {\n",
              "          const element = document.querySelector('#df-3a52d579-3c39-4aa6-bc94-3e1e43a96c6a');\n",
              "          const dataTable =\n",
              "            await google.colab.kernel.invokeFunction('convertToInteractive',\n",
              "                                                     [key], {});\n",
              "          if (!dataTable) return;\n",
              "\n",
              "          const docLinkHtml = 'Like what you see? Visit the ' +\n",
              "            '<a target=\"_blank\" href=https://colab.research.google.com/notebooks/data_table.ipynb>data table notebook</a>'\n",
              "            + ' to learn more about interactive tables.';\n",
              "          element.innerHTML = '';\n",
              "          dataTable['output_type'] = 'display_data';\n",
              "          await google.colab.output.renderOutput(dataTable, element);\n",
              "          const docLink = document.createElement('div');\n",
              "          docLink.innerHTML = docLinkHtml;\n",
              "          element.appendChild(docLink);\n",
              "        }\n",
              "      </script>\n",
              "    </div>\n",
              "  </div>\n",
              "  "
            ]
          },
          "metadata": {},
          "execution_count": 510
        }
      ]
    },
    {
      "cell_type": "code",
      "source": [
        ""
      ],
      "metadata": {
        "id": "kKkyhihXrLxt"
      },
      "execution_count": null,
      "outputs": []
    }
  ]
}