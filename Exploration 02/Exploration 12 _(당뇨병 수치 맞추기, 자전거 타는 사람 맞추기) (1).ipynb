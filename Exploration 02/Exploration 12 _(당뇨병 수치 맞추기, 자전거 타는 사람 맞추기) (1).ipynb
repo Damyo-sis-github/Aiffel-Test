{
 "cells": [
  {
   "cell_type": "markdown",
   "id": "23248ba8",
   "metadata": {},
   "source": [
    "# Project 1"
   ]
  },
  {
   "cell_type": "markdown",
   "id": "56c7bc29",
   "metadata": {},
   "source": [
    "## [손수 설계하는 선형회귀] : 당뇨병 수치 맞추기"
   ]
  },
  {
   "cell_type": "markdown",
   "id": "aee18454",
   "metadata": {},
   "source": [
    "### 1. 모듈 가져오기"
   ]
  },
  {
   "cell_type": "code",
   "execution_count": 1,
   "id": "cdc94501",
   "metadata": {},
   "outputs": [],
   "source": [
    "import numpy as np \n",
    "import pandas as pd \n",
    "import matplotlib.pyplot as plt\n",
    "import seaborn as sns\n",
    "\n",
    "from sklearn.datasets import load_diabetes\n",
    "from sklearn.model_selection import train_test_split\n",
    "from sklearn.linear_model import LinearRegression\n",
    "from sklearn.metrics import mean_squared_error\n",
    "from sklearn.metrics import classification_report\n",
    "from sklearn.metrics import confusion_matrix\n",
    "from sklearn.metrics import accuracy_score\n",
    "\n",
    "from matplotlib.animation import FuncAnimation\n",
    "\n",
    "%matplotlib inline\n",
    "#%config InlineBackend.figure_format = 'retina'"
   ]
  },
  {
   "cell_type": "markdown",
   "id": "7f683a4e",
   "metadata": {},
   "source": [
    "### 2. Diabetes data load\n",
    "> * load_diabetes() 함수로 diabetes lode <br> diabetes data : 442행 10열 형식"
   ]
  },
  {
   "cell_type": "code",
   "execution_count": 2,
   "id": "c4a874ee",
   "metadata": {},
   "outputs": [
    {
     "name": "stdout",
     "output_type": "stream",
     "text": [
      "(442, 10)\n",
      "(442,)\n"
     ]
    }
   ],
   "source": [
    "from sklearn.datasets import load_diabetes\n",
    "\n",
    "diabetes = load_diabetes()\n",
    "df_x = diabetes.data\n",
    "df_y = diabetes.target\n",
    "print(df_x.shape) # 데이터 개수 확인\n",
    "print(diabetes.target.shape) # target(=label) 데이터 개수 확인"
   ]
  },
  {
   "cell_type": "code",
   "execution_count": 3,
   "id": "cb47936f",
   "metadata": {},
   "outputs": [
    {
     "data": {
      "text/html": [
       "<div>\n",
       "<style scoped>\n",
       "    .dataframe tbody tr th:only-of-type {\n",
       "        vertical-align: middle;\n",
       "    }\n",
       "\n",
       "    .dataframe tbody tr th {\n",
       "        vertical-align: top;\n",
       "    }\n",
       "\n",
       "    .dataframe thead th {\n",
       "        text-align: right;\n",
       "    }\n",
       "</style>\n",
       "<table border=\"1\" class=\"dataframe\">\n",
       "  <thead>\n",
       "    <tr style=\"text-align: right;\">\n",
       "      <th></th>\n",
       "      <th>age</th>\n",
       "      <th>sex</th>\n",
       "      <th>bmi</th>\n",
       "      <th>bp</th>\n",
       "      <th>s1</th>\n",
       "      <th>s2</th>\n",
       "      <th>s3</th>\n",
       "      <th>s4</th>\n",
       "      <th>s5</th>\n",
       "      <th>s6</th>\n",
       "    </tr>\n",
       "  </thead>\n",
       "  <tbody>\n",
       "    <tr>\n",
       "      <th>0</th>\n",
       "      <td>0.038076</td>\n",
       "      <td>0.050680</td>\n",
       "      <td>0.061696</td>\n",
       "      <td>0.021872</td>\n",
       "      <td>-0.044223</td>\n",
       "      <td>-0.034821</td>\n",
       "      <td>-0.043401</td>\n",
       "      <td>-0.002592</td>\n",
       "      <td>0.019908</td>\n",
       "      <td>-0.017646</td>\n",
       "    </tr>\n",
       "    <tr>\n",
       "      <th>1</th>\n",
       "      <td>-0.001882</td>\n",
       "      <td>-0.044642</td>\n",
       "      <td>-0.051474</td>\n",
       "      <td>-0.026328</td>\n",
       "      <td>-0.008449</td>\n",
       "      <td>-0.019163</td>\n",
       "      <td>0.074412</td>\n",
       "      <td>-0.039493</td>\n",
       "      <td>-0.068330</td>\n",
       "      <td>-0.092204</td>\n",
       "    </tr>\n",
       "    <tr>\n",
       "      <th>2</th>\n",
       "      <td>0.085299</td>\n",
       "      <td>0.050680</td>\n",
       "      <td>0.044451</td>\n",
       "      <td>-0.005671</td>\n",
       "      <td>-0.045599</td>\n",
       "      <td>-0.034194</td>\n",
       "      <td>-0.032356</td>\n",
       "      <td>-0.002592</td>\n",
       "      <td>0.002864</td>\n",
       "      <td>-0.025930</td>\n",
       "    </tr>\n",
       "    <tr>\n",
       "      <th>3</th>\n",
       "      <td>-0.089063</td>\n",
       "      <td>-0.044642</td>\n",
       "      <td>-0.011595</td>\n",
       "      <td>-0.036656</td>\n",
       "      <td>0.012191</td>\n",
       "      <td>0.024991</td>\n",
       "      <td>-0.036038</td>\n",
       "      <td>0.034309</td>\n",
       "      <td>0.022692</td>\n",
       "      <td>-0.009362</td>\n",
       "    </tr>\n",
       "    <tr>\n",
       "      <th>4</th>\n",
       "      <td>0.005383</td>\n",
       "      <td>-0.044642</td>\n",
       "      <td>-0.036385</td>\n",
       "      <td>0.021872</td>\n",
       "      <td>0.003935</td>\n",
       "      <td>0.015596</td>\n",
       "      <td>0.008142</td>\n",
       "      <td>-0.002592</td>\n",
       "      <td>-0.031991</td>\n",
       "      <td>-0.046641</td>\n",
       "    </tr>\n",
       "  </tbody>\n",
       "</table>\n",
       "</div>"
      ],
      "text/plain": [
       "        age       sex       bmi        bp        s1        s2        s3  \\\n",
       "0  0.038076  0.050680  0.061696  0.021872 -0.044223 -0.034821 -0.043401   \n",
       "1 -0.001882 -0.044642 -0.051474 -0.026328 -0.008449 -0.019163  0.074412   \n",
       "2  0.085299  0.050680  0.044451 -0.005671 -0.045599 -0.034194 -0.032356   \n",
       "3 -0.089063 -0.044642 -0.011595 -0.036656  0.012191  0.024991 -0.036038   \n",
       "4  0.005383 -0.044642 -0.036385  0.021872  0.003935  0.015596  0.008142   \n",
       "\n",
       "         s4        s5        s6  \n",
       "0 -0.002592  0.019908 -0.017646  \n",
       "1 -0.039493 -0.068330 -0.092204  \n",
       "2 -0.002592  0.002864 -0.025930  \n",
       "3  0.034309  0.022692 -0.009362  \n",
       "4 -0.002592 -0.031991 -0.046641  "
      ]
     },
     "execution_count": 3,
     "metadata": {},
     "output_type": "execute_result"
    }
   ],
   "source": [
    "# DataFrame을 확인하면 문자열이 없고 다 수치형인것을 확인 가능\n",
    "df = pd.DataFrame(diabetes['data'], columns=diabetes['feature_names'])\n",
    "df.head()"
   ]
  },
  {
   "cell_type": "markdown",
   "id": "10b74e5f",
   "metadata": {},
   "source": [
    "### Data Describe"
   ]
  },
  {
   "cell_type": "code",
   "execution_count": 4,
   "id": "08cee55f",
   "metadata": {},
   "outputs": [
    {
     "name": "stdout",
     "output_type": "stream",
     "text": [
      "['age', 'sex', 'bmi', 'bp', 's1', 's2', 's3', 's4', 's5', 's6']\n"
     ]
    },
    {
     "data": {
      "text/plain": [
       "array([151.,  75., 141., 206., 135.,  97., 138.,  63., 110., 310.])"
      ]
     },
     "execution_count": 4,
     "metadata": {},
     "output_type": "execute_result"
    }
   ],
   "source": [
    "# Feature data name 확인\n",
    "diabetes.feature_names\n",
    "print(diabetes.feature_names)\n",
    "\n",
    "# Label data name 확인\n",
    "diabetes_label = diabetes.target\n",
    "diabetes_label[:10]"
   ]
  },
  {
   "cell_type": "markdown",
   "id": "60951d7d",
   "metadata": {},
   "source": [
    "### 3. train, test dataset split"
   ]
  },
  {
   "cell_type": "code",
   "execution_count": 5,
   "id": "69840ed8",
   "metadata": {},
   "outputs": [],
   "source": [
    "# train, test 데이터 분리\n",
    "# test data size =>  총 데이터의 20%\n",
    "\n",
    "x = df_x\n",
    "y = df_y\n",
    "\n",
    "diabetesX_train, diabetesX_test, diabetesY_train, diabetesY_test =  train_test_split(x,\n",
    "                                                                                     y,\n",
    "                                                                                     test_size = 0.2,\n",
    "                                                                                     random_state =10)"
   ]
  },
  {
   "cell_type": "code",
   "execution_count": 6,
   "id": "256ea9f7",
   "metadata": {},
   "outputs": [],
   "source": [
    "# 매개변수 초기화 해주기 # w:10, b:1(상수)\n",
    "w = np.random.rand(10)\n",
    "b = np.random.rand()"
   ]
  },
  {
   "cell_type": "code",
   "execution_count": 7,
   "id": "543c4179",
   "metadata": {},
   "outputs": [],
   "source": [
    "# 모델 만들기\n",
    "def  model (x,w,b) :\n",
    "    predictions = 0\n",
    "    for i in range(10):\n",
    "        predictions += x[:,i]*w[i]\n",
    "    predictions +=b\n",
    "    return predictions"
   ]
  },
  {
   "cell_type": "code",
   "execution_count": 8,
   "id": "f20441fc",
   "metadata": {},
   "outputs": [],
   "source": [
    "# 손실함수 (MSE)\n",
    "def MSE (a,b) :\n",
    "    mse = ((a-b)**2).mean() # 두값의 차이의 제곱의 평균\n",
    "    return mse"
   ]
  },
  {
   "cell_type": "code",
   "execution_count": 9,
   "id": "c73b3591",
   "metadata": {},
   "outputs": [],
   "source": [
    "# 손실함수 만들기 (loss)\n",
    "\n",
    "def loss (x,w,b,y):\n",
    "    predictions = model(x,w,b)\n",
    "    L = MSE(predictions,y)\n",
    "    return L"
   ]
  },
  {
   "cell_type": "code",
   "execution_count": 10,
   "id": "fa3b1f09",
   "metadata": {},
   "outputs": [],
   "source": [
    "def gradient(x, w, b, y):\n",
    "    # N은 가중치의 개수\n",
    "    N = len(w)\n",
    "    \n",
    "    # y_pred 준비\n",
    "    y_pred = model(x, w, b)\n",
    "    \n",
    "    # 공식에 맞게 gradient 계산\n",
    "    dw = 1/N * 2 * x.T.dot(y_pred - y)\n",
    "        \n",
    "    # b의 gradient 계산\n",
    "    db = 2 * (y_pred - y).mean()\n",
    "    return dw, db"
   ]
  },
  {
   "cell_type": "code",
   "execution_count": 11,
   "id": "f99f84ef",
   "metadata": {},
   "outputs": [
    {
     "name": "stdout",
     "output_type": "stream",
     "text": [
      "dw: [ -60.6055778   -13.80038573 -189.48002043 -142.67032744  -68.1951198\n",
      "  -55.90138377  127.54803897 -138.87926226 -182.7861899  -123.51062421]\n",
      "db: -303.6438842275859\n"
     ]
    }
   ],
   "source": [
    "dw, db = gradient(x, w, b, y)\n",
    "print(\"dw:\", dw)\n",
    "print(\"db:\", db)"
   ]
  },
  {
   "cell_type": "code",
   "execution_count": 12,
   "id": "efa5040d",
   "metadata": {},
   "outputs": [],
   "source": [
    "# 학습률  : 0.01\n",
    "LEARNING_RATE = 0.09"
   ]
  },
  {
   "cell_type": "code",
   "execution_count": 13,
   "id": "e41d4081",
   "metadata": {},
   "outputs": [
    {
     "name": "stdout",
     "output_type": "stream",
     "text": [
      "Iteration 10 : Loss 4650.9870\n",
      "Iteration 20 : Loss 3654.7647\n",
      "Iteration 30 : Loss 3386.8746\n",
      "Iteration 40 : Loss 3241.0335\n",
      "Iteration 50 : Loss 3146.4348\n",
      "Iteration 60 : Loss 3079.6320\n",
      "Iteration 70 : Loss 3030.4512\n",
      "Iteration 80 : Loss 2993.5122\n",
      "Iteration 90 : Loss 2965.4804\n",
      "Iteration 100 : Loss 2944.0759\n",
      "Iteration 110 : Loss 2927.6588\n",
      "Iteration 120 : Loss 2915.0197\n",
      "Iteration 130 : Loss 2905.2554\n",
      "Iteration 140 : Loss 2897.6864\n",
      "Iteration 150 : Loss 2891.7995\n",
      "Iteration 160 : Loss 2887.2050\n",
      "Iteration 170 : Loss 2883.6063\n",
      "Iteration 180 : Loss 2880.7773\n",
      "Iteration 190 : Loss 2878.5445\n",
      "Iteration 200 : Loss 2876.7749\n",
      "Iteration 210 : Loss 2875.3663\n",
      "Iteration 220 : Loss 2874.2396\n",
      "Iteration 230 : Loss 2873.3338\n",
      "Iteration 240 : Loss 2872.6015\n",
      "Iteration 250 : Loss 2872.0059\n",
      "Iteration 260 : Loss 2871.5183\n",
      "Iteration 270 : Loss 2871.1163\n",
      "Iteration 280 : Loss 2870.7824\n",
      "Iteration 290 : Loss 2870.5027\n",
      "Iteration 300 : Loss 2870.2664\n",
      "Iteration 310 : Loss 2870.0649\n",
      "Iteration 320 : Loss 2869.8914\n",
      "Iteration 330 : Loss 2869.7406\n",
      "Iteration 340 : Loss 2869.6081\n",
      "Iteration 350 : Loss 2869.4906\n",
      "Iteration 360 : Loss 2869.3852\n",
      "Iteration 370 : Loss 2869.2898\n",
      "Iteration 380 : Loss 2869.2025\n",
      "Iteration 390 : Loss 2869.1220\n",
      "Iteration 400 : Loss 2869.0471\n",
      "Iteration 410 : Loss 2868.9768\n",
      "Iteration 420 : Loss 2868.9103\n",
      "Iteration 430 : Loss 2868.8471\n",
      "Iteration 440 : Loss 2868.7866\n",
      "Iteration 450 : Loss 2868.7283\n",
      "Iteration 460 : Loss 2868.6720\n",
      "Iteration 470 : Loss 2868.6172\n",
      "Iteration 480 : Loss 2868.5639\n",
      "Iteration 490 : Loss 2868.5118\n",
      "Iteration 500 : Loss 2868.4607\n",
      "Iteration 510 : Loss 2868.4104\n",
      "Iteration 520 : Loss 2868.3610\n",
      "Iteration 530 : Loss 2868.3122\n",
      "Iteration 540 : Loss 2868.2639\n",
      "Iteration 550 : Loss 2868.2162\n",
      "Iteration 560 : Loss 2868.1690\n",
      "Iteration 570 : Loss 2868.1221\n",
      "Iteration 580 : Loss 2868.0756\n",
      "Iteration 590 : Loss 2868.0295\n",
      "Iteration 600 : Loss 2867.9836\n",
      "Iteration 610 : Loss 2867.9380\n",
      "Iteration 620 : Loss 2867.8927\n",
      "Iteration 630 : Loss 2867.8476\n",
      "Iteration 640 : Loss 2867.8027\n",
      "Iteration 650 : Loss 2867.7580\n",
      "Iteration 660 : Loss 2867.7135\n",
      "Iteration 670 : Loss 2867.6692\n",
      "Iteration 680 : Loss 2867.6251\n",
      "Iteration 690 : Loss 2867.5811\n",
      "Iteration 700 : Loss 2867.5373\n",
      "Iteration 710 : Loss 2867.4937\n",
      "Iteration 720 : Loss 2867.4502\n",
      "Iteration 730 : Loss 2867.4068\n",
      "Iteration 740 : Loss 2867.3636\n",
      "Iteration 750 : Loss 2867.3205\n",
      "Iteration 760 : Loss 2867.2775\n",
      "Iteration 770 : Loss 2867.2347\n",
      "Iteration 780 : Loss 2867.1920\n",
      "Iteration 790 : Loss 2867.1495\n",
      "Iteration 800 : Loss 2867.1070\n",
      "Iteration 810 : Loss 2867.0647\n",
      "Iteration 820 : Loss 2867.0225\n",
      "Iteration 830 : Loss 2866.9805\n",
      "Iteration 840 : Loss 2866.9385\n",
      "Iteration 850 : Loss 2866.8967\n",
      "Iteration 860 : Loss 2866.8550\n",
      "Iteration 870 : Loss 2866.8134\n",
      "Iteration 880 : Loss 2866.7719\n",
      "Iteration 890 : Loss 2866.7306\n",
      "Iteration 900 : Loss 2866.6893\n",
      "Iteration 910 : Loss 2866.6482\n",
      "Iteration 920 : Loss 2866.6072\n",
      "Iteration 930 : Loss 2866.5663\n",
      "Iteration 940 : Loss 2866.5255\n",
      "Iteration 950 : Loss 2866.4848\n",
      "Iteration 960 : Loss 2866.4443\n",
      "Iteration 970 : Loss 2866.4038\n",
      "Iteration 980 : Loss 2866.3635\n",
      "Iteration 990 : Loss 2866.3233\n",
      "Iteration 1000 : Loss 2866.2831\n"
     ]
    }
   ],
   "source": [
    "losses = []\n",
    "\n",
    "for i in range(1, 1001):\n",
    "    dw, db = gradient(diabetesX_train, w, b, diabetesY_train)\n",
    "    w -= LEARNING_RATE * dw\n",
    "    b -= LEARNING_RATE * db\n",
    "    L = loss(diabetesX_train, w, b, diabetesY_train)\n",
    "    losses.append(L)\n",
    "    if i % 10 == 0:\n",
    "        print('Iteration %d : Loss %0.4f' % (i, L))"
   ]
  },
  {
   "cell_type": "code",
   "execution_count": 14,
   "id": "2ea40f06",
   "metadata": {},
   "outputs": [
    {
     "data": {
      "text/plain": [
       "(array([   0.66722181, -219.71916991,  529.19478015,  323.87019664,\n",
       "        -114.67386875,  -69.90379899, -189.9558907 ,  139.3946851 ,\n",
       "         468.0207201 ,   43.08686929]),\n",
       " 152.12428212864364)"
      ]
     },
     "execution_count": 14,
     "metadata": {},
     "output_type": "execute_result"
    }
   ],
   "source": [
    "w, b"
   ]
  },
  {
   "cell_type": "code",
   "execution_count": 15,
   "id": "1de0e20e",
   "metadata": {},
   "outputs": [
    {
     "data": {
      "text/plain": [
       "2940.9568148442922"
      ]
     },
     "execution_count": 15,
     "metadata": {},
     "output_type": "execute_result"
    }
   ],
   "source": [
    "prediction = model(diabetesX_test, w, b)\n",
    "mse = loss(diabetesX_test, w, b, diabetesY_test)\n",
    "mse"
   ]
  },
  {
   "cell_type": "code",
   "execution_count": 16,
   "id": "31affbf7",
   "metadata": {},
   "outputs": [
    {
     "data": {
      "image/png": "[encoded data removed]",
      "text/plain": [
       "<Figure size 432x288 with 1 Axes>"
      ]
     },
     "metadata": {
      "needs_background": "light"
     },
     "output_type": "display_data"
    }
   ],
   "source": [
    "import matplotlib.pyplot as plt\n",
    "plt.plot(losses)\n",
    "plt.show()"
   ]
  },
  {
   "cell_type": "code",
   "execution_count": 17,
   "id": "b31e0f8d",
   "metadata": {},
   "outputs": [
    {
     "data": {
      "image/png": "[encoded data removed]",
      "text/plain": [
       "<Figure size 432x288 with 1 Axes>"
      ]
     },
     "metadata": {
      "needs_background": "light"
     },
     "output_type": "display_data"
    }
   ],
   "source": [
    "plt.scatter( diabetesX_test[:, 0],  diabetesY_test)\n",
    "plt.scatter( diabetesX_test[:, 0], prediction)\n",
    "plt.show()"
   ]
  },
  {
   "cell_type": "markdown",
   "id": "8a8c83ef",
   "metadata": {},
   "source": [
    "### [sklearn으로 구현]"
   ]
  },
  {
   "cell_type": "code",
   "execution_count": 18,
   "id": "07288457",
   "metadata": {},
   "outputs": [],
   "source": [
    "from sklearn.datasets import load_diabetes\n",
    "\n",
    "diabetes = load_diabetes()\n",
    "df_x = diabetes.data\n",
    "df_y = diabetes.target\n",
    "\n",
    "# 모델에 입력할 데이터 X,Y 준비하기\n",
    "x = np.array(df_x)\n",
    "y = np.array(df_y)"
   ]
  },
  {
   "cell_type": "code",
   "execution_count": 19,
   "id": "181741f6",
   "metadata": {},
   "outputs": [],
   "source": [
    "# train, test 데이터 분리\n",
    "# test data size =>  총 데이터의 20%\n",
    "\n",
    "diabetesX_train, diabetesX_test, diabetesY_train, diabetesY_test =  train_test_split(x,\n",
    "                                                                                   y,\n",
    "                                                                                   test_size = 0.2,\n",
    "                                                                                   random_state =10)"
   ]
  },
  {
   "cell_type": "code",
   "execution_count": 20,
   "id": "0706c795",
   "metadata": {},
   "outputs": [],
   "source": [
    "# 선형회귀 모델 \n",
    "from sklearn.linear_model import LinearRegression\n",
    "\n",
    "model = LinearRegression()"
   ]
  },
  {
   "cell_type": "code",
   "execution_count": 21,
   "id": "31eec098",
   "metadata": {},
   "outputs": [
    {
     "data": {
      "text/plain": [
       "LinearRegression()"
      ]
     },
     "execution_count": 21,
     "metadata": {},
     "output_type": "execute_result"
    }
   ],
   "source": [
    "model.fit(diabetesX_train,diabetesY_train)"
   ]
  },
  {
   "cell_type": "code",
   "execution_count": 22,
   "id": "3890efbb",
   "metadata": {},
   "outputs": [
    {
     "data": {
      "text/plain": [
       "array([148.0978202 , 208.21400551, 186.40125844,  82.48876916,\n",
       "       163.39689627, 126.17904513, 126.17880476, 264.70212482,\n",
       "        78.54654307,  73.56261024, 124.46582144, 142.22854705,\n",
       "       166.4549438 ,  98.5009742 ,  49.71902346, 223.51963411,\n",
       "       143.44310503, 110.50382605, 202.53415354,  78.49893296,\n",
       "       191.80901882, 243.20695862,  75.88822445, 214.90606332,\n",
       "        55.73078912, 158.0288059 , 157.54022573, 158.88728076,\n",
       "       166.2184483 , 107.63124236, 276.82392637, 179.20197197,\n",
       "        60.48832138, 157.42965435, 218.98333103, 182.29672873,\n",
       "        70.84400009, 186.74011272, 285.13886084, 196.19611072,\n",
       "       202.26256246, 145.38319546, 215.02583484, 124.55391269,\n",
       "        80.17027241,  98.99544054,  82.02453761,  83.40439369,\n",
       "       289.99388729, 134.33663141, 112.1313993 , 152.32625919,\n",
       "       109.90441466, 226.28134724, 245.74116064,  85.56172621,\n",
       "       122.28262271, 139.20254207, 198.95361934, 120.92252444,\n",
       "       179.99231965, 106.43580454, 123.03066928,  96.46348156,\n",
       "        94.96521004, 230.01995973, 175.10428431,  91.2918623 ,\n",
       "       167.79340958, 121.57123563, 165.20563345, 181.26779154,\n",
       "        65.1051729 ,  72.81485938, 231.35619415, 185.78771152,\n",
       "       173.68883444, 158.22007536, 108.88134149, 164.4597236 ,\n",
       "       182.06381167, 124.68118663, 206.58693233, 147.68873424,\n",
       "       155.35855424, 151.40752238, 140.07914902,  89.42949429,\n",
       "       115.09720605])"
      ]
     },
     "execution_count": 22,
     "metadata": {},
     "output_type": "execute_result"
    }
   ],
   "source": [
    "predictions = model.predict(diabetesX_test)\n",
    "predictions"
   ]
  },
  {
   "cell_type": "code",
   "execution_count": 23,
   "id": "ff1f5b79",
   "metadata": {},
   "outputs": [
    {
     "data": {
      "text/plain": [
       "2911.827951689161"
      ]
     },
     "execution_count": 23,
     "metadata": {},
     "output_type": "execute_result"
    }
   ],
   "source": [
    "from sklearn.metrics import mean_squared_error\n",
    "\n",
    "mse = mean_squared_error(diabetesY_test, predictions)\n",
    "mse"
   ]
  },
  {
   "cell_type": "code",
   "execution_count": 24,
   "id": "2ce124ad",
   "metadata": {},
   "outputs": [
    {
     "data": {
      "image/png": "[encoded data removed]",
      "text/plain": [
       "<Figure size 432x288 with 1 Axes>"
      ]
     },
     "metadata": {
      "needs_background": "light"
     },
     "output_type": "display_data"
    }
   ],
   "source": [
    "plt.scatter(diabetesX_test[:, 0], diabetesY_test, label=\"true\")\n",
    "plt.scatter(diabetesX_test[:, 0], predictions, label=\"pred\")\n",
    "plt.legend()\n",
    "plt.show()"
   ]
  },
  {
   "cell_type": "markdown",
   "id": "3f19c190",
   "metadata": {},
   "source": [
    "## 회고"
   ]
  },
  {
   "cell_type": "markdown",
   "id": "a0bcef64",
   "metadata": {},
   "source": [
    "* 가중치 (= 매개변수, 파라미터) 변화도 중요하지만 학습률에 따라 매우 확연한 차이가 있음을 확인함. \n",
    "\n",
    "* 애니메이션을 통해 losses값의 변화를 gif로 시각화 하려고 하였으나, 시간관계상 하지 못했음 (이후, 업데이트 하여 깃허브에 업로더 할 예정)\n",
    "\n",
    "* 손수만든 경사하강법과 사이킷런의 경사하강법의 모델학습한 차이는 수치상 차이가 많이 나는 듯 하지만 시각화를 통해 이 수치는 큰 차이는 나지 않음을 확인하여 손수 만든 모델도 파라미터를 잘 활용하면 좋은 결과치를 낼 수 있을 것 같다고 생각됨 "
   ]
  },
  {
   "cell_type": "markdown",
   "id": "49341726",
   "metadata": {},
   "source": [
    "---"
   ]
  },
  {
   "cell_type": "markdown",
   "id": "3075af02",
   "metadata": {},
   "source": [
    "# Project 2"
   ]
  },
  {
   "cell_type": "markdown",
   "id": "ca4af8bb",
   "metadata": {},
   "source": [
    "## 날씨 좋은 월요일 오후 세 시, 자전거 타는 사람은 몇명?"
   ]
  },
  {
   "cell_type": "markdown",
   "id": "8587f414",
   "metadata": {},
   "source": [
    "### 1. 모듈 가져오기"
   ]
  },
  {
   "cell_type": "code",
   "execution_count": 25,
   "id": "e64947c2",
   "metadata": {},
   "outputs": [],
   "source": [
    "import numpy as np \n",
    "import pandas as pd \n",
    "import matplotlib.pyplot as plt\n",
    "import seaborn as sns\n",
    "\n",
    "from sklearn.datasets import load_diabetes\n",
    "from sklearn.model_selection import train_test_split\n",
    "from sklearn.linear_model import LinearRegression\n",
    "from sklearn.metrics import mean_squared_error\n",
    "\n",
    "import warnings\n",
    "warnings.filterwarnings('ignore')\n",
    "\n",
    "%matplotlib inline\n",
    "#%config InlineBackend.figure_format = 'retina'"
   ]
  },
  {
   "cell_type": "markdown",
   "id": "7e8c2a35",
   "metadata": {},
   "source": [
    "### 2. bike-sharing data load"
   ]
  },
  {
   "cell_type": "code",
   "execution_count": 26,
   "id": "0c590c95",
   "metadata": {},
   "outputs": [],
   "source": [
    "df = pd.read_csv('~/data/data/bike-sharing-demand/train.csv')"
   ]
  },
  {
   "cell_type": "code",
   "execution_count": 27,
   "id": "9593a945",
   "metadata": {},
   "outputs": [
    {
     "data": {
      "text/html": [
       "<div>\n",
       "<style scoped>\n",
       "    .dataframe tbody tr th:only-of-type {\n",
       "        vertical-align: middle;\n",
       "    }\n",
       "\n",
       "    .dataframe tbody tr th {\n",
       "        vertical-align: top;\n",
       "    }\n",
       "\n",
       "    .dataframe thead th {\n",
       "        text-align: right;\n",
       "    }\n",
       "</style>\n",
       "<table border=\"1\" class=\"dataframe\">\n",
       "  <thead>\n",
       "    <tr style=\"text-align: right;\">\n",
       "      <th></th>\n",
       "      <th>datetime</th>\n",
       "      <th>season</th>\n",
       "      <th>holiday</th>\n",
       "      <th>workingday</th>\n",
       "      <th>weather</th>\n",
       "      <th>temp</th>\n",
       "      <th>atemp</th>\n",
       "      <th>humidity</th>\n",
       "      <th>windspeed</th>\n",
       "      <th>casual</th>\n",
       "      <th>registered</th>\n",
       "      <th>count</th>\n",
       "    </tr>\n",
       "  </thead>\n",
       "  <tbody>\n",
       "    <tr>\n",
       "      <th>0</th>\n",
       "      <td>2011-01-01 00:00:00</td>\n",
       "      <td>1</td>\n",
       "      <td>0</td>\n",
       "      <td>0</td>\n",
       "      <td>1</td>\n",
       "      <td>9.84</td>\n",
       "      <td>14.395</td>\n",
       "      <td>81</td>\n",
       "      <td>0.0</td>\n",
       "      <td>3</td>\n",
       "      <td>13</td>\n",
       "      <td>16</td>\n",
       "    </tr>\n",
       "    <tr>\n",
       "      <th>1</th>\n",
       "      <td>2011-01-01 01:00:00</td>\n",
       "      <td>1</td>\n",
       "      <td>0</td>\n",
       "      <td>0</td>\n",
       "      <td>1</td>\n",
       "      <td>9.02</td>\n",
       "      <td>13.635</td>\n",
       "      <td>80</td>\n",
       "      <td>0.0</td>\n",
       "      <td>8</td>\n",
       "      <td>32</td>\n",
       "      <td>40</td>\n",
       "    </tr>\n",
       "    <tr>\n",
       "      <th>2</th>\n",
       "      <td>2011-01-01 02:00:00</td>\n",
       "      <td>1</td>\n",
       "      <td>0</td>\n",
       "      <td>0</td>\n",
       "      <td>1</td>\n",
       "      <td>9.02</td>\n",
       "      <td>13.635</td>\n",
       "      <td>80</td>\n",
       "      <td>0.0</td>\n",
       "      <td>5</td>\n",
       "      <td>27</td>\n",
       "      <td>32</td>\n",
       "    </tr>\n",
       "    <tr>\n",
       "      <th>3</th>\n",
       "      <td>2011-01-01 03:00:00</td>\n",
       "      <td>1</td>\n",
       "      <td>0</td>\n",
       "      <td>0</td>\n",
       "      <td>1</td>\n",
       "      <td>9.84</td>\n",
       "      <td>14.395</td>\n",
       "      <td>75</td>\n",
       "      <td>0.0</td>\n",
       "      <td>3</td>\n",
       "      <td>10</td>\n",
       "      <td>13</td>\n",
       "    </tr>\n",
       "    <tr>\n",
       "      <th>4</th>\n",
       "      <td>2011-01-01 04:00:00</td>\n",
       "      <td>1</td>\n",
       "      <td>0</td>\n",
       "      <td>0</td>\n",
       "      <td>1</td>\n",
       "      <td>9.84</td>\n",
       "      <td>14.395</td>\n",
       "      <td>75</td>\n",
       "      <td>0.0</td>\n",
       "      <td>0</td>\n",
       "      <td>1</td>\n",
       "      <td>1</td>\n",
       "    </tr>\n",
       "  </tbody>\n",
       "</table>\n",
       "</div>"
      ],
      "text/plain": [
       "              datetime  season  holiday  workingday  weather  temp   atemp  \\\n",
       "0  2011-01-01 00:00:00       1        0           0        1  9.84  14.395   \n",
       "1  2011-01-01 01:00:00       1        0           0        1  9.02  13.635   \n",
       "2  2011-01-01 02:00:00       1        0           0        1  9.02  13.635   \n",
       "3  2011-01-01 03:00:00       1        0           0        1  9.84  14.395   \n",
       "4  2011-01-01 04:00:00       1        0           0        1  9.84  14.395   \n",
       "\n",
       "   humidity  windspeed  casual  registered  count  \n",
       "0        81        0.0       3          13     16  \n",
       "1        80        0.0       8          32     40  \n",
       "2        80        0.0       5          27     32  \n",
       "3        75        0.0       3          10     13  \n",
       "4        75        0.0       0           1      1  "
      ]
     },
     "execution_count": 27,
     "metadata": {},
     "output_type": "execute_result"
    }
   ],
   "source": [
    "df.head()"
   ]
  },
  {
   "cell_type": "markdown",
   "id": "c5d07270",
   "metadata": {},
   "source": [
    "* datetime: hourly date + timestamp\n",
    "* season: 1=봄, 2=여름, 3=가을, 4=겨울\n",
    "* holiday: 1=주말을 제외한 국경일 등의 휴일, 0=휴일이 아닌 날\n",
    "* workingday: 1=주말 및 휴일이 아닌 주중, 0=주말 및 휴일\n",
    "* weather:\n",
    ">1=맑음, 약간 구름 낀 흐림\n",
    ">2=안개, 안개 + 흐림\n",
    ">3=가벼운 눈, 가벼운 비 + 천둥\n",
    ">4=심한 눈/비, 천둥/번개\n",
    "* temp: 온도(섭씨)\n",
    "* atemp: 체감온도(섭씨)\n",
    "* humidity: 상대습도\n",
    "* windspeed: 풍속\n",
    "* casual: 사전에 등록되지 않은 사용자가 대여한 횟수\n",
    "* registered: 사전에 등록된 사용자가 대여한 횟수\n",
    "* count: 대여 횟수"
   ]
  },
  {
   "cell_type": "code",
   "execution_count": 28,
   "id": "7b49f222",
   "metadata": {},
   "outputs": [
    {
     "name": "stdout",
     "output_type": "stream",
     "text": [
      "datetime       object\n",
      "season          int64\n",
      "holiday         int64\n",
      "workingday      int64\n",
      "weather         int64\n",
      "temp          float64\n",
      "atemp         float64\n",
      "humidity        int64\n",
      "windspeed     float64\n",
      "casual          int64\n",
      "registered      int64\n",
      "count           int64\n",
      "dtype: object\n"
     ]
    }
   ],
   "source": [
    "#bike-sharing data 자료형 확인\n",
    "print(df.dtypes) \n",
    "# datetime object형 -> 자료형으로 변환시켜줘야함"
   ]
  },
  {
   "cell_type": "code",
   "execution_count": 29,
   "id": "235fc0fe",
   "metadata": {},
   "outputs": [],
   "source": [
    "df['datetime'] = pd.to_datetime(df['datetime'])\n",
    "\n",
    "df['year']=df['datetime'].dt.year # 연도 정보\n",
    "df['month']=df['datetime'].dt.month # 월 정보\n",
    "#df['month_name'] = df['datetime'].dt.month_name()\n",
    "df['day']=df['datetime'].dt.day # 일 정보\n",
    "df['hour']=df['datetime'].dt.hour # 시간 정보\n",
    "df['minute']=df['datetime'].dt.minute # 분 정보\n",
    "df['second']=df['datetime'].dt.second # 초 정보"
   ]
  },
  {
   "cell_type": "code",
   "execution_count": 30,
   "id": "640abad0",
   "metadata": {
    "scrolled": true
   },
   "outputs": [
    {
     "data": {
      "text/html": [
       "<div>\n",
       "<style scoped>\n",
       "    .dataframe tbody tr th:only-of-type {\n",
       "        vertical-align: middle;\n",
       "    }\n",
       "\n",
       "    .dataframe tbody tr th {\n",
       "        vertical-align: top;\n",
       "    }\n",
       "\n",
       "    .dataframe thead th {\n",
       "        text-align: right;\n",
       "    }\n",
       "</style>\n",
       "<table border=\"1\" class=\"dataframe\">\n",
       "  <thead>\n",
       "    <tr style=\"text-align: right;\">\n",
       "      <th></th>\n",
       "      <th>datetime</th>\n",
       "      <th>season</th>\n",
       "      <th>holiday</th>\n",
       "      <th>workingday</th>\n",
       "      <th>weather</th>\n",
       "      <th>temp</th>\n",
       "      <th>atemp</th>\n",
       "      <th>humidity</th>\n",
       "      <th>windspeed</th>\n",
       "      <th>casual</th>\n",
       "      <th>registered</th>\n",
       "      <th>count</th>\n",
       "      <th>year</th>\n",
       "      <th>month</th>\n",
       "      <th>day</th>\n",
       "      <th>hour</th>\n",
       "      <th>minute</th>\n",
       "      <th>second</th>\n",
       "    </tr>\n",
       "  </thead>\n",
       "  <tbody>\n",
       "    <tr>\n",
       "      <th>0</th>\n",
       "      <td>2011-01-01 00:00:00</td>\n",
       "      <td>1</td>\n",
       "      <td>0</td>\n",
       "      <td>0</td>\n",
       "      <td>1</td>\n",
       "      <td>9.84</td>\n",
       "      <td>14.395</td>\n",
       "      <td>81</td>\n",
       "      <td>0.0</td>\n",
       "      <td>3</td>\n",
       "      <td>13</td>\n",
       "      <td>16</td>\n",
       "      <td>2011</td>\n",
       "      <td>1</td>\n",
       "      <td>1</td>\n",
       "      <td>0</td>\n",
       "      <td>0</td>\n",
       "      <td>0</td>\n",
       "    </tr>\n",
       "    <tr>\n",
       "      <th>1</th>\n",
       "      <td>2011-01-01 01:00:00</td>\n",
       "      <td>1</td>\n",
       "      <td>0</td>\n",
       "      <td>0</td>\n",
       "      <td>1</td>\n",
       "      <td>9.02</td>\n",
       "      <td>13.635</td>\n",
       "      <td>80</td>\n",
       "      <td>0.0</td>\n",
       "      <td>8</td>\n",
       "      <td>32</td>\n",
       "      <td>40</td>\n",
       "      <td>2011</td>\n",
       "      <td>1</td>\n",
       "      <td>1</td>\n",
       "      <td>1</td>\n",
       "      <td>0</td>\n",
       "      <td>0</td>\n",
       "    </tr>\n",
       "    <tr>\n",
       "      <th>2</th>\n",
       "      <td>2011-01-01 02:00:00</td>\n",
       "      <td>1</td>\n",
       "      <td>0</td>\n",
       "      <td>0</td>\n",
       "      <td>1</td>\n",
       "      <td>9.02</td>\n",
       "      <td>13.635</td>\n",
       "      <td>80</td>\n",
       "      <td>0.0</td>\n",
       "      <td>5</td>\n",
       "      <td>27</td>\n",
       "      <td>32</td>\n",
       "      <td>2011</td>\n",
       "      <td>1</td>\n",
       "      <td>1</td>\n",
       "      <td>2</td>\n",
       "      <td>0</td>\n",
       "      <td>0</td>\n",
       "    </tr>\n",
       "    <tr>\n",
       "      <th>3</th>\n",
       "      <td>2011-01-01 03:00:00</td>\n",
       "      <td>1</td>\n",
       "      <td>0</td>\n",
       "      <td>0</td>\n",
       "      <td>1</td>\n",
       "      <td>9.84</td>\n",
       "      <td>14.395</td>\n",
       "      <td>75</td>\n",
       "      <td>0.0</td>\n",
       "      <td>3</td>\n",
       "      <td>10</td>\n",
       "      <td>13</td>\n",
       "      <td>2011</td>\n",
       "      <td>1</td>\n",
       "      <td>1</td>\n",
       "      <td>3</td>\n",
       "      <td>0</td>\n",
       "      <td>0</td>\n",
       "    </tr>\n",
       "    <tr>\n",
       "      <th>4</th>\n",
       "      <td>2011-01-01 04:00:00</td>\n",
       "      <td>1</td>\n",
       "      <td>0</td>\n",
       "      <td>0</td>\n",
       "      <td>1</td>\n",
       "      <td>9.84</td>\n",
       "      <td>14.395</td>\n",
       "      <td>75</td>\n",
       "      <td>0.0</td>\n",
       "      <td>0</td>\n",
       "      <td>1</td>\n",
       "      <td>1</td>\n",
       "      <td>2011</td>\n",
       "      <td>1</td>\n",
       "      <td>1</td>\n",
       "      <td>4</td>\n",
       "      <td>0</td>\n",
       "      <td>0</td>\n",
       "    </tr>\n",
       "  </tbody>\n",
       "</table>\n",
       "</div>"
      ],
      "text/plain": [
       "             datetime  season  holiday  workingday  weather  temp   atemp  \\\n",
       "0 2011-01-01 00:00:00       1        0           0        1  9.84  14.395   \n",
       "1 2011-01-01 01:00:00       1        0           0        1  9.02  13.635   \n",
       "2 2011-01-01 02:00:00       1        0           0        1  9.02  13.635   \n",
       "3 2011-01-01 03:00:00       1        0           0        1  9.84  14.395   \n",
       "4 2011-01-01 04:00:00       1        0           0        1  9.84  14.395   \n",
       "\n",
       "   humidity  windspeed  casual  registered  count  year  month  day  hour  \\\n",
       "0        81        0.0       3          13     16  2011      1    1     0   \n",
       "1        80        0.0       8          32     40  2011      1    1     1   \n",
       "2        80        0.0       5          27     32  2011      1    1     2   \n",
       "3        75        0.0       3          10     13  2011      1    1     3   \n",
       "4        75        0.0       0           1      1  2011      1    1     4   \n",
       "\n",
       "   minute  second  \n",
       "0       0       0  \n",
       "1       0       0  \n",
       "2       0       0  \n",
       "3       0       0  \n",
       "4       0       0  "
      ]
     },
     "execution_count": 30,
     "metadata": {},
     "output_type": "execute_result"
    }
   ],
   "source": [
    "df.head()"
   ]
  },
  {
   "cell_type": "code",
   "execution_count": 31,
   "id": "86d026ce",
   "metadata": {},
   "outputs": [],
   "source": [
    "# Data columns 원하는 대로 정렬\n",
    "df = df[['datetime','year','month','day','hour','minute','second','season','holiday','workingday','weather','temp','atemp','humidity','windspeed','casual','registered','count']]"
   ]
  },
  {
   "cell_type": "code",
   "execution_count": 32,
   "id": "fc0b557b",
   "metadata": {},
   "outputs": [
    {
     "data": {
      "text/html": [
       "<div>\n",
       "<style scoped>\n",
       "    .dataframe tbody tr th:only-of-type {\n",
       "        vertical-align: middle;\n",
       "    }\n",
       "\n",
       "    .dataframe tbody tr th {\n",
       "        vertical-align: top;\n",
       "    }\n",
       "\n",
       "    .dataframe thead th {\n",
       "        text-align: right;\n",
       "    }\n",
       "</style>\n",
       "<table border=\"1\" class=\"dataframe\">\n",
       "  <thead>\n",
       "    <tr style=\"text-align: right;\">\n",
       "      <th></th>\n",
       "      <th>datetime</th>\n",
       "      <th>year</th>\n",
       "      <th>month</th>\n",
       "      <th>day</th>\n",
       "      <th>hour</th>\n",
       "      <th>minute</th>\n",
       "      <th>second</th>\n",
       "      <th>season</th>\n",
       "      <th>holiday</th>\n",
       "      <th>workingday</th>\n",
       "      <th>weather</th>\n",
       "      <th>temp</th>\n",
       "      <th>atemp</th>\n",
       "      <th>humidity</th>\n",
       "      <th>windspeed</th>\n",
       "      <th>casual</th>\n",
       "      <th>registered</th>\n",
       "      <th>count</th>\n",
       "    </tr>\n",
       "  </thead>\n",
       "  <tbody>\n",
       "    <tr>\n",
       "      <th>0</th>\n",
       "      <td>2011-01-01 00:00:00</td>\n",
       "      <td>2011</td>\n",
       "      <td>1</td>\n",
       "      <td>1</td>\n",
       "      <td>0</td>\n",
       "      <td>0</td>\n",
       "      <td>0</td>\n",
       "      <td>1</td>\n",
       "      <td>0</td>\n",
       "      <td>0</td>\n",
       "      <td>1</td>\n",
       "      <td>9.84</td>\n",
       "      <td>14.395</td>\n",
       "      <td>81</td>\n",
       "      <td>0.0</td>\n",
       "      <td>3</td>\n",
       "      <td>13</td>\n",
       "      <td>16</td>\n",
       "    </tr>\n",
       "    <tr>\n",
       "      <th>1</th>\n",
       "      <td>2011-01-01 01:00:00</td>\n",
       "      <td>2011</td>\n",
       "      <td>1</td>\n",
       "      <td>1</td>\n",
       "      <td>1</td>\n",
       "      <td>0</td>\n",
       "      <td>0</td>\n",
       "      <td>1</td>\n",
       "      <td>0</td>\n",
       "      <td>0</td>\n",
       "      <td>1</td>\n",
       "      <td>9.02</td>\n",
       "      <td>13.635</td>\n",
       "      <td>80</td>\n",
       "      <td>0.0</td>\n",
       "      <td>8</td>\n",
       "      <td>32</td>\n",
       "      <td>40</td>\n",
       "    </tr>\n",
       "    <tr>\n",
       "      <th>2</th>\n",
       "      <td>2011-01-01 02:00:00</td>\n",
       "      <td>2011</td>\n",
       "      <td>1</td>\n",
       "      <td>1</td>\n",
       "      <td>2</td>\n",
       "      <td>0</td>\n",
       "      <td>0</td>\n",
       "      <td>1</td>\n",
       "      <td>0</td>\n",
       "      <td>0</td>\n",
       "      <td>1</td>\n",
       "      <td>9.02</td>\n",
       "      <td>13.635</td>\n",
       "      <td>80</td>\n",
       "      <td>0.0</td>\n",
       "      <td>5</td>\n",
       "      <td>27</td>\n",
       "      <td>32</td>\n",
       "    </tr>\n",
       "    <tr>\n",
       "      <th>3</th>\n",
       "      <td>2011-01-01 03:00:00</td>\n",
       "      <td>2011</td>\n",
       "      <td>1</td>\n",
       "      <td>1</td>\n",
       "      <td>3</td>\n",
       "      <td>0</td>\n",
       "      <td>0</td>\n",
       "      <td>1</td>\n",
       "      <td>0</td>\n",
       "      <td>0</td>\n",
       "      <td>1</td>\n",
       "      <td>9.84</td>\n",
       "      <td>14.395</td>\n",
       "      <td>75</td>\n",
       "      <td>0.0</td>\n",
       "      <td>3</td>\n",
       "      <td>10</td>\n",
       "      <td>13</td>\n",
       "    </tr>\n",
       "    <tr>\n",
       "      <th>4</th>\n",
       "      <td>2011-01-01 04:00:00</td>\n",
       "      <td>2011</td>\n",
       "      <td>1</td>\n",
       "      <td>1</td>\n",
       "      <td>4</td>\n",
       "      <td>0</td>\n",
       "      <td>0</td>\n",
       "      <td>1</td>\n",
       "      <td>0</td>\n",
       "      <td>0</td>\n",
       "      <td>1</td>\n",
       "      <td>9.84</td>\n",
       "      <td>14.395</td>\n",
       "      <td>75</td>\n",
       "      <td>0.0</td>\n",
       "      <td>0</td>\n",
       "      <td>1</td>\n",
       "      <td>1</td>\n",
       "    </tr>\n",
       "  </tbody>\n",
       "</table>\n",
       "</div>"
      ],
      "text/plain": [
       "             datetime  year  month  day  hour  minute  second  season  \\\n",
       "0 2011-01-01 00:00:00  2011      1    1     0       0       0       1   \n",
       "1 2011-01-01 01:00:00  2011      1    1     1       0       0       1   \n",
       "2 2011-01-01 02:00:00  2011      1    1     2       0       0       1   \n",
       "3 2011-01-01 03:00:00  2011      1    1     3       0       0       1   \n",
       "4 2011-01-01 04:00:00  2011      1    1     4       0       0       1   \n",
       "\n",
       "   holiday  workingday  weather  temp   atemp  humidity  windspeed  casual  \\\n",
       "0        0           0        1  9.84  14.395        81        0.0       3   \n",
       "1        0           0        1  9.02  13.635        80        0.0       8   \n",
       "2        0           0        1  9.02  13.635        80        0.0       5   \n",
       "3        0           0        1  9.84  14.395        75        0.0       3   \n",
       "4        0           0        1  9.84  14.395        75        0.0       0   \n",
       "\n",
       "   registered  count  \n",
       "0          13     16  \n",
       "1          32     40  \n",
       "2          27     32  \n",
       "3          10     13  \n",
       "4           1      1  "
      ]
     },
     "execution_count": 32,
     "metadata": {},
     "output_type": "execute_result"
    }
   ],
   "source": [
    "df.head()"
   ]
  },
  {
   "cell_type": "markdown",
   "id": "da4556a2",
   "metadata": {},
   "source": [
    "* 새롭게 datetime 분리된 칼럼이 생성되었으므로 datetime이 필요하지 않음 삭제!\n",
    "* casual 칼럼은 사전에 등록하지 않은 사용자의 자전거 대여 횟수이고\n",
    "* registered는 사전에 등록한 사용자의 대여 횟수이며\n",
    "* casual + registered = count이므로 casual과 registered가 따로 필요 않다고 판단\n",
    "* 두 칼럼을 삭제!"
   ]
  },
  {
   "cell_type": "code",
   "execution_count": 33,
   "id": "e16fc66a",
   "metadata": {},
   "outputs": [],
   "source": [
    "df = df.drop(['datetime','casual','registered'],axis=1)"
   ]
  },
  {
   "cell_type": "code",
   "execution_count": 34,
   "id": "aa66e99d",
   "metadata": {},
   "outputs": [
    {
     "data": {
      "text/html": [
       "<div>\n",
       "<style scoped>\n",
       "    .dataframe tbody tr th:only-of-type {\n",
       "        vertical-align: middle;\n",
       "    }\n",
       "\n",
       "    .dataframe tbody tr th {\n",
       "        vertical-align: top;\n",
       "    }\n",
       "\n",
       "    .dataframe thead th {\n",
       "        text-align: right;\n",
       "    }\n",
       "</style>\n",
       "<table border=\"1\" class=\"dataframe\">\n",
       "  <thead>\n",
       "    <tr style=\"text-align: right;\">\n",
       "      <th></th>\n",
       "      <th>year</th>\n",
       "      <th>month</th>\n",
       "      <th>day</th>\n",
       "      <th>hour</th>\n",
       "      <th>minute</th>\n",
       "      <th>second</th>\n",
       "      <th>season</th>\n",
       "      <th>holiday</th>\n",
       "      <th>workingday</th>\n",
       "      <th>weather</th>\n",
       "      <th>temp</th>\n",
       "      <th>atemp</th>\n",
       "      <th>humidity</th>\n",
       "      <th>windspeed</th>\n",
       "      <th>count</th>\n",
       "    </tr>\n",
       "  </thead>\n",
       "  <tbody>\n",
       "    <tr>\n",
       "      <th>0</th>\n",
       "      <td>2011</td>\n",
       "      <td>1</td>\n",
       "      <td>1</td>\n",
       "      <td>0</td>\n",
       "      <td>0</td>\n",
       "      <td>0</td>\n",
       "      <td>1</td>\n",
       "      <td>0</td>\n",
       "      <td>0</td>\n",
       "      <td>1</td>\n",
       "      <td>9.84</td>\n",
       "      <td>14.395</td>\n",
       "      <td>81</td>\n",
       "      <td>0.0</td>\n",
       "      <td>16</td>\n",
       "    </tr>\n",
       "    <tr>\n",
       "      <th>1</th>\n",
       "      <td>2011</td>\n",
       "      <td>1</td>\n",
       "      <td>1</td>\n",
       "      <td>1</td>\n",
       "      <td>0</td>\n",
       "      <td>0</td>\n",
       "      <td>1</td>\n",
       "      <td>0</td>\n",
       "      <td>0</td>\n",
       "      <td>1</td>\n",
       "      <td>9.02</td>\n",
       "      <td>13.635</td>\n",
       "      <td>80</td>\n",
       "      <td>0.0</td>\n",
       "      <td>40</td>\n",
       "    </tr>\n",
       "    <tr>\n",
       "      <th>2</th>\n",
       "      <td>2011</td>\n",
       "      <td>1</td>\n",
       "      <td>1</td>\n",
       "      <td>2</td>\n",
       "      <td>0</td>\n",
       "      <td>0</td>\n",
       "      <td>1</td>\n",
       "      <td>0</td>\n",
       "      <td>0</td>\n",
       "      <td>1</td>\n",
       "      <td>9.02</td>\n",
       "      <td>13.635</td>\n",
       "      <td>80</td>\n",
       "      <td>0.0</td>\n",
       "      <td>32</td>\n",
       "    </tr>\n",
       "    <tr>\n",
       "      <th>3</th>\n",
       "      <td>2011</td>\n",
       "      <td>1</td>\n",
       "      <td>1</td>\n",
       "      <td>3</td>\n",
       "      <td>0</td>\n",
       "      <td>0</td>\n",
       "      <td>1</td>\n",
       "      <td>0</td>\n",
       "      <td>0</td>\n",
       "      <td>1</td>\n",
       "      <td>9.84</td>\n",
       "      <td>14.395</td>\n",
       "      <td>75</td>\n",
       "      <td>0.0</td>\n",
       "      <td>13</td>\n",
       "    </tr>\n",
       "    <tr>\n",
       "      <th>4</th>\n",
       "      <td>2011</td>\n",
       "      <td>1</td>\n",
       "      <td>1</td>\n",
       "      <td>4</td>\n",
       "      <td>0</td>\n",
       "      <td>0</td>\n",
       "      <td>1</td>\n",
       "      <td>0</td>\n",
       "      <td>0</td>\n",
       "      <td>1</td>\n",
       "      <td>9.84</td>\n",
       "      <td>14.395</td>\n",
       "      <td>75</td>\n",
       "      <td>0.0</td>\n",
       "      <td>1</td>\n",
       "    </tr>\n",
       "  </tbody>\n",
       "</table>\n",
       "</div>"
      ],
      "text/plain": [
       "   year  month  day  hour  minute  second  season  holiday  workingday  \\\n",
       "0  2011      1    1     0       0       0       1        0           0   \n",
       "1  2011      1    1     1       0       0       1        0           0   \n",
       "2  2011      1    1     2       0       0       1        0           0   \n",
       "3  2011      1    1     3       0       0       1        0           0   \n",
       "4  2011      1    1     4       0       0       1        0           0   \n",
       "\n",
       "   weather  temp   atemp  humidity  windspeed  count  \n",
       "0        1  9.84  14.395        81        0.0     16  \n",
       "1        1  9.02  13.635        80        0.0     40  \n",
       "2        1  9.02  13.635        80        0.0     32  \n",
       "3        1  9.84  14.395        75        0.0     13  \n",
       "4        1  9.84  14.395        75        0.0      1  "
      ]
     },
     "execution_count": 34,
     "metadata": {},
     "output_type": "execute_result"
    }
   ],
   "source": [
    "df.head()"
   ]
  },
  {
   "cell_type": "code",
   "execution_count": 35,
   "id": "cbb81fa9",
   "metadata": {},
   "outputs": [
    {
     "data": {
      "image/png": "[encoded data removed]",
      "text/plain": [
       "<Figure size 2016x1080 with 6 Axes>"
      ]
     },
     "metadata": {
      "needs_background": "light"
     },
     "output_type": "display_data"
    }
   ],
   "source": [
    "f, ax = plt.subplots(2,3,figsize=(28,15))\n",
    "\n",
    "sns.countplot('year',data=df, ax=ax[0,0])\n",
    "sns.countplot('month',data=df, ax=ax[0,1])\n",
    "sns.countplot('day',data=df, ax=ax[0,2])\n",
    "\n",
    "sns.countplot('hour',data=df, ax=ax[1,0])\n",
    "sns.countplot('minute',data=df, ax=ax[1,1])\n",
    "sns.countplot('second',data=df, ax=ax[1,2])\n",
    "plt.show()"
   ]
  },
  {
   "cell_type": "markdown",
   "id": "b461f75e",
   "metadata": {},
   "source": [
    "### 3. train, test dataset split"
   ]
  },
  {
   "cell_type": "code",
   "execution_count": 36,
   "id": "309beaaa",
   "metadata": {},
   "outputs": [],
   "source": [
    "X =  df[['year','month','day','hour','minute','second','season','holiday','workingday','weather','temp','atemp','humidity','windspeed']]\n",
    "\n",
    "y = df['count'].values         "
   ]
  },
  {
   "cell_type": "code",
   "execution_count": 37,
   "id": "9f2e4cd3",
   "metadata": {},
   "outputs": [],
   "source": [
    "X_train, X_test, y_train, y_test = train_test_split(X, \n",
    "                                                    y, \n",
    "                                                    test_size=0.2, \n",
    "                                                    random_state=42)"
   ]
  },
  {
   "cell_type": "markdown",
   "id": "cc461c7f",
   "metadata": {},
   "source": [
    "### 4. LinearRegression 모델 학습"
   ]
  },
  {
   "cell_type": "code",
   "execution_count": 38,
   "id": "9e79efae",
   "metadata": {},
   "outputs": [],
   "source": [
    "# 선형회귀 모델 \n",
    "from sklearn.linear_model import LinearRegression\n",
    "\n",
    "model = LinearRegression()"
   ]
  },
  {
   "cell_type": "code",
   "execution_count": 39,
   "id": "822fd9b8",
   "metadata": {},
   "outputs": [
    {
     "data": {
      "text/plain": [
       "LinearRegression()"
      ]
     },
     "execution_count": 39,
     "metadata": {},
     "output_type": "execute_result"
    }
   ],
   "source": [
    "model.fit(X_train,y_train)"
   ]
  },
  {
   "cell_type": "markdown",
   "id": "b7a29ecb",
   "metadata": {},
   "source": [
    "### 5. 학습된 모델로 X_test에 대한 예측값 출력 및 손실함수값 계산"
   ]
  },
  {
   "cell_type": "code",
   "execution_count": 40,
   "id": "c5f4ad09",
   "metadata": {},
   "outputs": [
    {
     "data": {
      "text/plain": [
       "array([248.10627003,  48.79765547, 200.90676727, ..., 309.7528022 ,\n",
       "        38.17030198, 243.62697388])"
      ]
     },
     "execution_count": 40,
     "metadata": {},
     "output_type": "execute_result"
    }
   ],
   "source": [
    "predictions = model.predict(X_test)\n",
    "predictions"
   ]
  },
  {
   "cell_type": "code",
   "execution_count": 41,
   "id": "a90e0e15",
   "metadata": {},
   "outputs": [
    {
     "name": "stdout",
     "output_type": "stream",
     "text": [
      "19945.370053753973\n",
      "141.22807813517102\n"
     ]
    }
   ],
   "source": [
    "from sklearn.metrics import mean_squared_error\n",
    "\n",
    "mse = mean_squared_error(y_test, predictions)\n",
    "\n",
    "rmse = mean_squared_error(y_test, predictions)**0.5\n",
    "\n",
    "print(mse)\n",
    "print(rmse)"
   ]
  },
  {
   "cell_type": "markdown",
   "id": "c49e72d1",
   "metadata": {},
   "source": [
    "### 6. 시각화하기\n",
    "\n",
    "* X축은 temp or humidity\n",
    "* Y축은 count "
   ]
  },
  {
   "cell_type": "code",
   "execution_count": 42,
   "id": "6bbec02b",
   "metadata": {},
   "outputs": [
    {
     "data": {
      "text/plain": [
       "Text(0.5, 1.0, 'humidity vs count')"
      ]
     },
     "execution_count": 42,
     "metadata": {},
     "output_type": "execute_result"
    },
    {
     "data": {
      "image/png": "[encoded data removed]",
      "text/plain": [
       "<Figure size 5760x1440 with 2 Axes>"
      ]
     },
     "metadata": {
      "needs_background": "light"
     },
     "output_type": "display_data"
    }
   ],
   "source": [
    "f, ax = plt.subplots(1,2,figsize=(80,20))\n",
    "\n",
    "sns.pointplot('temp','count',data=df,ax=ax[0])\n",
    "ax[0].set_title('temp vs count')\n",
    "\n",
    "sns.pointplot('humidity','count',data=df,ax=ax[1])\n",
    "ax[0].set_title('humidity vs count')"
   ]
  },
  {
   "cell_type": "markdown",
   "id": "5e7584ce",
   "metadata": {},
   "source": [
    "* 온도가 높아질수록 자전거 대여가 많고, 오히려 습도가 높을수록 대여율이 낮아짐을 확인됨\n",
    "\n",
    "* 온도가 높아질수록 자전거 대여율이 높아지는 이유로는 그냥 걷는것보다 자전거를 타면서 불어오는 바람으로 더위 등을 식힐 수 있고 목적지까지 빠르게 도착할 수 있는 등의 이유로 대여율이 높아지지 않을까 하는 예측을 해봄 \n",
    "\n",
    "* 반면, 습도가 높을수록 대열율이 낮아지는 이유로는 불쾌지수와 상관이 있지 않을까하고 예상하는 바 있음 습도가 높으면 호흡시 무겁다는 느낌을 받고 불쾌지수가 올라가므로써 운동 등 움직임에 대한 모든 것이 저하되는 현상이 있어 대여율이 낮아지지 않을까 하는 예측을 해봄"
   ]
  },
  {
   "cell_type": "markdown",
   "id": "022f0614",
   "metadata": {},
   "source": [
    "## 회고"
   ]
  },
  {
   "cell_type": "markdown",
   "id": "a657edaa",
   "metadata": {},
   "source": [
    "* 각 feature 간의 상관관계 등을 더 관찰력있게 분석해보는것도 좋을 것 같은 데이터 프레임고 캐글 상에서도 다뤄지는 것을 보고 화자가 생각하는 것에 따라 예측하는 방법과 도출되는 결과 등이 다를 수 있음을 확인함 \n",
    "\n",
    "* 시간 관계상 이 데이터 프레임으로 손수 만든 모델 학습이 아닌 사이킷런을 활용하게 되었지만 이 데이터도 손수 만든 학습모델을 통해 프로젝트 1번과 같이 차이에 대한 결과를 도출해볼 예정 (프로젝트 1번 업데이트 시 함께 업데이트 해 나갈 예정) "
   ]
  }
 ],
 "metadata": {
  "kernelspec": {
   "display_name": "Python 3 (ipykernel)",
   "language": "python",
   "name": "python3"
  },
  "language_info": {
   "codemirror_mode": {
    "name": "ipython",
    "version": 3
   },
   "file_extension": ".py",
   "mimetype": "text/x-python",
   "name": "python",
   "nbconvert_exporter": "python",
   "pygments_lexer": "ipython3",
   "version": "3.9.7"
  }
 },
 "nbformat": 4,
 "nbformat_minor": 5
}
