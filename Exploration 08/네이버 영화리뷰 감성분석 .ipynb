{
 "cells": [
  {
   "cell_type": "markdown",
   "id": "3ed969d2",
   "metadata": {},
   "source": [
    "# 네이버 영화리뷰 감성분석 "
   ]
  },
  {
   "attachments": {
    "image.png": {
     "image/png": "[encoded data removed]"
    }
   },
   "cell_type": "markdown",
   "id": "001d032a",
   "metadata": {},
   "source": [
    "* 활용할 데이터셋은 네이버 영화의 댓글을 모아 구성된 Naver sentiment movie corpus\n",
    "\n",
    "![image.png](attachment:image.png)"
   ]
  },
  {
   "cell_type": "code",
   "execution_count": 1,
   "id": "66aa0146",
   "metadata": {},
   "outputs": [],
   "source": [
    "import pandas # version : 1.3.3\n",
    "import konlpy # version : 0.5.2\n",
    "import gensim # version : 4.1.2\n",
    "\n",
    "import os\n",
    "import numpy as np\n",
    "import pandas as pd\n",
    "import tensorflow as tf\n",
    "\n",
    "from konlpy.tag import Mecab\n",
    "from collections import Counter"
   ]
  },
  {
   "cell_type": "markdown",
   "id": "cb3f965f",
   "metadata": {},
   "source": [
    "## step 1. Data 준비 및 확인"
   ]
  },
  {
   "cell_type": "code",
   "execution_count": 2,
   "id": "db81d7d4",
   "metadata": {},
   "outputs": [
    {
     "data": {
      "text/html": [
       "<div>\n",
       "<style scoped>\n",
       "    .dataframe tbody tr th:only-of-type {\n",
       "        vertical-align: middle;\n",
       "    }\n",
       "\n",
       "    .dataframe tbody tr th {\n",
       "        vertical-align: top;\n",
       "    }\n",
       "\n",
       "    .dataframe thead th {\n",
       "        text-align: right;\n",
       "    }\n",
       "</style>\n",
       "<table border=\"1\" class=\"dataframe\">\n",
       "  <thead>\n",
       "    <tr style=\"text-align: right;\">\n",
       "      <th></th>\n",
       "      <th>id</th>\n",
       "      <th>document</th>\n",
       "      <th>label</th>\n",
       "    </tr>\n",
       "  </thead>\n",
       "  <tbody>\n",
       "    <tr>\n",
       "      <th>0</th>\n",
       "      <td>9976970</td>\n",
       "      <td>아 더빙.. 진짜 짜증나네요 목소리</td>\n",
       "      <td>0</td>\n",
       "    </tr>\n",
       "    <tr>\n",
       "      <th>1</th>\n",
       "      <td>3819312</td>\n",
       "      <td>흠...포스터보고 초딩영화줄....오버연기조차 가볍지 않구나</td>\n",
       "      <td>1</td>\n",
       "    </tr>\n",
       "    <tr>\n",
       "      <th>2</th>\n",
       "      <td>10265843</td>\n",
       "      <td>너무재밓었다그래서보는것을추천한다</td>\n",
       "      <td>0</td>\n",
       "    </tr>\n",
       "    <tr>\n",
       "      <th>3</th>\n",
       "      <td>9045019</td>\n",
       "      <td>교도소 이야기구먼 ..솔직히 재미는 없다..평점 조정</td>\n",
       "      <td>0</td>\n",
       "    </tr>\n",
       "    <tr>\n",
       "      <th>4</th>\n",
       "      <td>6483659</td>\n",
       "      <td>사이몬페그의 익살스런 연기가 돋보였던 영화!스파이더맨에서 늙어보이기만 했던 커스틴 ...</td>\n",
       "      <td>1</td>\n",
       "    </tr>\n",
       "  </tbody>\n",
       "</table>\n",
       "</div>"
      ],
      "text/plain": [
       "         id                                           document  label\n",
       "0   9976970                                아 더빙.. 진짜 짜증나네요 목소리      0\n",
       "1   3819312                  흠...포스터보고 초딩영화줄....오버연기조차 가볍지 않구나      1\n",
       "2  10265843                                  너무재밓었다그래서보는것을추천한다      0\n",
       "3   9045019                      교도소 이야기구먼 ..솔직히 재미는 없다..평점 조정      0\n",
       "4   6483659  사이몬페그의 익살스런 연기가 돋보였던 영화!스파이더맨에서 늙어보이기만 했던 커스틴 ...      1"
      ]
     },
     "execution_count": 2,
     "metadata": {},
     "output_type": "execute_result"
    }
   ],
   "source": [
    "# 데이터를 읽기\n",
    "train_data = pd.read_table('~/aiffel/sentiment_classification/data/ratings_train.txt')\n",
    "test_data = pd.read_table('~/aiffel/sentiment_classification/data/ratings_test.txt')\n",
    "\n",
    "train_data.head()"
   ]
  },
  {
   "cell_type": "markdown",
   "id": "c25162f3",
   "metadata": {},
   "source": [
    "## step2. 데이터로더 구성"
   ]
  },
  {
   "cell_type": "markdown",
   "id": "b338044f",
   "metadata": {},
   "source": [
    "* nsmc data set은 전혀 가공되지 않은 텍스트 파일로 이루어져있음\n",
    "\n",
    "* 해주어야 하는 작업 list\n",
    "\n",
    "> 데이터의 중복 제거\n",
    "        \n",
    "> NaN 결측치 제거\n",
    "\n",
    "> 한국어 토크나이저로 토큰화\n",
    "\n",
    "> 불용어(Stopwords)제거\n",
    "\n",
    "> 사전 word_to_index 구성\n",
    "\n",
    "> 텍스트 스트링을 사전 인덱스 스트링으로 변환\n",
    "\n",
    "> x_train, y_train, x_test, y_test, word_to_index 리턴"
   ]
  },
  {
   "cell_type": "code",
   "execution_count": 3,
   "id": "01d2fcb0",
   "metadata": {},
   "outputs": [],
   "source": [
    "tokenizer = Mecab()\n",
    "stopwords = ['의','가','이','은','들','는','좀','잘','걍','과','도','를','으로','자','에','와','한','하다']\n",
    "\n",
    "def load_data(train_data, test_data, num_words=10000):\n",
    "    train_data.drop_duplicates(subset=['document'], inplace=True)\n",
    "    train_data = train_data.dropna(how = 'any') \n",
    "    test_data.drop_duplicates(subset=['document'], inplace=True)\n",
    "    test_data = test_data.dropna(how = 'any') \n",
    "    \n",
    "    X_train = []\n",
    "    for sentence in train_data['document']:\n",
    "        temp_X = tokenizer.morphs(sentence) # 토큰화\n",
    "        temp_X = [word for word in temp_X if not word in stopwords] # 불용어 제거\n",
    "        X_train.append(temp_X)\n",
    "\n",
    "    X_test = []\n",
    "    for sentence in test_data['document']:\n",
    "        temp_X = tokenizer.morphs(sentence) # 토큰화\n",
    "        temp_X = [word for word in temp_X if not word in stopwords] # 불용어 제거\n",
    "        X_test.append(temp_X)\n",
    "    \n",
    "    words = np.concatenate(X_train).tolist()\n",
    "    counter = Counter(words)\n",
    "    counter = counter.most_common(10000-4)\n",
    "    vocab = ['<PAD>', '<BOS>', '<UNK>', '<UNUSED>'] + [key for key, _ in counter]  #인덱스 정의\n",
    "    word_to_index = {word:index for index, word in enumerate(vocab)}\n",
    "        \n",
    "    def wordlist_to_indexlist(wordlist):\n",
    "        return [word_to_index[word] if word in word_to_index else word_to_index['<UNK>'] for word in wordlist]  #unknown으로 반환\n",
    "        \n",
    "    X_train = list(map(wordlist_to_indexlist, X_train))\n",
    "    X_test = list(map(wordlist_to_indexlist, X_test))\n",
    "        \n",
    "    return X_train, np.array(list(train_data['label'])), X_test, np.array(list(test_data['label'])), word_to_index\n",
    "    \n",
    "X_train, y_train, X_test, y_test, word_to_index = load_data(train_data, test_data)"
   ]
  },
  {
   "cell_type": "code",
   "execution_count": 4,
   "id": "71c31705",
   "metadata": {},
   "outputs": [],
   "source": [
    "index_to_word = {index:word for word, index in word_to_index.items()}"
   ]
  },
  {
   "cell_type": "code",
   "execution_count": 5,
   "id": "4a3c2b01",
   "metadata": {},
   "outputs": [],
   "source": [
    "# 문장 1개를 활용할 딕셔너리와 함께 주면, 단어 인덱스 리스트 벡터로 변환해 주는 함수입니다. \n",
    "# 단, 모든 문장은 <BOS>로 시작하는 것으로 합니다. \n",
    "def get_encoded_sentence(sentence, word_to_index):\n",
    "    return [word_to_index['<BOS>']]+[word_to_index[word] if word in word_to_index else word_to_index['<UNK>'] for word in sentence.split()]\n",
    "\n",
    "# 여러 개의 문장 리스트를 한꺼번에 단어 인덱스 리스트 벡터로 encode해 주는 함수입니다. \n",
    "def get_encoded_sentences(sentences, word_to_index):\n",
    "    return [get_encoded_sentence(sentence, word_to_index) for sentence in sentences]\n",
    "\n",
    "# 숫자 벡터로 encode된 문장을 원래대로 decode하는 함수입니다. \n",
    "def get_decoded_sentence(encoded_sentence, index_to_word):\n",
    "    return ' '.join(index_to_word[index] if index in index_to_word else '<UNK>' for index in encoded_sentence[1:])  #[1:]를 통해 <BOS>를 제외\n",
    "\n",
    "# 여러 개의 숫자 벡터로 encode된 문장을 한꺼번에 원래대로 decode하는 함수입니다. \n",
    "def get_decoded_sentences(encoded_sentences, index_to_word):\n",
    "    return [get_decoded_sentence(encoded_sentence, index_to_word) for encoded_sentence in encoded_sentences]"
   ]
  },
  {
   "cell_type": "markdown",
   "id": "97224eae",
   "metadata": {},
   "source": [
    "## step3. 모델 구성을 위한 데이터 분석 및 가공"
   ]
  },
  {
   "cell_type": "markdown",
   "id": "0065343b",
   "metadata": {},
   "source": [
    "* 데이터셋 내 문장 길이 분포 \n",
    "\n",
    "* 적절한 최대 문장 길이 지정\n",
    "\n",
    "* Keras.preprocessing.sequence.pad_sequences을 활용한 패딩 추가"
   ]
  },
  {
   "cell_type": "code",
   "execution_count": 6,
   "id": "332bc5ea",
   "metadata": {},
   "outputs": [
    {
     "name": "stdout",
     "output_type": "stream",
     "text": [
      "문장길이 평균 :  15.96940191154864\n",
      "문장길이 최대 :  116\n",
      "문장길이 표준편차 :  12.843571191092\n",
      "pad_sequences maxlen :  41\n",
      "전체 문장의 0.9342988343341575%가 maxlen 설정값 이내에 포함됩니다. \n"
     ]
    }
   ],
   "source": [
    "total_data_text = list(X_train) + list(X_test)\n",
    "\n",
    "# 텍스트데이터 문장길이의 리스트를 생성한 후\n",
    "num_tokens = [len(tokens) for tokens in total_data_text]\n",
    "num_tokens = np.array(num_tokens)\n",
    "\n",
    "# 문장길이의 평균값, 최대값, 표준편차를 계산해 본다. \n",
    "print('문장길이 평균 : ', np.mean(num_tokens))\n",
    "print('문장길이 최대 : ', np.max(num_tokens))\n",
    "print('문장길이 표준편차 : ', np.std(num_tokens))\n",
    "\n",
    "\n",
    "# 예를들어, 최대 길이를 (평균 + 2*표준편차)로 한다면,  \n",
    "max_tokens = np.mean(num_tokens) + 2 * np.std(num_tokens)\n",
    "maxlen = int(max_tokens) # 최대 길이\n",
    "print('pad_sequences maxlen : ', maxlen)\n",
    "print('전체 문장의 {}%가 maxlen 설정값 이내에 포함됩니다. '.format(np.sum(num_tokens < max_tokens) / len(num_tokens)))"
   ]
  },
  {
   "cell_type": "code",
   "execution_count": 7,
   "id": "cd7674f4",
   "metadata": {},
   "outputs": [
    {
     "name": "stdout",
     "output_type": "stream",
     "text": [
      "(146182, 41)\n"
     ]
    }
   ],
   "source": [
    "X_train = tf.keras.preprocessing.sequence.pad_sequences(X_train,\n",
    "                                                        value=word_to_index[\"<PAD>\"],\n",
    "                                                        padding='pre', # 혹은 'post'\n",
    "                                                        maxlen=maxlen)\n",
    "\n",
    "X_test = tf.keras.preprocessing.sequence.pad_sequences(X_test,\n",
    "                                                       value=word_to_index[\"<PAD>\"],\n",
    "                                                       padding='pre', # 혹은 'post'\n",
    "                                                       maxlen=maxlen)\n",
    "\n",
    "print(X_train.shape)"
   ]
  },
  {
   "cell_type": "markdown",
   "id": "2ab97345",
   "metadata": {},
   "source": [
    "## step4. 모델 구성 및 Validation set 구성"
   ]
  },
  {
   "cell_type": "markdown",
   "id": "f30b2976",
   "metadata": {},
   "source": [
    "### 1. RNN 모델"
   ]
  },
  {
   "cell_type": "code",
   "execution_count": 8,
   "id": "45744c6b",
   "metadata": {},
   "outputs": [
    {
     "name": "stdout",
     "output_type": "stream",
     "text": [
      "Model: \"sequential\"\n",
      "_________________________________________________________________\n",
      "Layer (type)                 Output Shape              Param #   \n",
      "=================================================================\n",
      "embedding (Embedding)        (None, None, 128)         1280000   \n",
      "_________________________________________________________________\n",
      "lstm (LSTM)                  (None, 8)                 4384      \n",
      "_________________________________________________________________\n",
      "dense (Dense)                (None, 8)                 72        \n",
      "_________________________________________________________________\n",
      "dense_1 (Dense)              (None, 1)                 9         \n",
      "=================================================================\n",
      "Total params: 1,284,465\n",
      "Trainable params: 1,284,465\n",
      "Non-trainable params: 0\n",
      "_________________________________________________________________\n"
     ]
    }
   ],
   "source": [
    "# 첫번째 모델\n",
    "vocab_size_1 = 10000    # 어휘 사전의 크기입니다(10,000개의 단어)\n",
    "word_vector_dim_1 = 128  # 워드 벡터의 차원 수 (변경 가능한 하이퍼파라미터)\n",
    "\n",
    "# model 설계 \n",
    "model_1 = tf.keras.Sequential()\n",
    "model_1.add(tf.keras.layers.Embedding(vocab_size_1, word_vector_dim_1, input_shape=(None,)))\n",
    "model_1.add(tf.keras.layers.LSTM(8))   # 가장 널리 쓰이는 RNN인 LSTM 레이어를 사용하였습니다. 이때 LSTM state 벡터의 차원수는 8로 하였습니다. (변경 가능)\n",
    "model_1.add(tf.keras.layers.Dense(8, activation='relu'))\n",
    "model_1.add(tf.keras.layers.Dense(1, activation='sigmoid'))  # 최종 출력은 긍정/부정을 나타내는 1dim 입니다.\n",
    "\n",
    "model_1.summary()\n"
   ]
  },
  {
   "cell_type": "markdown",
   "id": "0ed14a23",
   "metadata": {},
   "source": [
    "## step 5. 모델 훈련 개시"
   ]
  },
  {
   "cell_type": "code",
   "execution_count": 9,
   "id": "1b980cda",
   "metadata": {},
   "outputs": [
    {
     "name": "stdout",
     "output_type": "stream",
     "text": [
      "(126182, 41)\n",
      "(126182,)\n"
     ]
    }
   ],
   "source": [
    "# validation set 20000건 분리\n",
    "x_val = X_train[:20000]   \n",
    "y_val = y_train[:20000]\n",
    "\n",
    "# validation set을 제외한 나머지\n",
    "partial_x_train = X_train[20000:]  \n",
    "partial_y_train = y_train[20000:]\n",
    "\n",
    "print(partial_x_train.shape)\n",
    "print(partial_y_train.shape)"
   ]
  },
  {
   "cell_type": "code",
   "execution_count": 10,
   "id": "249764c6",
   "metadata": {},
   "outputs": [
    {
     "name": "stdout",
     "output_type": "stream",
     "text": [
      "Epoch 1/10\n",
      "247/247 [==============================] - 5s 8ms/step - loss: 0.5400 - accuracy: 0.7849 - val_loss: 0.4793 - val_accuracy: 0.8399\n",
      "Epoch 2/10\n",
      "247/247 [==============================] - 1s 6ms/step - loss: 0.4492 - accuracy: 0.8544 - val_loss: 0.4482 - val_accuracy: 0.8448\n",
      "Epoch 3/10\n",
      "247/247 [==============================] - 2s 6ms/step - loss: 0.4045 - accuracy: 0.8685 - val_loss: 0.4253 - val_accuracy: 0.8479\n",
      "Epoch 4/10\n",
      "247/247 [==============================] - 2s 6ms/step - loss: 0.3678 - accuracy: 0.8796 - val_loss: 0.4108 - val_accuracy: 0.8480\n",
      "Epoch 5/10\n",
      "247/247 [==============================] - 1s 6ms/step - loss: 0.3347 - accuracy: 0.8913 - val_loss: 0.4008 - val_accuracy: 0.8496\n",
      "Epoch 6/10\n",
      "247/247 [==============================] - 1s 6ms/step - loss: 0.3053 - accuracy: 0.9000 - val_loss: 0.3967 - val_accuracy: 0.8480\n",
      "Epoch 7/10\n",
      "247/247 [==============================] - 1s 6ms/step - loss: 0.2781 - accuracy: 0.9099 - val_loss: 0.4101 - val_accuracy: 0.8487\n",
      "Epoch 8/10\n",
      "247/247 [==============================] - 1s 6ms/step - loss: 0.2445 - accuracy: 0.9187 - val_loss: 0.3939 - val_accuracy: 0.8468\n",
      "Epoch 9/10\n",
      "247/247 [==============================] - 1s 6ms/step - loss: 0.2106 - accuracy: 0.9258 - val_loss: 0.4133 - val_accuracy: 0.8502\n",
      "Epoch 10/10\n",
      "247/247 [==============================] - 1s 6ms/step - loss: 0.1916 - accuracy: 0.9332 - val_loss: 0.4161 - val_accuracy: 0.8505\n"
     ]
    }
   ],
   "source": [
    "# model 학습\n",
    "\n",
    "model_1.compile(optimizer='adam',\n",
    "              loss='binary_crossentropy',\n",
    "              metrics=['accuracy'])\n",
    "              \n",
    "epochs=10  # 몇 epoch를 훈련하면 좋을지 결과를 보면서 바꾸어 봅시다. \n",
    "\n",
    "history = model_1.fit(partial_x_train,\n",
    "                    partial_y_train,\n",
    "                    epochs=epochs,\n",
    "                    batch_size=512,\n",
    "                    validation_data=(x_val, y_val),\n",
    "                    verbose=1)"
   ]
  },
  {
   "cell_type": "code",
   "execution_count": 11,
   "id": "2e28017d",
   "metadata": {},
   "outputs": [
    {
     "name": "stdout",
     "output_type": "stream",
     "text": [
      "1537/1537 - 3s - loss: 0.4188 - accuracy: 0.8461\n",
      "[0.41881293058395386, 0.8461256623268127]\n"
     ]
    }
   ],
   "source": [
    "# 평가\n",
    "results = model_1.evaluate(X_test,  y_test, verbose=2)\n",
    "\n",
    "print(results)"
   ]
  },
  {
   "cell_type": "markdown",
   "id": "faf29624",
   "metadata": {},
   "source": [
    "## step 6. Loss, Accuracy 그래프 시각화"
   ]
  },
  {
   "cell_type": "code",
   "execution_count": 12,
   "id": "255ec518",
   "metadata": {},
   "outputs": [
    {
     "name": "stdout",
     "output_type": "stream",
     "text": [
      "dict_keys(['loss', 'accuracy', 'val_loss', 'val_accuracy'])\n"
     ]
    }
   ],
   "source": [
    "history_dict = history.history\n",
    "print(history_dict.keys()) # epoch에 따른 그래프를 그려볼 수 있는 항목들"
   ]
  },
  {
   "cell_type": "code",
   "execution_count": 13,
   "id": "4823e626",
   "metadata": {},
   "outputs": [
    {
     "data": {
      "image/png": "[encoded data removed]",
      "text/plain": [
       "<Figure size 432x288 with 1 Axes>"
      ]
     },
     "metadata": {
      "needs_background": "light"
     },
     "output_type": "display_data"
    }
   ],
   "source": [
    "import matplotlib.pyplot as plt\n",
    "\n",
    "acc = history_dict['accuracy']\n",
    "val_acc = history_dict['val_accuracy']\n",
    "loss = history_dict['loss']\n",
    "val_loss = history_dict['val_loss']\n",
    "\n",
    "epochs = range(1, len(acc) + 1)\n",
    "\n",
    "# \"bo\"는 \"파란색 점\"입니다\n",
    "plt.plot(epochs, loss, 'bo', label='Training loss')\n",
    "# b는 \"파란 실선\"입니다\n",
    "plt.plot(epochs, val_loss, 'b', label='Validation loss')\n",
    "plt.title('Training and validation loss')\n",
    "plt.xlabel('Epochs')\n",
    "plt.ylabel('Loss')\n",
    "plt.legend()\n",
    "\n",
    "plt.show()"
   ]
  },
  {
   "cell_type": "code",
   "execution_count": 14,
   "id": "9c559048",
   "metadata": {},
   "outputs": [
    {
     "data": {
      "image/png": "[encoded data removed]",
      "text/plain": [
       "<Figure size 432x288 with 1 Axes>"
      ]
     },
     "metadata": {
      "needs_background": "light"
     },
     "output_type": "display_data"
    }
   ],
   "source": [
    "plt.clf()   # 그림을 초기화합니다\n",
    "\n",
    "plt.plot(epochs, acc, 'bo', label='Training acc')\n",
    "plt.plot(epochs, val_acc, 'b', label='Validation acc')\n",
    "plt.title('Training and validation accuracy')\n",
    "plt.xlabel('Epochs')\n",
    "plt.ylabel('Accuracy')\n",
    "plt.legend()\n",
    "\n",
    "plt.show()"
   ]
  },
  {
   "cell_type": "markdown",
   "id": "b6cdcc17",
   "metadata": {},
   "source": [
    "## step7. 학습된 Embedding 레이어 분석"
   ]
  },
  {
   "cell_type": "code",
   "execution_count": 15,
   "id": "9e788d25",
   "metadata": {
    "scrolled": true
   },
   "outputs": [
    {
     "name": "stdout",
     "output_type": "stream",
     "text": [
      "(10000, 128)\n"
     ]
    }
   ],
   "source": [
    "embedding_layer = model_1.layers[0]\n",
    "weights = embedding_layer.get_weights()[0]\n",
    "print(weights.shape)    # shape: (vocab_size, embedding_dim)"
   ]
  },
  {
   "cell_type": "code",
   "execution_count": 16,
   "id": "3efc4c4a",
   "metadata": {},
   "outputs": [],
   "source": [
    "# 학습한 Embedding 파라미터를 파일에 써서 저장합니다. \n",
    "word2vec_file_path = os.getenv('HOME')+'/aiffel/sentiment_classification/data/word2vec1.txt'\n",
    "f = open(word2vec_file_path, 'w')\n",
    "f.write('{} {}\\n'.format((vocab_size_1)-4, word_vector_dim_1))  # 몇개의 벡터를 얼마 사이즈로 기재할지 타이틀을 씁니다.\n",
    "\n",
    "# 단어 개수(에서 특수문자 4개는 제외하고)만큼의 워드 벡터를 파일에 기록합니다. \n",
    "vectors = model_1.get_weights()[0]\n",
    "for i in range(4,vocab_size_1):\n",
    "    f.write('{} {}\\n'.format(index_to_word[i], ' '.join(map(str, list(vectors[i, :])))))\n",
    "f.close()"
   ]
  },
  {
   "cell_type": "code",
   "execution_count": 17,
   "id": "5d7d51cf",
   "metadata": {},
   "outputs": [
    {
     "data": {
      "text/plain": [
       "array([ 0.13464925, -0.08263987,  0.12299486, -0.08443745, -0.1321882 ,\n",
       "        0.09806067,  0.11521005,  0.12669109,  0.08359101, -0.11464093,\n",
       "        0.17687738, -0.1499872 ,  0.107636  ,  0.04818249,  0.17055266,\n",
       "       -0.08048251, -0.06700324, -0.2039573 , -0.11640814, -0.02741405,\n",
       "       -0.18588015, -0.12615313, -0.0759533 ,  0.12194749,  0.08726628,\n",
       "        0.1077558 ,  0.10231893,  0.06730032, -0.07939333, -0.17127262,\n",
       "        0.08770828, -0.15185009,  0.10720737, -0.14385986,  0.07554452,\n",
       "       -0.13723025,  0.1362675 ,  0.04633951,  0.05448278, -0.04267988,\n",
       "       -0.03388198, -0.11992139, -0.11042836,  0.07551411,  0.11724236,\n",
       "       -0.17287333,  0.06879528,  0.13315679, -0.08158664,  0.04176023,\n",
       "        0.0952602 , -0.11307721, -0.05199169,  0.1008799 , -0.0369884 ,\n",
       "        0.13161883,  0.14639644,  0.02197787,  0.03980405,  0.12821165,\n",
       "        0.19327189,  0.02727452,  0.30070826,  0.11283349, -0.13593416,\n",
       "        0.10306345,  0.07545228, -0.08399368, -0.0321327 , -0.03990377,\n",
       "       -0.13414769, -0.11433724,  0.07643554, -0.1462332 , -0.08916657,\n",
       "       -0.07212827,  0.07601435,  0.15827622, -0.0908227 , -0.18029962,\n",
       "       -0.11175091, -0.09392378,  0.08421338,  0.1734997 , -0.07366604,\n",
       "        0.09452377, -0.00601634,  0.1335868 ,  0.0646648 , -0.11166947,\n",
       "        0.0324189 ,  0.15264443, -0.08200584,  0.17939219, -0.1197679 ,\n",
       "        0.14278792,  0.133084  ,  0.07741124,  0.10190962, -0.06914509,\n",
       "       -0.05474906,  0.08784871,  0.08644338,  0.09313064, -0.13372923,\n",
       "        0.04401002,  0.01693066,  0.02893545,  0.0465588 , -0.11440029,\n",
       "       -0.05988247,  0.11048481,  0.04832235, -0.07043752,  0.20962092,\n",
       "        0.16299832, -0.08284283,  0.06967743,  0.03092903,  0.1214973 ,\n",
       "        0.14179017,  0.10632088,  0.15502584, -0.23369692,  0.11577635,\n",
       "        0.16086708,  0.14433017,  0.11839791], dtype=float32)"
      ]
     },
     "execution_count": 17,
     "metadata": {},
     "output_type": "execute_result"
    }
   ],
   "source": [
    "from gensim.models.keyedvectors import Word2VecKeyedVectors\n",
    "\n",
    "word_vectors = Word2VecKeyedVectors.load_word2vec_format(word2vec_file_path, binary=False)\n",
    "vector = word_vectors['행복']\n",
    "vector"
   ]
  },
  {
   "cell_type": "code",
   "execution_count": 18,
   "id": "102bb135",
   "metadata": {
    "scrolled": true
   },
   "outputs": [
    {
     "data": {
      "text/plain": [
       "[('울컥', 0.9222862124443054),\n",
       " ('찡', 0.9206979870796204),\n",
       " ('탄탄', 0.9173253774642944),\n",
       " ('매트릭스', 0.9150145053863525),\n",
       " ('슬픈', 0.9138741493225098),\n",
       " ('아름다워요', 0.9137406349182129),\n",
       " ('웰메이드', 0.9134831428527832),\n",
       " ('황홀', 0.9129595160484314),\n",
       " ('였음을', 0.9103987812995911),\n",
       " ('에로티시즘', 0.9076643586158752)]"
      ]
     },
     "execution_count": 18,
     "metadata": {},
     "output_type": "execute_result"
    }
   ],
   "source": [
    "word_vectors.similar_by_word(\"행복\")"
   ]
  },
  {
   "cell_type": "markdown",
   "id": "8df4f1c9",
   "metadata": {},
   "source": [
    "### 2. 1-D Convolution Neural Network (1-D CNN) 모델"
   ]
  },
  {
   "cell_type": "code",
   "execution_count": 19,
   "id": "a065083d",
   "metadata": {
    "scrolled": true
   },
   "outputs": [
    {
     "name": "stdout",
     "output_type": "stream",
     "text": [
      "Model: \"sequential_1\"\n",
      "_________________________________________________________________\n",
      "Layer (type)                 Output Shape              Param #   \n",
      "=================================================================\n",
      "embedding_1 (Embedding)      (None, None, 16)          160000    \n",
      "_________________________________________________________________\n",
      "conv1d (Conv1D)              (None, None, 16)          1808      \n",
      "_________________________________________________________________\n",
      "max_pooling1d (MaxPooling1D) (None, None, 16)          0         \n",
      "_________________________________________________________________\n",
      "conv1d_1 (Conv1D)            (None, None, 16)          1808      \n",
      "_________________________________________________________________\n",
      "global_max_pooling1d (Global (None, 16)                0         \n",
      "_________________________________________________________________\n",
      "dense_2 (Dense)              (None, 8)                 136       \n",
      "_________________________________________________________________\n",
      "dense_3 (Dense)              (None, 1)                 9         \n",
      "=================================================================\n",
      "Total params: 163,761\n",
      "Trainable params: 163,761\n",
      "Non-trainable params: 0\n",
      "_________________________________________________________________\n"
     ]
    }
   ],
   "source": [
    "# 두번째 모델 \n",
    "vocab_size_2 = 10000    # 어휘 사전의 크기입니다(10,000개의 단어)\n",
    "word_vector_dim_2 = 16  # 워드 벡터의 차원 수 (변경 가능한 하이퍼파라미터)\n",
    "\n",
    "# model 설계\n",
    "model_2 =tf.keras.Sequential()\n",
    "model_2.add(tf.keras.layers.Embedding(vocab_size_2, word_vector_dim_2, input_shape=(None,)))\n",
    "model_2.add(tf.keras.layers.Conv1D(16, 7, activation='relu'))\n",
    "model_2.add(tf.keras.layers.MaxPooling1D(5))\n",
    "model_2.add(tf.keras.layers.Conv1D(16, 7, activation='relu'))\n",
    "model_2.add(tf.keras.layers.GlobalMaxPooling1D())\n",
    "model_2.add(tf.keras.layers.Dense(8, activation='relu'))\n",
    "model_2.add(tf.keras.layers.Dense(1, activation='sigmoid'))  # 최종 출력은 긍정/부정을 나타내는 1dim 입니다.\n",
    "\n",
    "model_2.summary()\n"
   ]
  },
  {
   "cell_type": "code",
   "execution_count": 20,
   "id": "ffbcb53e",
   "metadata": {},
   "outputs": [
    {
     "name": "stdout",
     "output_type": "stream",
     "text": [
      "(136182, 41)\n",
      "(136182,)\n"
     ]
    }
   ],
   "source": [
    "# validation set 10000건 분리\n",
    "x_val = X_train[:10000]   \n",
    "y_val = y_train[:10000]\n",
    "\n",
    "# validation set을 제외한 나머지 15000건\n",
    "partial_x_train = X_train[10000:]  \n",
    "partial_y_train = y_train[10000:]\n",
    "\n",
    "print(partial_x_train.shape)\n",
    "print(partial_y_train.shape)"
   ]
  },
  {
   "cell_type": "code",
   "execution_count": 21,
   "id": "5f9e01bb",
   "metadata": {
    "scrolled": true
   },
   "outputs": [
    {
     "name": "stdout",
     "output_type": "stream",
     "text": [
      "Epoch 1/10\n",
      "266/266 [==============================] - 3s 6ms/step - loss: 0.4764 - accuracy: 0.7614 - val_loss: 0.3497 - val_accuracy: 0.8472\n",
      "Epoch 2/10\n",
      "266/266 [==============================] - 1s 4ms/step - loss: 0.3260 - accuracy: 0.8608 - val_loss: 0.3337 - val_accuracy: 0.8546\n",
      "Epoch 3/10\n",
      "266/266 [==============================] - 1s 5ms/step - loss: 0.2936 - accuracy: 0.8763 - val_loss: 0.3325 - val_accuracy: 0.8553\n",
      "Epoch 4/10\n",
      "266/266 [==============================] - 1s 5ms/step - loss: 0.2647 - accuracy: 0.8913 - val_loss: 0.3332 - val_accuracy: 0.8555\n",
      "Epoch 5/10\n",
      "266/266 [==============================] - 1s 5ms/step - loss: 0.2343 - accuracy: 0.9067 - val_loss: 0.3480 - val_accuracy: 0.8534\n",
      "Epoch 6/10\n",
      "266/266 [==============================] - 1s 5ms/step - loss: 0.2010 - accuracy: 0.9228 - val_loss: 0.3736 - val_accuracy: 0.8514\n",
      "Epoch 7/10\n",
      "266/266 [==============================] - 1s 5ms/step - loss: 0.1698 - accuracy: 0.9372 - val_loss: 0.4228 - val_accuracy: 0.8452\n",
      "Epoch 8/10\n",
      "266/266 [==============================] - 1s 5ms/step - loss: 0.1418 - accuracy: 0.9504 - val_loss: 0.4493 - val_accuracy: 0.8426\n",
      "Epoch 9/10\n",
      "266/266 [==============================] - 1s 5ms/step - loss: 0.1190 - accuracy: 0.9602 - val_loss: 0.4915 - val_accuracy: 0.8407\n",
      "Epoch 10/10\n",
      "266/266 [==============================] - 1s 5ms/step - loss: 0.1002 - accuracy: 0.9674 - val_loss: 0.5394 - val_accuracy: 0.8342\n"
     ]
    }
   ],
   "source": [
    "# model 학습\n",
    "\n",
    "model_2.compile(optimizer='adam',\n",
    "              loss='binary_crossentropy',\n",
    "              metrics=['accuracy'])\n",
    "              \n",
    "epochs=10  # 몇 epoch를 훈련하면 좋을지 결과를 보면서 바꾸어 봅시다. \n",
    "\n",
    "history = model_2.fit(partial_x_train,\n",
    "                    partial_y_train,\n",
    "                    epochs=epochs,\n",
    "                    batch_size=512,\n",
    "                    validation_data=(x_val, y_val),\n",
    "                    verbose=1)"
   ]
  },
  {
   "cell_type": "code",
   "execution_count": 22,
   "id": "3164efa1",
   "metadata": {},
   "outputs": [
    {
     "name": "stdout",
     "output_type": "stream",
     "text": [
      "1537/1537 - 2s - loss: 0.5552 - accuracy: 0.8318\n",
      "[0.555179238319397, 0.8318449258804321]\n"
     ]
    }
   ],
   "source": [
    "# 평가\n",
    "results = model_2.evaluate(X_test,  y_test, verbose=2)\n",
    "\n",
    "print(results)"
   ]
  },
  {
   "cell_type": "markdown",
   "id": "0f93ea50",
   "metadata": {},
   "source": [
    "###  1-D CNN 모델 Loss, Accuracy 그래프 시각화"
   ]
  },
  {
   "cell_type": "code",
   "execution_count": 23,
   "id": "ae7c17b2",
   "metadata": {},
   "outputs": [
    {
     "name": "stdout",
     "output_type": "stream",
     "text": [
      "dict_keys(['loss', 'accuracy', 'val_loss', 'val_accuracy'])\n"
     ]
    }
   ],
   "source": [
    "history_dict = history.history\n",
    "print(history_dict.keys()) # epoch에 따른 그래프를 그려볼 수 있는 항목들"
   ]
  },
  {
   "cell_type": "code",
   "execution_count": 24,
   "id": "c8f510f5",
   "metadata": {
    "scrolled": true
   },
   "outputs": [
    {
     "data": {
      "image/png": "[encoded data removed]",
      "text/plain": [
       "<Figure size 432x288 with 1 Axes>"
      ]
     },
     "metadata": {
      "needs_background": "light"
     },
     "output_type": "display_data"
    }
   ],
   "source": [
    "import matplotlib.pyplot as plt\n",
    "\n",
    "acc = history_dict['accuracy']\n",
    "val_acc = history_dict['val_accuracy']\n",
    "loss = history_dict['loss']\n",
    "val_loss = history_dict['val_loss']\n",
    "\n",
    "epochs = range(1, len(acc) + 1)\n",
    "\n",
    "# \"bo\"는 \"파란색 점\"입니다\n",
    "plt.plot(epochs, loss, 'bo', label='Training loss')\n",
    "# b는 \"파란 실선\"입니다\n",
    "plt.plot(epochs, val_loss, 'b', label='Validation loss')\n",
    "plt.title('Training and validation loss')\n",
    "plt.xlabel('Epochs')\n",
    "plt.ylabel('Loss')\n",
    "plt.legend()\n",
    "\n",
    "plt.show()"
   ]
  },
  {
   "cell_type": "code",
   "execution_count": 25,
   "id": "fd911c0d",
   "metadata": {
    "scrolled": true
   },
   "outputs": [
    {
     "data": {
      "image/png": "[encoded data removed]",
      "text/plain": [
       "<Figure size 432x288 with 1 Axes>"
      ]
     },
     "metadata": {
      "needs_background": "light"
     },
     "output_type": "display_data"
    }
   ],
   "source": [
    "plt.clf()   # 그림을 초기화합니다\n",
    "\n",
    "plt.plot(epochs, acc, 'bo', label='Training acc')\n",
    "plt.plot(epochs, val_acc, 'b', label='Validation acc')\n",
    "plt.title('Training and validation accuracy')\n",
    "plt.xlabel('Epochs')\n",
    "plt.ylabel('Accuracy')\n",
    "plt.legend()\n",
    "\n",
    "plt.show()"
   ]
  },
  {
   "cell_type": "markdown",
   "id": "b2399747",
   "metadata": {},
   "source": [
    "### 1- D CNN 모델 학습된 Embedding 레이어 분석"
   ]
  },
  {
   "cell_type": "code",
   "execution_count": 26,
   "id": "a6c61bab",
   "metadata": {},
   "outputs": [
    {
     "name": "stdout",
     "output_type": "stream",
     "text": [
      "(10000, 16)\n"
     ]
    }
   ],
   "source": [
    "embedding_layer = model_2.layers[0]\n",
    "weights = embedding_layer.get_weights()[0]\n",
    "print(weights.shape)    # shape: (vocab_size, embedding_dim)"
   ]
  },
  {
   "cell_type": "code",
   "execution_count": 27,
   "id": "ed95cab4",
   "metadata": {},
   "outputs": [],
   "source": [
    "# 학습한 Embedding 파라미터를 파일에 써서 저장합니다. \n",
    "word2vec_file_path = os.getenv('HOME')+'/aiffel/sentiment_classification/data/word2vec2.txt'\n",
    "f = open(word2vec_file_path, 'w')\n",
    "f.write('{} {}\\n'.format((vocab_size_2)-4, word_vector_dim_2))  # 몇개의 벡터를 얼마 사이즈로 기재할지 타이틀을 씁니다.\n",
    "\n",
    "# 단어 개수(에서 특수문자 4개는 제외하고)만큼의 워드 벡터를 파일에 기록합니다. \n",
    "vectors = model_2.get_weights()[0]\n",
    "for i in range(4,vocab_size_2):\n",
    "    f.write('{} {}\\n'.format(index_to_word[i], ' '.join(map(str, list(vectors[i, :])))))\n",
    "f.close()"
   ]
  },
  {
   "cell_type": "code",
   "execution_count": 28,
   "id": "433241d0",
   "metadata": {},
   "outputs": [
    {
     "data": {
      "text/plain": [
       "array([ 0.02470697, -0.02735843, -0.06306361, -0.04760417,  0.08576236,\n",
       "       -0.0689291 ,  0.0098186 ,  0.07343125,  0.08195675, -0.07002531,\n",
       "        0.02076113, -0.09780389, -0.11268277,  0.03795661,  0.08852173,\n",
       "        0.0555155 ], dtype=float32)"
      ]
     },
     "execution_count": 28,
     "metadata": {},
     "output_type": "execute_result"
    }
   ],
   "source": [
    "from gensim.models.keyedvectors import Word2VecKeyedVectors\n",
    "\n",
    "word_vectors = Word2VecKeyedVectors.load_word2vec_format(word2vec_file_path, binary=False)\n",
    "vector = word_vectors['행복']\n",
    "vector"
   ]
  },
  {
   "cell_type": "code",
   "execution_count": 29,
   "id": "a307c123",
   "metadata": {},
   "outputs": [
    {
     "data": {
      "text/plain": [
       "[('and', 0.8658878207206726),\n",
       " ('니콜슨', 0.8480323553085327),\n",
       " ('생일', 0.8232195973396301),\n",
       " ('공권력', 0.8209062218666077),\n",
       " ('아날로그', 0.8096417188644409),\n",
       " ('맛깔', 0.7998546957969666),\n",
       " ('1997', 0.7948926091194153),\n",
       " ('바스코', 0.7942581176757812),\n",
       " ('지아', 0.7919552326202393),\n",
       " ('자무시', 0.7914971709251404)]"
      ]
     },
     "execution_count": 29,
     "metadata": {},
     "output_type": "execute_result"
    }
   ],
   "source": [
    "word_vectors.similar_by_word(\"행복\")"
   ]
  },
  {
   "cell_type": "markdown",
   "id": "e22c2c91",
   "metadata": {},
   "source": [
    "### 3.  GlobalMaxPooling1D모델"
   ]
  },
  {
   "cell_type": "code",
   "execution_count": 30,
   "id": "e0504011",
   "metadata": {
    "scrolled": true
   },
   "outputs": [
    {
     "name": "stdout",
     "output_type": "stream",
     "text": [
      "Model: \"sequential_2\"\n",
      "_________________________________________________________________\n",
      "Layer (type)                 Output Shape              Param #   \n",
      "=================================================================\n",
      "embedding_2 (Embedding)      (None, None, 16)          160000    \n",
      "_________________________________________________________________\n",
      "global_max_pooling1d_1 (Glob (None, 16)                0         \n",
      "_________________________________________________________________\n",
      "dense_4 (Dense)              (None, 8)                 136       \n",
      "_________________________________________________________________\n",
      "dense_5 (Dense)              (None, 1)                 9         \n",
      "=================================================================\n",
      "Total params: 160,145\n",
      "Trainable params: 160,145\n",
      "Non-trainable params: 0\n",
      "_________________________________________________________________\n"
     ]
    }
   ],
   "source": [
    "# 3번째 모델\n",
    "vocab_size_3 = 10000    # 어휘 사전의 크기입니다(10,000개의 단어)\n",
    "word_vector_dim_3 = 16  # 워드 벡터의 차원 수 (변경 가능한 하이퍼파라미터)\n",
    "\n",
    "# model 설계\n",
    "model_3= tf.keras.Sequential()\n",
    "model_3.add(tf.keras.layers.Embedding(vocab_size_3, word_vector_dim_3, input_shape=(None,)))\n",
    "model_3.add(tf.keras.layers.GlobalMaxPooling1D())\n",
    "model_3.add(tf.keras.layers.Dense(8, activation='relu'))\n",
    "model_3.add(tf.keras.layers.Dense(1, activation='sigmoid'))  # 최종 출력은 긍정/부정을 나타내는 1dim 입니다.\n",
    "\n",
    "model_3.summary()"
   ]
  },
  {
   "cell_type": "code",
   "execution_count": 31,
   "id": "f5f9d119",
   "metadata": {},
   "outputs": [
    {
     "name": "stdout",
     "output_type": "stream",
     "text": [
      "(136182, 41)\n",
      "(136182,)\n"
     ]
    }
   ],
   "source": [
    "# validation set 10000건 분리\n",
    "x_val = X_train[:10000]   \n",
    "y_val = y_train[:10000]\n",
    "\n",
    "# validation set을 제외한 나머지 15000건\n",
    "partial_x_train = X_train[10000:]  \n",
    "partial_y_train = y_train[10000:]\n",
    "\n",
    "print(partial_x_train.shape)\n",
    "print(partial_y_train.shape)"
   ]
  },
  {
   "cell_type": "code",
   "execution_count": 32,
   "id": "125901bb",
   "metadata": {},
   "outputs": [
    {
     "name": "stdout",
     "output_type": "stream",
     "text": [
      "Epoch 1/10\n",
      "266/266 [==============================] - 1s 4ms/step - loss: 0.5774 - accuracy: 0.7361 - val_loss: 0.4093 - val_accuracy: 0.8246\n",
      "Epoch 2/10\n",
      "266/266 [==============================] - 1s 3ms/step - loss: 0.3681 - accuracy: 0.8420 - val_loss: 0.3528 - val_accuracy: 0.8442\n",
      "Epoch 3/10\n",
      "266/266 [==============================] - 1s 3ms/step - loss: 0.3228 - accuracy: 0.8629 - val_loss: 0.3451 - val_accuracy: 0.8457\n",
      "Epoch 4/10\n",
      "266/266 [==============================] - 1s 3ms/step - loss: 0.2979 - accuracy: 0.8755 - val_loss: 0.3463 - val_accuracy: 0.8491\n",
      "Epoch 5/10\n",
      "266/266 [==============================] - 1s 3ms/step - loss: 0.2795 - accuracy: 0.8840 - val_loss: 0.3494 - val_accuracy: 0.8499\n",
      "Epoch 6/10\n",
      "266/266 [==============================] - 1s 3ms/step - loss: 0.2642 - accuracy: 0.8920 - val_loss: 0.3569 - val_accuracy: 0.8481\n",
      "Epoch 7/10\n",
      "266/266 [==============================] - 1s 3ms/step - loss: 0.2513 - accuracy: 0.8980 - val_loss: 0.3632 - val_accuracy: 0.8476\n",
      "Epoch 8/10\n",
      "266/266 [==============================] - 1s 3ms/step - loss: 0.2400 - accuracy: 0.9043 - val_loss: 0.3714 - val_accuracy: 0.8447\n",
      "Epoch 9/10\n",
      "266/266 [==============================] - 1s 3ms/step - loss: 0.2300 - accuracy: 0.9086 - val_loss: 0.3806 - val_accuracy: 0.8461\n",
      "Epoch 10/10\n",
      "266/266 [==============================] - 1s 3ms/step - loss: 0.2209 - accuracy: 0.9130 - val_loss: 0.3901 - val_accuracy: 0.8434\n"
     ]
    }
   ],
   "source": [
    "# model 학습\n",
    "\n",
    "model_3.compile(optimizer='adam',\n",
    "              loss='binary_crossentropy',\n",
    "              metrics=['accuracy'])\n",
    "              \n",
    "epochs=10  # 몇 epoch를 훈련하면 좋을지 결과를 보면서 바꾸어 봅시다. \n",
    "\n",
    "history = model_3.fit(partial_x_train,\n",
    "                    partial_y_train,\n",
    "                    epochs=epochs,\n",
    "                    batch_size=512,\n",
    "                    validation_data=(x_val, y_val),\n",
    "                    verbose=1)"
   ]
  },
  {
   "cell_type": "code",
   "execution_count": 33,
   "id": "674d4932",
   "metadata": {
    "scrolled": true
   },
   "outputs": [
    {
     "name": "stdout",
     "output_type": "stream",
     "text": [
      "1537/1537 - 2s - loss: 0.4066 - accuracy: 0.8400\n",
      "[0.40663838386535645, 0.8400024175643921]\n"
     ]
    }
   ],
   "source": [
    "# 평가\n",
    "results = model_3.evaluate(X_test,  y_test, verbose=2)\n",
    "\n",
    "print(results)"
   ]
  },
  {
   "cell_type": "markdown",
   "id": "c40fb127",
   "metadata": {},
   "source": [
    "###  GlobalMaxPooling1D모델 Loss, Accuracy 그래프 시각화"
   ]
  },
  {
   "cell_type": "code",
   "execution_count": 34,
   "id": "e77604f1",
   "metadata": {},
   "outputs": [
    {
     "name": "stdout",
     "output_type": "stream",
     "text": [
      "dict_keys(['loss', 'accuracy', 'val_loss', 'val_accuracy'])\n"
     ]
    }
   ],
   "source": [
    "history_dict = history.history\n",
    "print(history_dict.keys()) # epoch에 따른 그래프를 그려볼 수 있는 항목들"
   ]
  },
  {
   "cell_type": "code",
   "execution_count": 35,
   "id": "d972b0f7",
   "metadata": {},
   "outputs": [
    {
     "data": {
      "image/png": "[encoded data removed]",
      "text/plain": [
       "<Figure size 432x288 with 1 Axes>"
      ]
     },
     "metadata": {
      "needs_background": "light"
     },
     "output_type": "display_data"
    }
   ],
   "source": [
    "import matplotlib.pyplot as plt\n",
    "\n",
    "acc = history_dict['accuracy']\n",
    "val_acc = history_dict['val_accuracy']\n",
    "loss = history_dict['loss']\n",
    "val_loss = history_dict['val_loss']\n",
    "\n",
    "epochs = range(1, len(acc) + 1)\n",
    "\n",
    "# \"bo\"는 \"파란색 점\"입니다\n",
    "plt.plot(epochs, loss, 'bo', label='Training loss')\n",
    "# b는 \"파란 실선\"입니다\n",
    "plt.plot(epochs, val_loss, 'b', label='Validation loss')\n",
    "plt.title('Training and validation loss')\n",
    "plt.xlabel('Epochs')\n",
    "plt.ylabel('Loss')\n",
    "plt.legend()\n",
    "\n",
    "plt.show()"
   ]
  },
  {
   "cell_type": "code",
   "execution_count": 36,
   "id": "c73bb670",
   "metadata": {},
   "outputs": [
    {
     "data": {
      "image/png": "[encoded data removed]",
      "text/plain": [
       "<Figure size 432x288 with 1 Axes>"
      ]
     },
     "metadata": {
      "needs_background": "light"
     },
     "output_type": "display_data"
    }
   ],
   "source": [
    "plt.clf()   # 그림을 초기화합니다\n",
    "\n",
    "plt.plot(epochs, acc, 'bo', label='Training acc')\n",
    "plt.plot(epochs, val_acc, 'b', label='Validation acc')\n",
    "plt.title('Training and validation accuracy')\n",
    "plt.xlabel('Epochs')\n",
    "plt.ylabel('Accuracy')\n",
    "plt.legend()\n",
    "\n",
    "plt.show()"
   ]
  },
  {
   "cell_type": "markdown",
   "id": "cf9d896a",
   "metadata": {},
   "source": [
    "### GlobalMaxPooling1D 모델 학습된 Embedding 레이어 분석"
   ]
  },
  {
   "cell_type": "code",
   "execution_count": 37,
   "id": "72349c46",
   "metadata": {},
   "outputs": [
    {
     "name": "stdout",
     "output_type": "stream",
     "text": [
      "(10000, 16)\n"
     ]
    }
   ],
   "source": [
    "embedding_layer = model_3.layers[0]\n",
    "weights = embedding_layer.get_weights()[0]\n",
    "print(weights.shape)    # shape: (vocab_size, embedding_dim)"
   ]
  },
  {
   "cell_type": "code",
   "execution_count": 38,
   "id": "84ff8fe2",
   "metadata": {},
   "outputs": [],
   "source": [
    "# 학습한 Embedding 파라미터를 파일에 써서 저장합니다. \n",
    "word2vec_file_path = os.getenv('HOME')+'/aiffel/sentiment_classification/data/word2vec3.txt'\n",
    "f = open(word2vec_file_path, 'w')\n",
    "f.write('{} {}\\n'.format((vocab_size_3)-4, word_vector_dim_3))  # 몇개의 벡터를 얼마 사이즈로 기재할지 타이틀을 씁니다.\n",
    "\n",
    "# 단어 개수(에서 특수문자 4개는 제외하고)만큼의 워드 벡터를 파일에 기록합니다. \n",
    "vectors = model_3.get_weights()[0]\n",
    "for i in range(4,vocab_size_3):\n",
    "    f.write('{} {}\\n'.format(index_to_word[i], ' '.join(map(str, list(vectors[i, :])))))\n",
    "f.close()"
   ]
  },
  {
   "cell_type": "code",
   "execution_count": 39,
   "id": "d5ca8d76",
   "metadata": {},
   "outputs": [
    {
     "data": {
      "text/plain": [
       "array([ 0.05911953, -0.12373288,  0.0217383 ,  0.24647248, -0.18601122,\n",
       "       -0.09207473, -0.06792171, -0.10662287, -0.14538813, -0.12588108,\n",
       "       -0.15466727, -0.07926963,  0.06053705,  0.03099732, -0.09249906,\n",
       "        0.01824083], dtype=float32)"
      ]
     },
     "execution_count": 39,
     "metadata": {},
     "output_type": "execute_result"
    }
   ],
   "source": [
    "from gensim.models.keyedvectors import Word2VecKeyedVectors\n",
    "\n",
    "word_vectors = Word2VecKeyedVectors.load_word2vec_format(word2vec_file_path, binary=False)\n",
    "vector = word_vectors['행복']\n",
    "vector"
   ]
  },
  {
   "cell_type": "code",
   "execution_count": 40,
   "id": "1d55f4d8",
   "metadata": {},
   "outputs": [
    {
     "data": {
      "text/plain": [
       "[('어쨌든', 0.8828781843185425),\n",
       " ('비장', 0.8517617583274841),\n",
       " ('행세', 0.8429000973701477),\n",
       " ('슬픔', 0.8279581665992737),\n",
       " ('묘미', 0.8266044855117798),\n",
       " ('비판', 0.7916797399520874),\n",
       " ('레이', 0.787691056728363),\n",
       " ('뒤집', 0.7874531149864197),\n",
       " ('갈구', 0.7854977250099182),\n",
       " ('트', 0.785327672958374)]"
      ]
     },
     "execution_count": 40,
     "metadata": {},
     "output_type": "execute_result"
    }
   ],
   "source": [
    "word_vectors.similar_by_word(\"행복\")"
   ]
  },
  {
   "cell_type": "markdown",
   "id": "cd6ccffd",
   "metadata": {},
   "source": [
    "## step8. 한국어 Word2Vec임베딩 활용하여 성능 개선"
   ]
  },
  {
   "cell_type": "code",
   "execution_count": 41,
   "id": "c73c7f99",
   "metadata": {},
   "outputs": [
    {
     "data": {
      "text/plain": [
       "array([ 3.6889346 , -3.2576382 , -2.6349437 , -0.11572476,  0.58762413,\n",
       "       -0.16673814,  0.9697601 ,  0.27856505, -0.92762107,  2.241611  ,\n",
       "        2.8666036 ,  0.458429  , -2.007293  ,  1.9756018 ,  2.9543707 ,\n",
       "        0.17504454, -1.0210766 ,  0.6119247 ,  0.9948327 , -2.6716058 ,\n",
       "       -3.3571372 ,  2.8433375 , -0.64212775,  0.2906057 ,  0.66890335,\n",
       "        0.6893659 ,  0.19818003,  0.8735505 ,  2.6482987 , -0.188396  ,\n",
       "       -1.997001  , -2.1050427 , -3.5394318 ,  0.57390505,  0.09716978,\n",
       "        1.7057031 , -2.3355813 ,  1.624613  ,  0.27012238,  1.6980075 ,\n",
       "       -1.5318449 , -0.59364384, -1.3710705 ,  3.4411204 ,  1.1825829 ,\n",
       "        2.1342924 ,  2.8075287 ,  2.1308038 ,  2.7114947 , -0.3305534 ,\n",
       "        2.3805175 , -0.04170982,  1.2907016 , -2.8457797 , -0.91359496,\n",
       "       -3.9291334 ,  0.3625686 , -1.7948011 ,  1.1991819 ,  3.9061072 ,\n",
       "        4.1032424 , -0.88820845,  1.1552868 , -3.5846636 , -1.7109742 ,\n",
       "       -2.9963055 , -0.5262824 , -0.2760053 , -1.5208707 , -0.9023874 ,\n",
       "        4.7435007 , -1.3133469 ,  2.1168191 , -0.87373424, -2.4436004 ,\n",
       "       -1.9051615 , -0.84488285, -1.8945997 ,  0.22802861, -2.6217408 ,\n",
       "        1.3432907 , -0.37636617,  0.8110108 , -0.07422648, -0.22181477,\n",
       "        0.0278148 ,  1.0129365 ,  2.436287  ,  2.533199  , -5.094798  ,\n",
       "       -4.817596  , -2.8704007 ,  0.85990345, -3.4413095 ,  0.5718161 ,\n",
       "        1.1907237 , -1.2146701 ,  0.5228056 ,  3.2550118 , -2.1253808 ],\n",
       "      dtype=float32)"
      ]
     },
     "execution_count": 41,
     "metadata": {},
     "output_type": "execute_result"
    }
   ],
   "source": [
    "# 한국어 Word2Vec 임베딩 활용한 성능 개선\n",
    "from gensim.models import Word2Vec\n",
    "\n",
    "word2vec_path = '/aiffel/aiffel/sentiment_classification/data/word2vec_ko.model'\n",
    "word2vec =  Word2VecKeyedVectors.load(word2vec_path)\n",
    "\n",
    "vector = word2vec.wv['행복']\n",
    "vector"
   ]
  },
  {
   "cell_type": "code",
   "execution_count": 42,
   "id": "42ff40c7",
   "metadata": {},
   "outputs": [
    {
     "data": {
      "text/plain": [
       "[('사랑', 0.7550067901611328),\n",
       " ('소중', 0.7270511388778687),\n",
       " ('고독', 0.7223575711250305),\n",
       " ('영원', 0.7196939587593079),\n",
       " ('친절', 0.7095474600791931),\n",
       " ('평온', 0.7088841199874878),\n",
       " ('삶', 0.6893891096115112),\n",
       " ('안녕', 0.6871559023857117),\n",
       " ('애틋', 0.6864286065101624),\n",
       " ('꿈', 0.6853601932525635)]"
      ]
     },
     "execution_count": 42,
     "metadata": {},
     "output_type": "execute_result"
    }
   ],
   "source": [
    "# 단어를 하나 주고 가장 유사한 단어와 유사도 확인\n",
    "word2vec.wv.similar_by_word(\"행복\")"
   ]
  },
  {
   "cell_type": "code",
   "execution_count": 43,
   "id": "7cff66ce",
   "metadata": {},
   "outputs": [],
   "source": [
    "from tensorflow.keras.initializers import Constant\n",
    "vocab_size = 10000    # 어휘 사전의 크기입니다(10,000개의 단어)\n",
    "word_vector_dim = 100  # 워드 벡터의 차원수\n",
    "embedding_matrix = np.random.rand(vocab_size, word_vector_dim)\n",
    "\n",
    "# embedding_matrix에 Word2Vec 워드 벡터를 단어 하나씩마다 차례차례 카피한다.\n",
    "for i in range(4,vocab_size):\n",
    "    if index_to_word[i] in word2vec.wv:\n",
    "        embedding_matrix[i] = word2vec.wv[index_to_word[i]]"
   ]
  },
  {
   "cell_type": "code",
   "execution_count": 49,
   "id": "51c25ad6",
   "metadata": {},
   "outputs": [
    {
     "name": "stdout",
     "output_type": "stream",
     "text": [
      "Model: \"sequential_4\"\n",
      "_________________________________________________________________\n",
      "Layer (type)                 Output Shape              Param #   \n",
      "=================================================================\n",
      "embedding_4 (Embedding)      (None, 41, 100)           1000000   \n",
      "_________________________________________________________________\n",
      "lstm_2 (LSTM)                (None, 256)               365568    \n",
      "_________________________________________________________________\n",
      "dense_7 (Dense)              (None, 1)                 257       \n",
      "=================================================================\n",
      "Total params: 1,365,825\n",
      "Trainable params: 1,365,825\n",
      "Non-trainable params: 0\n",
      "_________________________________________________________________\n"
     ]
    }
   ],
   "source": [
    "# 모델 구성\n",
    "model = tf.keras.Sequential()\n",
    "model.add(tf.keras.layers.Embedding(vocab_size, \n",
    "                                 word_vector_dim, \n",
    "                                 embeddings_initializer=Constant(embedding_matrix),  # 카피한 임베딩을 여기서 활용\n",
    "                                 input_length=maxlen, \n",
    "                                 trainable=True))   # trainable을 True로 주면 Fine-tuning\n",
    "\n",
    "model.add(tf.keras.layers.LSTM(256))   # 가장 널리 쓰이는 RNN인 LSTM 레이어를 사용하였습니다. 이때 LSTM state 벡터의 차원수는 8로 하였습니다. (변경 가능)\n",
    "model.add(tf.keras.layers.Dense(1, activation='sigmoid'))  # 최종 출력은 긍정/부정을 나타내는 1dim 입니다.\n",
    "\n",
    "model.summary()"
   ]
  },
  {
   "cell_type": "code",
   "execution_count": 50,
   "id": "bb4aa2ca",
   "metadata": {
    "scrolled": true
   },
   "outputs": [
    {
     "name": "stdout",
     "output_type": "stream",
     "text": [
      "Epoch 1/20\n",
      "266/266 [==============================] - 8s 24ms/step - loss: 0.4529 - accuracy: 0.7833 - val_loss: 0.3657 - val_accuracy: 0.8373\n",
      "Epoch 2/20\n",
      "266/266 [==============================] - 6s 23ms/step - loss: 0.3302 - accuracy: 0.8555 - val_loss: 0.3197 - val_accuracy: 0.8618\n",
      "Epoch 3/20\n",
      "266/266 [==============================] - 6s 23ms/step - loss: 0.2809 - accuracy: 0.8802 - val_loss: 0.3129 - val_accuracy: 0.8644\n",
      "Epoch 4/20\n",
      "266/266 [==============================] - 6s 23ms/step - loss: 0.2471 - accuracy: 0.8977 - val_loss: 0.3088 - val_accuracy: 0.8669\n",
      "Epoch 5/20\n",
      "266/266 [==============================] - 6s 24ms/step - loss: 0.2157 - accuracy: 0.9121 - val_loss: 0.3181 - val_accuracy: 0.8696\n",
      "Epoch 6/20\n",
      "266/266 [==============================] - 6s 23ms/step - loss: 0.1815 - accuracy: 0.9280 - val_loss: 0.3394 - val_accuracy: 0.8619\n",
      "Epoch 7/20\n",
      "266/266 [==============================] - 6s 23ms/step - loss: 0.1509 - accuracy: 0.9417 - val_loss: 0.3738 - val_accuracy: 0.8652\n",
      "Epoch 8/20\n",
      "266/266 [==============================] - 6s 23ms/step - loss: 0.1203 - accuracy: 0.9542 - val_loss: 0.4188 - val_accuracy: 0.8587\n",
      "Epoch 9/20\n",
      "266/266 [==============================] - 6s 23ms/step - loss: 0.0959 - accuracy: 0.9647 - val_loss: 0.4783 - val_accuracy: 0.8585\n",
      "Epoch 10/20\n",
      "266/266 [==============================] - 6s 23ms/step - loss: 0.0778 - accuracy: 0.9711 - val_loss: 0.5076 - val_accuracy: 0.8563\n",
      "Epoch 11/20\n",
      "266/266 [==============================] - 6s 23ms/step - loss: 0.0595 - accuracy: 0.9790 - val_loss: 0.5792 - val_accuracy: 0.8546\n",
      "Epoch 12/20\n",
      "266/266 [==============================] - 6s 23ms/step - loss: 0.0512 - accuracy: 0.9816 - val_loss: 0.5940 - val_accuracy: 0.8549\n",
      "Epoch 13/20\n",
      "266/266 [==============================] - 6s 23ms/step - loss: 0.0456 - accuracy: 0.9837 - val_loss: 0.6438 - val_accuracy: 0.8570\n",
      "Epoch 14/20\n",
      "266/266 [==============================] - 6s 23ms/step - loss: 0.0344 - accuracy: 0.9883 - val_loss: 0.6597 - val_accuracy: 0.8537\n",
      "Epoch 15/20\n",
      "266/266 [==============================] - 6s 23ms/step - loss: 0.0350 - accuracy: 0.9878 - val_loss: 0.6835 - val_accuracy: 0.8559\n",
      "Epoch 16/20\n",
      "266/266 [==============================] - 6s 23ms/step - loss: 0.0303 - accuracy: 0.9890 - val_loss: 0.7312 - val_accuracy: 0.8575\n",
      "Epoch 17/20\n",
      "266/266 [==============================] - 6s 23ms/step - loss: 0.0236 - accuracy: 0.9920 - val_loss: 0.7971 - val_accuracy: 0.8495\n",
      "Epoch 18/20\n",
      "266/266 [==============================] - 6s 23ms/step - loss: 0.0268 - accuracy: 0.9902 - val_loss: 0.7670 - val_accuracy: 0.8522\n",
      "Epoch 19/20\n",
      "266/266 [==============================] - 6s 23ms/step - loss: 0.0264 - accuracy: 0.9906 - val_loss: 0.7466 - val_accuracy: 0.8516\n",
      "Epoch 20/20\n",
      "266/266 [==============================] - 6s 23ms/step - loss: 0.0207 - accuracy: 0.9925 - val_loss: 0.8589 - val_accuracy: 0.8536\n"
     ]
    }
   ],
   "source": [
    "# 학습의 진행\n",
    "model.compile(optimizer='adam',\n",
    "              loss='binary_crossentropy',\n",
    "              metrics=['accuracy'])\n",
    "              \n",
    "epochs=20 # 몇 epoch를 훈련하면 좋을지 결과를 보면서 바꾸어 봅시다. \n",
    "\n",
    "history = model.fit(partial_x_train,\n",
    "                    partial_y_train,\n",
    "                    epochs=epochs,\n",
    "                    batch_size=512,\n",
    "                    validation_data=(x_val, y_val),\n",
    "                    verbose=1)"
   ]
  },
  {
   "cell_type": "code",
   "execution_count": 51,
   "id": "59af77bf",
   "metadata": {
    "scrolled": true
   },
   "outputs": [
    {
     "data": {
      "image/png": "[encoded data removed]",
      "text/plain": [
       "<Figure size 432x288 with 1 Axes>"
      ]
     },
     "metadata": {
      "needs_background": "light"
     },
     "output_type": "display_data"
    }
   ],
   "source": [
    "import matplotlib.pyplot as plt\n",
    "\n",
    "acc = history_dict['accuracy']\n",
    "val_acc = history_dict['val_accuracy']\n",
    "loss = history_dict['loss']\n",
    "val_loss = history_dict['val_loss']\n",
    "\n",
    "epochs = range(1, len(acc) + 1)\n",
    "\n",
    "# \"bo\"는 \"파란색 점\"입니다\n",
    "plt.plot(epochs, loss, 'bo', label='Training loss')\n",
    "# b는 \"파란 실선\"입니다\n",
    "plt.plot(epochs, val_loss, 'b', label='Validation loss')\n",
    "plt.title('Training and validation loss')\n",
    "plt.xlabel('Epochs')\n",
    "plt.ylabel('Loss')\n",
    "plt.legend()\n",
    "\n",
    "plt.show()"
   ]
  },
  {
   "cell_type": "code",
   "execution_count": 52,
   "id": "8093de38",
   "metadata": {},
   "outputs": [
    {
     "data": {
      "image/png": "[encoded data removed]",
      "text/plain": [
       "<Figure size 432x288 with 1 Axes>"
      ]
     },
     "metadata": {
      "needs_background": "light"
     },
     "output_type": "display_data"
    }
   ],
   "source": [
    "plt.clf()   # 그림을 초기화합니다\n",
    "\n",
    "plt.plot(epochs, acc, 'bo', label='Training acc')\n",
    "plt.plot(epochs, val_acc, 'b', label='Validation acc')\n",
    "plt.title('Training and validation accuracy')\n",
    "plt.xlabel('Epochs')\n",
    "plt.ylabel('Accuracy')\n",
    "plt.legend()\n",
    "\n",
    "plt.show()"
   ]
  },
  {
   "cell_type": "code",
   "execution_count": 53,
   "id": "e146146e",
   "metadata": {},
   "outputs": [
    {
     "name": "stdout",
     "output_type": "stream",
     "text": [
      "1537/1537 - 3s - loss: 0.8534 - accuracy: 0.8520\n",
      "[0.8533574342727661, 0.8519641160964966]\n"
     ]
    }
   ],
   "source": [
    "# 평가\n",
    "results = model.evaluate(X_test,  y_test, verbose=2)\n",
    "\n",
    "print(results)"
   ]
  },
  {
   "cell_type": "markdown",
   "id": "ff93632a",
   "metadata": {},
   "source": [
    "# 회고"
   ]
  },
  {
   "cell_type": "markdown",
   "id": "27057af4",
   "metadata": {},
   "source": [
    "### 3가지 모델 구현 결과\n",
    " * RNN 모델 :  0.8467\n",
    " * 1-D Convolution Neural Network(1-D CNN)모델 : 0.8344\n",
    " * GlobalMaxPooling1D : 0.8399\n",
    " \n",
    " 3가지 모델 중 **가장 성능이 좋은 모델은 RNN 모델**이였다. \n",
    " \n",
    " ### 한국어 Word2Vec를 활용한 LSTM 모델\n",
    " * 처음 연결부터 힘들었던 부분이였고 경로문제가 아닌 파일 이상(2가지 파일이 필요했으나 1가지 파일만 다운받아져있음)으로 시간이 많이 걸린 부분이다\n",
    "#### 85%의 정확도를 위한 시도 \n",
    "* 1차 : LSTM(8), epochs =20 ,batch_size = 512 => 0.8454\n",
    "* 2차 : LSTM(32), epochs =20 ,batch_size = 512 => 0.8490\n",
    "* 3차 : LSTM(32), epochs =30 ,batch_size = 512 => 0.8424 // epochs 늘릴수록 정확도가 떨어지는것 확인 \n",
    "* 4차 : LSTM(64), epochs =20 ,batch_size = 512 => 0.8453\n",
    "* 5차 : LSTM(128), epochs =20 ,batch_size = 512 => 0.8494 // LSTM 차원 수를 늘릴수록 정확도가 조금씩 좋아지는것을 확인\n",
    "* 6차 : LSTM(256), epochs =20 ,batch_size = 512 => 0.8520"
   ]
  },
  {
   "cell_type": "code",
   "execution_count": null,
   "id": "f02d1265",
   "metadata": {},
   "outputs": [],
   "source": []
  }
 ],
 "metadata": {
  "kernelspec": {
   "display_name": "Python 3 (ipykernel)",
   "language": "python",
   "name": "python3"
  },
  "language_info": {
   "codemirror_mode": {
    "name": "ipython",
    "version": 3
   },
   "file_extension": ".py",
   "mimetype": "text/x-python",
   "name": "python",
   "nbconvert_exporter": "python",
   "pygments_lexer": "ipython3",
   "version": "3.9.7"
  }
 },
 "nbformat": 4,
 "nbformat_minor": 5
}
