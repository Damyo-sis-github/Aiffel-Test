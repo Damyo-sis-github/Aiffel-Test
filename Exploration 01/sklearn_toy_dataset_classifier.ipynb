{
 "cells": [
  {
   "cell_type": "markdown",
   "id": "c8189491",
   "metadata": {},
   "source": [
    "#  Project 1\n",
    "\n",
    "## <span style=\"color:blue\"> [ Digits Dataset Classification ]"
   ]
  },
  {
   "cell_type": "markdown",
   "id": "a698dc24",
   "metadata": {},
   "source": [
    "### 1. 모듈 가져오기"
   ]
  },
  {
   "cell_type": "code",
   "execution_count": 1,
   "id": "dca72b1a",
   "metadata": {},
   "outputs": [],
   "source": [
    "import pandas as pd\n",
    "import numpy as np\n",
    "import matplotlib.pyplot as plt\n",
    "import seaborn as sns\n",
    "\n",
    "from sklearn.datasets import load_digits\n",
    "from sklearn.model_selection import train_test_split\n",
    "from sklearn.metrics import classification_report\n",
    "from sklearn.metrics import confusion_matrix #confusion_matrix\n",
    "\n",
    "from sklearn.tree import DecisionTreeClassifier #Decision Tree\n",
    "from sklearn.ensemble import RandomForestClassifier #Random Forest\n",
    "from sklearn import svm #SVM \n",
    "from sklearn.linear_model import SGDClassifier # SGD Classifier \n",
    "from sklearn.linear_model import LogisticRegression # Logistic Regression \n"
   ]
  },
  {
   "cell_type": "markdown",
   "id": "f26fbbda",
   "metadata": {},
   "source": [
    "### 2.  Digits data  load\n",
    "> * load_digits()함수로 digits data lode<br>digits data 1797행 64열 형식"
   ]
  },
  {
   "cell_type": "code",
   "execution_count": 2,
   "id": "8d0f8d62",
   "metadata": {},
   "outputs": [
    {
     "name": "stdout",
     "output_type": "stream",
     "text": [
      "(1797, 64)\n",
      "(1797,)\n"
     ]
    }
   ],
   "source": [
    "from sklearn.datasets import load_digits\n",
    "\n",
    "digits = load_digits() # digits dataset 불러오기\n",
    "digits_data = digits.data \n",
    "print(digits_data.shape) # 데이터 개수 확인\n",
    "print(digits.target.shape) # taget(=label) 데이터 개수 확인"
   ]
  },
  {
   "cell_type": "markdown",
   "id": "c3887cd2",
   "metadata": {},
   "source": [
    "### 3. Data Describe\n",
    "> Digits data : 손글씨 숫자 인식하여 분류 (image data)\n",
    ">>* Data total: 1797\n",
    ">>* Feature : 64EA (pixel_0_0 ~ pixel_7_7)\n",
    ">>* Label   : 10EA ([0,1,2,3,4,5,6,7,8,9])"
   ]
  },
  {
   "cell_type": "code",
   "execution_count": 3,
   "id": "131fe934",
   "metadata": {},
   "outputs": [
    {
     "name": "stdout",
     "output_type": "stream",
     "text": [
      "['pixel_0_0', 'pixel_0_1', 'pixel_0_2', 'pixel_0_3', 'pixel_0_4', 'pixel_0_5', 'pixel_0_6', 'pixel_0_7', 'pixel_1_0', 'pixel_1_1', 'pixel_1_2', 'pixel_1_3', 'pixel_1_4', 'pixel_1_5', 'pixel_1_6', 'pixel_1_7', 'pixel_2_0', 'pixel_2_1', 'pixel_2_2', 'pixel_2_3', 'pixel_2_4', 'pixel_2_5', 'pixel_2_6', 'pixel_2_7', 'pixel_3_0', 'pixel_3_1', 'pixel_3_2', 'pixel_3_3', 'pixel_3_4', 'pixel_3_5', 'pixel_3_6', 'pixel_3_7', 'pixel_4_0', 'pixel_4_1', 'pixel_4_2', 'pixel_4_3', 'pixel_4_4', 'pixel_4_5', 'pixel_4_6', 'pixel_4_7', 'pixel_5_0', 'pixel_5_1', 'pixel_5_2', 'pixel_5_3', 'pixel_5_4', 'pixel_5_5', 'pixel_5_6', 'pixel_5_7', 'pixel_6_0', 'pixel_6_1', 'pixel_6_2', 'pixel_6_3', 'pixel_6_4', 'pixel_6_5', 'pixel_6_6', 'pixel_6_7', 'pixel_7_0', 'pixel_7_1', 'pixel_7_2', 'pixel_7_3', 'pixel_7_4', 'pixel_7_5', 'pixel_7_6', 'pixel_7_7']\n"
     ]
    },
    {
     "data": {
      "text/plain": [
       "array([0, 1, 2, 3, 4, 5, 6, 7, 8, 9])"
      ]
     },
     "execution_count": 3,
     "metadata": {},
     "output_type": "execute_result"
    }
   ],
   "source": [
    "# Feature data name 확인\n",
    "digits.feature_names\n",
    "print(digits.feature_names)\n",
    "\n",
    "# Label data name 확인\n",
    "digits_label = digits.target\n",
    "digits.target_names\n",
    "digits_label[:10]\n"
   ]
  },
  {
   "cell_type": "markdown",
   "id": "1daad9d8",
   "metadata": {},
   "source": [
    "### 4. train, test dataset  split"
   ]
  },
  {
   "cell_type": "code",
   "execution_count": 4,
   "id": "b3fbaa20",
   "metadata": {},
   "outputs": [],
   "source": [
    "# train, test 데이터 분리 \n",
    "# test data size => 총 데이터의 20%\n",
    "digitsX_train, digitsX_test, digitsY_train, digitsY_test = train_test_split(digits_data, \n",
    "                                                    digits_label, \n",
    "                                                    test_size=0.2, \n",
    "                                                    random_state=10)"
   ]
  },
  {
   "cell_type": "markdown",
   "id": "a488ce0b",
   "metadata": {},
   "source": [
    "### 5. 모델 학습(train) & 예측(test)\n",
    "> 1. Decision Tree \n",
    "\n",
    "> 2. Random Forest \n",
    "\n",
    "> 3. SVM\n",
    "\n",
    "> 4. SGD Classifier\n",
    "\n",
    "> 5. Logistic Regression \n"
   ]
  },
  {
   "cell_type": "markdown",
   "id": "8f2f909c",
   "metadata": {},
   "source": [
    "#### 5.1 Decision Tree \n",
    "> random_state =10일때 : 전체 정확도 0.85"
   ]
  },
  {
   "cell_type": "code",
   "execution_count": 5,
   "id": "373301c9",
   "metadata": {},
   "outputs": [
    {
     "name": "stdout",
     "output_type": "stream",
     "text": [
      "              precision    recall  f1-score   support\n",
      "\n",
      "           0       0.94      0.92      0.93        37\n",
      "           1       0.91      0.91      0.91        34\n",
      "           2       0.81      0.88      0.85        34\n",
      "           3       0.79      0.85      0.82        40\n",
      "           4       0.73      0.79      0.76        34\n",
      "           5       0.91      0.91      0.91        32\n",
      "           6       0.94      0.92      0.93        37\n",
      "           7       0.95      0.88      0.91        40\n",
      "           8       0.74      0.70      0.72        33\n",
      "           9       0.81      0.77      0.79        39\n",
      "\n",
      "    accuracy                           0.85       360\n",
      "   macro avg       0.85      0.85      0.85       360\n",
      "weighted avg       0.86      0.85      0.85       360\n",
      "\n",
      "[[34  0  1  0  2  0  0  0  0  0]\n",
      " [ 0 31  2  0  0  0  0  0  1  0]\n",
      " [ 0  1 30  0  1  0  0  0  2  0]\n",
      " [ 1  0  0 34  1  0  0  0  1  3]\n",
      " [ 0  0  0  1 27  1  2  0  2  1]\n",
      " [ 0  0  0  2  0 29  0  0  1  0]\n",
      " [ 0  0  0  1  1  1 34  0  0  0]\n",
      " [ 0  0  1  0  3  0  0 35  1  0]\n",
      " [ 0  2  2  2  1  0  0  0 23  3]\n",
      " [ 1  0  1  3  1  1  0  2  0 30]]\n"
     ]
    },
    {
     "data": {
      "image/png": "[encoded data removed]",
      "text/plain": [
       "<Figure size 432x288 with 2 Axes>"
      ]
     },
     "metadata": {
      "needs_background": "light"
     },
     "output_type": "display_data"
    }
   ],
   "source": [
    "# 1. Decision Tree \n",
    "\n",
    "from sklearn.tree import DecisionTreeClassifier\n",
    "\n",
    "decision_tree = DecisionTreeClassifier(random_state=10)\n",
    "decision_tree.fit(digitsX_train,digitsY_train) # Decision Tree로 학습 \n",
    "digitsY_pred = decision_tree.predict(digitsX_test) #Decision Tree 학습된 모델을 test data로 검증 \n",
    "\n",
    "print(classification_report(digitsY_test, digitsY_pred))# 실제 label과 학습으로 예측된 label 결과 비교\n",
    "print(confusion_matrix(digitsY_test, digitsY_pred))\n",
    "\n",
    "fig = sns.heatmap(confusion_matrix(digitsY_test, digitsY_pred),annot=True,fmt='d') \n",
    "# annot : confusion_matrix 상에 각 케이스 숫자를 나타 낼지 여부 결정\n",
    "#fmt : format으로 'd': decimal: 십진수 형태로 숫자 표기\n",
    "plt.title('Confusion Matrix-[Decision Tree]')\n",
    "plt.xlabel('digitsY_test(real value)')\n",
    "plt.ylabel('digitsY_pred(predicted value)')\n",
    "plt.show()"
   ]
  },
  {
   "cell_type": "markdown",
   "id": "2689c67e",
   "metadata": {},
   "source": [
    "### 5.2 Random Forest \n",
    "> random_state =10일때 : 전체 정확도 0.97"
   ]
  },
  {
   "cell_type": "code",
   "execution_count": 6,
   "id": "c26ee620",
   "metadata": {},
   "outputs": [
    {
     "name": "stdout",
     "output_type": "stream",
     "text": [
      "              precision    recall  f1-score   support\n",
      "\n",
      "           0       1.00      0.97      0.99        37\n",
      "           1       0.94      0.91      0.93        34\n",
      "           2       0.97      1.00      0.99        34\n",
      "           3       0.97      0.97      0.97        40\n",
      "           4       0.97      0.94      0.96        34\n",
      "           5       0.94      1.00      0.97        32\n",
      "           6       1.00      1.00      1.00        37\n",
      "           7       0.93      1.00      0.96        40\n",
      "           8       0.94      0.91      0.92        33\n",
      "           9       1.00      0.95      0.97        39\n",
      "\n",
      "    accuracy                           0.97       360\n",
      "   macro avg       0.97      0.97      0.97       360\n",
      "weighted avg       0.97      0.97      0.97       360\n",
      "\n",
      "[[36  0  0  0  1  0  0  0  0  0]\n",
      " [ 0 31  1  0  0  1  0  0  1  0]\n",
      " [ 0  0 34  0  0  0  0  0  0  0]\n",
      " [ 0  0  0 39  0  0  0  0  1  0]\n",
      " [ 0  0  0  0 32  0  0  2  0  0]\n",
      " [ 0  0  0  0  0 32  0  0  0  0]\n",
      " [ 0  0  0  0  0  0 37  0  0  0]\n",
      " [ 0  0  0  0  0  0  0 40  0  0]\n",
      " [ 0  2  0  1  0  0  0  0 30  0]\n",
      " [ 0  0  0  0  0  1  0  1  0 37]]\n"
     ]
    },
    {
     "data": {
      "image/png": "[encoded data removed]",
      "text/plain": [
       "<Figure size 432x288 with 2 Axes>"
      ]
     },
     "metadata": {
      "needs_background": "light"
     },
     "output_type": "display_data"
    }
   ],
   "source": [
    "#Random Forest \n",
    "\n",
    "from sklearn.ensemble import RandomForestClassifier\n",
    "\n",
    "random_forest = RandomForestClassifier(random_state=10)\n",
    "random_forest.fit(digitsX_train,digitsY_train)\n",
    "digitsY_pred = random_forest.predict(digitsX_test)\n",
    "\n",
    "print(classification_report(digitsY_test, digitsY_pred))\n",
    "print(confusion_matrix(digitsY_test, digitsY_pred))\n",
    "fig = sns.heatmap(confusion_matrix(digitsY_test,digitsY_pred),annot=True,fmt='d')\n",
    "plt.title('Confusion Matrix-[Random Forest ]')\n",
    "plt.xlabel('digitsY_test(real value)')\n",
    "plt.ylabel('digitsY_pred(predicted value)')\n",
    "plt.show()"
   ]
  },
  {
   "cell_type": "markdown",
   "id": "17bacd58",
   "metadata": {},
   "source": [
    "### 5.3 SVM\n",
    "> 전체 정확도 0.98"
   ]
  },
  {
   "cell_type": "code",
   "execution_count": 7,
   "id": "25eb25fd",
   "metadata": {},
   "outputs": [
    {
     "name": "stdout",
     "output_type": "stream",
     "text": [
      "              precision    recall  f1-score   support\n",
      "\n",
      "           0       1.00      1.00      1.00        37\n",
      "           1       0.97      1.00      0.99        34\n",
      "           2       0.97      1.00      0.99        34\n",
      "           3       1.00      0.97      0.99        40\n",
      "           4       1.00      0.94      0.97        34\n",
      "           5       0.97      1.00      0.98        32\n",
      "           6       1.00      1.00      1.00        37\n",
      "           7       1.00      1.00      1.00        40\n",
      "           8       0.91      0.97      0.94        33\n",
      "           9       1.00      0.95      0.97        39\n",
      "\n",
      "    accuracy                           0.98       360\n",
      "   macro avg       0.98      0.98      0.98       360\n",
      "weighted avg       0.98      0.98      0.98       360\n",
      "\n",
      "[[37  0  0  0  0  0  0  0  0  0]\n",
      " [ 0 34  0  0  0  0  0  0  0  0]\n",
      " [ 0  0 34  0  0  0  0  0  0  0]\n",
      " [ 0  0  1 39  0  0  0  0  0  0]\n",
      " [ 0  0  0  0 32  0  0  0  2  0]\n",
      " [ 0  0  0  0  0 32  0  0  0  0]\n",
      " [ 0  0  0  0  0  0 37  0  0  0]\n",
      " [ 0  0  0  0  0  0  0 40  0  0]\n",
      " [ 0  1  0  0  0  0  0  0 32  0]\n",
      " [ 0  0  0  0  0  1  0  0  1 37]]\n"
     ]
    },
    {
     "data": {
      "image/png": "[encoded data removed]",
      "text/plain": [
       "<Figure size 432x288 with 2 Axes>"
      ]
     },
     "metadata": {
      "needs_background": "light"
     },
     "output_type": "display_data"
    }
   ],
   "source": [
    "#SVM \n",
    "from sklearn import svm\n",
    "svm_model = svm.SVC()\n",
    "\n",
    "svm_model.fit(digitsX_train,digitsY_train)\n",
    "digitsY_pred = svm_model.predict(digitsX_test)\n",
    "\n",
    "print(classification_report(digitsY_test, digitsY_pred))\n",
    "print(confusion_matrix(digitsY_test, digitsY_pred))\n",
    "fig = sns.heatmap(confusion_matrix(digitsY_test, digitsY_pred),annot=True,fmt='d')\n",
    "plt.title('Confusion Matrix-[SVM ]')\n",
    "plt.xlabel('digitsY_test(real value)')\n",
    "plt.ylabel('digitsY_pred(predicted value)')\n",
    "plt.show()"
   ]
  },
  {
   "cell_type": "markdown",
   "id": "9cdfdec2",
   "metadata": {},
   "source": [
    "### 5.4 SGD Classifier\n",
    "> 전체 정확도 0.95"
   ]
  },
  {
   "cell_type": "code",
   "execution_count": 8,
   "id": "b7673eee",
   "metadata": {},
   "outputs": [
    {
     "name": "stdout",
     "output_type": "stream",
     "text": [
      "              precision    recall  f1-score   support\n",
      "\n",
      "           0       0.97      0.97      0.97        37\n",
      "           1       0.82      0.94      0.88        34\n",
      "           2       0.97      1.00      0.99        34\n",
      "           3       1.00      0.97      0.99        40\n",
      "           4       0.91      0.88      0.90        34\n",
      "           5       0.97      0.94      0.95        32\n",
      "           6       1.00      1.00      1.00        37\n",
      "           7       1.00      0.97      0.99        40\n",
      "           8       0.86      0.91      0.88        33\n",
      "           9       1.00      0.90      0.95        39\n",
      "\n",
      "    accuracy                           0.95       360\n",
      "   macro avg       0.95      0.95      0.95       360\n",
      "weighted avg       0.95      0.95      0.95       360\n",
      "\n",
      "[[36  0  0  0  1  0  0  0  0  0]\n",
      " [ 0 32  0  0  1  0  0  0  1  0]\n",
      " [ 0  0 34  0  0  0  0  0  0  0]\n",
      " [ 0  0  1 39  0  0  0  0  0  0]\n",
      " [ 1  2  0  0 30  0  0  0  1  0]\n",
      " [ 0  2  0  0  0 30  0  0  0  0]\n",
      " [ 0  0  0  0  0  0 37  0  0  0]\n",
      " [ 0  0  0  0  1  0  0 39  0  0]\n",
      " [ 0  3  0  0  0  0  0  0 30  0]\n",
      " [ 0  0  0  0  0  1  0  0  3 35]]\n"
     ]
    },
    {
     "data": {
      "image/png": "[encoded data removed]",
      "text/plain": [
       "<Figure size 432x288 with 2 Axes>"
      ]
     },
     "metadata": {
      "needs_background": "light"
     },
     "output_type": "display_data"
    }
   ],
   "source": [
    "# SGD Classifier \n",
    "from sklearn.linear_model import SGDClassifier\n",
    "sgd_model = SGDClassifier()\n",
    "\n",
    "sgd_model.fit(digitsX_train,digitsY_train)\n",
    "digitsY_pred = sgd_model.predict(digitsX_test)\n",
    "\n",
    "print(classification_report(digitsY_test, digitsY_pred))\n",
    "print(confusion_matrix(digitsY_test, digitsY_pred))\n",
    "fig = sns.heatmap(confusion_matrix(digitsY_test, digitsY_pred),annot=True,fmt='d')\n",
    "plt.title('Confusion Matrix-[SGD Classifier]')\n",
    "plt.xlabel('digitsY_test(real value)')\n",
    "plt.ylabel('digitsY_pred(predicted value)')\n",
    "plt.show()"
   ]
  },
  {
   "cell_type": "markdown",
   "id": "1b51fc86",
   "metadata": {},
   "source": [
    "### 5.5 Logistic Regression \n",
    "> 전체 정확도 0.95"
   ]
  },
  {
   "cell_type": "markdown",
   "id": "8a622a76",
   "metadata": {},
   "source": [
    "#### <span style=\"color:blue\">[경고]\n",
    "* ConvergenceWarning: lbfgs failed to converge (status=1): STOP: TOTAL NO. of ITERATIONS REACHED LIMIT. \n",
    "\n",
    "#### <span style=\"color:blue\">[해결법] \n",
    "* 반복 횟수의 max_iter을 크게 설정 \n",
    "> <span style=\"color:red\">(참고자료) https://aideepml.tistory.com/32"
   ]
  },
  {
   "cell_type": "code",
   "execution_count": 9,
   "id": "1c0e393d",
   "metadata": {},
   "outputs": [
    {
     "name": "stdout",
     "output_type": "stream",
     "text": [
      "              precision    recall  f1-score   support\n",
      "\n",
      "           0       1.00      1.00      1.00        37\n",
      "           1       0.91      0.91      0.91        34\n",
      "           2       0.92      1.00      0.96        34\n",
      "           3       0.97      0.95      0.96        40\n",
      "           4       0.94      0.94      0.94        34\n",
      "           5       0.94      0.94      0.94        32\n",
      "           6       0.97      0.97      0.97        37\n",
      "           7       0.97      0.95      0.96        40\n",
      "           8       0.89      0.94      0.91        33\n",
      "           9       1.00      0.92      0.96        39\n",
      "\n",
      "    accuracy                           0.95       360\n",
      "   macro avg       0.95      0.95      0.95       360\n",
      "weighted avg       0.95      0.95      0.95       360\n",
      "\n",
      "[[37  0  0  0  0  0  0  0  0  0]\n",
      " [ 0 31  1  0  1  0  0  0  1  0]\n",
      " [ 0  0 34  0  0  0  0  0  0  0]\n",
      " [ 0  0  1 38  0  1  0  0  0  0]\n",
      " [ 0  1  0  0 32  0  0  0  1  0]\n",
      " [ 0  1  0  0  0 30  0  1  0  0]\n",
      " [ 0  1  0  0  0  0 36  0  0  0]\n",
      " [ 0  0  0  1  1  0  0 38  0  0]\n",
      " [ 0  0  1  0  0  0  1  0 31  0]\n",
      " [ 0  0  0  0  0  1  0  0  2 36]]\n"
     ]
    },
    {
     "data": {
      "image/png": "[encoded data removed]",
      "text/plain": [
       "<Figure size 432x288 with 2 Axes>"
      ]
     },
     "metadata": {
      "needs_background": "light"
     },
     "output_type": "display_data"
    }
   ],
   "source": [
    "# Logistic Regression  \n",
    "from sklearn.linear_model import LogisticRegression\n",
    "logistic_model = LogisticRegression(max_iter = 3000)\n",
    "\n",
    "logistic_model.fit(digitsX_train,digitsY_train)\n",
    "digitsY_pred = logistic_model.predict(digitsX_test)\n",
    "\n",
    "print(classification_report(digitsY_test, digitsY_pred))\n",
    "print(confusion_matrix(digitsY_test, digitsY_pred))\n",
    "fig = sns.heatmap(confusion_matrix(digitsY_test, digitsY_pred),annot=True,fmt='d')\n",
    "plt.title('Confusion Matrix-[Logistic Regression]')\n",
    "plt.xlabel('digitsY_test(real value)')\n",
    "plt.ylabel('digitsY_pred(predicted value)')\n",
    "plt.show()"
   ]
  },
  {
   "attachments": {},
   "cell_type": "markdown",
   "id": "90342256",
   "metadata": {},
   "source": [
    "### 6. confusion matrix\n",
    "\n",
    "#### * 성능지표\n",
    "<img src =https://d3s0tskafalll9.cloudfront.net/media/images/E-2-3.max-800x600_mMmzi4T.jpg>\n",
    "\n",
    "> Precision (정밀도) :   $Precision =$$TP \\over TP+FP$\n",
    "\n",
    "> Recall (재현율, 감도) : $ Recall =$$ TP \\over TP+FN$\n",
    "\n",
    "> Accuracy (정확도) : $ Accuracy =$$ TP+TN \\over TP+TN+FP+FN$\n",
    "\n",
    "> F1 score (Recall과 Precision의 조화평균):  \n",
    "  $$ F1score ={2 \\times} \\frac {Precision \\times Recall} {Precision + Recall}$$"
   ]
  },
  {
   "attachments": {},
   "cell_type": "markdown",
   "id": "eb9e1455",
   "metadata": {},
   "source": [
    "#### *  Digits결론(회고)\n",
    "*  Digits data의 경우 손으로 쓴 숫자가 무엇인지 맞추는 것이 관건이므로 데이터 불균형이 존재하지 않음 \n",
    "\n",
    "> Dataset - balaned data 일때:\n",
    ">> Accuracy(정확도) 높은 **SVM** 선정\n",
    "\n",
    "> 만약 Dataset - imlbalaned data 일때:\n",
    ">> F1score가 높은 **SVM** 선정\n",
    "\n",
    "> 보충하고싶은점 :\n",
    ">> 여러개의 학습 모델 ROC 그래프로 나타내어 최적의 모델 선정"
   ]
  },
  {
   "cell_type": "markdown",
   "id": "111d9463",
   "metadata": {},
   "source": [
    "--- "
   ]
  },
  {
   "cell_type": "markdown",
   "id": "150ce38b",
   "metadata": {},
   "source": [
    "#  Project 2\n",
    "\n",
    "## <span style=\"color:blue\"> [ Wine Dataset Classification ]"
   ]
  },
  {
   "cell_type": "markdown",
   "id": "19277411",
   "metadata": {},
   "source": [
    "### 1. 모듈 가져오기"
   ]
  },
  {
   "cell_type": "code",
   "execution_count": 10,
   "id": "cd36c4fe",
   "metadata": {},
   "outputs": [],
   "source": [
    "import pandas as pd\n",
    "import numpy as np\n",
    "import matplotlib.pyplot as plt\n",
    "import seaborn as sns\n",
    "\n",
    "from sklearn.datasets import load_digits\n",
    "from sklearn.model_selection import train_test_split\n",
    "from sklearn.metrics import classification_report\n",
    "from sklearn.metrics import confusion_matrix #confusion_matrix\n",
    "\n",
    "from sklearn.tree import DecisionTreeClassifier #Decision Tree\n",
    "from sklearn.ensemble import RandomForestClassifier #Random Forest\n",
    "from sklearn import svm #SVM \n",
    "from sklearn.linear_model import SGDClassifier # SGD Classifier \n",
    "from sklearn.linear_model import LogisticRegression # Logistic Regression \n"
   ]
  },
  {
   "cell_type": "markdown",
   "id": "8e814cfe",
   "metadata": {},
   "source": [
    "### 2.  Digits data  load\n",
    "> * load_wine()함수로 wine data lode<br>wine data 178행 13열 형식"
   ]
  },
  {
   "cell_type": "code",
   "execution_count": 11,
   "id": "e90fe3d6",
   "metadata": {},
   "outputs": [
    {
     "name": "stdout",
     "output_type": "stream",
     "text": [
      "(178, 13)\n",
      "(178,)\n"
     ]
    }
   ],
   "source": [
    "from sklearn.datasets import load_wine\n",
    "\n",
    "wine = load_wine() # wine dataset 불러오기\n",
    "wine_data = wine.data \n",
    "print(wine_data.shape) # 데이터 개수 확인\n",
    "print(wine.target.shape) # taget(=label) 데이터 개수 확인"
   ]
  },
  {
   "cell_type": "markdown",
   "id": "8c1316d6",
   "metadata": {},
   "source": [
    "### 3. Data Describe\n",
    "> Digits data : 와인 등급 분류\n",
    ">>* Data total: 178\n",
    ">>* Feature : 13EA ('alcohol','malic_acid'....)\n",
    ">>* Label   : 3EA ('class_0', 'class_1', 'class_2')"
   ]
  },
  {
   "cell_type": "code",
   "execution_count": 12,
   "id": "1aeb2bad",
   "metadata": {},
   "outputs": [
    {
     "name": "stdout",
     "output_type": "stream",
     "text": [
      "['alcohol', 'malic_acid', 'ash', 'alcalinity_of_ash', 'magnesium', 'total_phenols', 'flavanoids', 'nonflavanoid_phenols', 'proanthocyanins', 'color_intensity', 'hue', 'od280/od315_of_diluted_wines', 'proline']\n"
     ]
    },
    {
     "data": {
      "text/plain": [
       "array(['class_0', 'class_1', 'class_2'], dtype='<U7')"
      ]
     },
     "execution_count": 12,
     "metadata": {},
     "output_type": "execute_result"
    }
   ],
   "source": [
    "# Feature data name 확인\n",
    "wine.feature_names\n",
    "print(wine.feature_names)\n",
    "\n",
    "# Label data name 확인\n",
    "wine_label = wine.target\n",
    "wine.target_names"
   ]
  },
  {
   "cell_type": "markdown",
   "id": "4722050e",
   "metadata": {},
   "source": [
    "### 4. train, test dataset  split"
   ]
  },
  {
   "cell_type": "code",
   "execution_count": 13,
   "id": "0f569d37",
   "metadata": {},
   "outputs": [],
   "source": [
    "# train, test 데이터 분리 \n",
    "# test data size => 총 데이터의 30%\n",
    "wineX_train, wineX_test, wineY_train, wineY_test = train_test_split(wine_data, \n",
    "                                                    wine_label, \n",
    "                                                    test_size=0.3, \n",
    "                                                    random_state=20)"
   ]
  },
  {
   "cell_type": "markdown",
   "id": "d414c1b1",
   "metadata": {},
   "source": [
    "### 5. 모델 학습(train) & 예측(test)\n",
    "> 1. Decision Tree \n",
    "\n",
    "> 2. Random Forest \n",
    "\n",
    "> 3. SVM\n",
    "\n",
    "> 4. SGD Classifier\n",
    "\n",
    "> 5. Logistic Regression \n"
   ]
  },
  {
   "cell_type": "markdown",
   "id": "bebe422e",
   "metadata": {},
   "source": [
    "#### 5.1 Decision Tree \n",
    "> random_state =20일때 : 전체 정확도 0.96"
   ]
  },
  {
   "cell_type": "code",
   "execution_count": 14,
   "id": "4d351db4",
   "metadata": {},
   "outputs": [
    {
     "name": "stdout",
     "output_type": "stream",
     "text": [
      "              precision    recall  f1-score   support\n",
      "\n",
      "           0       0.93      0.93      0.93        15\n",
      "           1       0.96      0.96      0.96        27\n",
      "           2       1.00      1.00      1.00        12\n",
      "\n",
      "    accuracy                           0.96        54\n",
      "   macro avg       0.97      0.97      0.97        54\n",
      "weighted avg       0.96      0.96      0.96        54\n",
      "\n",
      "[[14  1  0]\n",
      " [ 1 26  0]\n",
      " [ 0  0 12]]\n"
     ]
    },
    {
     "data": {
      "image/png": "[encoded data removed]",
      "text/plain": [
       "<Figure size 432x288 with 2 Axes>"
      ]
     },
     "metadata": {
      "needs_background": "light"
     },
     "output_type": "display_data"
    }
   ],
   "source": [
    "# 1. Decision Tree \n",
    "\n",
    "from sklearn.tree import DecisionTreeClassifier\n",
    "\n",
    "decision_tree = DecisionTreeClassifier(random_state=20)\n",
    "decision_tree.fit(wineX_train,wineY_train) # Decision Tree로 학습 \n",
    "wineY_pred = decision_tree.predict(wineX_test) #Decision Tree 학습된 모델을 test data로 검증 \n",
    "\n",
    "print(classification_report(wineY_test,wineY_pred))# 실제 label과 학습으로 예측된 label 결과 비교\n",
    "print(confusion_matrix(wineY_test, wineY_pred))\n",
    "\n",
    "fig = sns.heatmap(confusion_matrix(wineY_test, wineY_pred),annot=True,fmt='d') \n",
    "# annot : confusion_matrix 상에 각 케이스 숫자를 나타 낼지 여부 결정\n",
    "#fmt : format으로 'd': decimal: 십진수 형태로 숫자 표기\n",
    "plt.title('Confusion Matrix-[Decision Tree]')\n",
    "plt.xlabel('wineY_test(real value)')\n",
    "plt.ylabel('wineY_pred(predicted value)')\n",
    "plt.show()"
   ]
  },
  {
   "cell_type": "markdown",
   "id": "b4554e0d",
   "metadata": {},
   "source": [
    "### 5.2 Random Forest \n",
    "> random_state =20일때 : 전체 정확도 100"
   ]
  },
  {
   "cell_type": "code",
   "execution_count": 15,
   "id": "15bfea02",
   "metadata": {},
   "outputs": [
    {
     "name": "stdout",
     "output_type": "stream",
     "text": [
      "              precision    recall  f1-score   support\n",
      "\n",
      "           0       1.00      1.00      1.00        15\n",
      "           1       1.00      1.00      1.00        27\n",
      "           2       1.00      1.00      1.00        12\n",
      "\n",
      "    accuracy                           1.00        54\n",
      "   macro avg       1.00      1.00      1.00        54\n",
      "weighted avg       1.00      1.00      1.00        54\n",
      "\n",
      "[[15  0  0]\n",
      " [ 0 27  0]\n",
      " [ 0  0 12]]\n"
     ]
    },
    {
     "data": {
      "image/png": "[encoded data removed]",
      "text/plain": [
       "<Figure size 432x288 with 2 Axes>"
      ]
     },
     "metadata": {
      "needs_background": "light"
     },
     "output_type": "display_data"
    }
   ],
   "source": [
    "#Random Forest \n",
    "\n",
    "from sklearn.ensemble import RandomForestClassifier\n",
    "\n",
    "random_forest = RandomForestClassifier(random_state=20)\n",
    "random_forest.fit(wineX_train,wineY_train)\n",
    "wineY_pred = random_forest.predict(wineX_test)\n",
    "\n",
    "print(classification_report(wineY_test, wineY_pred))\n",
    "print(confusion_matrix(wineY_test, wineY_pred))\n",
    "fig = sns.heatmap(confusion_matrix(wineY_test, wineY_pred),annot=True,fmt='d')\n",
    "plt.title('Confusion Matrix-[Random Forest ]')\n",
    "plt.xlabel('wineY_test(real value)')\n",
    "plt.ylabel('wineY_pred(predicted value)')\n",
    "plt.show()"
   ]
  },
  {
   "cell_type": "markdown",
   "id": "f7924313",
   "metadata": {},
   "source": [
    "### 5.3 SVM\n",
    "> 전체 정확도 0.70"
   ]
  },
  {
   "cell_type": "code",
   "execution_count": 16,
   "id": "17625b87",
   "metadata": {},
   "outputs": [
    {
     "name": "stdout",
     "output_type": "stream",
     "text": [
      "              precision    recall  f1-score   support\n",
      "\n",
      "           0       1.00      0.87      0.93        15\n",
      "           1       0.78      0.67      0.72        27\n",
      "           2       0.39      0.58      0.47        12\n",
      "\n",
      "    accuracy                           0.70        54\n",
      "   macro avg       0.72      0.71      0.71        54\n",
      "weighted avg       0.76      0.70      0.72        54\n",
      "\n",
      "[[13  0  2]\n",
      " [ 0 18  9]\n",
      " [ 0  5  7]]\n"
     ]
    },
    {
     "data": {
      "image/png": "[encoded data removed]",
      "text/plain": [
       "<Figure size 432x288 with 2 Axes>"
      ]
     },
     "metadata": {
      "needs_background": "light"
     },
     "output_type": "display_data"
    }
   ],
   "source": [
    "#SVM \n",
    "from sklearn import svm\n",
    "svm_model = svm.SVC()\n",
    "\n",
    "svm_model.fit(wineX_train,wineY_train)\n",
    "wineY_pred = svm_model.predict(wineX_test)\n",
    "\n",
    "print(classification_report(wineY_test, wineY_pred))\n",
    "print(confusion_matrix(wineY_test, wineY_pred))\n",
    "fig = sns.heatmap(confusion_matrix(wineY_test, wineY_pred),annot=True,fmt='d')\n",
    "plt.title('Confusion Matrix-[SVM ]')\n",
    "plt.xlabel('wineY_test(real value)')\n",
    "plt.ylabel('wineY_pred(predicted value)')\n",
    "plt.show()"
   ]
  },
  {
   "cell_type": "markdown",
   "id": "6e91a451",
   "metadata": {},
   "source": [
    "### 5.4 SGD Classifier\n",
    "> 전체 정확도 0.48"
   ]
  },
  {
   "cell_type": "code",
   "execution_count": 17,
   "id": "a61765db",
   "metadata": {},
   "outputs": [
    {
     "name": "stdout",
     "output_type": "stream",
     "text": [
      "              precision    recall  f1-score   support\n",
      "\n",
      "           0       0.64      0.93      0.76        15\n",
      "           1       1.00      0.11      0.20        27\n",
      "           2       0.31      0.75      0.44        12\n",
      "\n",
      "    accuracy                           0.48        54\n",
      "   macro avg       0.65      0.60      0.47        54\n",
      "weighted avg       0.75      0.48      0.41        54\n",
      "\n",
      "[[14  0  1]\n",
      " [ 5  3 19]\n",
      " [ 3  0  9]]\n"
     ]
    },
    {
     "data": {
      "image/png": "[encoded data removed]",
      "text/plain": [
       "<Figure size 432x288 with 2 Axes>"
      ]
     },
     "metadata": {
      "needs_background": "light"
     },
     "output_type": "display_data"
    }
   ],
   "source": [
    "# SGD Classifier \n",
    "from sklearn.linear_model import SGDClassifier\n",
    "sgd_model = SGDClassifier()\n",
    "\n",
    "sgd_model.fit(wineX_train,wineY_train)\n",
    "wineY_pred = sgd_model.predict(wineX_test)\n",
    "\n",
    "print(classification_report(wineY_test, wineY_pred))\n",
    "print(confusion_matrix(wineY_test, wineY_pred))\n",
    "fig = sns.heatmap(confusion_matrix(wineY_test, wineY_pred),annot=True,fmt='d')\n",
    "plt.title('Confusion Matrix-[SGD Classifier]')\n",
    "plt.xlabel('wineY_test(real value)')\n",
    "plt.ylabel('wineY_pred(predicted value)')\n",
    "plt.show()"
   ]
  },
  {
   "cell_type": "markdown",
   "id": "816649b5",
   "metadata": {},
   "source": [
    "### 5.5 Logistic Regression \n",
    "> 전체 정확도 100"
   ]
  },
  {
   "cell_type": "code",
   "execution_count": 18,
   "id": "36ea8a52",
   "metadata": {},
   "outputs": [
    {
     "name": "stdout",
     "output_type": "stream",
     "text": [
      "              precision    recall  f1-score   support\n",
      "\n",
      "           0       1.00      1.00      1.00        15\n",
      "           1       1.00      1.00      1.00        27\n",
      "           2       1.00      1.00      1.00        12\n",
      "\n",
      "    accuracy                           1.00        54\n",
      "   macro avg       1.00      1.00      1.00        54\n",
      "weighted avg       1.00      1.00      1.00        54\n",
      "\n",
      "[[15  0  0]\n",
      " [ 0 27  0]\n",
      " [ 0  0 12]]\n"
     ]
    },
    {
     "data": {
      "image/png": "[encoded data removed]",
      "text/plain": [
       "<Figure size 432x288 with 2 Axes>"
      ]
     },
     "metadata": {
      "needs_background": "light"
     },
     "output_type": "display_data"
    }
   ],
   "source": [
    "# Logistic Regression  \n",
    "from sklearn.linear_model import LogisticRegression\n",
    "logistic_model = LogisticRegression(max_iter = 3000)\n",
    "\n",
    "logistic_model.fit(wineX_train,wineY_train)\n",
    "wineY_pred = logistic_model.predict(wineX_test)\n",
    "\n",
    "print(classification_report(wineY_test, wineY_pred))\n",
    "print(confusion_matrix(wineY_test, wineY_pred))\n",
    "fig = sns.heatmap(confusion_matrix(wineY_test,wineY_pred),annot=True,fmt='d')\n",
    "plt.title('Confusion Matrix-[Logistic Regression]')\n",
    "plt.xlabel('wineY_test(real value)')\n",
    "plt.ylabel('wineY_pred(predicted value)')\n",
    "plt.show()"
   ]
  },
  {
   "cell_type": "markdown",
   "id": "e1024430",
   "metadata": {},
   "source": [
    "### 6. confusion matrix\n",
    "\n",
    "#### * 성능지표\n",
    "<img src =https://d3s0tskafalll9.cloudfront.net/media/images/E-2-3.max-800x600_mMmzi4T.jpg>\n",
    "\n",
    "> Precision (정밀도) :   $Precision =$$TP \\over TP+FP$\n",
    "\n",
    "> Recall (재현율, 감도) : $ Recall =$$ TP \\over TP+FN$\n",
    "\n",
    "> Accuracy (정확도) : $ Accuracy =$$ TP+TN \\over TP+TN+FP+FN$\n",
    "\n",
    "> F1 score (Recall과 Precision의 조화평균):  \n",
    "  $$ F1score ={2 \\times} \\frac {Precision \\times Recall} {Precision + Recall}$$"
   ]
  },
  {
   "cell_type": "markdown",
   "id": "17cd66c5",
   "metadata": {},
   "source": [
    "## <span style=\"color:blue\"> Random Forest 및 Logistic Regression 재분석"
   ]
  },
  {
   "cell_type": "code",
   "execution_count": 19,
   "id": "822861c4",
   "metadata": {},
   "outputs": [],
   "source": [
    "# train, test 데이터 분리 \n",
    "# test data size => 총 데이터의 30%\n",
    "# random_state =15\n",
    "wineX_train, wineX_test, wineY_train, wineY_test = train_test_split(wine_data, \n",
    "                                                    wine_label, \n",
    "                                                    test_size=0.3, \n",
    "                                                    random_state=15)"
   ]
  },
  {
   "cell_type": "code",
   "execution_count": 20,
   "id": "e95e615c",
   "metadata": {},
   "outputs": [
    {
     "name": "stdout",
     "output_type": "stream",
     "text": [
      "              precision    recall  f1-score   support\n",
      "\n",
      "           0       1.00      1.00      1.00        18\n",
      "           1       1.00      1.00      1.00        19\n",
      "           2       1.00      1.00      1.00        17\n",
      "\n",
      "    accuracy                           1.00        54\n",
      "   macro avg       1.00      1.00      1.00        54\n",
      "weighted avg       1.00      1.00      1.00        54\n",
      "\n",
      "[[18  0  0]\n",
      " [ 0 19  0]\n",
      " [ 0  0 17]]\n"
     ]
    },
    {
     "data": {
      "image/png": "[encoded data removed]",
      "text/plain": [
       "<Figure size 432x288 with 2 Axes>"
      ]
     },
     "metadata": {
      "needs_background": "light"
     },
     "output_type": "display_data"
    }
   ],
   "source": [
    "#Random Forest \n",
    "\n",
    "from sklearn.ensemble import RandomForestClassifier\n",
    "\n",
    "random_forest = RandomForestClassifier(random_state=15)\n",
    "random_forest.fit(wineX_train,wineY_train)\n",
    "wineY_pred = random_forest.predict(wineX_test)\n",
    "\n",
    "print(classification_report(wineY_test, wineY_pred))\n",
    "print(confusion_matrix(wineY_test, wineY_pred))\n",
    "fig = sns.heatmap(confusion_matrix(wineY_test, wineY_pred),annot=True,fmt='d')\n",
    "plt.title('Confusion Matrix-[Random Forest ]')\n",
    "plt.xlabel('wineY_test(real value)')\n",
    "plt.ylabel('wineY_pred(predicted value)')\n",
    "plt.show()"
   ]
  },
  {
   "cell_type": "code",
   "execution_count": 21,
   "id": "26b7a123",
   "metadata": {},
   "outputs": [
    {
     "name": "stdout",
     "output_type": "stream",
     "text": [
      "              precision    recall  f1-score   support\n",
      "\n",
      "           0       1.00      0.94      0.97        18\n",
      "           1       0.90      1.00      0.95        19\n",
      "           2       1.00      0.94      0.97        17\n",
      "\n",
      "    accuracy                           0.96        54\n",
      "   macro avg       0.97      0.96      0.96        54\n",
      "weighted avg       0.97      0.96      0.96        54\n",
      "\n",
      "[[17  1  0]\n",
      " [ 0 19  0]\n",
      " [ 0  1 16]]\n"
     ]
    },
    {
     "data": {
      "image/png": "[encoded data removed]",
      "text/plain": [
       "<Figure size 432x288 with 2 Axes>"
      ]
     },
     "metadata": {
      "needs_background": "light"
     },
     "output_type": "display_data"
    }
   ],
   "source": [
    "# Logistic Regression  \n",
    "from sklearn.linear_model import LogisticRegression\n",
    "logistic_model = LogisticRegression(max_iter = 3000)\n",
    "\n",
    "logistic_model.fit(wineX_train,wineY_train)\n",
    "wineY_pred = logistic_model.predict(wineX_test)\n",
    "\n",
    "print(classification_report(wineY_test, wineY_pred))\n",
    "print(confusion_matrix(wineY_test, wineY_pred))\n",
    "fig = sns.heatmap(confusion_matrix(wineY_test,wineY_pred),annot=True,fmt='d')\n",
    "plt.title('Confusion Matrix-[Logistic Regression]')\n",
    "plt.xlabel('wineY_test(real value)')\n",
    "plt.ylabel('wineY_pred(predicted value)')\n",
    "plt.show()"
   ]
  },
  {
   "attachments": {},
   "cell_type": "markdown",
   "id": "8607e4f5",
   "metadata": {},
   "source": [
    "#### *  Wine 결론(회고)\n",
    "*  wine data는 등급 분류라서 data 불균형이 있을 수 있기 때문에 정확도를 보는 것 보다 F1score를 통해 모델 성능평가를 하는 것이 맞음\n",
    "\n",
    "> 만약 Dataset - balaned data 일때:\n",
    ">> Accuracy(정확도) 높은 **Random Forest** 선정\n",
    "\n",
    "> 만약 Dataset - imlbalaned data 일때:\n",
    ">> F1score가 높은 **Random Forest** 선정\n",
    "\n",
    "> 보충하고싶은점 :\n",
    ">> 여러개의 학습 모델 ROC 그래프로 나타내어 최적의 모델 선정\n",
    "\n",
    "> 회고 : \n",
    ">> train,test split할때 random_state =20 일때  Random Forest와 Logistic Regression의 성능평가가 1.0으로 동일시하게 나와서 random_state를 다르게 설정한 데이터에도 동일한 결과치를 보이는 확인하기 위해 두가지만 재분석을 실시한 결과 **동일 하지 않음**\n",
    "\n",
    ">> 분석시 1이라는 수가 나와서 나올 수 있는지 의문이 들긴하지만 현재 random_state =15와 20으로 주어졌을 때에도 동일한 결과치를 낸것으로 보아 와인 등급 분류는  Random Forest 학습모델이 적절하다는 것으로 판단함."
   ]
  },
  {
   "cell_type": "markdown",
   "id": "b9282c57",
   "metadata": {},
   "source": [
    "---"
   ]
  },
  {
   "cell_type": "markdown",
   "id": "009a6fef",
   "metadata": {},
   "source": [
    "#  Project 3\n",
    "\n",
    "## <span style=\"color:blue\">[Breast_cancer_Dataset Classification]"
   ]
  },
  {
   "cell_type": "markdown",
   "id": "699947e4",
   "metadata": {},
   "source": [
    "### 1. 모듈 가져오기"
   ]
  },
  {
   "cell_type": "code",
   "execution_count": 22,
   "id": "e3d560c4",
   "metadata": {},
   "outputs": [],
   "source": [
    "import pandas as pd\n",
    "import numpy as np\n",
    "import matplotlib.pyplot as plt\n",
    "import seaborn as sns\n",
    "\n",
    "from sklearn.datasets import load_digits\n",
    "from sklearn.model_selection import train_test_split\n",
    "from sklearn.metrics import classification_report\n",
    "from sklearn.metrics import confusion_matrix #confusion_matrix\n",
    "\n",
    "from sklearn.tree import DecisionTreeClassifier #Decision Tree\n",
    "from sklearn.ensemble import RandomForestClassifier #Random Forest\n",
    "from sklearn import svm #SVM \n",
    "from sklearn.linear_model import SGDClassifier # SGD Classifier \n",
    "from sklearn.linear_model import LogisticRegression # Logistic Regression \n"
   ]
  },
  {
   "cell_type": "markdown",
   "id": "e02eaef0",
   "metadata": {},
   "source": [
    "### 2.  Digits data  load\n",
    "> * load_breast_cancer()함수로 breast_cancer data lode<br>breast_cancer data 569행 30열 형식"
   ]
  },
  {
   "cell_type": "code",
   "execution_count": 26,
   "id": "54454f44",
   "metadata": {},
   "outputs": [
    {
     "name": "stdout",
     "output_type": "stream",
     "text": [
      "(569, 30)\n",
      "(569,)\n"
     ]
    }
   ],
   "source": [
    "from sklearn.datasets import load_breast_cancer\n",
    "\n",
    "breast_cancer = load_breast_cancer() # breast_cancer dataset 불러오기\n",
    "breast_cancer_data = breast_cancer.data \n",
    "print(breast_cancer_data.shape) # 데이터 개수 확인\n",
    "print(breast_cancer.target.shape) # taget(=label) 데이터 개수 확인"
   ]
  },
  {
   "cell_type": "markdown",
   "id": "d7b38356",
   "metadata": {},
   "source": [
    "### 3. Data Describe\n",
    "> Digits data : 유방암 여부 판단 (양성인지 음성인지)\n",
    ">>* Data total: 569\n",
    ">>* Feature : 30EA (mean radius', 'mean texture'....)\n",
    ">>* Label   : 2EA ('malignant', 'benign')"
   ]
  },
  {
   "cell_type": "code",
   "execution_count": 28,
   "id": "79a91294",
   "metadata": {},
   "outputs": [
    {
     "name": "stdout",
     "output_type": "stream",
     "text": [
      "['mean radius' 'mean texture' 'mean perimeter' 'mean area'\n",
      " 'mean smoothness' 'mean compactness' 'mean concavity'\n",
      " 'mean concave points' 'mean symmetry' 'mean fractal dimension'\n",
      " 'radius error' 'texture error' 'perimeter error' 'area error'\n",
      " 'smoothness error' 'compactness error' 'concavity error'\n",
      " 'concave points error' 'symmetry error' 'fractal dimension error'\n",
      " 'worst radius' 'worst texture' 'worst perimeter' 'worst area'\n",
      " 'worst smoothness' 'worst compactness' 'worst concavity'\n",
      " 'worst concave points' 'worst symmetry' 'worst fractal dimension']\n"
     ]
    },
    {
     "data": {
      "text/plain": [
       "array(['malignant', 'benign'], dtype='<U9')"
      ]
     },
     "execution_count": 28,
     "metadata": {},
     "output_type": "execute_result"
    }
   ],
   "source": [
    "# Feature data name 확인\n",
    "breast_cancer.feature_names\n",
    "print(breast_cancer.feature_names)\n",
    "\n",
    "# Label data name 확인\n",
    "breast_cancer_label = breast_cancer.target\n",
    "breast_cancer.target_names"
   ]
  },
  {
   "cell_type": "markdown",
   "id": "ce3c9a32",
   "metadata": {},
   "source": [
    "### 4. train, test dataset  split"
   ]
  },
  {
   "cell_type": "code",
   "execution_count": 29,
   "id": "b700d7ee",
   "metadata": {},
   "outputs": [],
   "source": [
    "# train, test 데이터 분리 \n",
    "# test data size => 총 데이터의 20%\n",
    "breast_cancerX_train, breast_cancerX_test, breast_cancerY_train, breast_cancerY_test = train_test_split(breast_cancer_data, \n",
    "                                                                                        breast_cancer_label, \n",
    "                                                                                        test_size=0.2, \n",
    "                                                                                        random_state=30)"
   ]
  },
  {
   "cell_type": "markdown",
   "id": "06afd236",
   "metadata": {},
   "source": [
    "### 5. 모델 학습(train) & 예측(test)\n",
    "> 1. Decision Tree \n",
    "\n",
    "> 2. Random Forest \n",
    "\n",
    "> 3. SVM\n",
    "\n",
    "> 4. SGD Classifier\n",
    "\n",
    "> 5. Logistic Regression \n"
   ]
  },
  {
   "cell_type": "markdown",
   "id": "1b0ea093",
   "metadata": {},
   "source": [
    "#### 5.1 Decision Tree \n",
    "> random_state =30일때 : 전체 정확도 0.93"
   ]
  },
  {
   "cell_type": "code",
   "execution_count": 33,
   "id": "fc4a7535",
   "metadata": {},
   "outputs": [
    {
     "name": "stdout",
     "output_type": "stream",
     "text": [
      "              precision    recall  f1-score   support\n",
      "\n",
      "           0       0.93      0.89      0.91        44\n",
      "           1       0.93      0.96      0.94        70\n",
      "\n",
      "    accuracy                           0.93       114\n",
      "   macro avg       0.93      0.92      0.93       114\n",
      "weighted avg       0.93      0.93      0.93       114\n",
      "\n",
      "[[39  5]\n",
      " [ 3 67]]\n"
     ]
    },
    {
     "data": {
      "image/png": "[encoded data removed]",
      "text/plain": [
       "<Figure size 432x288 with 2 Axes>"
      ]
     },
     "metadata": {
      "needs_background": "light"
     },
     "output_type": "display_data"
    }
   ],
   "source": [
    "# 1. Decision Tree \n",
    "\n",
    "from sklearn.tree import DecisionTreeClassifier\n",
    "\n",
    "decision_tree = DecisionTreeClassifier(random_state=30)\n",
    "decision_tree.fit(breast_cancerX_train,breast_cancerY_train) # Decision Tree로 학습 \n",
    "breast_cancerY_pred = decision_tree.predict(breast_cancerX_test) #Decision Tree 학습된 모델을 test data로 검증 \n",
    "\n",
    "print(classification_report(breast_cancerY_test, breast_cancerY_pred))# 실제 label과 학습으로 예측된 label 결과 비교\n",
    "print(confusion_matrix(breast_cancerY_test, breast_cancerY_pred))\n",
    "\n",
    "fig = sns.heatmap(confusion_matrix(breast_cancerY_test, breast_cancerY_pred),annot=True,fmt='d') \n",
    "# annot : confusion_matrix 상에 각 케이스 숫자를 나타 낼지 여부 결정\n",
    "#fmt : format으로 'd': decimal: 십진수 형태로 숫자 표기\n",
    "plt.title('Confusion Matrix-[Decision Tree]')\n",
    "plt.xlabel('breast_cancerY_test(real value)')\n",
    "plt.ylabel('breast_cancerY_pred(predicted value)')\n",
    "plt.show()"
   ]
  },
  {
   "cell_type": "markdown",
   "id": "2829a2d5",
   "metadata": {},
   "source": [
    "### 5.2 Random Forest \n",
    "> random_state =30일때 : 전체 정확도 0.95"
   ]
  },
  {
   "cell_type": "code",
   "execution_count": 34,
   "id": "6f37f4cc",
   "metadata": {},
   "outputs": [
    {
     "name": "stdout",
     "output_type": "stream",
     "text": [
      "              precision    recall  f1-score   support\n",
      "\n",
      "           0       0.97      0.89      0.93        44\n",
      "           1       0.93      0.99      0.96        70\n",
      "\n",
      "    accuracy                           0.95       114\n",
      "   macro avg       0.95      0.94      0.94       114\n",
      "weighted avg       0.95      0.95      0.95       114\n",
      "\n",
      "[[39  5]\n",
      " [ 1 69]]\n"
     ]
    },
    {
     "data": {
      "image/png": "[encoded data removed]",
      "text/plain": [
       "<Figure size 432x288 with 2 Axes>"
      ]
     },
     "metadata": {
      "needs_background": "light"
     },
     "output_type": "display_data"
    }
   ],
   "source": [
    "#Random Forest \n",
    "\n",
    "from sklearn.ensemble import RandomForestClassifier\n",
    "\n",
    "random_forest = RandomForestClassifier(random_state=30)\n",
    "random_forest.fit(breast_cancerX_train,breast_cancerY_train)\n",
    "breast_cancerY_pred = random_forest.predict(breast_cancerX_test)\n",
    "\n",
    "print(classification_report(breast_cancerY_test, breast_cancerY_pred))\n",
    "print(confusion_matrix(breast_cancerY_test, breast_cancerY_pred))\n",
    "fig = sns.heatmap(confusion_matrix(breast_cancerY_test, breast_cancerY_pred),annot=True,fmt='d')\n",
    "plt.title('Confusion Matrix-[Random Forest ]')\n",
    "plt.xlabel('breast_cancerY_test(real value)')\n",
    "plt.ylabel('breast_cancerY_pred(predicted value)')\n",
    "plt.show()"
   ]
  },
  {
   "cell_type": "markdown",
   "id": "d48f501d",
   "metadata": {},
   "source": [
    "### 5.3 SVM\n",
    "> 전체 정확도 0.90"
   ]
  },
  {
   "cell_type": "code",
   "execution_count": 35,
   "id": "b197d3b1",
   "metadata": {},
   "outputs": [
    {
     "name": "stdout",
     "output_type": "stream",
     "text": [
      "              precision    recall  f1-score   support\n",
      "\n",
      "           0       0.97      0.77      0.86        44\n",
      "           1       0.87      0.99      0.93        70\n",
      "\n",
      "    accuracy                           0.90       114\n",
      "   macro avg       0.92      0.88      0.89       114\n",
      "weighted avg       0.91      0.90      0.90       114\n",
      "\n",
      "[[34 10]\n",
      " [ 1 69]]\n"
     ]
    },
    {
     "data": {
      "image/png": "[encoded data removed]",
      "text/plain": [
       "<Figure size 432x288 with 2 Axes>"
      ]
     },
     "metadata": {
      "needs_background": "light"
     },
     "output_type": "display_data"
    }
   ],
   "source": [
    "#SVM \n",
    "from sklearn import svm\n",
    "svm_model = svm.SVC()\n",
    "\n",
    "svm_model.fit(breast_cancerX_train,breast_cancerY_train)\n",
    "breast_cancerY_pred = svm_model.predict(breast_cancerX_test)\n",
    "\n",
    "print(classification_report(breast_cancerY_test, breast_cancerY_pred))\n",
    "print(confusion_matrix(breast_cancerY_test, breast_cancerY_pred))\n",
    "fig = sns.heatmap(confusion_matrix(breast_cancerY_test, breast_cancerY_pred),annot=True,fmt='d')\n",
    "plt.title('Confusion Matrix-[SVM ]')\n",
    "plt.xlabel('breast_cancerY_test(real value)')\n",
    "plt.ylabel('breast_cancerY_pred(predicted value)')\n",
    "plt.show()"
   ]
  },
  {
   "cell_type": "markdown",
   "id": "8c7e7fa5",
   "metadata": {},
   "source": [
    "### 5.4 SGD Classifier\n",
    "> 전체 정확도 0.59"
   ]
  },
  {
   "cell_type": "code",
   "execution_count": 36,
   "id": "a358cd5e",
   "metadata": {},
   "outputs": [
    {
     "name": "stdout",
     "output_type": "stream",
     "text": [
      "              precision    recall  f1-score   support\n",
      "\n",
      "           0       0.48      1.00      0.65        44\n",
      "           1       1.00      0.33      0.49        70\n",
      "\n",
      "    accuracy                           0.59       114\n",
      "   macro avg       0.74      0.66      0.57       114\n",
      "weighted avg       0.80      0.59      0.56       114\n",
      "\n",
      "[[44  0]\n",
      " [47 23]]\n"
     ]
    },
    {
     "data": {
      "image/png": "[encoded data removed]",
      "text/plain": [
       "<Figure size 432x288 with 2 Axes>"
      ]
     },
     "metadata": {
      "needs_background": "light"
     },
     "output_type": "display_data"
    }
   ],
   "source": [
    "# SGD Classifier \n",
    "from sklearn.linear_model import SGDClassifier\n",
    "sgd_model = SGDClassifier()\n",
    "\n",
    "sgd_model.fit(breast_cancerX_train,breast_cancerY_train)\n",
    "breast_cancerY_pred = sgd_model.predict(breast_cancerX_test)\n",
    "\n",
    "print(classification_report(breast_cancerY_test, breast_cancerY_pred))\n",
    "print(confusion_matrix(breast_cancerY_test, breast_cancerY_pred))\n",
    "fig = sns.heatmap(confusion_matrix(breast_cancerY_test, breast_cancerY_pred),annot=True,fmt='d')\n",
    "plt.title('Confusion Matrix-[SGD Classifier] ')\n",
    "plt.xlabel('breast_cancerY_test(real value)')\n",
    "plt.ylabel('breast_cancerY_pred(predicted value)')\n",
    "plt.show()"
   ]
  },
  {
   "cell_type": "markdown",
   "id": "9d87ce75",
   "metadata": {},
   "source": [
    "### 5.5 Logistic Regression \n",
    "> 전체 정확도 0.89"
   ]
  },
  {
   "cell_type": "code",
   "execution_count": 37,
   "id": "4d43f739",
   "metadata": {},
   "outputs": [
    {
     "name": "stdout",
     "output_type": "stream",
     "text": [
      "              precision    recall  f1-score   support\n",
      "\n",
      "           0       0.88      0.84      0.86        44\n",
      "           1       0.90      0.93      0.92        70\n",
      "\n",
      "    accuracy                           0.89       114\n",
      "   macro avg       0.89      0.88      0.89       114\n",
      "weighted avg       0.89      0.89      0.89       114\n",
      "\n",
      "[[37  7]\n",
      " [ 5 65]]\n"
     ]
    },
    {
     "data": {
      "image/png": "[encoded data removed]",
      "text/plain": [
       "<Figure size 432x288 with 2 Axes>"
      ]
     },
     "metadata": {
      "needs_background": "light"
     },
     "output_type": "display_data"
    }
   ],
   "source": [
    "# Logistic Regression  \n",
    "from sklearn.linear_model import LogisticRegression\n",
    "logistic_model = LogisticRegression(max_iter = 3000)\n",
    "\n",
    "logistic_model.fit(breast_cancerX_train,breast_cancerY_train)\n",
    "breast_cancerY_pred = logistic_model.predict(breast_cancerX_test)\n",
    "\n",
    "print(classification_report(breast_cancerY_test, breast_cancerY_pred))\n",
    "print(confusion_matrix(breast_cancerY_test, breast_cancerY_pred))\n",
    "fig = sns.heatmap(confusion_matrix(breast_cancerY_test, breast_cancerY_pred),annot=True,fmt='d')\n",
    "plt.title('Confusion Matrix-[Logistic Regression] ')\n",
    "plt.xlabel('breast_cancerY_test(real value)')\n",
    "plt.ylabel('breast_cancerY_pred(predicted value)')\n",
    "plt.show()"
   ]
  },
  {
   "cell_type": "markdown",
   "id": "56500911",
   "metadata": {},
   "source": [
    "### 6. confusion matrix\n",
    "\n",
    "#### * 성능지표\n",
    "<img src =https://d3s0tskafalll9.cloudfront.net/media/images/E-2-3.max-800x600_mMmzi4T.jpg>\n",
    "\n",
    "> Precision (정밀도) :   $Precision =$$TP \\over TP+FP$\n",
    "\n",
    "> Recall (재현율, 감도) : $ Recall =$$ TP \\over TP+FN$\n",
    "\n",
    "> Accuracy (정확도) : $ Accuracy =$$ TP+TN \\over TP+TN+FP+FN$\n",
    "\n",
    "> F1 score (Recall과 Precision의 조화평균):  \n",
    "  $$ F1score ={2 \\times} \\frac {Precision \\times Recall} {Precision + Recall}$$"
   ]
  },
  {
   "cell_type": "markdown",
   "id": "5eeed52c",
   "metadata": {},
   "source": [
    "#### *  Breast_cancer결론(회고)\n",
    "*  breast_cancer data는 양성인지 음성인지 정확히 분류해야하는 문제이기 때문에 F1score 대비 정확도가 중요하다고 판단\n",
    "\n",
    "> 만약 Dataset - balaned data 일때:\n",
    ">> Accuracy(정확도) 높은 **Random Forest** 선정\n",
    "\n",
    "> 만약 Dataset - imlbalaned data 일때:\n",
    ">> F1score가 높은 **Random Forest** 선정\n",
    "\n",
    "> 보충하고싶은점 :\n",
    ">> 여러개의 학습 모델 ROC 그래프로 나타내어 최적의 모델 선정"
   ]
  },
  {
   "cell_type": "markdown",
   "id": "56425f68",
   "metadata": {},
   "source": [
    "---"
   ]
  },
  {
   "cell_type": "markdown",
   "id": "48a5ddb5",
   "metadata": {},
   "source": [
    "## 전체 회고\n",
    "* confusion_matrix와 히트맵이 상당히 닮아 있어 히트맵으로 시각화 함  (-feat : 황무성 퍼실님)\n",
    "* confusion_matrix  히트맵으로 이해 및 계산법 <br> (참고자료)https://nittaku.tistory.com/295\n",
    "* 아직 배우는 단계라서 표현하지 못했지만, 5가지 학습모델들을 ROC 그래프로 나타내어 자체 성능평가를 진행할 수 있는 기틀을 만들고 싶다는 생각이 들었음.\n",
    "* Data set 특성에 따라 학습모델이 어느정도 결정되는 느낌이 들었음. \n",
    "* 로지스틱 회귀 모델을 구현하는 도중 경고 오류가 눈에 밟혀 보이지 않게 해결함 ( 반복학습 횟수가 작아 나는 오류였고 반복횟수를 높게 올렸음 1000,2000 했을 때에도 계속 경고문이 나왔고 3000했을때 안나옴, 이 부분은 약간의 범위 노가다가 필요한것 같음)\n",
    "* 위의 경고문 원인 및 해결법은 참고 자료 첨부함. \n",
    "* 아직 미숙해서 성능 평가시 시간이 많이 걸렸지만 그만큼 보람있는 프로젝트임"
   ]
  },
  {
   "cell_type": "markdown",
   "id": "f168abca",
   "metadata": {},
   "source": [
    "---"
   ]
  },
  {
   "cell_type": "code",
   "execution_count": null,
   "id": "60112964",
   "metadata": {},
   "outputs": [],
   "source": []
  }
 ],
 "metadata": {
  "kernelspec": {
   "display_name": "Python 3 (ipykernel)",
   "language": "python",
   "name": "python3"
  },
  "language_info": {
   "codemirror_mode": {
    "name": "ipython",
    "version": 3
   },
   "file_extension": ".py",
   "mimetype": "text/x-python",
   "name": "python",
   "nbconvert_exporter": "python",
   "pygments_lexer": "ipython3",
   "version": "3.9.7"
  }
 },
 "nbformat": 4,
 "nbformat_minor": 5
}
