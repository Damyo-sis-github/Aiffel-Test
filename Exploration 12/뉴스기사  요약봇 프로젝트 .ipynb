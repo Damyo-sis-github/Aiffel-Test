{
 "cells": [
  {
   "cell_type": "markdown",
   "id": "678b40d6",
   "metadata": {},
   "source": [
    "# 뉴스 기사 요약봇 프로젝트 "
   ]
  },
  {
   "cell_type": "code",
   "execution_count": 1,
   "id": "214b9ca1",
   "metadata": {},
   "outputs": [
    {
     "name": "stderr",
     "output_type": "stream",
     "text": [
      "[nltk_data] Downloading package stopwords to /aiffel/nltk_data...\n",
      "[nltk_data]   Unzipping corpora/stopwords.zip.\n"
     ]
    }
   ],
   "source": [
    "import nltk # 불용어 사전 다운로드\n",
    "nltk.download('stopwords') \n",
    "\n",
    "import os\n",
    "import re\n",
    "import nltk # version : 3.6.5\n",
    "import tensorflow # version : 2.6.0\n",
    "import summa # version : 1.2.0\n",
    "import warnings\n",
    "import numpy as np\n",
    "import pandas as pd\n",
    "import urllib.request # 뉴스 기사 데이터를 다운로드 하기위한\n",
    "import matplotlib.pyplot as plt\n",
    "\n",
    "from importlib.metadata import version\n",
    "from nltk.corpus import stopwords\n",
    "from bs4 import BeautifulSoup \n",
    "from bs4 import BeautifulSoup \n",
    "from tensorflow.keras.preprocessing.text import Tokenizer \n",
    "from tensorflow.keras.preprocessing.sequence import pad_sequences\n",
    "\n",
    "warnings.filterwarnings(\"ignore\", category=UserWarning, module='bs4')"
   ]
  },
  {
   "cell_type": "markdown",
   "id": "8b8e6c25",
   "metadata": {},
   "source": [
    "## Step 1. 데이터 수집\n",
    "\n",
    "- Data : https://github.com/sunnysai12345/News_Summary \n",
    "- 위의 링크에 있는 뉴스 기사 데이터(news_summary_more.csv)사용"
   ]
  },
  {
   "cell_type": "code",
   "execution_count": 2,
   "id": "edf23bea",
   "metadata": {},
   "outputs": [],
   "source": [
    "import urllib.request\n",
    "urllib.request.urlretrieve(\"https://raw.githubusercontent.com/sunnysai12345/News_Summary/master/news_summary_more.csv\", filename=\"news_summary_more.csv\")\n",
    "data = pd.read_csv('news_summary_more.csv', encoding='iso-8859-1')"
   ]
  },
  {
   "cell_type": "code",
   "execution_count": 3,
   "id": "8c3825c2",
   "metadata": {},
   "outputs": [
    {
     "name": "stdout",
     "output_type": "stream",
     "text": [
      "전체 Data 샘플수 : 98401\n"
     ]
    }
   ],
   "source": [
    "print(\"전체 Data 샘플수 :\", (len(data)))"
   ]
  },
  {
   "cell_type": "code",
   "execution_count": 12,
   "id": "269ab880",
   "metadata": {},
   "outputs": [
    {
     "data": {
      "text/html": [
       "<div>\n",
       "<style scoped>\n",
       "    .dataframe tbody tr th:only-of-type {\n",
       "        vertical-align: middle;\n",
       "    }\n",
       "\n",
       "    .dataframe tbody tr th {\n",
       "        vertical-align: top;\n",
       "    }\n",
       "\n",
       "    .dataframe thead th {\n",
       "        text-align: right;\n",
       "    }\n",
       "</style>\n",
       "<table border=\"1\" class=\"dataframe\">\n",
       "  <thead>\n",
       "    <tr style=\"text-align: right;\">\n",
       "      <th></th>\n",
       "      <th>headlines</th>\n",
       "      <th>text</th>\n",
       "    </tr>\n",
       "  </thead>\n",
       "  <tbody>\n",
       "    <tr>\n",
       "      <th>87196</th>\n",
       "      <td>Philippine Prez vows to ignore Supreme Court o...</td>\n",
       "      <td>Philippine President Rodrigo Duterte has said ...</td>\n",
       "    </tr>\n",
       "    <tr>\n",
       "      <th>75189</th>\n",
       "      <td>We are not running away from the country: Amra...</td>\n",
       "      <td>Realty firm Amrapali Group's MD Anil Sharma ha...</td>\n",
       "    </tr>\n",
       "    <tr>\n",
       "      <th>90181</th>\n",
       "      <td>Rishi Kapoor, Big B to work together in upcomi...</td>\n",
       "      <td>Actor Rishi Kapoor announced on Twitter that h...</td>\n",
       "    </tr>\n",
       "    <tr>\n",
       "      <th>19885</th>\n",
       "      <td>My daughter was molested on London metro: Osca...</td>\n",
       "      <td>Oscar-winning actress Emma Thompson revealed t...</td>\n",
       "    </tr>\n",
       "    <tr>\n",
       "      <th>78079</th>\n",
       "      <td>Renault-Nissan becomes world's largest carmaker</td>\n",
       "      <td>Renault reported record results in the first h...</td>\n",
       "    </tr>\n",
       "  </tbody>\n",
       "</table>\n",
       "</div>"
      ],
      "text/plain": [
       "                                               headlines  \\\n",
       "87196  Philippine Prez vows to ignore Supreme Court o...   \n",
       "75189  We are not running away from the country: Amra...   \n",
       "90181  Rishi Kapoor, Big B to work together in upcomi...   \n",
       "19885  My daughter was molested on London metro: Osca...   \n",
       "78079    Renault-Nissan becomes world's largest carmaker   \n",
       "\n",
       "                                                    text  \n",
       "87196  Philippine President Rodrigo Duterte has said ...  \n",
       "75189  Realty firm Amrapali Group's MD Anil Sharma ha...  \n",
       "90181  Actor Rishi Kapoor announced on Twitter that h...  \n",
       "19885  Oscar-winning actress Emma Thompson revealed t...  \n",
       "78079  Renault reported record results in the first h...  "
      ]
     },
     "execution_count": 12,
     "metadata": {},
     "output_type": "execute_result"
    }
   ],
   "source": [
    "data.sample(5)"
   ]
  },
  {
   "cell_type": "markdown",
   "id": "b3193cb8",
   "metadata": {},
   "source": [
    "# Step 2. 데이터 전처리 (추상적 요약)"
   ]
  },
  {
   "cell_type": "markdown",
   "id": "f5ddf9e6",
   "metadata": {},
   "source": [
    "### 중복 샘플과 NULL 값이 존재하는 샘플 제거"
   ]
  },
  {
   "cell_type": "code",
   "execution_count": 6,
   "id": "39b899e3",
   "metadata": {},
   "outputs": [
    {
     "name": "stdout",
     "output_type": "stream",
     "text": [
      "text 열에서 중복을 배제한 유일한 샘플의 수 : 98360\n",
      "headlines 열에서 중복을 배제한 유일한 샘플의 수 : 98280\n"
     ]
    }
   ],
   "source": [
    "# 데이터의 중복 샘플 유무를 확인\n",
    "\n",
    "print('text 열에서 중복을 배제한 유일한 샘플의 수 :', data['text'].nunique())\n",
    "print('headlines 열에서 중복을 배제한 유일한 샘플의 수 :', data['headlines'].nunique())"
   ]
  },
  {
   "cell_type": "markdown",
   "id": "88aad560",
   "metadata": {},
   "source": [
    "전체 Data : 98401중 중복 제외한다면, text : 98,360EA, headlines : 98,280EA의 유니크한 데이터 존재 \n",
    "\n",
    "* headlines에는 간단한 요약들도 많아서 Text가 달라도 headlines는 동일할 수 있다.\n",
    "\n",
    "*  Text 자체가 중복이 된 경우는 중복 샘플이므로 제거해야한다."
   ]
  },
  {
   "cell_type": "code",
   "execution_count": 7,
   "id": "c6941349",
   "metadata": {},
   "outputs": [
    {
     "name": "stdout",
     "output_type": "stream",
     "text": [
      "전체 샘플수 : 98360\n"
     ]
    }
   ],
   "source": [
    "# inplace=True 를 설정하면 DataFrame 타입 값을 return 하지 않고 data 내부를 직접적으로 바꿈\n",
    "data.drop_duplicates(subset = ['text'], inplace=True)\n",
    "print('전체 샘플수 :', (len(data)))"
   ]
  },
  {
   "cell_type": "markdown",
   "id": "6a868b84",
   "metadata": {},
   "source": [
    "중복 제거 이후 전체 샘플 수 : 98,401 -> 98,360EA로 줄었음 \n",
    "\n",
    "- 데이터들 중 Null 값 확인\n",
    "> NUll값 있다면  제거"
   ]
  },
  {
   "cell_type": "code",
   "execution_count": 8,
   "id": "f3d6c0c7",
   "metadata": {},
   "outputs": [
    {
     "name": "stdout",
     "output_type": "stream",
     "text": [
      "headlines    0\n",
      "text         0\n",
      "dtype: int64\n"
     ]
    }
   ],
   "source": [
    "# Null값 있는지 확인하기\n",
    "print(data.isnull().sum())"
   ]
  },
  {
   "attachments": {
    "image.png": {
     "image/png": "[encoded data removed]"
    }
   },
   "cell_type": "markdown",
   "id": "724add37",
   "metadata": {},
   "source": [
    "**Null값 있었다면\"\"\n",
    "\n",
    "- dropna()함수를 통해 Null값 제거\n",
    "> ex : ![image.png](attachment:image.png)"
   ]
  },
  {
   "cell_type": "markdown",
   "id": "0a54cc9b",
   "metadata": {},
   "source": [
    "### 텍스트 정규화와 불용어 제거\n",
    "\n",
    "**텍스트 정규화(text normalization) 란**, 같은 의미이지만 다른 표현으로 사용되는 단어들을 같은 단어로 통일시켜주는 역할로, it'll = it will, mustn't = must not 와 같은 의미의 표현들을 통일시키는 과정. 텍스트 정규화를 통해 기계의 연산량을 줄일 수 있다."
   ]
  },
  {
   "cell_type": "code",
   "execution_count": 9,
   "id": "3aefc97a",
   "metadata": {},
   "outputs": [
    {
     "name": "stdout",
     "output_type": "stream",
     "text": [
      "정규화 사전의 수:  120\n"
     ]
    }
   ],
   "source": [
    "contractions = {\"ain't\": \"is not\", \"aren't\": \"are not\",\"can't\": \"cannot\", \"'cause\": \"because\", \"could've\": \"could have\", \"couldn't\": \"could not\",\n",
    "                           \"didn't\": \"did not\",  \"doesn't\": \"does not\", \"don't\": \"do not\", \"hadn't\": \"had not\", \"hasn't\": \"has not\", \"haven't\": \"have not\",\n",
    "                           \"he'd\": \"he would\",\"he'll\": \"he will\", \"he's\": \"he is\", \"how'd\": \"how did\", \"how'd'y\": \"how do you\", \"how'll\": \"how will\", \"how's\": \"how is\",\n",
    "                           \"I'd\": \"I would\", \"I'd've\": \"I would have\", \"I'll\": \"I will\", \"I'll've\": \"I will have\",\"I'm\": \"I am\", \"I've\": \"I have\", \"i'd\": \"i would\",\n",
    "                           \"i'd've\": \"i would have\", \"i'll\": \"i will\",  \"i'll've\": \"i will have\",\"i'm\": \"i am\", \"i've\": \"i have\", \"isn't\": \"is not\", \"it'd\": \"it would\",\n",
    "                           \"it'd've\": \"it would have\", \"it'll\": \"it will\", \"it'll've\": \"it will have\",\"it's\": \"it is\", \"let's\": \"let us\", \"ma'am\": \"madam\",\n",
    "                           \"mayn't\": \"may not\", \"might've\": \"might have\",\"mightn't\": \"might not\",\"mightn't've\": \"might not have\", \"must've\": \"must have\",\n",
    "                           \"mustn't\": \"must not\", \"mustn't've\": \"must not have\", \"needn't\": \"need not\", \"needn't've\": \"need not have\",\"o'clock\": \"of the clock\",\n",
    "                           \"oughtn't\": \"ought not\", \"oughtn't've\": \"ought not have\", \"shan't\": \"shall not\", \"sha'n't\": \"shall not\", \"shan't've\": \"shall not have\",\n",
    "                           \"she'd\": \"she would\", \"she'd've\": \"she would have\", \"she'll\": \"she will\", \"she'll've\": \"she will have\", \"she's\": \"she is\",\n",
    "                           \"should've\": \"should have\", \"shouldn't\": \"should not\", \"shouldn't've\": \"should not have\", \"so've\": \"so have\",\"so's\": \"so as\",\n",
    "                           \"this's\": \"this is\",\"that'd\": \"that would\", \"that'd've\": \"that would have\", \"that's\": \"that is\", \"there'd\": \"there would\",\n",
    "                           \"there'd've\": \"there would have\", \"there's\": \"there is\", \"here's\": \"here is\",\"they'd\": \"they would\", \"they'd've\": \"they would have\",\n",
    "                           \"they'll\": \"they will\", \"they'll've\": \"they will have\", \"they're\": \"they are\", \"they've\": \"they have\", \"to've\": \"to have\",\n",
    "                           \"wasn't\": \"was not\", \"we'd\": \"we would\", \"we'd've\": \"we would have\", \"we'll\": \"we will\", \"we'll've\": \"we will have\", \"we're\": \"we are\",\n",
    "                           \"we've\": \"we have\", \"weren't\": \"were not\", \"what'll\": \"what will\", \"what'll've\": \"what will have\", \"what're\": \"what are\",\n",
    "                           \"what's\": \"what is\", \"what've\": \"what have\", \"when's\": \"when is\", \"when've\": \"when have\", \"where'd\": \"where did\", \"where's\": \"where is\",\n",
    "                           \"where've\": \"where have\", \"who'll\": \"who will\", \"who'll've\": \"who will have\", \"who's\": \"who is\", \"who've\": \"who have\",\n",
    "                           \"why's\": \"why is\", \"why've\": \"why have\", \"will've\": \"will have\", \"won't\": \"will not\", \"won't've\": \"will not have\",\n",
    "                           \"would've\": \"would have\", \"wouldn't\": \"would not\", \"wouldn't've\": \"would not have\", \"y'all\": \"you all\",\n",
    "                           \"y'all'd\": \"you all would\",\"y'all'd've\": \"you all would have\",\"y'all're\": \"you all are\",\"y'all've\": \"you all have\",\n",
    "                           \"you'd\": \"you would\", \"you'd've\": \"you would have\", \"you'll\": \"you will\", \"you'll've\": \"you will have\",\n",
    "                           \"you're\": \"you are\", \"you've\": \"you have\"}\n",
    "\n",
    "print(\"정규화 사전의 수: \", len(contractions))"
   ]
  },
  {
   "cell_type": "markdown",
   "id": "e7360f0d",
   "metadata": {},
   "source": [
    "**\"불용어\"란?** 자연어 처리를 할 때 의미를 분석하고 요약하는 데는 거의 의미가 없는 단어이다.\n",
    "\n",
    "* NLTK 에서 제공하는 불용어 리스트를 참조해, 샘플에서 불용어를 제거한다.\n",
    "\n",
    "* 불용어 리스트에는 총 179개의 불용어가 존재"
   ]
  },
  {
   "cell_type": "code",
   "execution_count": 10,
   "id": "74ec90c3",
   "metadata": {},
   "outputs": [
    {
     "name": "stdout",
     "output_type": "stream",
     "text": [
      "불용어 개수 : 179\n",
      "['i', 'me', 'my', 'myself', 'we', 'our', 'ours', 'ourselves', 'you', \"you're\", \"you've\", \"you'll\", \"you'd\", 'your', 'yours', 'yourself', 'yourselves', 'he', 'him', 'his', 'himself', 'she', \"she's\", 'her', 'hers', 'herself', 'it', \"it's\", 'its', 'itself', 'they', 'them', 'their', 'theirs', 'themselves', 'what', 'which', 'who', 'whom', 'this', 'that', \"that'll\", 'these', 'those', 'am', 'is', 'are', 'was', 'were', 'be', 'been', 'being', 'have', 'has', 'had', 'having', 'do', 'does', 'did', 'doing', 'a', 'an', 'the', 'and', 'but', 'if', 'or', 'because', 'as', 'until', 'while', 'of', 'at', 'by', 'for', 'with', 'about', 'against', 'between', 'into', 'through', 'during', 'before', 'after', 'above', 'below', 'to', 'from', 'up', 'down', 'in', 'out', 'on', 'off', 'over', 'under', 'again', 'further', 'then', 'once', 'here', 'there', 'when', 'where', 'why', 'how', 'all', 'any', 'both', 'each', 'few', 'more', 'most', 'other', 'some', 'such', 'no', 'nor', 'not', 'only', 'own', 'same', 'so', 'than', 'too', 'very', 's', 't', 'can', 'will', 'just', 'don', \"don't\", 'should', \"should've\", 'now', 'd', 'll', 'm', 'o', 're', 've', 'y', 'ain', 'aren', \"aren't\", 'couldn', \"couldn't\", 'didn', \"didn't\", 'doesn', \"doesn't\", 'hadn', \"hadn't\", 'hasn', \"hasn't\", 'haven', \"haven't\", 'isn', \"isn't\", 'ma', 'mightn', \"mightn't\", 'mustn', \"mustn't\", 'needn', \"needn't\", 'shan', \"shan't\", 'shouldn', \"shouldn't\", 'wasn', \"wasn't\", 'weren', \"weren't\", 'won', \"won't\", 'wouldn', \"wouldn't\"]\n"
     ]
    }
   ],
   "source": [
    "print('불용어 개수 :', len(stopwords.words('english') ))\n",
    "print(stopwords.words('english'))"
   ]
  },
  {
   "cell_type": "markdown",
   "id": "06497915",
   "metadata": {},
   "source": [
    "데이터 전처리 함수 \"preprocess_sentence\"를 생성한다.\n",
    "\n",
    "* 텍스트 소문자화\n",
    "\n",
    "* html 태그 제거\n",
    "\n",
    "* 괄호로 닫힌 문자열 (...) 제거\n",
    "\n",
    "* 정규 표현식을 통해 각종 특수문자 제거\n",
    "\n",
    "* 소유격 제거\n",
    "\n",
    "이후, if 조건문을 이용하여 text에 있는 불용어를 제거하고, headlines에 있는 불용어는 제거하지 않음\n",
    "\n",
    "* text 데이터만 불용어 제거하기 위해 함수의 인자로 remove_stopwords 추가\n",
    "\n",
    "* Abstractive한 문장 요약 결과문이 자연스러운 문장이 되려면 이 불용어들이 headlines에는 남아 있는 게 더 좋음"
   ]
  },
  {
   "cell_type": "code",
   "execution_count": 11,
   "id": "b622378e",
   "metadata": {},
   "outputs": [],
   "source": [
    "# 데이터 전처리 함수\n",
    "def preprocess_sentence(sentence, remove_stopwords=True):\n",
    "    sentence = sentence.lower() # 텍스트 소문자화\n",
    "    sentence = BeautifulSoup(sentence, \"lxml\").text # <br />, <a href = ...> 등의 html 태그 제거\n",
    "    sentence = re.sub(r'\\([^)]*\\)', '', sentence) # 괄호로 닫힌 문자열 (...) 제거 Ex) my husband (and myself!) for => my husband for\n",
    "    sentence = re.sub('\"','', sentence) # 쌍따옴표 \" 제거\n",
    "    sentence = ' '.join([contractions[t] if t in contractions else t for t in sentence.split(\" \")]) # 약어 정규화\n",
    "    sentence = re.sub(r\"'s\\b\",\"\", sentence) # 소유격 제거. Ex) roland's -> roland\n",
    "    sentence = re.sub(\"[^a-zA-Z]\", \" \", sentence) # 영어 외 문자(숫자, 특수문자 등) 공백으로 변환\n",
    "    sentence = re.sub('[m]{2,}', 'mm', sentence) # m이 3개 이상이면 2개로 변경. Ex) ummmmmmm yeah -> umm yeah\n",
    "    \n",
    "    # 불용어 제거 (Text)\n",
    "    if remove_stopwords:\n",
    "        tokens = ' '.join(word for word in sentence.split() if not word in stopwords.words('english') if len(word) > 1)\n",
    "    # 불용어 미제거 (Summary)\n",
    "    else:\n",
    "        tokens = ' '.join(word for word in sentence.split() if len(word) > 1)\n",
    "    return tokens"
   ]
  },
  {
   "cell_type": "code",
   "execution_count": 14,
   "id": "291c6dd2",
   "metadata": {},
   "outputs": [
    {
     "name": "stdout",
     "output_type": "stream",
     "text": [
      "text:  everything bought great infact ordered twice third ordered wasfor mother father\n",
      "headlines: great way to start the day\n"
     ]
    }
   ],
   "source": [
    "# 전처리 전, 후 결과 확인 \n",
    "# 임의의 text와 headlines를 만들어 함수를 호출\n",
    "\n",
    "temp_text = 'Everything I bought was great, infact I ordered twice and the third ordered was<br />for my mother and father.'\n",
    "temp_headlines = 'Great way to start (or finish) the day!!!'\n",
    "\n",
    "print(\"text: \", preprocess_sentence(temp_text))\n",
    "print(\"headlines:\", preprocess_sentence(temp_headlines, False))  # 불용어를 제거하지 않습니다."
   ]
  },
  {
   "cell_type": "markdown",
   "id": "ee4687ae",
   "metadata": {},
   "source": [
    "Data 전체에 대해서 전처리를 수행!\n",
    "\n",
    "* text의 경우 : 불용어를 제거\n",
    "\n",
    "* headlines의 경우 : 불요어를 제거하지 않을것이므로 따로 호출해서 진행\n",
    "\n",
    " > text를 전처리하고 결과를 확인을 위해 상위 5개의 data출력\n",
    " \n",
    " > headlines에 대해서 불용어 제거를 수행하지 않는다는 의미에서 두번째 인자로 False를 넣어줌"
   ]
  },
  {
   "cell_type": "code",
   "execution_count": 16,
   "id": "3a9526cc",
   "metadata": {},
   "outputs": [
    {
     "name": "stdout",
     "output_type": "stream",
     "text": [
      "text 전처리 후 결과:  ['saurav kant alumnus upgrad iiit pg program machine learning artificial intelligence sr systems engineer infosys almost years work experience program upgrad degree career support helped transition data scientist tech mahindra salary hike upgrad online power learning powered lakh careers', 'kunal shah credit card bill payment platform cred gave users chance win free food swiggy one year pranav kaushik delhi techie bagged reward spending cred coins users get one cred coin per rupee bill paid used avail rewards brands like ixigo bookmyshow ubereats cult fit', 'new zealand defeated india wickets fourth odi hamilton thursday win first match five match odi series india lost international match rohit sharma captaincy consecutive victories dating back march match witnessed india getting seventh lowest total odi cricket history', 'aegon life iterm insurance plan customers enjoy tax benefits premiums paid save taxes plan provides life cover age years also customers options insure critical illnesses disability accidental death benefit rider life cover age years', 'speaking sexual harassment allegations rajkumar hirani sonam kapoor said known hirani many years true metoo movement get derailed metoo movement always believe woman case need reserve judgment added hirani accused assistant worked sanju']\n"
     ]
    }
   ],
   "source": [
    "clean_text = []\n",
    "# 전체 Text 데이터에 대한 전처리 : 10분 이상 시간이 걸릴 수 있습니다. \n",
    "for s in data['text']:\n",
    "    clean_text.append(preprocess_sentence(s))\n",
    "\n",
    "# 전처리 후 출력\n",
    "print(\"text 전처리 후 결과: \", clean_text[:5])"
   ]
  },
  {
   "cell_type": "code",
   "execution_count": 19,
   "id": "72dc34c6",
   "metadata": {},
   "outputs": [
    {
     "name": "stdout",
     "output_type": "stream",
     "text": [
      "headlines 전처리 후 결과:  ['upgrad learner switches to career in ml al with salary hike', 'delhi techie wins free food from swiggy for one year on cred', 'new zealand end rohit sharma led india match winning streak', 'aegon life iterm insurance plan helps customers save tax', 'have known hirani for yrs what if metoo claims are not true sonam']\n"
     ]
    }
   ],
   "source": [
    "clean_headlines = []\n",
    "# 전체 Summary 데이터에 대한 전처리 : 5분 이상 시간이 걸릴 수 있습니다. \n",
    "for s in data['headlines']:\n",
    "    clean_headlines.append(preprocess_sentence(s, False))\n",
    "\n",
    "print(\"headlines 전처리 후 결과: \", clean_headlines[:5])"
   ]
  },
  {
   "cell_type": "markdown",
   "id": "b884791e",
   "metadata": {},
   "source": [
    "* 정제 전에는 데이터가 존재했지만, 정제 과정에서 문장의 모든 단어가 사라지는 경우가 있을 수 있다. 이렇게 되면 샘플 자체가 빈 값을 가지게 된다.\n",
    "\n",
    "* 이후 빈(empty) 값을 가진 샘플들이 있다면, 모두 Null 값을 가진 샘플로 대체한다."
   ]
  },
  {
   "cell_type": "code",
   "execution_count": 20,
   "id": "2274b385",
   "metadata": {},
   "outputs": [],
   "source": [
    "data['text'] = clean_text\n",
    "data['headlines'] = clean_headlines\n",
    "\n",
    "# 빈 값을 Null 값으로 변환\n",
    "data.replace('', np.nan, inplace=True)"
   ]
  },
  {
   "cell_type": "code",
   "execution_count": 21,
   "id": "e4860400",
   "metadata": {},
   "outputs": [
    {
     "data": {
      "text/plain": [
       "headlines    0\n",
       "text         0\n",
       "dtype: int64"
      ]
     },
     "execution_count": 21,
     "metadata": {},
     "output_type": "execute_result"
    }
   ],
   "source": [
    "#Null 값이 생겼는지 확인\n",
    "data.isnull().sum()"
   ]
  },
  {
   "cell_type": "markdown",
   "id": "65ed0dd2",
   "metadata": {},
   "source": [
    "## Train data, test data split"
   ]
  },
  {
   "cell_type": "code",
   "execution_count": 23,
   "id": "60a5c920",
   "metadata": {},
   "outputs": [
    {
     "name": "stdout",
     "output_type": "stream",
     "text": [
      "텍스트의 최소 길이 : 1\n",
      "텍스트의 최대 길이 : 60\n",
      "텍스트의 평균 길이 : 35.09968483123221\n",
      "headlines의 최소 길이 : 1\n",
      "headlines의 최대 길이 : 16\n",
      "headlines의 평균 길이 : 9.299532330215534\n"
     ]
    },
    {
     "data": {
      "image/png": "[encoded data removed]",
      "text/plain": [
       "<Figure size 432x288 with 2 Axes>"
      ]
     },
     "metadata": {
      "needs_background": "light"
     },
     "output_type": "display_data"
    },
    {
     "data": {
      "image/png": "[encoded data removed]",
      "text/plain": [
       "<Figure size 432x288 with 1 Axes>"
      ]
     },
     "metadata": {
      "needs_background": "light"
     },
     "output_type": "display_data"
    },
    {
     "data": {
      "image/png": "[encoded data removed]",
      "text/plain": [
       "<Figure size 432x288 with 1 Axes>"
      ]
     },
     "metadata": {
      "needs_background": "light"
     },
     "output_type": "display_data"
    }
   ],
   "source": [
    "# 길이 분포 출력\n",
    "import matplotlib.pyplot as plt\n",
    "\n",
    "text_len = [len(s.split()) for s in data['text']]\n",
    "headlines_len = [len(s.split()) for s in data['headlines']]\n",
    "\n",
    "print('텍스트의 최소 길이 : {}'.format(np.min(text_len)))\n",
    "print('텍스트의 최대 길이 : {}'.format(np.max(text_len)))\n",
    "print('텍스트의 평균 길이 : {}'.format(np.mean(text_len)))\n",
    "print('headlines의 최소 길이 : {}'.format(np.min(headlines_len)))\n",
    "print('headlines의 최대 길이 : {}'.format(np.max(headlines_len)))\n",
    "print('headlines의 평균 길이 : {}'.format(np.mean(headlines_len)))\n",
    "\n",
    "plt.subplot(1,2,1)\n",
    "plt.boxplot(text_len)\n",
    "plt.title('text')\n",
    "plt.subplot(1,2,2)\n",
    "plt.boxplot(headlines_len)\n",
    "plt.title('headlines')\n",
    "plt.tight_layout()\n",
    "plt.show()\n",
    "\n",
    "plt.title('text')\n",
    "plt.hist(text_len, bins = 40)\n",
    "plt.xlabel('length of samples')\n",
    "plt.ylabel('number of samples')\n",
    "plt.show()\n",
    "\n",
    "plt.title('headlines')\n",
    "plt.hist(headlines_len, bins = 40)\n",
    "plt.xlabel('length of samples')\n",
    "plt.ylabel('number of samples')\n",
    "plt.show()"
   ]
  },
  {
   "cell_type": "markdown",
   "id": "602db28e",
   "metadata": {},
   "source": [
    "**그래프 해석**\n",
    "\n",
    "- text의 경우 : 대체적으로 25 ~ 45 사이의 길이 분포 구성\n",
    "\n",
    "- headlines의 경우 : 대체적으로 6 ~ 13 사이의 길이 분포 구성"
   ]
  },
  {
   "cell_type": "code",
   "execution_count": 24,
   "id": "212400bf",
   "metadata": {},
   "outputs": [],
   "source": [
    "# text의 최대 길이와 headlines의 적절한 최대 길이를 임의로 정하기\n",
    "\n",
    "text_max_len = 44\n",
    "headlines_max_len = 12"
   ]
  },
  {
   "cell_type": "code",
   "execution_count": 25,
   "id": "1cb78dd4",
   "metadata": {},
   "outputs": [],
   "source": [
    "def below_threshold_len(max_len, nested_list):\n",
    "  cnt = 0\n",
    "  for s in nested_list:\n",
    "    if(len(s.split()) <= max_len):\n",
    "        cnt = cnt + 1\n",
    "  print('전체 샘플 중 길이가 %s 이하인 샘플의 비율: %s'%(max_len, (cnt / len(nested_list))))"
   ]
  },
  {
   "cell_type": "code",
   "execution_count": 26,
   "id": "588dc21f",
   "metadata": {},
   "outputs": [
    {
     "name": "stdout",
     "output_type": "stream",
     "text": [
      "전체 샘플 중 길이가 44 이하인 샘플의 비율: 0.9933712891419276\n",
      "전체 샘플 중 길이가 12 이하인 샘플의 비율: 0.9880337535583571\n"
     ]
    }
   ],
   "source": [
    "below_threshold_len(text_max_len, data['text'])\n",
    "below_threshold_len(headlines_max_len,  data['headlines'])"
   ]
  },
  {
   "cell_type": "markdown",
   "id": "c77d7199",
   "metadata": {},
   "source": [
    "### 최대 길이 적용"
   ]
  },
  {
   "cell_type": "code",
   "execution_count": 27,
   "id": "f37c41db",
   "metadata": {},
   "outputs": [
    {
     "name": "stdout",
     "output_type": "stream",
     "text": [
      "전체 샘플 수 : 96538\n"
     ]
    }
   ],
   "source": [
    "data = data[data['text'].apply(lambda x: len(x.split()) <= text_max_len)]\n",
    "data = data[data['headlines'].apply(lambda x: len(x.split()) <= headlines_max_len)]\n",
    "print('전체 샘플 수 :',(len(data)))"
   ]
  },
  {
   "cell_type": "markdown",
   "id": "d73c96c5",
   "metadata": {},
   "source": [
    "### Start token and End token 추가\n",
    "\n",
    "* seq2seq 훈련을 위해서는 디코더의 입력과 레이블에 시작 토큰과 종료 토큰을 추가할 필요\n",
    "\n",
    "> Start token : sostoken\n",
    "\n",
    "> End token : eostoken"
   ]
  },
  {
   "cell_type": "code",
   "execution_count": 28,
   "id": "fddf29fe",
   "metadata": {
    "scrolled": true
   },
   "outputs": [
    {
     "data": {
      "text/html": [
       "<div>\n",
       "<style scoped>\n",
       "    .dataframe tbody tr th:only-of-type {\n",
       "        vertical-align: middle;\n",
       "    }\n",
       "\n",
       "    .dataframe tbody tr th {\n",
       "        vertical-align: top;\n",
       "    }\n",
       "\n",
       "    .dataframe thead th {\n",
       "        text-align: right;\n",
       "    }\n",
       "</style>\n",
       "<table border=\"1\" class=\"dataframe\">\n",
       "  <thead>\n",
       "    <tr style=\"text-align: right;\">\n",
       "      <th></th>\n",
       "      <th>headlines</th>\n",
       "      <th>text</th>\n",
       "      <th>decoder_input</th>\n",
       "      <th>decoder_target</th>\n",
       "    </tr>\n",
       "  </thead>\n",
       "  <tbody>\n",
       "    <tr>\n",
       "      <th>0</th>\n",
       "      <td>upgrad learner switches to career in ml al wit...</td>\n",
       "      <td>saurav kant alumnus upgrad iiit pg program mac...</td>\n",
       "      <td>sostoken upgrad learner switches to career in ...</td>\n",
       "      <td>upgrad learner switches to career in ml al wit...</td>\n",
       "    </tr>\n",
       "    <tr>\n",
       "      <th>2</th>\n",
       "      <td>new zealand end rohit sharma led india match w...</td>\n",
       "      <td>new zealand defeated india wickets fourth odi ...</td>\n",
       "      <td>sostoken new zealand end rohit sharma led indi...</td>\n",
       "      <td>new zealand end rohit sharma led india match w...</td>\n",
       "    </tr>\n",
       "    <tr>\n",
       "      <th>3</th>\n",
       "      <td>aegon life iterm insurance plan helps customer...</td>\n",
       "      <td>aegon life iterm insurance plan customers enjo...</td>\n",
       "      <td>sostoken aegon life iterm insurance plan helps...</td>\n",
       "      <td>aegon life iterm insurance plan helps customer...</td>\n",
       "    </tr>\n",
       "    <tr>\n",
       "      <th>5</th>\n",
       "      <td>rahat fateh ali khan denies getting notice for...</td>\n",
       "      <td>pakistani singer rahat fateh ali khan denied r...</td>\n",
       "      <td>sostoken rahat fateh ali khan denies getting n...</td>\n",
       "      <td>rahat fateh ali khan denies getting notice for...</td>\n",
       "    </tr>\n",
       "    <tr>\n",
       "      <th>6</th>\n",
       "      <td>india get all out for their lowest odi total i...</td>\n",
       "      <td>india recorded lowest odi total new zealand ge...</td>\n",
       "      <td>sostoken india get all out for their lowest od...</td>\n",
       "      <td>india get all out for their lowest odi total i...</td>\n",
       "    </tr>\n",
       "  </tbody>\n",
       "</table>\n",
       "</div>"
      ],
      "text/plain": [
       "                                           headlines  \\\n",
       "0  upgrad learner switches to career in ml al wit...   \n",
       "2  new zealand end rohit sharma led india match w...   \n",
       "3  aegon life iterm insurance plan helps customer...   \n",
       "5  rahat fateh ali khan denies getting notice for...   \n",
       "6  india get all out for their lowest odi total i...   \n",
       "\n",
       "                                                text  \\\n",
       "0  saurav kant alumnus upgrad iiit pg program mac...   \n",
       "2  new zealand defeated india wickets fourth odi ...   \n",
       "3  aegon life iterm insurance plan customers enjo...   \n",
       "5  pakistani singer rahat fateh ali khan denied r...   \n",
       "6  india recorded lowest odi total new zealand ge...   \n",
       "\n",
       "                                       decoder_input  \\\n",
       "0  sostoken upgrad learner switches to career in ...   \n",
       "2  sostoken new zealand end rohit sharma led indi...   \n",
       "3  sostoken aegon life iterm insurance plan helps...   \n",
       "5  sostoken rahat fateh ali khan denies getting n...   \n",
       "6  sostoken india get all out for their lowest od...   \n",
       "\n",
       "                                      decoder_target  \n",
       "0  upgrad learner switches to career in ml al wit...  \n",
       "2  new zealand end rohit sharma led india match w...  \n",
       "3  aegon life iterm insurance plan helps customer...  \n",
       "5  rahat fateh ali khan denies getting notice for...  \n",
       "6  india get all out for their lowest odi total i...  "
      ]
     },
     "execution_count": 28,
     "metadata": {},
     "output_type": "execute_result"
    }
   ],
   "source": [
    "# headlines 데이터에는 시작 토큰과 종료 토큰을 추가한다.\n",
    "data['decoder_input'] = data['headlines'].apply(lambda x : 'sostoken '+ x)\n",
    "data['decoder_target'] = data['headlines'].apply(lambda x : x + ' eostoken')\n",
    "data.head()"
   ]
  },
  {
   "cell_type": "markdown",
   "id": "2e937129",
   "metadata": {},
   "source": [
    "###  정수 시퀀스 만들기"
   ]
  },
  {
   "cell_type": "code",
   "execution_count": 29,
   "id": "8c4411e6",
   "metadata": {},
   "outputs": [
    {
     "name": "stdout",
     "output_type": "stream",
     "text": [
      "[44053 67562 48468 ... 66917 68891 70258]\n"
     ]
    }
   ],
   "source": [
    "# 인코더의 입력, 디코더의 입력과 레이블을 각각 다시 Numpy 타입으로 저장\n",
    "encoder_input = np.array(data['text']) # 인코더의 입력\n",
    "decoder_input = np.array(data['decoder_input']) # 디코더의 입력\n",
    "decoder_target = np.array(data['decoder_target']) # 디코더의 레이블\n",
    "\n",
    "# encoder_input과 크기와 형태가 같은 순서가 섞인 정수 시퀀스를 만들rl\n",
    "indices = np.arange(encoder_input.shape[0])\n",
    "np.random.shuffle(indices)\n",
    "print(indices)\n",
    "\n",
    "# 정수 시퀀스를 이용해 다시 데이터의 샘플 순서를 정의해 주면 잘 섞인 샘플만들기\n",
    "encoder_input = encoder_input[indices]\n",
    "decoder_input = decoder_input[indices]\n",
    "decoder_target = decoder_target[indices]"
   ]
  },
  {
   "cell_type": "markdown",
   "id": "24e1fa84",
   "metadata": {},
   "source": [
    "### Train data, test data split"
   ]
  },
  {
   "cell_type": "code",
   "execution_count": 30,
   "id": "6a95d467",
   "metadata": {},
   "outputs": [
    {
     "name": "stdout",
     "output_type": "stream",
     "text": [
      "테스트 데이터의 수 : 19307\n",
      "훈련 데이터의 개수 : 77231\n",
      "훈련 레이블의 개수 : 77231\n",
      "테스트 데이터의 개수 : 19307\n",
      "테스트 레이블의 개수 : 19307\n"
     ]
    }
   ],
   "source": [
    "# 섞인 데이터를 8:2의 비율로 훈련 데이터와 테스트 데이터로 분리\n",
    "\n",
    "n_of_val = int(len(encoder_input)*0.2)\n",
    "print('테스트 데이터의 수 :', n_of_val)\n",
    "\n",
    "encoder_input_train = encoder_input[:-n_of_val]\n",
    "decoder_input_train = decoder_input[:-n_of_val]\n",
    "decoder_target_train = decoder_target[:-n_of_val]\n",
    "\n",
    "encoder_input_test = encoder_input[-n_of_val:]\n",
    "decoder_input_test = decoder_input[-n_of_val:]\n",
    "decoder_target_test = decoder_target[-n_of_val:]\n",
    "\n",
    "print('훈련 데이터의 개수 :', len(encoder_input_train))\n",
    "print('훈련 레이블의 개수 :', len(decoder_input_train))\n",
    "print('테스트 데이터의 개수 :', len(encoder_input_test))\n",
    "print('테스트 레이블의 개수 :', len(decoder_input_test))"
   ]
  },
  {
   "cell_type": "markdown",
   "id": "8be718d5",
   "metadata": {},
   "source": [
    "### 정수 인코딩\n",
    "\n",
    "#### 단어집합(vocabulary)만들기 및 정수 인코딩"
   ]
  },
  {
   "cell_type": "code",
   "execution_count": 31,
   "id": "fc8569d9",
   "metadata": {},
   "outputs": [],
   "source": [
    "src_tokenizer = Tokenizer() # 토크나이저 정의\n",
    "src_tokenizer.fit_on_texts(encoder_input_train) # 입력된 데이터로부터 단어 집합 생성"
   ]
  },
  {
   "cell_type": "markdown",
   "id": "209d6dd6",
   "metadata": {},
   "source": [
    "* 현재 생성된 단어 집합은 src_tokenizer.word_index 에 저장되어 있다.\n",
    "\n",
    "* 만든 단어 집합에 있는 모든 단어를 사용하는 것이 아니라, 빈도수가 낮은 단어들은 훈련 데이터에서 제외\n",
    "\n",
    "* src_tokenizer.word_counts.items() 를 사용하여 등장 빈도수가 8회 미만인 단어들이 이 데이터에서 얼만큼의 비중을 차지하는지 확인"
   ]
  },
  {
   "cell_type": "code",
   "execution_count": 32,
   "id": "5d0f8759",
   "metadata": {},
   "outputs": [
    {
     "name": "stdout",
     "output_type": "stream",
     "text": [
      "단어 집합(vocabulary)의 크기 : 68780\n",
      "등장 빈도가 6번 이하인 희귀 단어의 수: 46801\n",
      "단어 집합에서 희귀 단어를 제외시킬 경우의 단어 집합의 크기 21979\n",
      "단어 집합에서 희귀 단어의 비율: 68.04448967723175\n",
      "전체 등장 빈도에서 희귀 단어 등장 빈도 비율: 3.514836669166849\n"
     ]
    }
   ],
   "source": [
    "threshold = 7 # 등장 빈도수\n",
    "total_cnt = len(src_tokenizer.word_index) # 단어의 수\n",
    "rare_cnt = 0 # 등장 빈도수가 threshold보다 작은 단어의 개수를 카운트\n",
    "total_freq = 0 # 훈련 데이터의 전체 단어 빈도수 총 합\n",
    "rare_freq = 0 # 등장 빈도수가 threshold보다 작은 단어의 등장 빈도수의 총 합\n",
    "\n",
    "# 단어와 빈도수의 쌍(pair)을 key와 value로 받는다.\n",
    "for key, value in src_tokenizer.word_counts.items():\n",
    "    total_freq = total_freq + value\n",
    "\n",
    "    # 단어의 등장 빈도수가 threshold보다 작으면\n",
    "    if(value < threshold):\n",
    "        rare_cnt = rare_cnt + 1\n",
    "        rare_freq = rare_freq + value\n",
    "\n",
    "print('단어 집합(vocabulary)의 크기 :', total_cnt)\n",
    "print('등장 빈도가 %s번 이하인 희귀 단어의 수: %s'%(threshold - 1, rare_cnt))\n",
    "print('단어 집합에서 희귀 단어를 제외시킬 경우의 단어 집합의 크기 %s'%(total_cnt - rare_cnt))\n",
    "print(\"단어 집합에서 희귀 단어의 비율:\", (rare_cnt / total_cnt)*100)\n",
    "print(\"전체 등장 빈도에서 희귀 단어 등장 빈도 비율:\", (rare_freq / total_freq)*100)"
   ]
  },
  {
   "cell_type": "markdown",
   "id": "f37ad85a",
   "metadata": {},
   "source": [
    "* encoder_input_train에는 6.8만여 개의 단어\n",
    "\n",
    "* 등장 빈도가 threshold 값인 7회 미만, 즉 6회 이하인 단어들은 단어 집합에서 68% 차지\n",
    "\n",
    "* 실제로 훈련 데이터에서 등장 빈도로 차지하는 비중은 상대적으로 적은 수치 3.5%밖에 되지 않음\n",
    "\n",
    "등장 빈도가 6회 이하인 단어들은 정수 인코딩 과정에서 빼고, 훈련 데이터에서 제거한다.\n",
    "\n",
    "단어 집합의 크기를 10,000으로 제한한다."
   ]
  },
  {
   "cell_type": "code",
   "execution_count": 33,
   "id": "8780dc6d",
   "metadata": {},
   "outputs": [],
   "source": [
    "src_vocab = 10000\n",
    "src_tokenizer = Tokenizer(num_words=src_vocab) # 단어 집합의 크기를 10,000으로 제한\n",
    "src_tokenizer.fit_on_texts(encoder_input_train) # 단어 집합 재생성."
   ]
  },
  {
   "cell_type": "code",
   "execution_count": 34,
   "id": "e51c124f",
   "metadata": {},
   "outputs": [
    {
     "name": "stdout",
     "output_type": "stream",
     "text": [
      "[11, 106, 1285, 2272, 1607, 18, 4904, 374, 634, 655, 22, 208, 18, 659, 4904, 374, 634, 3847, 1153, 655, 254, 2292, 671, 872, 1958, 2, 1274, 229, 471, 832, 1736, 358]\n"
     ]
    }
   ],
   "source": [
    "# 텍스트 시퀀스를 정수 시퀀스로 변환\n",
    "encoder_input_train = src_tokenizer.texts_to_sequences(encoder_input_train) \n",
    "encoder_input_test = src_tokenizer.texts_to_sequences(encoder_input_test)\n",
    "\n",
    "# 잘 진행되었는지 샘플 출력\n",
    "print(encoder_input_train[0])"
   ]
  },
  {
   "cell_type": "markdown",
   "id": "65107fc7",
   "metadata": {},
   "source": [
    "#### 단어집합(vocabulary)만들기 및 정수 디코딩"
   ]
  },
  {
   "cell_type": "code",
   "execution_count": 35,
   "id": "301737f4",
   "metadata": {},
   "outputs": [],
   "source": [
    "# 전체 단어 집합과 각 단어에 대한 빈도수를 계산\n",
    "tar_tokenizer = Tokenizer()\n",
    "tar_tokenizer.fit_on_texts(decoder_input_train)"
   ]
  },
  {
   "cell_type": "code",
   "execution_count": 36,
   "id": "78643d1c",
   "metadata": {},
   "outputs": [
    {
     "name": "stdout",
     "output_type": "stream",
     "text": [
      "단어 집합(vocabulary)의 크기 : 29794\n",
      "등장 빈도가 6번 이하인 희귀 단어의 수: 20340\n",
      "단어 집합에서 희귀 단어를 제외시킬 경우의 단어 집합의 크기 9454\n",
      "단어 집합에서 희귀 단어의 비율: 68.26877894878164\n",
      "전체 등장 빈도에서 희귀 단어 등장 빈도 비율: 5.378302970622025\n"
     ]
    }
   ],
   "source": [
    "# 등장 빈도수가 8회 미만인 단어들이 이 데이터에서 얼만큼의 비중을 차지하는지 확인\n",
    "threshold = 7\n",
    "total_cnt = len(tar_tokenizer.word_index) # 단어의 수\n",
    "rare_cnt = 0 # 등장 빈도수가 threshold보다 작은 단어의 개수를 카운트\n",
    "total_freq = 0 # 훈련 데이터의 전체 단어 빈도수 총 합\n",
    "rare_freq = 0 # 등장 빈도수가 threshold보다 작은 단어의 등장 빈도수의 총 합\n",
    "\n",
    "# 단어와 빈도수의 쌍(pair)을 key와 value로 받는다.\n",
    "for key, value in tar_tokenizer.word_counts.items():\n",
    "    total_freq = total_freq + value\n",
    "\n",
    "    # 단어의 등장 빈도수가 threshold보다 작으면\n",
    "    if(value < threshold):\n",
    "        rare_cnt = rare_cnt + 1\n",
    "        rare_freq = rare_freq + value\n",
    "\n",
    "print('단어 집합(vocabulary)의 크기 :', total_cnt)\n",
    "print('등장 빈도가 %s번 이하인 희귀 단어의 수: %s'%(threshold - 1, rare_cnt))\n",
    "print('단어 집합에서 희귀 단어를 제외시킬 경우의 단어 집합의 크기 %s'%(total_cnt - rare_cnt))\n",
    "print(\"단어 집합에서 희귀 단어의 비율:\", (rare_cnt / total_cnt)*100)\n",
    "print(\"전체 등장 빈도에서 희귀 단어 등장 빈도 비율:\", (rare_freq / total_freq)*100)"
   ]
  },
  {
   "cell_type": "code",
   "execution_count": 37,
   "id": "db8c3c3f",
   "metadata": {},
   "outputs": [
    {
     "name": "stdout",
     "output_type": "stream",
     "text": [
      "input\n",
      "input  [1, 3, 167, 50, 136, 766, 371]\n",
      "target\n",
      "decoder  [3, 167, 50, 136, 766, 371, 2]\n"
     ]
    }
   ],
   "source": [
    "tar_vocab = 1000\n",
    "tar_tokenizer = Tokenizer(num_words = tar_vocab) \n",
    "tar_tokenizer.fit_on_texts(decoder_input_train)\n",
    "tar_tokenizer.fit_on_texts(decoder_target_train)\n",
    "\n",
    "# 텍스트 시퀀스를 정수 시퀀스로 변환\n",
    "decoder_input_train = tar_tokenizer.texts_to_sequences(decoder_input_train) \n",
    "decoder_target_train = tar_tokenizer.texts_to_sequences(decoder_target_train)\n",
    "decoder_input_test = tar_tokenizer.texts_to_sequences(decoder_input_test)\n",
    "decoder_target_test = tar_tokenizer.texts_to_sequences(decoder_target_test)\n",
    "\n",
    "#잘 변환되었는지 확인\n",
    "print('input')\n",
    "print('input ',decoder_input_train[0])\n",
    "print('target')\n",
    "print('decoder ',decoder_target_train[0])"
   ]
  },
  {
   "cell_type": "markdown",
   "id": "2a97c6c2",
   "metadata": {},
   "source": [
    "* 전체 데이터에서 빈도수가 낮은 단어가 삭제되었다는 것은 빈도수가 낮은 단어만으로 구성되었던 샘플들은 이제 빈(empty) 샘플이 되었을 가능성이 있다.\n",
    "\n",
    "* decoder_input에는 sostoken 또는 decoder_target에는 eostoken이 추가된 상태이므로 길이가 0이 된 요악문의 실제 길이는 1로 나올 것이다.\n",
    "\n",
    "* 훈련 데이터와 테스트 데이터에 대해서 요약문의 길이가 1인 경우의 인덱스를 각각 drop_train과 drop_test에 라는 변수에 저장하고 샘플들은 모두 삭제한다."
   ]
  },
  {
   "cell_type": "code",
   "execution_count": 38,
   "id": "84beb606",
   "metadata": {},
   "outputs": [
    {
     "name": "stdout",
     "output_type": "stream",
     "text": [
      "삭제할 훈련 데이터의 개수 : 57\n",
      "삭제할 테스트 데이터의 개수 : 14\n",
      "훈련 데이터의 개수 : 77174\n",
      "훈련 레이블의 개수 : 77174\n",
      "테스트 데이터의 개수 : 19293\n",
      "테스트 레이블의 개수 : 19293\n"
     ]
    }
   ],
   "source": [
    "drop_train = [index for index, sentence in enumerate(decoder_input_train) if len(sentence) == 1]\n",
    "drop_test = [index for index, sentence in enumerate(decoder_input_test) if len(sentence) == 1]\n",
    "\n",
    "print('삭제할 훈련 데이터의 개수 :', len(drop_train))\n",
    "print('삭제할 테스트 데이터의 개수 :', len(drop_test))\n",
    "\n",
    "encoder_input_train = [sentence for index, sentence in enumerate(encoder_input_train) if index not in drop_train]\n",
    "decoder_input_train = [sentence for index, sentence in enumerate(decoder_input_train) if index not in drop_train]\n",
    "decoder_target_train = [sentence for index, sentence in enumerate(decoder_target_train) if index not in drop_train]\n",
    "\n",
    "encoder_input_test = [sentence for index, sentence in enumerate(encoder_input_test) if index not in drop_test]\n",
    "decoder_input_test = [sentence for index, sentence in enumerate(decoder_input_test) if index not in drop_test]\n",
    "decoder_target_test = [sentence for index, sentence in enumerate(decoder_target_test) if index not in drop_test]\n",
    "\n",
    "print('훈련 데이터의 개수 :', len(encoder_input_train))\n",
    "print('훈련 레이블의 개수 :', len(decoder_input_train))\n",
    "print('테스트 데이터의 개수 :', len(encoder_input_test))\n",
    "print('테스트 레이블의 개수 :', len(decoder_input_test))"
   ]
  },
  {
   "cell_type": "markdown",
   "id": "3870dc45",
   "metadata": {},
   "source": [
    "### 패딩추가"
   ]
  },
  {
   "cell_type": "code",
   "execution_count": 40,
   "id": "8787e570",
   "metadata": {},
   "outputs": [],
   "source": [
    "encoder_input_train = pad_sequences(encoder_input_train, maxlen=text_max_len, padding='post')\n",
    "encoder_input_test = pad_sequences(encoder_input_test, maxlen=text_max_len, padding='post')\n",
    "decoder_input_train = pad_sequences(decoder_input_train, maxlen=headlines_max_len, padding='post')\n",
    "decoder_target_train = pad_sequences(decoder_target_train, maxlen=headlines_max_len, padding='post')\n",
    "decoder_input_test = pad_sequences(decoder_input_test, maxlen=headlines_max_len, padding='post')\n",
    "decoder_target_test = pad_sequences(decoder_target_test, maxlen=headlines_max_len, padding='post')"
   ]
  },
  {
   "cell_type": "markdown",
   "id": "00da7ab7",
   "metadata": {},
   "source": [
    "## Step 3. 어텐션 메커니즘 사용(추상적 요약)"
   ]
  },
  {
   "cell_type": "markdown",
   "id": "f5acdb81",
   "metadata": {},
   "source": [
    "## 모델 설계"
   ]
  },
  {
   "cell_type": "markdown",
   "id": "d2e17d39",
   "metadata": {},
   "source": [
    "#### 인코더 설계"
   ]
  },
  {
   "cell_type": "code",
   "execution_count": 41,
   "id": "ab94e5d8",
   "metadata": {},
   "outputs": [],
   "source": [
    "# 함수형 API를 이용해서 인코더 설계\n",
    "from tensorflow.keras.layers import Input, LSTM, Embedding, Dense, Concatenate, TimeDistributed\n",
    "from tensorflow.keras.models import Model\n",
    "from tensorflow.keras.callbacks import EarlyStopping, ModelCheckpoint\n",
    "\n",
    "\n",
    "# 인코더 설계 시작\n",
    "embedding_dim = 128\n",
    "hidden_size = 256\n",
    "\n",
    "# 인코더\n",
    "encoder_inputs = Input(shape=(text_max_len,))\n",
    "\n",
    "# 인코더의 임베딩 층\n",
    "enc_emb = Embedding(src_vocab, embedding_dim)(encoder_inputs)\n",
    "\n",
    "# 인코더의 LSTM 1\n",
    "# encoder_lstm1 = LSTM(hidden_size, return_sequences=True, return_state=True ,dropout = 0.4, recurrent_dropout = 0.4)\n",
    "encoder_lstm1 = LSTM(hidden_size, return_sequences=True, return_state=True ,dropout = 0.4)\n",
    "encoder_output1, state_h1, state_c1 = encoder_lstm1(enc_emb)\n",
    "\n",
    "# 인코더의 LSTM 2\n",
    "# encoder_lstm2 = LSTM(hidden_size, return_sequences=True, return_state=True, dropout=0.4, recurrent_dropout=0.4)\n",
    "encoder_lstm2 = LSTM(hidden_size, return_sequences=True, return_state=True, dropout=0.4)\n",
    "encoder_output2, state_h2, state_c2 = encoder_lstm2(encoder_output1)\n",
    "\n",
    "# 인코더의 LSTM 3\n",
    "# encoder_lstm3 = LSTM(hidden_size, return_state=True, return_sequences=True, dropout=0.4, recurrent_dropout=0.4)\n",
    "encoder_lstm3 = LSTM(hidden_size, return_state=True, return_sequences=True, dropout=0.4)\n",
    "encoder_outputs, state_h, state_c= encoder_lstm3(encoder_output2)"
   ]
  },
  {
   "cell_type": "markdown",
   "id": "afaf7849",
   "metadata": {},
   "source": [
    "#### 디코더 설계"
   ]
  },
  {
   "cell_type": "code",
   "execution_count": 42,
   "id": "a3efe648",
   "metadata": {},
   "outputs": [
    {
     "name": "stdout",
     "output_type": "stream",
     "text": [
      "WARNING:tensorflow:Layer lstm_3 will not use cuDNN kernels since it doesn't meet the criteria. It will use a generic GPU kernel as fallback when running on GPU.\n"
     ]
    }
   ],
   "source": [
    "# 디코더 설계\n",
    "decoder_inputs = Input(shape=(None,))\n",
    "\n",
    "# 디코더의 임베딩 층\n",
    "dec_emb_layer = Embedding(tar_vocab, embedding_dim)\n",
    "dec_emb = dec_emb_layer(decoder_inputs)\n",
    "\n",
    "# 디코더의 LSTM\n",
    "decoder_lstm = LSTM(hidden_size, return_sequences=True, return_state=True, dropout=0.4, recurrent_dropout=0.2)\n",
    "decoder_outputs, _, _ = decoder_lstm(dec_emb, initial_state=[state_h, state_c])\n",
    "\n",
    "# 디코더의 출력층 설계\n",
    "decoder_softmax_layer = Dense(tar_vocab, activation='softmax')\n",
    "decoder_softmax_outputs = decoder_softmax_layer(decoder_outputs) "
   ]
  },
  {
   "cell_type": "code",
   "execution_count": 43,
   "id": "d6ee36ad",
   "metadata": {},
   "outputs": [
    {
     "name": "stdout",
     "output_type": "stream",
     "text": [
      "Model: \"model\"\n",
      "__________________________________________________________________________________________________\n",
      "Layer (type)                    Output Shape         Param #     Connected to                     \n",
      "==================================================================================================\n",
      "input_1 (InputLayer)            [(None, 44)]         0                                            \n",
      "__________________________________________________________________________________________________\n",
      "embedding (Embedding)           (None, 44, 128)      1280000     input_1[0][0]                    \n",
      "__________________________________________________________________________________________________\n",
      "lstm (LSTM)                     [(None, 44, 256), (N 394240      embedding[0][0]                  \n",
      "__________________________________________________________________________________________________\n",
      "input_2 (InputLayer)            [(None, None)]       0                                            \n",
      "__________________________________________________________________________________________________\n",
      "lstm_1 (LSTM)                   [(None, 44, 256), (N 525312      lstm[0][0]                       \n",
      "__________________________________________________________________________________________________\n",
      "embedding_1 (Embedding)         (None, None, 128)    128000      input_2[0][0]                    \n",
      "__________________________________________________________________________________________________\n",
      "lstm_2 (LSTM)                   [(None, 44, 256), (N 525312      lstm_1[0][0]                     \n",
      "__________________________________________________________________________________________________\n",
      "lstm_3 (LSTM)                   [(None, None, 256),  394240      embedding_1[0][0]                \n",
      "                                                                 lstm_2[0][1]                     \n",
      "                                                                 lstm_2[0][2]                     \n",
      "__________________________________________________________________________________________________\n",
      "dense (Dense)                   (None, None, 1000)   257000      lstm_3[0][0]                     \n",
      "==================================================================================================\n",
      "Total params: 3,504,104\n",
      "Trainable params: 3,504,104\n",
      "Non-trainable params: 0\n",
      "__________________________________________________________________________________________________\n"
     ]
    }
   ],
   "source": [
    "# 모델 정의\n",
    "model = Model([encoder_inputs, decoder_inputs], decoder_softmax_outputs)\n",
    "model.summary()"
   ]
  },
  {
   "cell_type": "markdown",
   "id": "545f3c72",
   "metadata": {},
   "source": [
    "### 어텐션 메커니즘"
   ]
  },
  {
   "cell_type": "code",
   "execution_count": 44,
   "id": "a7ccadcf",
   "metadata": {},
   "outputs": [
    {
     "name": "stdout",
     "output_type": "stream",
     "text": [
      "Model: \"model_1\"\n",
      "__________________________________________________________________________________________________\n",
      "Layer (type)                    Output Shape         Param #     Connected to                     \n",
      "==================================================================================================\n",
      "input_1 (InputLayer)            [(None, 44)]         0                                            \n",
      "__________________________________________________________________________________________________\n",
      "embedding (Embedding)           (None, 44, 128)      1280000     input_1[0][0]                    \n",
      "__________________________________________________________________________________________________\n",
      "lstm (LSTM)                     [(None, 44, 256), (N 394240      embedding[0][0]                  \n",
      "__________________________________________________________________________________________________\n",
      "input_2 (InputLayer)            [(None, None)]       0                                            \n",
      "__________________________________________________________________________________________________\n",
      "lstm_1 (LSTM)                   [(None, 44, 256), (N 525312      lstm[0][0]                       \n",
      "__________________________________________________________________________________________________\n",
      "embedding_1 (Embedding)         (None, None, 128)    128000      input_2[0][0]                    \n",
      "__________________________________________________________________________________________________\n",
      "lstm_2 (LSTM)                   [(None, 44, 256), (N 525312      lstm_1[0][0]                     \n",
      "__________________________________________________________________________________________________\n",
      "lstm_3 (LSTM)                   [(None, None, 256),  394240      embedding_1[0][0]                \n",
      "                                                                 lstm_2[0][1]                     \n",
      "                                                                 lstm_2[0][2]                     \n",
      "__________________________________________________________________________________________________\n",
      "attention_layer (AdditiveAttent (None, None, 256)    256         lstm_3[0][0]                     \n",
      "                                                                 lstm_2[0][0]                     \n",
      "__________________________________________________________________________________________________\n",
      "concat_layer (Concatenate)      (None, None, 512)    0           lstm_3[0][0]                     \n",
      "                                                                 attention_layer[0][0]            \n",
      "__________________________________________________________________________________________________\n",
      "dense_1 (Dense)                 (None, None, 1000)   513000      concat_layer[0][0]               \n",
      "==================================================================================================\n",
      "Total params: 3,760,360\n",
      "Trainable params: 3,760,360\n",
      "Non-trainable params: 0\n",
      "__________________________________________________________________________________________________\n"
     ]
    }
   ],
   "source": [
    "# 어텐션 층을 만들고 위에 설계한 디코더 출력층을 수정하기\n",
    "\n",
    "from tensorflow.keras.layers import AdditiveAttention\n",
    "\n",
    "# 어텐션 층(어텐션 함수)\n",
    "attn_layer = AdditiveAttention(name='attention_layer')\n",
    "\n",
    "# 인코더와 디코더의 모든 time step의 hidden state를 어텐션 층에 전달하고 결과를 리턴\n",
    "attn_out = attn_layer([decoder_outputs, encoder_outputs])\n",
    "\n",
    "\n",
    "# 어텐션의 결과와 디코더의 hidden state들을 연결\n",
    "decoder_concat_input = Concatenate(axis=-1, name='concat_layer')([decoder_outputs, attn_out])\n",
    "\n",
    "# 디코더의 출력층\n",
    "decoder_softmax_layer = Dense(tar_vocab, activation='softmax')\n",
    "decoder_softmax_outputs = decoder_softmax_layer(decoder_concat_input)\n",
    "\n",
    "# 모델 정의\n",
    "model = Model([encoder_inputs, decoder_inputs], decoder_softmax_outputs)\n",
    "model.summary()"
   ]
  },
  {
   "cell_type": "markdown",
   "id": "71b5d40c",
   "metadata": {},
   "source": [
    "### 모델 훈련하기"
   ]
  },
  {
   "cell_type": "code",
   "execution_count": 45,
   "id": "4c143898",
   "metadata": {},
   "outputs": [
    {
     "name": "stdout",
     "output_type": "stream",
     "text": [
      "Epoch 1/50\n",
      "302/302 [==============================] - 55s 93ms/step - loss: 3.0428 - val_loss: 2.7279\n",
      "Epoch 2/50\n",
      "302/302 [==============================] - 27s 90ms/step - loss: 2.6159 - val_loss: 2.5096\n",
      "Epoch 3/50\n",
      "302/302 [==============================] - 27s 91ms/step - loss: 2.4215 - val_loss: 2.3417\n",
      "Epoch 4/50\n",
      "302/302 [==============================] - 28s 92ms/step - loss: 2.2833 - val_loss: 2.2446\n",
      "Epoch 5/50\n",
      "302/302 [==============================] - 27s 91ms/step - loss: 2.1822 - val_loss: 2.1647\n",
      "Epoch 6/50\n",
      "302/302 [==============================] - 27s 91ms/step - loss: 2.0987 - val_loss: 2.1048\n",
      "Epoch 7/50\n",
      "302/302 [==============================] - 27s 91ms/step - loss: 2.0292 - val_loss: 2.0584\n",
      "Epoch 8/50\n",
      "302/302 [==============================] - 27s 91ms/step - loss: 1.9692 - val_loss: 2.0149\n",
      "Epoch 9/50\n",
      "302/302 [==============================] - 27s 91ms/step - loss: 1.9186 - val_loss: 1.9907\n",
      "Epoch 10/50\n",
      "302/302 [==============================] - 27s 91ms/step - loss: 1.8732 - val_loss: 1.9734\n",
      "Epoch 11/50\n",
      "302/302 [==============================] - 27s 91ms/step - loss: 1.8336 - val_loss: 1.9459\n",
      "Epoch 12/50\n",
      "302/302 [==============================] - 27s 90ms/step - loss: 1.7967 - val_loss: 1.9301\n",
      "Epoch 13/50\n",
      "302/302 [==============================] - 27s 91ms/step - loss: 1.7622 - val_loss: 1.9166\n",
      "Epoch 14/50\n",
      "302/302 [==============================] - 27s 91ms/step - loss: 1.7321 - val_loss: 1.9077\n",
      "Epoch 15/50\n",
      "302/302 [==============================] - 27s 91ms/step - loss: 1.7035 - val_loss: 1.8996\n",
      "Epoch 16/50\n",
      "302/302 [==============================] - 27s 91ms/step - loss: 1.6770 - val_loss: 1.8942\n",
      "Epoch 17/50\n",
      "302/302 [==============================] - 27s 90ms/step - loss: 1.6530 - val_loss: 1.8865\n",
      "Epoch 18/50\n",
      "302/302 [==============================] - 27s 90ms/step - loss: 1.6297 - val_loss: 1.8816\n",
      "Epoch 19/50\n",
      "302/302 [==============================] - 27s 90ms/step - loss: 1.6080 - val_loss: 1.8785\n",
      "Epoch 20/50\n",
      "302/302 [==============================] - 27s 90ms/step - loss: 1.5880 - val_loss: 1.8764\n",
      "Epoch 21/50\n",
      "302/302 [==============================] - 27s 90ms/step - loss: 1.5694 - val_loss: 1.8760\n",
      "Epoch 22/50\n",
      "302/302 [==============================] - 27s 90ms/step - loss: 1.5516 - val_loss: 1.8779\n",
      "Epoch 23/50\n",
      "302/302 [==============================] - 27s 90ms/step - loss: 1.5334 - val_loss: 1.8769\n",
      "Epoch 00023: early stopping\n"
     ]
    }
   ],
   "source": [
    "model.compile(optimizer='rmsprop', loss='sparse_categorical_crossentropy')\n",
    "es = EarlyStopping(monitor='val_loss', patience=2, verbose=1)\n",
    "history = model.fit(x=[encoder_input_train, decoder_input_train], y=decoder_target_train, \\\n",
    "          validation_data=([encoder_input_test, decoder_input_test], decoder_target_test), \\\n",
    "          batch_size=256, callbacks=[es], epochs=50)"
   ]
  },
  {
   "cell_type": "code",
   "execution_count": 46,
   "id": "f6e3d412",
   "metadata": {},
   "outputs": [
    {
     "data": {
      "image/png": "[encoded data removed]",
      "text/plain": [
       "<Figure size 432x288 with 1 Axes>"
      ]
     },
     "metadata": {
      "needs_background": "light"
     },
     "output_type": "display_data"
    }
   ],
   "source": [
    "plt.plot(history.history['loss'], label='train')\n",
    "plt.plot(history.history['val_loss'], label='test')\n",
    "plt.legend()\n",
    "plt.show()"
   ]
  },
  {
   "cell_type": "markdown",
   "id": "bb9c2034",
   "metadata": {},
   "source": [
    "### 인퍼런스 모델 구현"
   ]
  },
  {
   "cell_type": "code",
   "execution_count": 47,
   "id": "584ae83f",
   "metadata": {},
   "outputs": [],
   "source": [
    "src_index_to_word = src_tokenizer.index_word # 원문 단어 집합에서 정수 -> 단어를 얻음\n",
    "tar_word_to_index = tar_tokenizer.word_index # 요약 단어 집합에서 단어 -> 정수를 얻음\n",
    "tar_index_to_word = tar_tokenizer.index_word # 요약 단어 집합에서 정수 -> 단어를 얻음"
   ]
  },
  {
   "cell_type": "markdown",
   "id": "dfbc06aa",
   "metadata": {},
   "source": [
    "#### 인코더 설계"
   ]
  },
  {
   "cell_type": "code",
   "execution_count": 48,
   "id": "ecb90bf2",
   "metadata": {},
   "outputs": [],
   "source": [
    "# 인코더 설계\n",
    "encoder_model = Model(inputs=encoder_inputs, outputs=[encoder_outputs, state_h, state_c])\n",
    "\n",
    "# 이전 시점의 상태들을 저장하는 텐서\n",
    "decoder_state_input_h = Input(shape=(hidden_size,))\n",
    "decoder_state_input_c = Input(shape=(hidden_size,))\n",
    "\n",
    "dec_emb2 = dec_emb_layer(decoder_inputs)\n",
    "\n",
    "# 문장의 다음 단어를 예측하기 위해서 초기 상태(initial_state)를 이전 시점의 상태로 사용. 이는 뒤의 함수 decode_sequence()에 구현\n",
    "# 훈련 과정에서와 달리 LSTM의 리턴하는 은닉 상태와 셀 상태인 state_h와 state_c를 버리지 않음.\n",
    "decoder_outputs2, state_h2, state_c2 = decoder_lstm(dec_emb2, initial_state=[decoder_state_input_h, decoder_state_input_c])"
   ]
  },
  {
   "cell_type": "markdown",
   "id": "db3f54e0",
   "metadata": {},
   "source": [
    "#### 디코더 설계"
   ]
  },
  {
   "cell_type": "code",
   "execution_count": 49,
   "id": "84378561",
   "metadata": {},
   "outputs": [],
   "source": [
    "# 어텐션 함수\n",
    "decoder_hidden_state_input = Input(shape=(text_max_len, hidden_size))\n",
    "attn_out_inf = attn_layer([decoder_outputs2, decoder_hidden_state_input])\n",
    "decoder_inf_concat = Concatenate(axis=-1, name='concat')([decoder_outputs2, attn_out_inf])\n",
    "\n",
    "# 디코더의 출력층\n",
    "decoder_outputs2 = decoder_softmax_layer(decoder_inf_concat) \n",
    "\n",
    "# 최종 디코더 모델\n",
    "decoder_model = Model(\n",
    "    [decoder_inputs] + [decoder_hidden_state_input,decoder_state_input_h, decoder_state_input_c],\n",
    "    [decoder_outputs2] + [state_h2, state_c2])"
   ]
  },
  {
   "cell_type": "markdown",
   "id": "78f695a0",
   "metadata": {},
   "source": [
    "### word를 Sequence로 만드는 함수"
   ]
  },
  {
   "cell_type": "code",
   "execution_count": 50,
   "id": "fcbfd1df",
   "metadata": {},
   "outputs": [],
   "source": [
    "def decode_sequence(input_seq):\n",
    "    # 입력으로부터 인코더의 상태를 얻음\n",
    "    e_out, e_h, e_c = encoder_model.predict(input_seq)\n",
    "\n",
    "     # <SOS>에 해당하는 토큰 생성\n",
    "    target_seq = np.zeros((1,1))\n",
    "    target_seq[0, 0] = tar_word_to_index['sostoken']\n",
    "\n",
    "    stop_condition = False\n",
    "    decoded_sentence = ''\n",
    "    while not stop_condition: # stop_condition이 True가 될 때까지 루프 반복\n",
    "\n",
    "        output_tokens, h, c = decoder_model.predict([target_seq] + [e_out, e_h, e_c])\n",
    "        sampled_token_index = np.argmax(output_tokens[0, -1, :])\n",
    "        sampled_token = tar_index_to_word[sampled_token_index]\n",
    "\n",
    "        if (sampled_token!='eostoken'):\n",
    "            decoded_sentence += ' '+sampled_token\n",
    "\n",
    "        #  <eos>에 도달하거나 최대 길이를 넘으면 중단.\n",
    "        if (sampled_token == 'eostoken'  or len(decoded_sentence.split()) >= (headlines_max_len-1)):\n",
    "            stop_condition = True\n",
    "\n",
    "        # 길이가 1인 타겟 시퀀스를 업데이트\n",
    "        target_seq = np.zeros((1,1))\n",
    "        target_seq[0, 0] = sampled_token_index\n",
    "\n",
    "        # 상태를 업데이트 합니다.\n",
    "        e_h, e_c = h, c\n",
    "\n",
    "    return decoded_sentence"
   ]
  },
  {
   "cell_type": "markdown",
   "id": "58c79f17",
   "metadata": {},
   "source": [
    "## Step 4. 실제 결과와 요약문 비교하기 (추상적 요약)"
   ]
  },
  {
   "cell_type": "code",
   "execution_count": 51,
   "id": "cf08ffb5",
   "metadata": {},
   "outputs": [],
   "source": [
    "# 원문의 정수 시퀀스를 텍스트 시퀀스로 변환\n",
    "def seq2text(input_seq):\n",
    "    temp=''\n",
    "    for i in input_seq:\n",
    "        if (i!=0):\n",
    "            temp = temp + src_index_to_word[i]+' '\n",
    "    return temp\n",
    "\n",
    "# 요약문의 정수 시퀀스를 텍스트 시퀀스로 변환\n",
    "def seq2summary(input_seq):\n",
    "    temp=''\n",
    "    for i in input_seq:\n",
    "        if ((i!=0 and i!=tar_word_to_index['sostoken']) and i!=tar_word_to_index['eostoken']):\n",
    "            temp = temp + tar_index_to_word[i] + ' '\n",
    "    return temp"
   ]
  },
  {
   "cell_type": "code",
   "execution_count": 71,
   "id": "a7bb3f60",
   "metadata": {},
   "outputs": [
    {
     "name": "stdout",
     "output_type": "stream",
     "text": [
      "원문 : arora entertainment lost legal battle john abraham said best wishes called heroes entertainment industry abused trust also made step producer films gul meter khan issues including non payment dues \n",
      "실제 요약 : my best to those who my in them \n",
      "예측 요약 :  was not on exit\n",
      "\n",
      "\n",
      "원문 : indian deepika kumari defeated russia women bronze play win india medal indoor world cup none male indian could make das losing silver medallist second round \n",
      "실제 요약 : india deepika at world cup \n",
      "예측 요약 :  indian women team wins gold at asian games\n",
      "\n",
      "\n",
      "원문 : reliance jio said government suffered revenue crore fy airtel vodafone idea violated licence norms jio claimed firms paid advance licence fee last quarter less amount jio added telecom department take action violating includes financial penalties even licence \n",
      "실제 요약 : crore loss to govt jio \n",
      "예측 요약 :  jio crore from\n",
      "\n",
      "\n",
      "원문 : us president donald trump claimed rejected canadian pm justin trudeau request one one meeting slow pace trade talks trudeau tariffs high seem want move told forget trump said meanwhile trudeau spokesperson said meeting requested \n",
      "실제 요약 : for one on one meeting trump \n",
      "예측 요약 :  trump calls for\n",
      "\n",
      "\n",
      "원문 : video showing reported body autopsy government run hospital tamil nadu surfaced online hospital seen wearing surgical gloves body doctors leave reports said state health department launched high level probe incident \n",
      "실제 요약 : body after at tn govt hospital \n",
      "예측 요약 :  video of tn hospital in hospital\n",
      "\n",
      "\n",
      "원문 : local authorities uttar pradesh friday warned act would sacrifice cows eid ul notably act permits police seek accused maximum days compared maximum days normal circumstances \n",
      "실제 요약 : cow to act in up \n",
      "예측 요약 :  up to up\n",
      "\n",
      "\n",
      "원문 : three paintings made year old elephant auctioned help changing putting rest less said owner money offered elephant sanctuary malaysia nn \n",
      "실제 요약 : made by in \n",
      "예측 요약 :  year old in\n",
      "\n",
      "\n",
      "원문 : congress leader randeep surjewala thursday said karnataka governor vajubhai vala seat pm narendra modi earlier yesterday constitution democracy conducted first encounter constitution yesterday invited bjp form government today bs yeddyurappa conducted second encounter added \n",
      "실제 요약 : taka up for pm modi now cong \n",
      "예측 요약 :  pm modi to be in taka cm\n",
      "\n",
      "\n",
      "원문 : man china hired steal tonnes concrete formed metre stretch road province sold stone materials factory police said one taking road dig sell cement pieces money man reportedly said \n",
      "실제 요약 : man and of road in china \n",
      "예측 요약 :  chinese man worth lakh to\n",
      "\n",
      "\n",
      "원문 : centre reportedly planning green registration plates electric vehicles help vehicles giving treatment like special parking private electric vehicles may green plates numbers letters white commercial ones may numbers letters written yellow \n",
      "실제 요약 : may get number for special \n",
      "예측 요약 :  govt plans to set up electric\n",
      "\n",
      "\n",
      "원문 : uk based research led professor patel found alcohol consumption lead permanent damage stem cell dna increasing cancer risk study mice showed produced body processing alcohol dna causing damage damage four times worse absence body defence mechanism \n",
      "실제 요약 : can study \n",
      "예측 요약 :  scientists study\n",
      "\n",
      "\n",
      "원문 : jack co founder chinese commerce giant alibaba recent event said us suffer dispute china adding remains positive said entrepreneurs entrepreneurs earlier said trade countries could last two decades \n",
      "실제 요약 : us will more from with china says \n",
      "예측 요약 :  china is very us\n",
      "\n",
      "\n",
      "원문 : comedian sidharth sagar reported missing four months revealed admitted mental asylum past months family involved property dispute long parents influenced added sidharth said tell people currently helped overcome trauma \n",
      "실제 요약 : was in who was missing for months \n",
      "예측 요약 :  was months ago\n",
      "\n",
      "\n",
      "원문 : google celebrating th birthday thursday video popular searches various languages years google incorporated september larry page sergey youtube ceo park garage however company celebrated birthday september since september \n",
      "실제 요약 : google its th birthday with on history \n",
      "예측 요약 :  google to be in india th day\n",
      "\n",
      "\n",
      "원문 : chinese embassy official new delhi said ongoing standoff india china impact economic cultural ties two nations india china enjoyed historical cultural connections thousands years border issue temporary official said \n",
      "실제 요약 : will not hit china \n",
      "예측 요약 :  china to india to\n",
      "\n",
      "\n",
      "원문 : police asked two sikh policemen appointed officers brutal rape murder eight year old girl kathua reports said police sought officers neutral faith avoid communal case group lawyers recently took protests support accused \n",
      "실제 요약 : police asks for in rape murder case \n",
      "예측 요약 :  cops accused of rape victim\n",
      "\n",
      "\n",
      "원문 : digital payments startup paytm ceo vijay shekhar sharma reportedly buying bungalow spread across square feet worth crore central delhi golf links zone among expensive locations india buy real estate according reports sharma already paid substantial amount signed memorandum understanding owners \n",
      "실제 요약 : paytm ceo to buy crore delhi reports \n",
      "예측 요약 :  paytm ceo to buy for crore\n",
      "\n",
      "\n",
      "원문 : drive art gallery come highway abu dhabi dubai celebration uae innovation month organised abu dhabi museum gallery ten works along kilometre stretch driving past highway gallery people tune radio stations hear describing \n",
      "실제 요약 : by up on \n",
      "예측 요약 :  in pictures\n",
      "\n",
      "\n",
      "원문 : west bengal cm mamata banerjee tuesday highlighted government achievements dealing maoists state far west bengal left wing extremists surrendered includes maoists already enrolled special home guards said apart employment maoists get financial incentives added \n",
      "실제 요약 : her in with \n",
      "예측 요약 :  west bengal govt to west bengal\n",
      "\n",
      "\n",
      "원문 : reacting naseeruddin shah remark bulandshahr mob violence union minister mukhtar abbas naqvi saturday said need actor children feel scared emotions may right words probably naqvi added shah said fears children cow death significant policeman \n",
      "실제 요약 : children need not union minister \n",
      "예측 요약 :  should be kids to kids\n",
      "\n",
      "\n"
     ]
    }
   ],
   "source": [
    "for i in range(20, 40):\n",
    "    print(\"원문 :\", seq2text(encoder_input_test[i]))\n",
    "    print(\"실제 요약 :\", seq2summary(decoder_input_test[i]))\n",
    "    print(\"예측 요약 :\", decode_sequence(encoder_input_test[i].reshape(1, text_max_len)))\n",
    "    print(\"\\n\")"
   ]
  },
  {
   "attachments": {
    "image.png": {
     "image/png": "[encoded data removed]"
    }
   },
   "cell_type": "markdown",
   "id": "7403cc35",
   "metadata": {},
   "source": [
    "## Step 5. Summa을 이용해서 추출적 요약하기\n",
    "\n",
    "* 패키지 Summa에서는 추출적 요약을 위한 모듈인 summarize를 제공하고 있어 간단하게 구현 가능\n",
    "\n",
    "### 패키지 설치\n",
    "\n",
    "![image.png](attachment:image.png)"
   ]
  },
  {
   "cell_type": "code",
   "execution_count": 55,
   "id": "ae847cb7",
   "metadata": {},
   "outputs": [],
   "source": [
    "from summa.summarizer import summarize\n",
    "import requests\n",
    "\n",
    "# 매트릭스 시놉시스를 다운로드 해주세요.\n",
    "text = requests.get('http://rare-technologies.com/the_matrix_synopsis.txt').text"
   ]
  },
  {
   "cell_type": "code",
   "execution_count": 56,
   "id": "663e94c8",
   "metadata": {},
   "outputs": [
    {
     "name": "stdout",
     "output_type": "stream",
     "text": [
      "The screen is filled with green, cascading code which gives way to the title, The Matrix.\r\n",
      "\r\n",
      "A phone rings and text appears on the screen: \"Call trans opt: received. 2-19-98 13:24:18 REC: Log>\" As a conversation takes place between Trinity (Carrie-Anne Moss) and Cypher (Joe Pantoliano), two free humans, a table of random green numbers are being scanned and individual numbers selected, creating a series of digits not unlike an ordinary phone number, as if a code is being deciphered or a call is being traced.\r\n",
      "\r\n",
      "Trinity discusses some unknown person. Cypher taunts Trinity, suggesting she enjoys watching him. Trinity counters that \"Morpheus (Laurence Fishburne) says he may be 'the One',\" just as the sound of a number being selected alerts Trinity that someone may be tracing their call. She ends the call.\r\n",
      "\r\n",
      "Armed policemen move down a darkened, decrepit hallway in the Heart O' the City Hotel, their flashlight beam bouncing just ahead of them. They come to room 303, kick down the door and find a woman dressed in black, facing away from them. It's Trinity. She brings her hands up from the laptop she's working on at their command.\r\n",
      "\r\n",
      "Outside the hotel a car drives up and three agents appear in neatly pressed black suits. They are Agent Smith (Hugo Weaving), Agent Brown (Paul Goddard), and Agent Jones (Robert Taylor). Agent Smith and the presiding police lieutenant argue. Agent Smith admonishes the policeman that they were given specific orders to contact the agents first, for their\n"
     ]
    }
   ],
   "source": [
    "print(text[:1500])"
   ]
  },
  {
   "cell_type": "code",
   "execution_count": 59,
   "id": "a782c327",
   "metadata": {},
   "outputs": [
    {
     "name": "stdout",
     "output_type": "stream",
     "text": [
      "Australia's wicketkeeper-batswoman Alyssa Healy has said that the Australian team needs to be wary of India's women's T20I team captain Harmanpreet Kaur at the ICC Women's T20 World Cup next year.\n"
     ]
    }
   ],
   "source": [
    "text_str = data['text'][200]\n",
    "print(summarize(text_str, ratio=0.5))"
   ]
  },
  {
   "cell_type": "code",
   "execution_count": 60,
   "id": "4f0cec43",
   "metadata": {},
   "outputs": [
    {
     "name": "stdout",
     "output_type": "stream",
     "text": [
      "German multinational engineering and electronics firm Bosch has made its first investment in India in Bengaluru-based deep-tech startup SimYog. SimYog has raised about Ã¢ÂÂ¹6.3 crore in the funding round, with participation from early-stage venture capital firm Ideaspring Capital.\n"
     ]
    }
   ],
   "source": [
    "text_str = data['text'][100]\n",
    "print(summarize(text_str, ratio=0.8))"
   ]
  },
  {
   "cell_type": "code",
   "execution_count": 78,
   "id": "34c7f998",
   "metadata": {},
   "outputs": [],
   "source": [
    "data['summary'] = data['text'].apply(lambda x: summarize(x, ratio=0.4))"
   ]
  },
  {
   "cell_type": "code",
   "execution_count": 79,
   "id": "a41fb764",
   "metadata": {},
   "outputs": [
    {
     "data": {
      "text/html": [
       "<div>\n",
       "<style scoped>\n",
       "    .dataframe tbody tr th:only-of-type {\n",
       "        vertical-align: middle;\n",
       "    }\n",
       "\n",
       "    .dataframe tbody tr th {\n",
       "        vertical-align: top;\n",
       "    }\n",
       "\n",
       "    .dataframe thead th {\n",
       "        text-align: right;\n",
       "    }\n",
       "</style>\n",
       "<table border=\"1\" class=\"dataframe\">\n",
       "  <thead>\n",
       "    <tr style=\"text-align: right;\">\n",
       "      <th></th>\n",
       "      <th>headlines</th>\n",
       "      <th>text</th>\n",
       "      <th>summary</th>\n",
       "    </tr>\n",
       "  </thead>\n",
       "  <tbody>\n",
       "    <tr>\n",
       "      <th>57051</th>\n",
       "      <td>2017 Nobel Laureates receive awards, $1 millio...</td>\n",
       "      <td>The 2017 Nobel Laureates were handed their med...</td>\n",
       "      <td>The 2017 Nobel Laureates were handed their med...</td>\n",
       "    </tr>\n",
       "    <tr>\n",
       "      <th>80889</th>\n",
       "      <td>Company makes Ã¢ÂÂ¹17,000 gadget to tell user...</td>\n",
       "      <td>Japanese company Konica Minolta has created a ...</td>\n",
       "      <td>For example, on detecting high readings of sme...</td>\n",
       "    </tr>\n",
       "    <tr>\n",
       "      <th>78701</th>\n",
       "      <td>Uber to charge riders $15 to return lost items...</td>\n",
       "      <td>Cab-hailing startup Uber has started charging ...</td>\n",
       "      <td>Cab-hailing startup Uber has started charging ...</td>\n",
       "    </tr>\n",
       "    <tr>\n",
       "      <th>78972</th>\n",
       "      <td>NBA player does push-ups on 37-storey-high gla...</td>\n",
       "      <td>NBA side Golden State Warriors' Stephen Curry ...</td>\n",
       "      <td>Curry could manage only three push-ups before ...</td>\n",
       "    </tr>\n",
       "    <tr>\n",
       "      <th>74906</th>\n",
       "      <td>Dangal actress Sanya makes her debut at LakmÃ...</td>\n",
       "      <td>'Dangal' actress Sanya Malhotra made her ramp-...</td>\n",
       "      <td>Sanya wore a black skirt with flower appliques...</td>\n",
       "    </tr>\n",
       "    <tr>\n",
       "      <th>6807</th>\n",
       "      <td>RBI may introduce live video KYC for customer ...</td>\n",
       "      <td>The Reserve Bank of India may reportedly intro...</td>\n",
       "      <td>RBI may introduce a digital method that would ...</td>\n",
       "    </tr>\n",
       "    <tr>\n",
       "      <th>71041</th>\n",
       "      <td>FIR against 16 people for not building toilet ...</td>\n",
       "      <td>As many as 16 people from different villages h...</td>\n",
       "      <td></td>\n",
       "    </tr>\n",
       "    <tr>\n",
       "      <th>25142</th>\n",
       "      <td>Rakul Preet to play Sridevi in NTR biopic: Rep...</td>\n",
       "      <td>Rakul Preet will be playing the role of late a...</td>\n",
       "      <td>Rakul Preet will be playing the role of late a...</td>\n",
       "    </tr>\n",
       "    <tr>\n",
       "      <th>56649</th>\n",
       "      <td>Man walks tightrope 200 feet up in the air fro...</td>\n",
       "      <td>Nathan Paulin, a 23-year-old French slackliner...</td>\n",
       "      <td>Nathan Paulin, a 23-year-old French slackliner...</td>\n",
       "    </tr>\n",
       "    <tr>\n",
       "      <th>80090</th>\n",
       "      <td>2 new subjects added to competency tests in Ma...</td>\n",
       "      <td>Science and English were added to the competen...</td>\n",
       "      <td>Science and English were added to the competen...</td>\n",
       "    </tr>\n",
       "  </tbody>\n",
       "</table>\n",
       "</div>"
      ],
      "text/plain": [
       "                                               headlines  \\\n",
       "57051  2017 Nobel Laureates receive awards, $1 millio...   \n",
       "80889  Company makes Ã¢ÂÂ¹17,000 gadget to tell user...   \n",
       "78701  Uber to charge riders $15 to return lost items...   \n",
       "78972  NBA player does push-ups on 37-storey-high gla...   \n",
       "74906  Dangal actress Sanya makes her debut at LakmÃ...   \n",
       "6807   RBI may introduce live video KYC for customer ...   \n",
       "71041  FIR against 16 people for not building toilet ...   \n",
       "25142  Rakul Preet to play Sridevi in NTR biopic: Rep...   \n",
       "56649  Man walks tightrope 200 feet up in the air fro...   \n",
       "80090  2 new subjects added to competency tests in Ma...   \n",
       "\n",
       "                                                    text  \\\n",
       "57051  The 2017 Nobel Laureates were handed their med...   \n",
       "80889  Japanese company Konica Minolta has created a ...   \n",
       "78701  Cab-hailing startup Uber has started charging ...   \n",
       "78972  NBA side Golden State Warriors' Stephen Curry ...   \n",
       "74906  'Dangal' actress Sanya Malhotra made her ramp-...   \n",
       "6807   The Reserve Bank of India may reportedly intro...   \n",
       "71041  As many as 16 people from different villages h...   \n",
       "25142  Rakul Preet will be playing the role of late a...   \n",
       "56649  Nathan Paulin, a 23-year-old French slackliner...   \n",
       "80090  Science and English were added to the competen...   \n",
       "\n",
       "                                                 summary  \n",
       "57051  The 2017 Nobel Laureates were handed their med...  \n",
       "80889  For example, on detecting high readings of sme...  \n",
       "78701  Cab-hailing startup Uber has started charging ...  \n",
       "78972  Curry could manage only three push-ups before ...  \n",
       "74906  Sanya wore a black skirt with flower appliques...  \n",
       "6807   RBI may introduce a digital method that would ...  \n",
       "71041                                                     \n",
       "25142  Rakul Preet will be playing the role of late a...  \n",
       "56649  Nathan Paulin, a 23-year-old French slackliner...  \n",
       "80090  Science and English were added to the competen...  "
      ]
     },
     "execution_count": 79,
     "metadata": {},
     "output_type": "execute_result"
    }
   ],
   "source": [
    "data.sample(10)"
   ]
  },
  {
   "cell_type": "code",
   "execution_count": 80,
   "id": "ae6286f4",
   "metadata": {
    "scrolled": false
   },
   "outputs": [
    {
     "name": "stdout",
     "output_type": "stream",
     "text": [
      "원문 : Ex-ICICI Bank CEO Chanda Kochhar said she's \"utterly disappointed, hurt and shocked\" by the bank's decision to terminate her. Kochhar said she served ICICI for 34 years with utmost honesty and integrity and that ultimately truth will prevail. Adding that she hasn't been given a copy of the independent probe report, Kochhar said none of ICICI's credit decisions are unilateral\n",
      "실제 요약 : Shocked, hurt by ICICI's decision, truth will prevail: Kochhar\n",
      "추출 요약 : Adding that she hasn't been given a copy of the independent probe report, Kochhar said none of ICICI's credit decisions are unilateral\n",
      "\n",
      "\n",
      "원문 : Swedish multinational fast-fashion brand Hennes & Mauritz AB (H&M) has hired Christopher Wylie, the whistleblower who exposed Facebook's Cambridge Analytica data scandal. WylieÃ¢ÂÂs focus will be to help get better insights on customers, products and markets and support work on sustainable and ethical artificial intelligence, H&M spokesperson said. Wylie is a former employee of Cambridge Analytica.\n",
      "실제 요약 : Fashion brand H&M hires Facebook data scandal whistleblower\n",
      "추출 요약 : Swedish multinational fast-fashion brand Hennes & Mauritz AB (H&M) has hired Christopher Wylie, the whistleblower who exposed Facebook's Cambridge Analytica data scandal.\n",
      "\n",
      "\n",
      "원문 : Micro-blogging platform Twitter is testing a new feature on Android to put news on the top of a user's timeline. \"With this update, weÃ¢ÂÂre making it easier for people to see news and stories their followers have been discussing,\" Product Manager Walter Gurzynski said. The feature comes alongside a prompt saying, \"Catch up on what's happened while you were away.\"\n",
      "실제 요약 : Twitter testing news-first timeline feature on Android\n",
      "추출 요약 : Micro-blogging platform Twitter is testing a new feature on Android to put news on the top of a user's timeline.\n",
      "\n",
      "\n",
      "원문 : Samsung has started mass producing its one terabyte 'embedded Universal Flash Storage (eUFS) 2.1' technology for \"use in next-generation mobile applications\", which it claims is the industry's first such eUFS. The company added the new eUFS will let smartphones store 260 10-minute videos shot in 4K UHD format. It'll be sized the same as the previous 512GB version, Samsung said.\n",
      "실제 요약 : Samsung builds world's first 1TB storage chip for smartphones \n",
      "추출 요약 : Samsung has started mass producing its one terabyte 'embedded Universal Flash Storage (eUFS) 2.1' technology for \"use in next-generation mobile applications\", which it claims is the industry's first such eUFS.\n",
      "\n",
      "\n",
      "원문 : Prime Minister Narendra Modi on Wednesday said the people with 'negative mindset' are questioning him and his government for floating pro-poor schemes. He added negative mindset people are raising doubts about schemes such as building toilets and providing free gas connections to the poor. He further said that negative mentality laced with a vested interest still exists in the country.\n",
      "실제 요약 : People with 'negative mindset' quizzing pro-poor schemes: PM\n",
      "추출 요약 : Prime Minister Narendra Modi on Wednesday said the people with 'negative mindset' are questioning him and his government for floating pro-poor schemes.\n",
      "\n",
      "\n",
      "원문 : Union Minister Anantkumar Hegde took a dig at Congress President Rahul Gandhi by calling him a \"hybrid specimen\" who has no clue about religion. \"A father who's...Muslim, a mother who's...Christian and the son is supposed to be...Brahmin. How is that even possible?\" he said. He added such \"hybrid specimen\" cannot be found in any laboratory in the world.\n",
      "실제 요약 : Rahul is hybrid specimen, has no clue about religion: Hegde\n",
      "추출 요약 : Union Minister Anantkumar Hegde took a dig at Congress President Rahul Gandhi by calling him a \"hybrid specimen\" who has no clue about religion.\n",
      "\n",
      "\n",
      "원문 : Several parts of the US are set to experience record low temperatures as the polar vortex hit the Upper Midwest, with more than 200 million people expected to experience below-freezing temperatures this week. Temperatures throughout the Upper Midwest are expected to be at least 20-40Ã¢ÂÂ below zero. Government offices and schools have been closed in several areas.\n",
      "실제 요약 : Extreme cold to affect 200 million people as polar vortex hits US\n",
      "추출 요약 : Several parts of the US are set to experience record low temperatures as the polar vortex hit the Upper Midwest, with more than 200 million people expected to experience below-freezing temperatures this week.\n",
      "\n",
      "\n",
      "원문 : The police on Wednesday registered cases against 13 persons, including a woman leader of Hindu Mahasabha, in Aligarh for firing at an effigy of Mahatma Gandhi with an air pistol. \"The incident took place in a house in Naurangabad locality of the city,\" Senior Superintendent of Police said. The video of the event went viral on social media, he added.\n",
      "실제 요약 : 13 booked for firing air shots at Mahatma Gandhi's effigy\n",
      "추출 요약 : The police on Wednesday registered cases against 13 persons, including a woman leader of Hindu Mahasabha, in Aligarh for firing at an effigy of Mahatma Gandhi with an air pistol.\n",
      "\n",
      "\n",
      "원문 : Railway police has rescued a woman travelling on a train in Chennai who got her leg stuck inside the commode of a toilet. After being caught inside the commode hole, she struggled to remove her leg and following failed attempts, she shouted for help, reports said. Railway police used a cutter to pry open the commode and freed her leg.\n",
      "실제 요약 : Railway police rescues woman with leg stuck in train toilet\n",
      "추출 요약 : Railway police has rescued a woman travelling on a train in Chennai who got her leg stuck inside the commode of a toilet.\n",
      "\n",
      "\n",
      "원문 : The US on Tuesday began returning asylum seekers to Mexico, sending back a migrant from a Central American nation and called the move a \"response to the illegal migration crisis\" faced by it. Under its Migrant Protection Protocols policy, the US will return certain migrants who cross into the country illegally back to Mexico while their asylum requests are processed.\n",
      "실제 요약 : US begins sending back asylum seekers to Mexico\n",
      "추출 요약 : \n",
      "\n",
      "\n",
      "원문 : Former Finance Minister Yashwant Sinha on Tuesday demanded a probe into the alleged diversion of loans worth Ã¢ÂÂ¹31,000 crore by Dewan Housing Finance (DHFL). All agencies including regulators of the government have failed to track nefarious deals, he said. This comes after a media report on Tuesday accused DHFL's controlling shareholders of diverting funds to shell companies to buy assets.\n",
      "실제 요약 : Yashwant Sinha demands probe into alleged fund diversion by DHFL\n",
      "추출 요약 : Former Finance Minister Yashwant Sinha on Tuesday demanded a probe into the alleged diversion of loans worth Ã¢ÂÂ¹31,000 crore by Dewan Housing Finance (DHFL).\n",
      "\n",
      "\n",
      "원문 : US-based Boeing on Wednesday reported annual sales worth $101.12 billion in 2018, the first time the planemaker's sales crossed the $100-billion mark in its 102-year history. The company said it expects to deliver between 895 and 905 commercial aircraft in 2019. Boeing retained its position as the world's largest planemaker for the seventh straight year, delivering 806 aircraft in 2018. \n",
      "실제 요약 : Boeing sales cross $100bn for 1st time in its 102-yr history\n",
      "추출 요약 : Boeing retained its position as the world's largest planemaker for the seventh straight year, delivering 806 aircraft in 2018.\n",
      "\n",
      "\n",
      "원문 : text\n",
      "실제 요약 : headlines\n",
      "추출 요약 : \n",
      "\n",
      "\n",
      "원문 : OnePlus has emerged as India's best-selling premium smartphone brand of 2018, as per a report by Counterpoint. It captured 36% of the market share in the premium segment, in Q4 2018. Further, its OnePlus 6 emerged as the highest selling premium smartphone of 2018 followed by OnePlus 6T.\n",
      "실제 요약 : OnePlus named bestselling premium smartphone brand of 2018: Report\n",
      "추출 요약 : Further, its OnePlus 6 emerged as the highest selling premium smartphone of 2018 followed by OnePlus 6T.\n",
      "\n",
      "\n",
      "원문 : Filmmaker Pooja Bhatt, while talking about the presentation of women in her films, said, \"I can never look at a female body, even if it's naked, in a vulgar manner.\" \"Our audience can say...the women in my films are bold or sensual, but never ever vulgar,\" she added. Pooja further said her censor board is her \"own heart and mind\".\n",
      "실제 요약 : Can never look at female body, even if naked, in vulgar way: Pooja\n",
      "추출 요약 : \n",
      "\n",
      "\n",
      "원문 : Actress Mishti, who has featured in 'Manikarnika: The Queen of Jhansi', has said the film's co-director Kangana Ranaut made false promises to the cast. \"Kangana had said, 'I want dates because all characters look jumbled up...I'm trying my best to give everybody a prominent space on screen.' After watching the movie, there is no scope for other characters,\" Mishti added. \n",
      "실제 요약 : Kangana made fake promises to cast: 'Manikarnika' actress Mishti\n",
      "추출 요약 : \n",
      "\n",
      "\n",
      "원문 : The high-powered committee led by PM Narendra Modi to select the next CBI Director will meet again on February 1, Congress leader Mallikarjun Kharge has said. The panel consisting of Kharge and Chief Justice of India Ranjan Gogoi met on January 24, but the meeting ended \"inconclusively\" after Kharge cited lack of details in the list of 80 IPS officers. \n",
      "실제 요약 : PM-led panel to meet on Friday to pick new CBI chief: Kharge\n",
      "추출 요약 : \n",
      "\n",
      "\n",
      "원문 : Nevada State Athletic Commission has banned MMA fighters Conor McGregor and Khabib Nurmagomedov for six months and nine months respectively over their roles in the mass brawl that occurred after their fight at UFC 229 last October. McGregor and Khabib have been fined $50,000 (Ã¢ÂÂ¹35 lakh) and $500,000 (Ã¢ÂÂ¹3.5 crore) respectively. The brawl occurred after Nurmagomedov confronted McGregor's teammate.\n",
      "실제 요약 : McGregor fined Ã¢ÂÂ¹35 lakh, Khabib Ã¢ÂÂ¹3.5 crore for brawl; both banned\n",
      "추출 요약 : Nevada State Athletic Commission has banned MMA fighters Conor McGregor and Khabib Nurmagomedov for six months and nine months respectively over their roles in the mass brawl that occurred after their fight at UFC 229 last October.\n",
      "\n",
      "\n",
      "원문 : Pakistan captain Sarfaraz Ahmed, who has been banned for four matches over racist remarks, took an apparent dig at his critics by sharing a video of a child reciting 'log hai na' poem on Twitter. \"Pyaar karna hai to khud se kar...dushmani karne ke liye log hai na,\" the poem read. \"This is how the world is,\" Sarfaraz wrote.\n",
      "실제 요약 : Banned for 4 matches, Sarfaraz shares 'log hai na' poem for critics\n",
      "추출 요약 : Pakistan captain Sarfaraz Ahmed, who has been banned for four matches over racist remarks, took an apparent dig at his critics by sharing a video of a child reciting 'log hai na' poem on Twitter.\n",
      "\n",
      "\n",
      "원문 : Banned cricketer Sreesanth has told Supreme Court he initially confessed to Delhi Police about his alleged involvement in 2013 IPL spot-fixing scandal to escape continuous police torture. Sreesanth further said the bookie tried dragging him into spot-fixing but he didn't fall for it. Citing Sreesanth not informing BCCI about fixing approach, the apex court said Sreesanth's conduct \"wasn't good\".\n",
      "실제 요약 : Confessed to spot-fixing to escape police torture: Sreesanth to SC\n",
      "추출 요약 : Sreesanth further said the bookie tried dragging him into spot-fixing but he didn't fall for it.\n",
      "\n",
      "\n"
     ]
    }
   ],
   "source": [
    "for i in range(40, 60):\n",
    "    print(\"원문 :\", data['text'][i])\n",
    "    print(\"실제 요약 :\", data['headlines'][i])\n",
    "    print(\"추출 요약 :\", data['summary'][i])\n",
    "    print(\"\\n\")"
   ]
  },
  {
   "cell_type": "markdown",
   "id": "85a590e4",
   "metadata": {},
   "source": [
    "# 결과"
   ]
  },
  {
   "cell_type": "markdown",
   "id": "92cd0a40",
   "metadata": {},
   "source": [
    "# 추상적 요약(Abstractive Summarization)\n",
    "\n",
    "원문에 없던 문장이라도 핵심 문맥을 반영한 새로운 문장을 생성해서 원문을 요약하는 방법"
   ]
  },
  {
   "attachments": {
    "image-2.png": {
     "image/png": "[encoded data removed]"
    },
    "image.png": {
     "image/png": "[encoded data removed]"
    }
   },
   "cell_type": "markdown",
   "id": "a83ce4a8",
   "metadata": {},
   "source": [
    "[나름 잘되어 보이는 요약문]\n",
    "![image.png](attachment:image.png)\n",
    "\n",
    "[전혀 관계없는 요약문]\n",
    "![image-2.png](attachment:image-2.png)"
   ]
  },
  {
   "cell_type": "markdown",
   "id": "e0fe0f79",
   "metadata": {},
   "source": [
    "위의 결과들을 보면 추상적 요약에서는 몇단어의 키워드를 찾아내고 그것을 요약할 수 있는 새로운 단어를 만들어 요약을 하는 모습을 확인 할 수 있음\n",
    "하지만 구체적으로 살펴보면 원문의 내용과는 연관성이 떨어지는 헤드라인을 만들어내는 것을 다수 확인 할 수 있고, 아예 관계 없는 요약(헤드라인)을 하는 모습도 많음."
   ]
  },
  {
   "cell_type": "markdown",
   "id": "a44233b3",
   "metadata": {},
   "source": [
    "# 추출적 요약(Extractive Summarization)\n",
    "\n",
    "원문에서 중요한 핵심 문장 또는 단어를 몇개 뽑아서 이들로 구성된 요약문을 만드는 방법 "
   ]
  },
  {
   "attachments": {
    "image-2.png": {
     "image/png": "[encoded data removed]"
    },
    "image-3.png": {
     "image/png": "[encoded data removed]"
    },
    "image.png": {
     "image/png": "[encoded data removed]"
    }
   },
   "cell_type": "markdown",
   "id": "c29636c1",
   "metadata": {},
   "source": [
    "[나름 잘되어 보이는 요약문]\n",
    "![image.png](attachment:image.png)\n",
    "\n",
    "[전혀 관계없는 요약문]\n",
    "![image-3.png](attachment:image-3.png)\n",
    "\n",
    "[특이한 부분]\n",
    "![image-2.png](attachment:image-2.png)"
   ]
  },
  {
   "cell_type": "markdown",
   "id": "9143c2fe",
   "metadata": {},
   "source": [
    "위의 결과를 보면 추출적 요약에서는 원문에서 중요한 핵심 문장 또는 단어 몇개를 뽑아서 이것으로 구성된 요약(헤드라인)된 것을 확인 할 수 있다. \n",
    "허나, 원문에는 있지만 실제 요약과 다른 부분을 요약을 하는 모습과 원문이 너무 짧으면 추출되는 단어가 없다는 점이 특히한 점이라고 보아집니다"
   ]
  },
  {
   "cell_type": "markdown",
   "id": "0ff4e7cb",
   "metadata": {},
   "source": [
    "**결론적으로 현재 설계된 모델로는 추출적 요약 모델이 추상적 요약 모델에 비해 더 성능이 좋다라고 생각한다**"
   ]
  },
  {
   "cell_type": "markdown",
   "id": "fe8c4350",
   "metadata": {},
   "source": [
    "# 회고 \n",
    "\n",
    "번역기 기능을 갖춘 RNN 모델링을 한 프로젝트에서 인코더, 디코더 설계에 대한 이해도로 인해 뉴스 내용을 요약해주는 RNN 모델링이 막 어렵게 느껴지지는 않았다. 또한, 역시 cs231n에서 느꼈던 RNN의 랜덤성으로 인해 요약시 추상적 요약이 성능이 안나온게 아닐까 하는 의구심이 들었다 \n",
    "또한, 하이퍼파라미터를 설정해도 그게 성능이 뛰지 않음을 프로젝트들을 진행하면서 느껴와서 다양한 기법들을 적용해 성능을 높이는 방법이 더 효율적일 것이라는 알수없는 강한 확신이 들었다. "
   ]
  },
  {
   "cell_type": "code",
   "execution_count": null,
   "id": "77efc70f",
   "metadata": {},
   "outputs": [],
   "source": []
  }
 ],
 "metadata": {
  "kernelspec": {
   "display_name": "Python 3 (ipykernel)",
   "language": "python",
   "name": "python3"
  },
  "language_info": {
   "codemirror_mode": {
    "name": "ipython",
    "version": 3
   },
   "file_extension": ".py",
   "mimetype": "text/x-python",
   "name": "python",
   "nbconvert_exporter": "python",
   "pygments_lexer": "ipython3",
   "version": "3.9.7"
  }
 },
 "nbformat": 4,
 "nbformat_minor": 5
}
